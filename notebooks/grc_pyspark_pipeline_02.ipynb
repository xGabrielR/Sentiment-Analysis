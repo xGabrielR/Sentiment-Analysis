{
 "cells": [
  {
   "cell_type": "markdown",
   "metadata": {},
   "source": [
    "# Sentiment Analysis\n",
    "\n",
    "---"
   ]
  },
  {
   "cell_type": "markdown",
   "metadata": {},
   "source": [
    "In this small project I aim to train my skills with Spark on multiclass classification problems.\n",
    "\n",
    "The project basically consists of sentiment analysis pipeline using kaggle dataset product reviews on this link: https://www.kaggle.com/datasets/snap/amazon-fine-food-reviews.\n",
    "\n",
    "There is no strong business reason to solve any business problem involving the project, just for tool studies.\n",
    "The main goal is clean and preprocess text data and represents this text in a vector for classic machine learning for classify three different labels (bad, neutral and good) scores of this text vector representation.\n",
    "\n",
    "I tried classic NLP methods like tokenization, StopWords, TD-IDF, etc. In \"Next Steps\", I mention some improvements that I would make to the code, but at this moment I will not apply them as we are working within a cyclical development method.\n",
    "\n",
    "![Alt text](image-4.png)"
   ]
  },
  {
   "cell_type": "markdown",
   "metadata": {},
   "source": [
    "**Project Steps**\n",
    "\n",
    "![Alt text](image-3.png)\n",
    "\n",
    "The first step is the *Data Cleaning*, in this step I have used spark for cleaning texts with regex and built-in transformations.\n",
    "\n",
    "The second step is the *Tokenization*, is the step of taking the already cleaned text and separating it into tokens, which are a list of words or chunks of separate words.\n",
    "\n",
    "The third step is the *StopWordsRemover*, simple remove stop words (\"a\", \"is\"...) for each token.\n",
    "\n",
    "The fourth step is the *TF-IDF*, this tool computes a term (word) and document \"frequencies\", is a representation of text in numbers for machine learning.\n",
    "\n",
    "The fifth step is the *Classifier*, this step involves training the estimator, performing cross validation techniques on the training and validation data, applying tuning and generating the final model to classify the test data. "
   ]
  },
  {
   "cell_type": "markdown",
   "metadata": {},
   "source": [
    "**Next Steps**\n",
    "\n",
    "There are other next steps that I will take in this project in future, for example:\n",
    "\n",
    "1. Remove special characters in the text in order to have better performance in TF-IDF so that it eventually does not calculate wrong frequencies because of a special symbol.\n",
    "\n",
    "2. Test other text to vec representations such as Word2Vec or another available on spark ml.\n",
    "\n",
    "3. Apply dimensionality reducers such as SVC (sparce) to reduce dimensions (problem of high dimensions) and facilitate estimator learning.\n",
    "\n",
    "4. Test with more training, validation and testing data (I have make a simple top K undersampling).\n",
    "\n",
    "5. Productize the estimator with mlflow or another tool."
   ]
  },
  {
   "cell_type": "markdown",
   "metadata": {},
   "source": [
    "## 0.0. Requirements"
   ]
  },
  {
   "cell_type": "markdown",
   "metadata": {},
   "source": [
    "### 0.1. Imports"
   ]
  },
  {
   "cell_type": "code",
   "execution_count": 1,
   "metadata": {},
   "outputs": [],
   "source": [
    "import mlflow\n",
    "import numpy as np\n",
    "import pandas as pd\n",
    "\n",
    "import seaborn as sns \n",
    "from matplotlib import pyplot as plt\n",
    "\n",
    "from hyperopt import (\n",
    "    hp,\n",
    "    tpe,\n",
    "    fmin,\n",
    "    space_eval,\n",
    "    Trials,\n",
    "    SparkTrials,\n",
    "    STATUS_OK\n",
    ")\n",
    "\n",
    "from pyspark import SparkContext\n",
    "from pyspark.sql import SparkSession\n",
    "\n",
    "from pyspark.sql import functions as pf\n",
    "\n",
    "from pyspark.sql.types import FloatType\n",
    "from pyspark.sql.dataframe import DataFrame\n",
    "from pyspark.sql.utils import AnalysisException\n",
    "\n",
    "from pyspark.ml import Pipeline\n",
    "\n",
    "from pyspark.ml.feature import (\n",
    "    IDF,\n",
    "    IDFModel,\n",
    "    Tokenizer,\n",
    "    HashingTF,\n",
    "    StopWordsRemover\n",
    ")\n",
    "\n",
    "from pyspark.ml.classification import (\n",
    "    RandomForestClassifier,\n",
    "    RandomForestClassificationModel\n",
    ")\n",
    "\n",
    "from pyspark.mllib.evaluation import MulticlassMetrics\n",
    "from pyspark.ml.evaluation import MulticlassClassificationEvaluator\n",
    "\n",
    "from pyspark.ml.tuning import ParamGridBuilder, CrossValidator"
   ]
  },
  {
   "cell_type": "markdown",
   "metadata": {},
   "source": [
    "### 0.2. Aux Functions"
   ]
  },
  {
   "cell_type": "code",
   "execution_count": 2,
   "metadata": {},
   "outputs": [
    {
     "name": "stderr",
     "output_type": "stream",
     "text": [
      "23/09/27 08:24:55 WARN Utils: Your hostname, grc resolves to a loopback address: 127.0.1.1; using 192.168.101.4 instead (on interface eno1)\n",
      "23/09/27 08:24:55 WARN Utils: Set SPARK_LOCAL_IP if you need to bind to another address\n",
      "Setting default log level to \"WARN\".\n",
      "To adjust logging level use sc.setLogLevel(newLevel). For SparkR, use setLogLevel(newLevel).\n",
      "23/09/27 08:24:56 WARN NativeCodeLoader: Unable to load native-hadoop library for your platform... using builtin-java classes where applicable\n"
     ]
    },
    {
     "data": {
      "text/html": [
       "\n",
       "        <div>\n",
       "            <p><b>SparkContext</b></p>\n",
       "\n",
       "            <p><a href=\"http://grc.bbrouter:4040\">Spark UI</a></p>\n",
       "\n",
       "            <dl>\n",
       "              <dt>Version</dt>\n",
       "                <dd><code>v3.4.1</code></dd>\n",
       "              <dt>Master</dt>\n",
       "                <dd><code>local[*]</code></dd>\n",
       "              <dt>AppName</dt>\n",
       "                <dd><code>pyspark-shell</code></dd>\n",
       "            </dl>\n",
       "        </div>\n",
       "        "
      ],
      "text/plain": [
       "<SparkContext master=local[*] appName=pyspark-shell>"
      ]
     },
     "execution_count": 2,
     "metadata": {},
     "output_type": "execute_result"
    }
   ],
   "source": [
    "spark = SparkSession.builder \\\n",
    "        .master(\"local[*]\") \\\n",
    "        .config(\"spark.driver.memory\", \"5g\") \\\n",
    "        .config(\"spark.executor.memory\", \"5g\") \\\n",
    "        .getOrCreate()\n",
    "\n",
    "sc = spark.sparkContext\n",
    "\n",
    "sc"
   ]
  },
  {
   "cell_type": "code",
   "execution_count": 3,
   "metadata": {},
   "outputs": [],
   "source": [
    "def split_top_k_dataframe_by_classes(\n",
    "    df_base: DataFrame,\n",
    "    split_size: int = 1_000,\n",
    "    labels: list = [0, 1, 2]\n",
    "):\n",
    "    \"\"\"\n",
    "    Slice Top K rows from givem dataframe for each input labels.\n",
    "    \n",
    "    inputs:\n",
    "        - df_base: Base DataFrame for slice.\n",
    "        - split_size: Top K int values for slice.\n",
    "        - labels: list of label for split into split_size samples.\n",
    "\n",
    "    returns:\n",
    "        - df_base: Base input DataFrame without sliced samples.\n",
    "        - df_sliced: Top K samples of df_base DataFrame. \n",
    "    \"\"\"\n",
    "\n",
    "    df_sliced = spark.createDataFrame(\n",
    "        data=[{\"id\": -1, \"score\": -1, \"text\": \"none\"}]\n",
    "    )\n",
    "\n",
    "    # Make the same subsample of previous step for sample classes\n",
    "    for label in labels:\n",
    "        df_filter_class = df_base.filter(pf.col(\"score\") == label).limit(split_size)\n",
    "\n",
    "        df_filter_class = df_filter_class.select(\n",
    "            pf.col(\"id\"),\n",
    "            pf.col(\"score\"),\n",
    "            pf.col(\"text\")\n",
    "        )\n",
    "\n",
    "        df_sliced = df_sliced.select(\n",
    "            pf.col(\"id\"),\n",
    "            pf.col(\"score\"),\n",
    "            pf.col(\"text\")).unionAll(\n",
    "                df_filter_class.select(\n",
    "                    pf.col(\"id\"),\n",
    "                    pf.col(\"score\"),\n",
    "                    pf.col(\"text\")\n",
    "                )\n",
    "            )\n",
    "\n",
    "    df_sliced = df_sliced.filter(pf.col(\"score\").isin(labels))\n",
    "\n",
    "    df_base = df_base.join(\n",
    "        df_sliced.select(\n",
    "            pf.col(\"id\"),\n",
    "            pf.col(\"score\").alias(\"test_score\")\n",
    "        ), \n",
    "        how=\"left\",\n",
    "        on=\"id\"\n",
    "    )\n",
    "\n",
    "    df_base = df_base.filter(\n",
    "        pf.col(\"test_score\").isNull()\n",
    "        ).select(\n",
    "            pf.col(\"id\"),\n",
    "            pf.col(\"score\"),\n",
    "            pf.col(\"text\")\n",
    "        )\n",
    "    \n",
    "    return df_base, df_sliced\n",
    "\n",
    "\n",
    "\n",
    "def preprocessing_text_data(\n",
    "    dataframe: DataFrame,\n",
    "    text_col: str = \"text\"  \n",
    "):\n",
    "    \"\"\"\n",
    "    Simple preprocessing Texts.\n",
    "    \n",
    "    inputs:\n",
    "        - dataframe: DataFrame for preprocessing.\n",
    "        - text_col: DataFrame column for preprocessing.\n",
    "\n",
    "    returns:\n",
    "        - dataframe: DataFrame text preprocessed.\n",
    "    \n",
    "    \"\"\"\n",
    "\n",
    "    # Normalization and remove minor wrongs\n",
    "    dataframe = dataframe.withColumn(\n",
    "        text_col,\n",
    "        pf.regexp_replace(pf.regexp_replace(pf.regexp_replace(pf.lower(pf.trim(pf.col(text_col))), '\"', \"\"), \"  \", \" \"), \"  \", \" \")\n",
    "    )\n",
    "\n",
    "    # Remove Tags and Especial Chars\n",
    "    dataframe = dataframe.withColumn(\n",
    "        text_col,\n",
    "        pf.regexp_replace(pf.regexp_replace(pf.regexp_replace(pf.regexp_replace(pf.regexp_replace(pf.col(text_col), \"'\", \"\"), \"<br /><br />\", \"\"), \"<br />\", \"\"), \"\\'\", \"'\"), \"<a href=\", \"\")\n",
    "    )\n",
    "\n",
    "    # Fix Wrong writes\n",
    "    dataframe = dataframe.withColumn(\n",
    "        text_col,\n",
    "        pf.regexp_replace(pf.col(text_col), \" u \", \" you \")\n",
    "    )\n",
    "\n",
    "    # Remove Extra Simbols and Site URL'S\n",
    "    dataframe = dataframe.withColumn(\n",
    "        text_col,\n",
    "        pf.regexp_replace(pf.regexp_replace(pf.regexp_replace(pf.col(text_col), \"http\\S+\", \"\"), \"https\\S+\", \"\"), \"  \", \" \")\n",
    "    )\n",
    "\n",
    "    return dataframe\n",
    "\n",
    "def get_metrics(\n",
    "    df_predictions: DataFrame,\n",
    "    y_col: str = \"score\"\n",
    ") -> MulticlassMetrics:\n",
    "    \"\"\"\n",
    "    Get Spark MulticlassMetrics object.\n",
    "    \n",
    "    inputs:\n",
    "        - df_predictions: DataFrame with Y and Yhat.\n",
    "        - y_col: Y col name.\n",
    "\n",
    "    returns:\n",
    "        - df_predictions: Is simple a MulticlassMetrics object.\n",
    "    \n",
    "    \"\"\"\n",
    "\n",
    "    df_predictions = df_predictions.select(\n",
    "        pf.col(\"prediction\").cast(FloatType()).alias(\"prediction\"),\n",
    "        pf.col(y_col).cast(FloatType()).alias(\"label\"),\n",
    "    )\n",
    "\n",
    "    df_predictions = df_predictions.rdd.map(tuple)\n",
    "\n",
    "    df_predictions = MulticlassMetrics(df_predictions)\n",
    "\n",
    "    return df_predictions\n",
    "\n",
    "def plot_ml_metrics(\n",
    "    metrics: MulticlassMetrics,\n",
    "    labels: list = [0, 1, 2]\n",
    "):\n",
    "    \"\"\"\n",
    "    Plot Multiclass Metrics.\n",
    "    \n",
    "    inputs:\n",
    "        - metrics: PySpark MulticlassMetrics object.\n",
    "        - labels: list of all available lables on DataFrame.\n",
    "\n",
    "    returns:\n",
    "        - ax: Matplotlib axis of heatmap.\n",
    "    \n",
    "    \"\"\"\n",
    "\n",
    "    acc = metrics.accuracy\n",
    "    wre = metrics.weightedRecall\n",
    "    wpr = metrics.weightedPrecision\n",
    "    \n",
    "    print(f\"Accuracy: {acc:.4f}\")\n",
    "    print(f\"W. Recall: {wre:.4f}\")\n",
    "    print(f\"W. Precision: {wpr:.4f}\\n\")\n",
    "\n",
    "    for label in set(labels):\n",
    "        print(f\"Label: {label}, Recall: {metrics.precision(label):.4f}\")\n",
    "        print(f\"Label: {label}, Precision: {metrics.precision(label):.4f}\\n\")\n",
    "        \n",
    "    ax = sns.heatmap(metrics.confusionMatrix().toArray(), cmap=\"Blues\", annot=True, fmt=\"g\", linewidths=0.5, linecolor=\"k\")\n",
    "    ax.set_title(\"Confusion Matrix\")\n",
    "    ax.set_ylabel(\"True label\")\n",
    "    ax.set_xlabel(\"Predicted label\");\n",
    "\n",
    "    return ax\n",
    "\n",
    "def simple_cross_validation_k_times(\n",
    "    df_cross: DataFrame,\n",
    "    validation_fractions: dict,\n",
    "    k: int = 5,\n",
    "    params_dict: dict = {}\n",
    ") -> pd.DataFrame:\n",
    "    \n",
    "    k_fold_list = []\n",
    "    recall_list = []\n",
    "    accuracy_list = []\n",
    "    precision_list = []\n",
    "\n",
    "    if not params_dict:\n",
    "        params_dict = dict(\n",
    "            maxDepth=5, \n",
    "            maxBins=32, \n",
    "            numTrees=100,\n",
    "            minInfoGain=0.0, \n",
    "            impurity=\"gini\",\n",
    "            minInstancesPerNode=1,\n",
    "            featureSubsetStrategy=\"auto\"\n",
    "        )\n",
    "    \n",
    "    for i in range(1, k + 1):\n",
    "        print(f\"\\nTraining Fold: {i}\\n\")\n",
    "            \n",
    "        # Sample for Valid Dataset\n",
    "        df_valid_cross = df_cross.sampleBy(col=\"label\", fractions=validation_fractions)\n",
    "\n",
    "        # Filter for Train Cross Dataset\n",
    "        df_train_cross = df_cross.join(\n",
    "            df_valid_cross.select(\n",
    "                pf.col(\"id\"),\n",
    "                pf.col(\"label\").alias(\"t_label\")\n",
    "            ),\n",
    "            on=\"id\",\n",
    "            how=\"left\"\n",
    "        )\n",
    "\n",
    "        df_train_cross = df_train_cross.filter(pf.col(\"t_label\").isNull())\n",
    "\n",
    "        df_train_cross = df_train_cross.select(\n",
    "            pf.col(\"id\"),\n",
    "            pf.col(\"features\"),\n",
    "            pf.col(\"label\")\n",
    "        )\n",
    "\n",
    "        # Random Forest Estimator\n",
    "        rfc = RandomForestClassifier(\n",
    "            featuresCol=\"features\",\n",
    "            labelCol=\"label\",\n",
    "            **params_dict\n",
    "        )\n",
    "\n",
    "        rfc = rfc.fit(df_train_cross)\n",
    "\n",
    "        df_valid_results = rfc.transform(df_valid_cross)\n",
    "\n",
    "        df_valid_results = get_metrics(df_valid_results, \"label\")\n",
    "\n",
    "        k_fold_list.append(i)\n",
    "        recall_list.append(df_valid_results.weightedRecall)\n",
    "        accuracy_list.append(df_valid_results.accuracy)\n",
    "        precision_list.append(df_valid_results.weightedPrecision)\n",
    "        \n",
    "        del rfc # Full Fit again in another K fold\n",
    "\n",
    "    r = pd.DataFrame(\n",
    "        {\"fold\": k_fold_list,\n",
    "         \"accuracy\": accuracy_list,\n",
    "         \"recall\": recall_list,\n",
    "         \"precision\": precision_list},\n",
    "    )\n",
    "    \n",
    "    return r\n",
    "\n",
    "\n",
    "def cross_validation_score(\n",
    "    estimator,\n",
    "    df_cross: DataFrame,\n",
    "    validation_fractions: dict,\n",
    "    metric: str = \"recall\",\n",
    "    k: int = 2\n",
    ") -> pd.DataFrame:\n",
    "    \n",
    "    metric_list = []\n",
    "    \n",
    "    for i in range(1, k + 1):\n",
    "        print(f\"\\nTraining Fold: {i}\\n\")\n",
    "            \n",
    "        # Sample for Valid Dataset\n",
    "        df_valid_cross = df_cross.sampleBy(col=\"label\", fractions=validation_fractions)\n",
    "\n",
    "        # Filter for Train Cross Dataset\n",
    "        df_train_cross = df_cross.join(\n",
    "            df_valid_cross.select(\n",
    "                pf.col(\"id\"),\n",
    "                pf.col(\"label\").alias(\"t_label\")\n",
    "            ),\n",
    "            on=\"id\",\n",
    "            how=\"left\"\n",
    "        )\n",
    "\n",
    "        df_train_cross = df_train_cross.filter(pf.col(\"t_label\").isNull())\n",
    "\n",
    "        df_train_cross = df_train_cross.select(\n",
    "            pf.col(\"id\"),\n",
    "            pf.col(\"features\"),\n",
    "            pf.col(\"label\")\n",
    "        )\n",
    "\n",
    "        model = estimator.fit(df_train_cross)\n",
    "\n",
    "        df_valid_results = model.transform(df_valid_cross)\n",
    "\n",
    "        df_valid_results = get_metrics(df_valid_results, \"label\")\n",
    "\n",
    "        if metric == \"recall\":\n",
    "            metric_list.append(df_valid_results.weightedRecall)\n",
    "\n",
    "        elif metric == \"precision\":\n",
    "            metric_list.append(df_valid_results.weightedPrecision)\n",
    "        \n",
    "        else:\n",
    "            metric_list.append(df_valid_results.accuracy)\n",
    "        \n",
    "        del model # Full Fit again in another K fold\n",
    "\n",
    "    r = np.mean(metric_list)\n",
    "    \n",
    "    return r"
   ]
  },
  {
   "cell_type": "code",
   "execution_count": 4,
   "metadata": {},
   "outputs": [],
   "source": [
    "# Pyspark Pipeline New Functions\n",
    "\n",
    "def noise_removal(\n",
    "    dataframe: DataFrame,\n",
    "    y_col: str = \"Score\"  \n",
    "):\n",
    "    \"\"\"\n",
    "    Simple Noise Removal and Score label creation\n",
    "    \"\"\"\n",
    "    \n",
    "    if y_col not in dataframe.columns:\n",
    "        raise AnalysisException(f\"'{y_col}' column not exists on DataFrame\")\n",
    "\n",
    "    # Get only available stars / scores\n",
    "    df = dataframe.filter(pf.col(y_col).isin([0, 1, 2, 3, 4, 5]))\n",
    "\n",
    "    # Good, Neutral and Bad\n",
    "    df = df.withColumn(\n",
    "        \"new_score\",\n",
    "        pf.when(pf.col(y_col) == 1, 0)\\\n",
    "        .when((pf.col(y_col) > 1) & (pf.col(y_col) <= 3), 1) \\\n",
    "        .when(pf.col(y_col) > 3, 2)\n",
    "    )\n",
    "\n",
    "    df = df.filter(pf.col(\"new_score\").isin([0, 1, 2]))\n",
    "\n",
    "    df = df.select(\n",
    "        pf.col(\"Id\").alias(\"id\"),\n",
    "        pf.col(\"new_score\").alias(\"label\"),\n",
    "        pf.col(\"Text\").alias(\"text\")\n",
    "    )\n",
    "\n",
    "    return df"
   ]
  },
  {
   "cell_type": "code",
   "execution_count": 57,
   "metadata": {},
   "outputs": [],
   "source": [
    "def log_mlflow_artifacts(\n",
    "    mlflow,\n",
    "    estimator,\n",
    "    metrics: MulticlassMetrics,\n",
    "    model_params: dict,\n",
    "    labels: list = [0, 1, 2],\n",
    "    estimator_log_name=\"rfc_model\",\n",
    "    verbose=True\n",
    "):\n",
    "    \"\"\"\n",
    "    Plot Multiclass Metrics.\n",
    "    \n",
    "    inputs:\n",
    "        - metrics: PySpark MulticlassMetrics object.\n",
    "        - labels: list of all available lables on DataFrame.\n",
    "\n",
    "    returns:\n",
    "        - ax: Matplotlib axis of heatmap.\n",
    "    \n",
    "    \"\"\"\n",
    "\n",
    "    acc = metrics.accuracy\n",
    "    wre = metrics.weightedRecall\n",
    "    wpr = metrics.weightedPrecision\n",
    "    \n",
    "    if verbose:\n",
    "        print(f\"Accuracy: {acc:.4f}\")\n",
    "        print(f\"W. Recall: {wre:.4f}\")\n",
    "        print(f\"W. Precision: {wpr:.4f}\\n\")\n",
    "\n",
    "        for label in set(labels):\n",
    "            print(f\"Label: {label}, Recall: {metrics.precision(label):.4f}\")\n",
    "            print(f\"Label: {label}, Precision: {metrics.precision(label):.4f}\\n\")\n",
    "        \n",
    "    # Mlflow Logs\n",
    "    fig, ax = plt.subplots()\n",
    "    ax = sns.heatmap(metrics.confusionMatrix().toArray(), cmap=\"Blues\", annot=True, fmt=\"g\", linewidths=0.5, linecolor=\"k\", ax=ax)\n",
    "    ax.set_title(\"Confusion Matrix\")\n",
    "    ax.set_ylabel(\"True label\")\n",
    "    ax.set_xlabel(\"Predicted label\")\n",
    "\n",
    "    mlflow.log_figure(fig, \"figs/conf_matrix.png\")\n",
    "\n",
    "    mlflow.log_metric(\"accuracy\", metrics.accuracy)\n",
    "    mlflow.log_metric(\"precision\", metrics.weightedPrecision)\n",
    "    mlflow.log_metric(\"recal\", metrics.weightedPrecision)\n",
    "\n",
    "    mlflow.log_params(model_params)\n",
    "\n",
    "    mlflow.spark.log_model(estimator, estimator_log_name)\n",
    "\n",
    "    if verbose:\n",
    "        return fig\n",
    "    \n",
    "    else:\n",
    "        return None\n",
    "\n",
    "def simple_cross_validation_k_times(\n",
    "    df_cross: DataFrame,\n",
    "    validation_fractions: dict,\n",
    "    experiment_id: str,\n",
    "    k: int = 5,\n",
    "    mlflow = mlflow,\n",
    "    run_name: str = \"base-pyspark-model-k\",\n",
    "    params_dict: dict = {},\n",
    "    verbose=True\n",
    ") -> pd.DataFrame:\n",
    "    \n",
    "    k_fold_list = []\n",
    "    recall_list = []\n",
    "    accuracy_list = []\n",
    "    precision_list = []\n",
    "\n",
    "    if not params_dict:\n",
    "        params_dict = dict(\n",
    "            maxDepth=5, \n",
    "            maxBins=32, \n",
    "            numTrees=100,\n",
    "            minInfoGain=0.0, \n",
    "            impurity=\"gini\",\n",
    "            minInstancesPerNode=1,\n",
    "            featureSubsetStrategy=\"auto\"\n",
    "        )\n",
    "\n",
    "    for i in range(1, k + 1):\n",
    "        print(f\"\\nTraining Fold: {i}\\n\")\n",
    "\n",
    "        with mlflow.start_run(\n",
    "            nested=True,\n",
    "            run_name=f\"{run_name}-{i}\",\n",
    "            experiment_id=experiment_id\n",
    "        ):\n",
    "            \n",
    "            # Sample for Valid Dataset\n",
    "            df_valid_cross = df_cross.sampleBy(col=\"label\", fractions=validation_fractions)\n",
    "\n",
    "            # Filter for Train Cross Dataset\n",
    "            df_train_cross = df_cross.join(\n",
    "                df_valid_cross.select(\n",
    "                    pf.col(\"id\"),\n",
    "                    pf.col(\"label\").alias(\"t_label\")\n",
    "                ),\n",
    "                on=\"id\",\n",
    "                how=\"left\"\n",
    "            )\n",
    "\n",
    "            df_train_cross = df_train_cross.filter(pf.col(\"t_label\").isNull())\n",
    "\n",
    "            df_train_cross = df_train_cross.select(\n",
    "                pf.col(\"id\"),\n",
    "                pf.col(\"features\"),\n",
    "                pf.col(\"label\")\n",
    "            )\n",
    "\n",
    "            # Random Forest Estimator\n",
    "            rfc = RandomForestClassifier(\n",
    "                featuresCol=\"features\",\n",
    "                labelCol=\"label\",\n",
    "                **params_dict\n",
    "            )\n",
    "\n",
    "            rfc = rfc.fit(df_train_cross)\n",
    "            df_valid_results = rfc.transform(df_valid_cross)\n",
    "            df_valid_results = get_metrics(df_valid_results, \"label\")\n",
    "\n",
    "            log_mlflow_artifacts(mlflow, rfc, df_valid_results, params_dict, verbose=verbose)\n",
    "\n",
    "        k_fold_list.append(i)\n",
    "        recall_list.append(df_valid_results.weightedRecall)\n",
    "        accuracy_list.append(df_valid_results.accuracy)\n",
    "        precision_list.append(df_valid_results.weightedPrecision)\n",
    "        \n",
    "        del rfc # Full Fit again in another K fold\n",
    "\n",
    "    r = pd.DataFrame(\n",
    "        {\"fold\": k_fold_list,\n",
    "         \"accuracy\": accuracy_list,\n",
    "         \"recall\": recall_list,\n",
    "         \"precision\": precision_list},\n",
    "    )\n",
    "    \n",
    "    return r"
   ]
  },
  {
   "cell_type": "markdown",
   "metadata": {},
   "source": [
    "### 0.3. Read Data"
   ]
  },
  {
   "cell_type": "code",
   "execution_count": 6,
   "metadata": {},
   "outputs": [
    {
     "name": "stderr",
     "output_type": "stream",
     "text": [
      "                                                                                \r"
     ]
    }
   ],
   "source": [
    "base_path = \"/home/grc/arep/sentiment_analysis/data/archive/\"\n",
    "\n",
    "df_raw = spark.read.format(\"csv\") \\\n",
    "              .option(\"header\", \"true\") \\\n",
    "              .option(\"inferSchema\", \"true\") \\\n",
    "              .option(\"delimiter\", \",\") \\\n",
    "              .load(base_path + \"Reviews.csv\")\n",
    "\n",
    "df_raw = df_raw.select(\n",
    "    pf.col(\"Text\"),\n",
    "    pf.col(\"Score\"),\n",
    "    pf.col(\"Id\")\n",
    ")"
   ]
  },
  {
   "cell_type": "markdown",
   "metadata": {},
   "source": [
    "## 1.0. Simple Noise Checkout"
   ]
  },
  {
   "cell_type": "code",
   "execution_count": 7,
   "metadata": {},
   "outputs": [
    {
     "name": "stdout",
     "output_type": "stream",
     "text": [
      "+--------------------+--------------+----+\n",
      "|                Text|         Score|  Id|\n",
      "+--------------------+--------------+----+\n",
      "|Love at first bit...|            47| 523|\n",
      "|                   5| and Kitten\"\"\"|3018|\n",
      "|At least it wasn'...|             6|3415|\n",
      "|                   5|        Dad\"\"\"|4105|\n",
      "|America's Favorit...|            17|4408|\n",
      "+--------------------+--------------+----+\n",
      "only showing top 5 rows\n",
      "\n"
     ]
    }
   ],
   "source": [
    "df_raw.filter(~pf.col(\"Score\").isin([0, 1, 2, 3, 4, 5])).show(5)"
   ]
  },
  {
   "cell_type": "code",
   "execution_count": 8,
   "metadata": {},
   "outputs": [],
   "source": [
    "# Get only available stars / scores\n",
    "df_raw = df_raw.filter(pf.col(\"Score\").isin([0, 1, 2, 3, 4, 5]))\n",
    "\n",
    "# Good, Neutral and Bad\n",
    "df_raw = df_raw.withColumn(\n",
    "    \"new_score\",\n",
    "    pf.when(pf.col(\"Score\") == 1, 0)\\\n",
    "      .when((pf.col(\"Score\") > 1) & (pf.col(\"Score\") <= 3), 1) \\\n",
    "      .when(pf.col(\"Score\") > 3, 2)\n",
    ")\n",
    "\n",
    "df_raw = df_raw.filter(pf.col(\"new_score\").isin([0, 1, 2]))"
   ]
  },
  {
   "cell_type": "code",
   "execution_count": 9,
   "metadata": {},
   "outputs": [
    {
     "name": "stderr",
     "output_type": "stream",
     "text": [
      "[Stage 3:====>                                                    (1 + 11) / 12]\r"
     ]
    },
    {
     "name": "stdout",
     "output_type": "stream",
     "text": [
      "+---------+------+\n",
      "|new_score| Count|\n",
      "+---------+------+\n",
      "|        1| 72379|\n",
      "|        2|441789|\n",
      "|        0| 52635|\n",
      "+---------+------+\n",
      "\n"
     ]
    },
    {
     "name": "stderr",
     "output_type": "stream",
     "text": [
      "                                                                                \r"
     ]
    }
   ],
   "source": [
    "# Check Class Balance\n",
    "\n",
    "df_raw.groupBy(\"new_score\").agg(\n",
    "    pf.count(\"Text\").alias(\"Count\")\n",
    ").show()"
   ]
  },
  {
   "cell_type": "code",
   "execution_count": 10,
   "metadata": {},
   "outputs": [
    {
     "name": "stdout",
     "output_type": "stream",
     "text": [
      "+--------------------+-----+---+---------+\n",
      "|                Text|Score| Id|new_score|\n",
      "+--------------------+-----+---+---------+\n",
      "|I have bought sev...|    5|  1|        2|\n",
      "|\"Product arrived ...|    1|  2|        0|\n",
      "|\"This is a confec...|    4|  3|        2|\n",
      "|If you are lookin...|    2|  4|        1|\n",
      "|Great taffy at a ...|    5|  5|        2|\n",
      "|I got a wild hair...|    4|  6|        2|\n",
      "+--------------------+-----+---+---------+\n",
      "only showing top 6 rows\n",
      "\n"
     ]
    }
   ],
   "source": [
    "df_raw.show(6)"
   ]
  },
  {
   "cell_type": "markdown",
   "metadata": {},
   "source": [
    "## 2.0. Data Preprocessing"
   ]
  },
  {
   "cell_type": "code",
   "execution_count": 11,
   "metadata": {},
   "outputs": [],
   "source": [
    "df1 = df_raw.select(\n",
    "    pf.col(\"Id\").alias(\"id\"),\n",
    "    pf.col(\"new_score\").alias(\"score\"),\n",
    "    pf.col(\"Text\").alias(\"text\")\n",
    ")"
   ]
  },
  {
   "cell_type": "markdown",
   "metadata": {},
   "source": [
    "### 2.1. Dataset Balance"
   ]
  },
  {
   "cell_type": "markdown",
   "metadata": {},
   "source": [
    "In this **first** step, I will \"sample\" the dataset, i will start balancing the classes with 7_000 rows of each class, in a total of 21000 rows.\n",
    "In this dataset we have a min class size of 52635, I can random select 52635 examples for each class for random undersampling technique, but for now: \"very small dataset\".\n",
    "\n",
    "![Alt text](image.png)\n",
    "\n",
    "After that, is the step of split the dataset into three distincts datasets on start of any data science / m.l study or real project.\n",
    "This datasets is used for fine tuning and test generalization of estimator.\n",
    "\n",
    "1. Training - Training first spark ML estimator, and get scalers representations for future transform others datasets;\n",
    "2. Validation - Valide training performance and tuning process on this dataset;\n",
    "3. Testing - This slice of dataset is used to measure generalization in production;\n",
    "\n",
    "![Alt text](image-1.png)"
   ]
  },
  {
   "cell_type": "code",
   "execution_count": 12,
   "metadata": {},
   "outputs": [
    {
     "name": "stderr",
     "output_type": "stream",
     "text": [
      "                                                                                \r"
     ]
    },
    {
     "data": {
      "text/plain": [
       "[1, 2, 0]"
      ]
     },
     "execution_count": 12,
     "metadata": {},
     "output_type": "execute_result"
    }
   ],
   "source": [
    "# I will just use a sample of 7_000 rows\n",
    "total_samples_of_each_class = 7_000\n",
    "\n",
    "labels = [k[0] for k in df1.select(pf.col(\"score\")).distinct().collect()]\n",
    "\n",
    "labels"
   ]
  },
  {
   "cell_type": "code",
   "execution_count": 13,
   "metadata": {},
   "outputs": [
    {
     "name": "stdout",
     "output_type": "stream",
     "text": [
      "+---+-----+----+\n",
      "| id|score|text|\n",
      "+---+-----+----+\n",
      "| -1|   -1|none|\n",
      "+---+-----+----+\n",
      "\n"
     ]
    }
   ],
   "source": [
    "# Base dataset for balance and union\n",
    "df_samples = spark.createDataFrame(\n",
    "    data=[{\"id\": -1, \"score\": -1, \"text\": \"none\"}]\n",
    ")\n",
    "\n",
    "df_samples.show()"
   ]
  },
  {
   "cell_type": "code",
   "execution_count": 14,
   "metadata": {},
   "outputs": [],
   "source": [
    "# For each class, I will select top 7_000 rows.\n",
    "# You can use random select too, but for reproducibility I will use the top 7000 btw.\n",
    "\n",
    "for label in labels:\n",
    "\n",
    "    # Filter classes\n",
    "    df_filter_class = df1.filter(pf.col(\"score\") == label).limit(total_samples_of_each_class)\n",
    "\n",
    "    df_filter_class = df_filter_class.select(\n",
    "        pf.col(\"id\"),\n",
    "        pf.col(\"score\"),\n",
    "        pf.col(\"text\")\n",
    "    )\n",
    "\n",
    "    # Union on df_samples reference\n",
    "    df_samples = df_samples.select(\n",
    "        pf.col(\"id\"),\n",
    "        pf.col(\"score\"),\n",
    "        pf.col(\"text\")).unionAll(\n",
    "            df_filter_class.select(\n",
    "                pf.col(\"id\"),\n",
    "                pf.col(\"score\"),\n",
    "                pf.col(\"text\")\n",
    "            )\n",
    "        )\n",
    "\n",
    "df_samples = df_samples.filter(pf.col(\"score\").isin(labels))"
   ]
  },
  {
   "cell_type": "code",
   "execution_count": 15,
   "metadata": {},
   "outputs": [
    {
     "name": "stderr",
     "output_type": "stream",
     "text": [
      "                                                                                \r"
     ]
    },
    {
     "name": "stdout",
     "output_type": "stream",
     "text": [
      "+---+-----+--------------------+\n",
      "| id|score|                text|\n",
      "+---+-----+--------------------+\n",
      "|  4|    1|If you are lookin...|\n",
      "| 17|    1|I love eating the...|\n",
      "| 46|    1|This seems a litt...|\n",
      "| 48|    1|The flavors are g...|\n",
      "| 50|    1|This is the same ...|\n",
      "+---+-----+--------------------+\n",
      "only showing top 5 rows\n",
      "\n"
     ]
    }
   ],
   "source": [
    "df_samples.show(5)"
   ]
  },
  {
   "cell_type": "code",
   "execution_count": 16,
   "metadata": {},
   "outputs": [
    {
     "name": "stderr",
     "output_type": "stream",
     "text": [
      "[Stage 30:>                                                       (0 + 12) / 12]\r"
     ]
    },
    {
     "name": "stdout",
     "output_type": "stream",
     "text": [
      "+-----+-----+\n",
      "|score|count|\n",
      "+-----+-----+\n",
      "|    1| 7000|\n",
      "|    2| 7000|\n",
      "|    0| 7000|\n",
      "+-----+-----+\n",
      "\n"
     ]
    },
    {
     "name": "stderr",
     "output_type": "stream",
     "text": [
      "                                                                                \r"
     ]
    }
   ],
   "source": [
    "df_samples.groupBy(\"score\").agg(pf.count(\"text\").alias(\"count\")).show()"
   ]
  },
  {
   "cell_type": "markdown",
   "metadata": {},
   "source": [
    "### 2.2. Split Into Train and Valid"
   ]
  },
  {
   "cell_type": "code",
   "execution_count": 17,
   "metadata": {},
   "outputs": [],
   "source": [
    "test_valid_total_size = 1_000\n",
    "\n",
    "df_valid = spark.createDataFrame(data=[{\"id\": -1, \"score\": -1, \"text\": \"none\"}])\n",
    "\n",
    "# Make the same subsample of previous step for sample classes\n",
    "for label in labels:\n",
    "    df_filter_class = df_samples.filter(pf.col(\"score\") == label).limit(test_valid_total_size)\n",
    "\n",
    "    df_filter_class = df_filter_class.select(\n",
    "        pf.col(\"id\"),\n",
    "        pf.col(\"score\"),\n",
    "        pf.col(\"text\")\n",
    "    )\n",
    "\n",
    "    df_valid = df_valid.select(\n",
    "        pf.col(\"id\"),\n",
    "        pf.col(\"score\"),\n",
    "        pf.col(\"text\")).unionAll(\n",
    "            df_filter_class.select(\n",
    "                pf.col(\"id\"),\n",
    "                pf.col(\"score\"),\n",
    "                pf.col(\"text\")\n",
    "            )\n",
    "        )\n",
    "\n",
    "df_valid = df_valid.filter(pf.col(\"score\").isin(labels))"
   ]
  },
  {
   "cell_type": "code",
   "execution_count": 18,
   "metadata": {},
   "outputs": [],
   "source": [
    "# Join with all 7_000 samples for split\n",
    "\n",
    "df_train = df_samples.join(\n",
    "    df_valid.select(\n",
    "        pf.col(\"id\"),\n",
    "        pf.col(\"score\").alias(\"test_score\")\n",
    "    ), \n",
    "    how=\"left\",\n",
    "    on=\"id\"\n",
    ")\n",
    "\n",
    "df_train = df_train.filter(\n",
    "    pf.col(\"test_score\").isNull()\n",
    "    ).select(\n",
    "        pf.col(\"id\"),\n",
    "        pf.col(\"score\"),\n",
    "        pf.col(\"text\")\n",
    "    )"
   ]
  },
  {
   "cell_type": "code",
   "execution_count": 19,
   "metadata": {},
   "outputs": [],
   "source": [
    "# In this case i put all previous logic inside a function.\n",
    "\n",
    "df_train, df_test = split_top_k_dataframe_by_classes(\n",
    "    df_base=df_train,\n",
    "    split_size=1_000,\n",
    "    labels=labels\n",
    ")"
   ]
  },
  {
   "cell_type": "code",
   "execution_count": 18,
   "metadata": {},
   "outputs": [
    {
     "name": "stderr",
     "output_type": "stream",
     "text": [
      "                                                                                \r"
     ]
    },
    {
     "name": "stdout",
     "output_type": "stream",
     "text": [
      "+-----+-----+--------------------+\n",
      "|   id|score|                text|\n",
      "+-----+-----+--------------------+\n",
      "|46850|    1|Like others have ...|\n",
      "|50788|    1|\"I just wanted to...|\n",
      "|51173|    1|The white and bro...|\n",
      "| 7129|    1|\"I was looking fo...|\n",
      "| 8147|    1|\"My reason for th...|\n",
      "+-----+-----+--------------------+\n",
      "only showing top 5 rows\n",
      "\n"
     ]
    },
    {
     "name": "stderr",
     "output_type": "stream",
     "text": [
      "                                                                                \r"
     ]
    },
    {
     "name": "stdout",
     "output_type": "stream",
     "text": [
      "+---+-----+--------------------+\n",
      "| id|score|                text|\n",
      "+---+-----+--------------------+\n",
      "|  4|    1|If you are lookin...|\n",
      "| 17|    1|I love eating the...|\n",
      "| 46|    1|This seems a litt...|\n",
      "| 48|    1|The flavors are g...|\n",
      "| 50|    1|This is the same ...|\n",
      "+---+-----+--------------------+\n",
      "only showing top 5 rows\n",
      "\n"
     ]
    },
    {
     "name": "stderr",
     "output_type": "stream",
     "text": [
      "                                                                                \r"
     ]
    },
    {
     "name": "stdout",
     "output_type": "stream",
     "text": [
      "+-----+-----+--------------------+\n",
      "|   id|score|                text|\n",
      "+-----+-----+--------------------+\n",
      "| 8484|    1|I was surprised t...|\n",
      "| 9233|    1|\"First, let me sa...|\n",
      "| 9978|    1|I was surprised b...|\n",
      "|10422|    1|The coffee is ove...|\n",
      "|11276|    1|\"These aren't cle...|\n",
      "+-----+-----+--------------------+\n",
      "only showing top 5 rows\n",
      "\n"
     ]
    }
   ],
   "source": [
    "df_train.show(5)\n",
    "\n",
    "df_valid.show(5)\n",
    "\n",
    "df_test.show(5)"
   ]
  },
  {
   "cell_type": "code",
   "execution_count": 19,
   "metadata": {},
   "outputs": [
    {
     "name": "stderr",
     "output_type": "stream",
     "text": [
      "                                                                                \r"
     ]
    },
    {
     "name": "stdout",
     "output_type": "stream",
     "text": [
      "+-----+-----+\n",
      "|score|count|\n",
      "+-----+-----+\n",
      "|    1| 5000|\n",
      "|    0| 5000|\n",
      "|    2| 5000|\n",
      "+-----+-----+\n",
      "\n"
     ]
    },
    {
     "name": "stderr",
     "output_type": "stream",
     "text": [
      "                                                                                \r"
     ]
    },
    {
     "name": "stdout",
     "output_type": "stream",
     "text": [
      "+-----+-----+\n",
      "|score|count|\n",
      "+-----+-----+\n",
      "|    1| 1000|\n",
      "|    2| 1000|\n",
      "|    0| 1000|\n",
      "+-----+-----+\n",
      "\n"
     ]
    },
    {
     "name": "stderr",
     "output_type": "stream",
     "text": [
      "                                                                                \r"
     ]
    },
    {
     "name": "stdout",
     "output_type": "stream",
     "text": [
      "+-----+-----+\n",
      "|score|count|\n",
      "+-----+-----+\n",
      "|    1| 1000|\n",
      "|    2| 1000|\n",
      "|    0| 1000|\n",
      "+-----+-----+\n",
      "\n"
     ]
    }
   ],
   "source": [
    "df_train.groupBy(\"score\").agg(pf.count(\"text\").alias(\"count\")).show()\n",
    "\n",
    "df_valid.groupBy(\"score\").agg(pf.count(\"text\").alias(\"count\")).show()\n",
    "\n",
    "df_test.groupBy(\"score\").agg(pf.count(\"text\").alias(\"count\")).show()"
   ]
  },
  {
   "cell_type": "code",
   "execution_count": 20,
   "metadata": {},
   "outputs": [
    {
     "name": "stderr",
     "output_type": "stream",
     "text": [
      "                                                                                \r"
     ]
    },
    {
     "name": "stdout",
     "output_type": "stream",
     "text": [
      "+---+-----+----+-----+----+\n",
      "| id|score|text|score|text|\n",
      "+---+-----+----+-----+----+\n",
      "+---+-----+----+-----+----+\n",
      "\n"
     ]
    },
    {
     "name": "stderr",
     "output_type": "stream",
     "text": [
      "                                                                                \r"
     ]
    },
    {
     "name": "stdout",
     "output_type": "stream",
     "text": [
      "+---+-----+----+-----+----+\n",
      "| id|score|text|score|text|\n",
      "+---+-----+----+-----+----+\n",
      "+---+-----+----+-----+----+\n",
      "\n"
     ]
    },
    {
     "name": "stderr",
     "output_type": "stream",
     "text": [
      "                                                                                \r"
     ]
    },
    {
     "name": "stdout",
     "output_type": "stream",
     "text": [
      "+---+-----+----+-----+----+\n",
      "| id|score|text|score|text|\n",
      "+---+-----+----+-----+----+\n",
      "+---+-----+----+-----+----+\n",
      "\n"
     ]
    }
   ],
   "source": [
    "# Not exists same Id on Train, Test and Valid DataFrames.\n",
    "# Assumption: Id is unique.\n",
    "\n",
    "df_train.join(df_test, on=\"id\", how=\"inner\").show()\n",
    "\n",
    "df_train.join(df_valid, on=\"id\", how=\"inner\").show()\n",
    "\n",
    "df_test.join(df_valid, on=\"id\", how=\"inner\").show()"
   ]
  },
  {
   "cell_type": "markdown",
   "metadata": {},
   "source": [
    "### 2.3. Data Cleaning and Tokenization"
   ]
  },
  {
   "cell_type": "code",
   "execution_count": 20,
   "metadata": {},
   "outputs": [],
   "source": [
    "# Normalization and remove minor wrongs\n",
    "\n",
    "df_train = df_train.withColumn(\n",
    "    \"text\",\n",
    "    pf.regexp_replace(pf.regexp_replace(pf.regexp_replace(pf.lower(pf.trim(pf.col(\"text\"))), '\"', \"\"), \"  \", \" \"), \"  \", \" \")\n",
    ")\n",
    "\n",
    "df_valid = df_valid.withColumn(\n",
    "    \"text\",\n",
    "    pf.regexp_replace(pf.regexp_replace(pf.regexp_replace(pf.lower(pf.trim(pf.col(\"text\"))), '\"', \"\"), \"  \", \" \"), \"  \", \" \")\n",
    ")"
   ]
  },
  {
   "cell_type": "code",
   "execution_count": 21,
   "metadata": {},
   "outputs": [],
   "source": [
    "# Remove Tags and Especial Chars\n",
    "\n",
    "df_train = df_train.withColumn(\n",
    "    \"text\",\n",
    "    pf.regexp_replace(pf.regexp_replace(pf.regexp_replace(pf.regexp_replace(pf.regexp_replace(pf.col(\"text\"), \"'\", \"\"), \"<br /><br />\", \"\"), \"<br />\", \"\"), \"\\'\", \"'\"), \"<a href=\", \"\")\n",
    ")\n",
    "\n",
    "df_valid = df_valid.withColumn(\n",
    "    \"text\",\n",
    "    pf.regexp_replace(pf.regexp_replace(pf.regexp_replace(pf.regexp_replace(pf.regexp_replace(pf.col(\"text\"), \"'\", \"\"), \"<br /><br />\", \"\"), \"<br />\", \"\"), \"\\'\", \"'\"), \"<a href=\", \"\")\n",
    ")"
   ]
  },
  {
   "cell_type": "code",
   "execution_count": 22,
   "metadata": {},
   "outputs": [],
   "source": [
    "# Fix Wrong writes\n",
    "\n",
    "df_train = df_train.withColumn(\n",
    "    \"text\",\n",
    "    pf.regexp_replace(pf.col(\"text\"), \" u \", \" you \")\n",
    ")\n",
    "\n",
    "df_valid = df_valid.withColumn(\n",
    "    \"text\",\n",
    "    pf.regexp_replace(pf.col(\"text\"), \" u \", \" you \")\n",
    ")"
   ]
  },
  {
   "cell_type": "code",
   "execution_count": 23,
   "metadata": {},
   "outputs": [],
   "source": [
    "# Remove Extra Simbols and Site URL'S\n",
    "\n",
    "df_train = df_train.withColumn(\n",
    "    \"text\",\n",
    "    pf.regexp_replace(pf.regexp_replace(pf.regexp_replace(pf.col(\"text\"), \"http\\S+\", \"\"), \"https\\S+\", \"\"), \"  \", \" \")\n",
    ")\n",
    "\n",
    "df_valid = df_valid.withColumn(\n",
    "    \"text\",\n",
    "    pf.regexp_replace(pf.regexp_replace(pf.regexp_replace(pf.col(\"text\"), \"http\\S+\", \"\"), \"https\\S+\", \"\"), \"  \", \" \")\n",
    ")"
   ]
  },
  {
   "cell_type": "code",
   "execution_count": 24,
   "metadata": {},
   "outputs": [],
   "source": [
    "# I have created a Function too for preprocessing text data\n",
    "\n",
    "df_test = preprocessing_text_data(\n",
    "    dataframe=df_test,\n",
    "    text_col=\"text\"\n",
    ")"
   ]
  },
  {
   "cell_type": "markdown",
   "metadata": {},
   "source": [
    "## 3.0. Vectorizer"
   ]
  },
  {
   "cell_type": "markdown",
   "metadata": {},
   "source": [
    "This is another stage of processing and cleaning the data.\n",
    "\n",
    "First I separate the strings into \"tokens\" which are nothing more than a vector of words, this vector is used in the next class we will use, which is StopWordsRemover which in short will remove the stopwords.\n",
    "\n",
    "Examples of stopwords is: \"to, it, a\", is considered noisy data in nlp tasks.\n",
    "\n",
    "You can see all example transformations on this dataset on a dataframe.show()."
   ]
  },
  {
   "cell_type": "code",
   "execution_count": 25,
   "metadata": {},
   "outputs": [],
   "source": [
    "tokenizer = Tokenizer(inputCol=\"text\", outputCol=\"tokens\")\n",
    "\n",
    "# I Will Save this version of tokenizer\n",
    "# When I re-train the model, at this stage I can use a new version of the tokenizer.\n",
    "# But, for now, i will fix this version.\n",
    "\n",
    "#tokenizer.write().save(\"../src/features/tokenizer.spark\")"
   ]
  },
  {
   "cell_type": "code",
   "execution_count": 26,
   "metadata": {},
   "outputs": [],
   "source": [
    "# Load the transform and apply in all datasets\n",
    "tokenizer = Tokenizer.load(\"../src/features/tokenizer.spark\")\n",
    "\n",
    "df_train_tokens = tokenizer.transform(df_train)\n",
    "df_valid_tokens = tokenizer.transform(df_valid)\n",
    "df_test_tokens = tokenizer.transform(df_test)"
   ]
  },
  {
   "cell_type": "code",
   "execution_count": 27,
   "metadata": {},
   "outputs": [],
   "source": [
    "# StopWords Removal\n",
    "stopwords = StopWordsRemover(inputCol=\"tokens\", outputCol=\"words\")\n",
    "\n",
    "#stopwords.write().save(\"../src/features/stopwords.spark\")"
   ]
  },
  {
   "cell_type": "code",
   "execution_count": 28,
   "metadata": {},
   "outputs": [],
   "source": [
    "# Load the transform and apply in all datasets\n",
    "stopwords = StopWordsRemover.load(\"../src/features/stopwords.spark\")\n",
    "\n",
    "df_train_stopwords = stopwords.transform(df_train_tokens)\n",
    "df_valid_stopwords = stopwords.transform(df_valid_tokens)\n",
    "df_test_stopwords = stopwords.transform(df_test_tokens)"
   ]
  },
  {
   "cell_type": "code",
   "execution_count": 29,
   "metadata": {},
   "outputs": [
    {
     "name": "stderr",
     "output_type": "stream",
     "text": [
      "                                                                                \r"
     ]
    },
    {
     "name": "stdout",
     "output_type": "stream",
     "text": [
      "+-----+-----+--------------------------------------------------------------------------------------------------------------------------------------------------------------------------------------------------------------------------------------------------------------------------------------------------------------------------------------------------------------------------------------------------------------------------------------------------------------------------------------------------------------------------------------------------------------------------------------------------------------------------------------------------------------------------------------------------------------------------------------------------------------------------+--------------------------------------------------------------------------------------------------------------------------------------------------------------------------------------------------------------------------------------------------------------------------------------------------------------------------------------------------------------------------------------------------------------------------------------------------------------------------------------------------------------------------------------------------------------------------------------------------------------------------------------------------------------------------------------------------------------------------------------------------------------------------------------------------------------------------------------------------------------------------------------------------------------------------------+---------------------------------------------------------------------------------------------------------------------------------------------------------------------------------------------------------------------------------------------------------------------------------------------------------------------------------------------------------------------------------------------------------------------------------------------------------------------------------------------------------------------------+\n",
      "|id   |score|text                                                                                                                                                                                                                                                                                                                                                                                                                                                                                                                                                                                                                                                                                                                                                                      |tokens                                                                                                                                                                                                                                                                                                                                                                                                                                                                                                                                                                                                                                                                                                                                                                                                                                                                                                                          |words                                                                                                                                                                                                                                                                                                                                                                                                                                                                                                                      |\n",
      "+-----+-----+--------------------------------------------------------------------------------------------------------------------------------------------------------------------------------------------------------------------------------------------------------------------------------------------------------------------------------------------------------------------------------------------------------------------------------------------------------------------------------------------------------------------------------------------------------------------------------------------------------------------------------------------------------------------------------------------------------------------------------------------------------------------------+--------------------------------------------------------------------------------------------------------------------------------------------------------------------------------------------------------------------------------------------------------------------------------------------------------------------------------------------------------------------------------------------------------------------------------------------------------------------------------------------------------------------------------------------------------------------------------------------------------------------------------------------------------------------------------------------------------------------------------------------------------------------------------------------------------------------------------------------------------------------------------------------------------------------------------+---------------------------------------------------------------------------------------------------------------------------------------------------------------------------------------------------------------------------------------------------------------------------------------------------------------------------------------------------------------------------------------------------------------------------------------------------------------------------------------------------------------------------+\n",
      "|46850|1    |like others have said it tastes like yellow powerade with a bit of a twist. very refreshing but i very much prefer the regular version with pulp.                                                                                                                                                                                                                                                                                                                                                                                                                                                                                                                                                                                                                         |[like, others, have, said, it, tastes, like, yellow, powerade, with, a, bit, of, a, twist., very, refreshing, but, i, very, much, prefer, the, regular, version, with, pulp.]                                                                                                                                                                                                                                                                                                                                                                                                                                                                                                                                                                                                                                                                                                                                                   |[like, others, said, tastes, like, yellow, powerade, bit, twist., refreshing, much, prefer, regular, version, pulp.]                                                                                                                                                                                                                                                                                                                                                                                                       |\n",
      "|50788|1    |i just wanted to let everyone know about hair oil products bc i use them at times.. while this product does smell, it should not be worn outside, it should only be used as a leave in treatment and as such, should be used at night and shampood out in the morning. never leave it in all day. i have not used this particular product but amla is a kind of a gooseberry and thats the primary ingredient in this (this oil is an ayurvedic product). amla is very beneficial for dandruff and dry scalp so this will help with that. but a great hair oil i use to get my hair to be healthy and grow faster is called vatika and its from the same company(its on amazon). this oil does not smell bc its a coconut oil and it also has a nice fragrance added to it|[i, just, wanted, to, let, everyone, know, about, hair, oil, products, bc, i, use, them, at, times.., while, this, product, does, smell,, it, should, not, be, worn, outside,, it, should, only, be, used, as, a, leave, in, treatment, and, as, such,, should, be, used, at, night, and, shampood, out, in, the, morning., never, leave, it, in, all, day., i, have, not, used, this, particular, product, but, amla, is, a, kind, of, a, gooseberry, and, thats, the, primary, ingredient, in, this, (this, oil, is, an, ayurvedic, product)., amla, is, very, beneficial, for, dandruff, and, dry, scalp, so, this, will, help, with, that., but, a, great, hair, oil, i, use, to, get, my, hair, to, be, healthy, and, grow, faster, is, called, vatika, and, its, from, the, same, company(its, on, amazon)., this, oil, does, not, smell, bc, its, a, coconut, oil, and, it, also, has, a, nice, fragrance, added, to, it]|[wanted, let, everyone, know, hair, oil, products, bc, use, times.., product, smell,, worn, outside,, used, leave, treatment, such,, used, night, shampood, morning., never, leave, day., used, particular, product, amla, kind, gooseberry, thats, primary, ingredient, (this, oil, ayurvedic, product)., amla, beneficial, dandruff, dry, scalp, help, that., great, hair, oil, use, get, hair, healthy, grow, faster, called, vatika, company(its, amazon)., oil, smell, bc, coconut, oil, also, nice, fragrance, added]|\n",
      "|51173|1    |the white and brown rice is much better. this rice is nothing like i expected... cannot eat without masking the flavor.                                                                                                                                                                                                                                                                                                                                                                                                                                                                                                                                                                                                                                                   |[the, white, and, brown, rice, is, much, better., this, rice, is, nothing, like, i, expected..., cannot, eat, without, masking, the, flavor.]                                                                                                                                                                                                                                                                                                                                                                                                                                                                                                                                                                                                                                                                                                                                                                                   |[white, brown, rice, much, better., rice, nothing, like, expected..., eat, without, masking, flavor.]                                                                                                                                                                                                                                                                                                                                                                                                                      |\n",
      "+-----+-----+--------------------------------------------------------------------------------------------------------------------------------------------------------------------------------------------------------------------------------------------------------------------------------------------------------------------------------------------------------------------------------------------------------------------------------------------------------------------------------------------------------------------------------------------------------------------------------------------------------------------------------------------------------------------------------------------------------------------------------------------------------------------------+--------------------------------------------------------------------------------------------------------------------------------------------------------------------------------------------------------------------------------------------------------------------------------------------------------------------------------------------------------------------------------------------------------------------------------------------------------------------------------------------------------------------------------------------------------------------------------------------------------------------------------------------------------------------------------------------------------------------------------------------------------------------------------------------------------------------------------------------------------------------------------------------------------------------------------+---------------------------------------------------------------------------------------------------------------------------------------------------------------------------------------------------------------------------------------------------------------------------------------------------------------------------------------------------------------------------------------------------------------------------------------------------------------------------------------------------------------------------+\n",
      "only showing top 3 rows\n",
      "\n"
     ]
    }
   ],
   "source": [
    "# Stopwords tokens removed\n",
    "\n",
    "df_train_stopwords.show(3, truncate=False)"
   ]
  },
  {
   "cell_type": "markdown",
   "metadata": {},
   "source": [
    "## 4.0. TF-IDF"
   ]
  },
  {
   "cell_type": "markdown",
   "metadata": {},
   "source": [
    "Now I need to take the text and transform into in a numerical vector.\n",
    "In pyspark exists two tools to do that.\n",
    "\n",
    "1. Word2Vec;\n",
    "2. TF-IDF / HashingTF;\n",
    "\n",
    "First i will try TF-IDF, before is a good test to switch to word2vec."
   ]
  },
  {
   "cell_type": "markdown",
   "metadata": {},
   "source": [
    "After the previous data cleaning, now is the step of applying some form of numerical representation of the textual data.\n",
    "The most classic and simple is the TF-IDF tool which stands for \"Term Frequency\" and \"Inverse Document Frequency\".\n",
    "\n",
    "IF-IDF is a sequence of steps, lets check:\n",
    "\n",
    "**1. For the given documents**\n",
    "\n",
    "Document 1: \"monkey eats a banana\" - Have \"a\" stopword in this document. \n",
    "Tokens: [monkey, eats, a, banana]\n",
    "\n",
    "Document 2: \"monkey like banana\"\n",
    "Tokens: [monkey, like, banana]\n",
    "\n",
    "**2. Term Frequency (TF)**\n",
    "\n",
    "Calculate the Term Frequency (TF) for each term in each document. The \"TF\" of a term in a document (Vector of tokens) is the number of times the term (t) appears in that document (d) divided by the total number of terms in the document (t / len( d ) ).\n",
    "\n",
    "For Document 1:\n",
    "\n",
    "TF(monkey) = 1/4\n",
    "\n",
    "TF(eats) = 1/4\n",
    "\n",
    "TF(a) = 1/4\n",
    "\n",
    "TF(banana) = 1/4\n",
    "\n",
    "For Document 2:\n",
    "\n",
    "TF(monkey) = 1/3\n",
    "\n",
    "TF(like) = 1/3\n",
    "\n",
    "TF(banana) = 1/3\n",
    "\n",
    "\n",
    "**3. Inverse Document Frequency (IDF)**\n",
    "\n",
    "Calculate the Inverse Document Frequency (IDF) for each \"term\". IDF is next step to represent Term in other documents.\n",
    "Total number of documents: (N) = 2\n",
    "\n",
    "For each term:\n",
    "\n",
    "IDF(monkey) = log(2 / 2 + 1) = log(2/3)\n",
    "\n",
    "IDF(eats) = log(2 / 1 + 1) = log(2)\n",
    "\n",
    "IDF(a) = log(2 / 1 + 1) = log(2)\n",
    "\n",
    "IDF(banana) = log(2 / 2 + 1) = log(2/3)\n",
    "\n",
    "IDF(like) = log(2 / 1 + 1) = log(2)\n",
    "\n",
    "\n",
    "**4. TF-IDF Calculation**\n",
    "\n",
    "Calculate the TF-IDF score for each term in each document by multiplying the TF and IDF values.\n",
    "\n",
    "*For Document 1:*\n",
    "\n",
    "TF-IDF(monkey) = TF(monkey) * IDF(monkey) = (1/4) * log(2/3)\n",
    "\n",
    "TF-IDF(eats) = TF(eats) * IDF(eats) = (1/4) * log(2)\n",
    "\n",
    "TF-IDF(a) = TF(a) * IDF(a) = (1/4) * log(2)\n",
    "\n",
    "TF-IDF(banana) = TF(banana) * IDF(banana) = (1/4) * log(2/3)\n",
    "\n",
    "\n",
    "*For Document 2:*\n",
    "\n",
    "TF-IDF(monkey) = TF(monkey) * IDF(monkey) = (1/3) * log(2/3)\n",
    "\n",
    "TF-IDF(like) = TF(like) * IDF(like) = (1/3) * log(2)\n",
    "\n",
    "TF-IDF(banana) = TF(banana) * IDF(banana) = (1/3) * log(2/3)\n",
    "\n",
    "Now, you have calculated the TF-IDF scores for each term in each document manually. These scores reflect the importance of each term within the respective documents and can be used for various text analysis tasks.\n",
    "In this example we do not have same term multiple times on each document, but simple add more terms to change the formula results."
   ]
  },
  {
   "cell_type": "markdown",
   "metadata": {},
   "source": [
    "In pyspark exists \"HashingTF\", stands for:\n",
    "\n",
    "https://spark.apache.org/docs/latest/api/python/reference/api/pyspark.ml.feature.HashingTF.html\n",
    "\n",
    "\"Maps a sequence of terms to their term frequencies using the hashing trick. Currently we use Austin Appleby’s MurmurHash 3 algorithm (MurmurHash3_x86_32) to calculate the hash code value for the term object. Since a simple modulo is used to transform the hash function to a column index, it is advisable to use a power of two as the numFeatures parameter; otherwise the features will not be mapped evenly to the columns.\""
   ]
  },
  {
   "cell_type": "code",
   "execution_count": 30,
   "metadata": {},
   "outputs": [],
   "source": [
    "# NumFeatures is a Hyp. Param, i need to tune numFeatures in future for test model performance\n",
    "hashing = HashingTF(inputCol=\"words\", outputCol=\"raw_features\", numFeatures=5_000)\n",
    "\n",
    "#hashing.write().save(\"../src/features/hashing.spark\")"
   ]
  },
  {
   "cell_type": "code",
   "execution_count": 31,
   "metadata": {},
   "outputs": [],
   "source": [
    "hashing = HashingTF.load(\"../src/features/hashing.spark/\")\n",
    "\n",
    "df_train_hash = hashing.transform(df_train_stopwords)\n",
    "df_valid_hash = hashing.transform(df_valid_stopwords)\n",
    "df_test_hash = hashing.transform(df_test_stopwords)"
   ]
  },
  {
   "cell_type": "code",
   "execution_count": 32,
   "metadata": {},
   "outputs": [
    {
     "name": "stderr",
     "output_type": "stream",
     "text": [
      "                                                                                \r"
     ]
    },
    {
     "name": "stdout",
     "output_type": "stream",
     "text": [
      "+-----+-----+--------------------+--------------------+--------------------+--------------------+\n",
      "|   id|score|                text|              tokens|               words|        raw_features|\n",
      "+-----+-----+--------------------+--------------------+--------------------+--------------------+\n",
      "|46850|    1|like others have ...|[like, others, ha...|[like, others, sa...|(5000,[114,524,89...|\n",
      "|50788|    1|i just wanted to ...|[i, just, wanted,...|[wanted, let, eve...|(5000,[133,153,20...|\n",
      "|51173|    1|the white and bro...|[the, white, and,...|[white, brown, ri...|(5000,[524,843,95...|\n",
      "| 7129|    1|i was looking for...|[i, was, looking,...|[looking, simple,...|(5000,[21,133,447...|\n",
      "| 8147|    1|my reason for the...|[my, reason, for,...|[reason, low, rat...|(5000,[133,415,16...|\n",
      "+-----+-----+--------------------+--------------------+--------------------+--------------------+\n",
      "only showing top 5 rows\n",
      "\n"
     ]
    }
   ],
   "source": [
    "# Now we have transformed the Words in a numerical representation\n",
    "df_train_hash.show(5)"
   ]
  },
  {
   "cell_type": "markdown",
   "metadata": {},
   "source": [
    "Now its time to apply IDF on this raw_features.\n",
    "\n",
    "https://spark.apache.org/docs/latest/api/python/reference/api/pyspark.mllib.feature.IDF.html"
   ]
  },
  {
   "cell_type": "code",
   "execution_count": 33,
   "metadata": {},
   "outputs": [],
   "source": [
    "idf = IDF(inputCol=\"raw_features\", outputCol=\"features\")\n",
    "\n",
    "# I will fit with Train DataFrame\n",
    "#idf = idf.fit(df_train_hash)\n",
    "\n",
    "# And Save\n",
    "#idf.write().save(\"../src/features/idf.spark\")"
   ]
  },
  {
   "cell_type": "markdown",
   "metadata": {},
   "source": [
    "If the transformation needs to be \"trained / fitted\", when I load this previously saved transformation locally I need to use the \"Model\", for example IDF -> IDFModel in PySpark.\n",
    "\n",
    "Different from other previously applied transformations."
   ]
  },
  {
   "cell_type": "code",
   "execution_count": 34,
   "metadata": {},
   "outputs": [],
   "source": [
    "idf = IDFModel.load(\"../src/features/idf.spark/\")"
   ]
  },
  {
   "cell_type": "code",
   "execution_count": 35,
   "metadata": {},
   "outputs": [],
   "source": [
    "df_train_idf = idf.transform(df_train_hash)\n",
    "df_valid_idf = idf.transform(df_valid_hash)\n",
    "df_test_idf = idf.transform(df_test_hash)"
   ]
  },
  {
   "cell_type": "code",
   "execution_count": 36,
   "metadata": {},
   "outputs": [
    {
     "name": "stderr",
     "output_type": "stream",
     "text": [
      "                                                                                \r"
     ]
    },
    {
     "name": "stdout",
     "output_type": "stream",
     "text": [
      "+---+-----+-------------------------------------------------------------------------------------------------------------------------------------------------------------------------------------------------------------------------+-------------------------------------------------------------------------------------------------------------------------------------------------------------------------------------------------------------------------------------------------------------------+-------------------------------------------------------------------------------------------------------------------------------------------------------------------+-------------------------------------------------------------------------------------------------------------------------------------------------------------------------------------------+------------------------------------------------------------------------------------------------------------------------------------------------------------------------------------------------------------------------------------------------------------------------------------------------------------------------------------------------------------------------------------------------------------------------------------------------------------------------------------------+\n",
      "|id |score|text                                                                                                                                                                                                                     |tokens                                                                                                                                                                                                                                                             |words                                                                                                                                                              |raw_features                                                                                                                                                                               |features                                                                                                                                                                                                                                                                                                                                                                                                                                                                                  |\n",
      "+---+-----+-------------------------------------------------------------------------------------------------------------------------------------------------------------------------------------------------------------------------+-------------------------------------------------------------------------------------------------------------------------------------------------------------------------------------------------------------------------------------------------------------------+-------------------------------------------------------------------------------------------------------------------------------------------------------------------+-------------------------------------------------------------------------------------------------------------------------------------------------------------------------------------------+------------------------------------------------------------------------------------------------------------------------------------------------------------------------------------------------------------------------------------------------------------------------------------------------------------------------------------------------------------------------------------------------------------------------------------------------------------------------------------------+\n",
      "|4  |1    |if you are looking for the secret ingredient in robitussin i believe i have found it. i got this in addition to the root beer extract i ordered (which was good) and made some cherry soda. the flavor is very medicinal.|[if, you, are, looking, for, the, secret, ingredient, in, robitussin, i, believe, i, have, found, it., i, got, this, in, addition, to, the, root, beer, extract, i, ordered, (which, was, good), and, made, some, cherry, soda., the, flavor, is, very, medicinal.]|[looking, secret, ingredient, robitussin, believe, found, it., got, addition, root, beer, extract, ordered, (which, good), made, cherry, soda., flavor, medicinal.]|(5000,[533,631,734,1010,1061,1230,1653,1820,2288,2612,2805,3073,3250,3344,3357,3889,3892,4232,4526,4985],[1.0,1.0,1.0,1.0,1.0,1.0,1.0,1.0,1.0,1.0,1.0,1.0,1.0,1.0,1.0,1.0,1.0,1.0,1.0,1.0])|(5000,[533,631,734,1010,1061,1230,1653,1820,2288,2612,2805,3073,3250,3344,3357,3889,3892,4232,4526,4985],[3.9529116643929445,5.116062474198626,1.8826264979990948,2.6348664038071608,2.627458962529299,4.379430181698941,4.605236850432634,5.381765639931631,5.703849139100744,4.625439557750154,2.1005275733484545,6.004954231884666,6.248576314542416,2.4109796343242174,4.4800737074786285,2.8057296944137535,6.032353206072781,3.1281881260442796,4.16483369096319,4.836748651417361])|\n",
      "|17 |1    |i love eating them and they are good for watching tv and looking at movies! it is not too sweet. i like to transfer them to a zip lock baggie so they stay fresh so i can take my time eating them.                      |[i, love, eating, them, and, they, are, good, for, watching, tv, and, looking, at, movies!, it, is, not, too, sweet., i, like, to, transfer, them, to, a, zip, lock, baggie, so, they, stay, fresh, so, i, can, take, my, time, eating, them.]                     |[love, eating, good, watching, tv, looking, movies!, sweet., like, transfer, zip, lock, baggie, stay, fresh, take, time, eating, them.]                            |(5000,[433,855,903,1004,1168,1240,1272,1758,2074,2275,3030,3157,3330,3786,3957,4232,4547,4779],[1.0,1.0,2.0,1.0,1.0,1.0,1.0,1.0,1.0,1.0,1.0,1.0,1.0,1.0,1.0,1.0,1.0,1.0])                  |(5000,[433,855,903,1004,1168,1240,1272,1758,2074,2275,3030,3157,3330,3786,3957,4232,4547,4779],[4.445388149490738,3.3505709317911805,5.8253680625760556,4.485973429605817,1.7230466182777724,2.058399242914144,6.248576314542416,6.089511619912729,3.3505709317911805,4.906341943216556,4.952433050416823,2.5158449778996306,1.1816258739335792,4.098419248064182,2.957861098658142,3.1281881260442796,4.862281953422525,6.283667634353686])                                              |\n",
      "|46 |1    |this seems a little more wholesome than some of the supermarket brands, but it is somewhat mushy and doesnt have quite as much flavor either. it didnt pass muster with my kids, so i probably wont buy it again.        |[this, seems, a, little, more, wholesome, than, some, of, the, supermarket, brands,, but, it, is, somewhat, mushy, and, doesnt, have, quite, as, much, flavor, either., it, didnt, pass, muster, with, my, kids,, so, i, probably, wont, buy, it, again.]          |[seems, little, wholesome, supermarket, brands,, somewhat, mushy, doesnt, quite, much, flavor, either., didnt, pass, muster, kids,, probably, wont, buy, again.]   |(5000,[80,524,664,734,1056,1166,1538,1590,1898,2297,2632,3138,3392,3619,3694,3765,3901,4098,4107,4653],[1.0,1.0,1.0,1.0,1.0,1.0,1.0,1.0,1.0,1.0,1.0,1.0,1.0,1.0,1.0,1.0,1.0,1.0,1.0,1.0])  |(5000,[80,524,664,734,1056,1166,1538,1590,1898,2297,2632,3138,3392,3619,3694,3765,3901,4098,4107,4653],[2.1292588313889356,2.0961797404123512,4.591991623682614,1.8826264979990948,3.2425523549518775,4.933740917404671,2.652682158658653,2.2782844009902945,2.8908385023620475,3.393295876457522,4.327605113834355,5.441484874633253,5.06199525292835,3.5497640544251428,6.620139870974899,4.572447027609644,2.759410159934304,4.8451875200632255,6.437818314180944,3.2915131821475794]) |\n",
      "|48 |1    |the flavors are good. however, i do not see any differce between this and oaker oats brand - they are both mushy.                                                                                                        |[the, flavors, are, good., however,, i, do, not, see, any, differce, between, this, and, oaker, oats, brand, -, they, are, both, mushy.]                                                                                                                           |[flavors, good., however,, see, differce, oaker, oats, brand, -, mushy.]                                                                                           |(5000,[288,354,903,1152,1580,1704,2178,3079,4751,4762],[1.0,1.0,1.0,1.0,1.0,1.0,1.0,1.0,1.0,1.0])                                                                                          |(5000,[288,354,903,1152,1580,1704,2178,3079,4751,4762],[3.064791809485486,2.8836614380616843,2.9126840312880278,2.4050536910566698,4.990899331244619,3.4012640461066987,3.0463907241145947,3.182932051789711,6.060524083039477,7.050922787067353])                                                                                                                                                                                                                                        |\n",
      "|50 |1    |this is the same stuff you can buy at the big box stores. there is nothing healthy about it. it is just carbs and sugars. save your money and get something that at least has some taste.                                |[this, is, the, same, stuff, you, can, buy, at, the, big, box, stores., there, is, nothing, healthy, about, it., it, is, just, carbs, and, sugars., save, your, money, and, get, something, that, at, least, has, some, taste.]                                    |[stuff, buy, big, box, stores., nothing, healthy, it., carbs, sugars., save, money, get, something, least, taste.]                                                 |(5000,[80,264,569,1103,1606,1634,2722,2805,2922,3048,4292,4426,4520,4826,4875],[1.0,2.0,1.0,1.0,1.0,1.0,1.0,1.0,1.0,1.0,1.0,1.0,1.0,1.0,1.0])                                              |(5000,[80,264,569,1103,1606,1634,2722,2805,2922,3048,4292,4426,4520,4826,4875],[2.1292588313889356,8.605332330974207,2.871812958217543,3.616935582582207,3.1071030075572086,3.6244075974209085,3.3429951379827227,2.1005275733484545,2.661233279647903,3.2702357837002944,3.389335475241425,1.947311036512993,3.8047311515521898,2.7763957063000477,5.041161166025508])                                                                                                                   |\n",
      "+---+-----+-------------------------------------------------------------------------------------------------------------------------------------------------------------------------------------------------------------------------+-------------------------------------------------------------------------------------------------------------------------------------------------------------------------------------------------------------------------------------------------------------------+-------------------------------------------------------------------------------------------------------------------------------------------------------------------+-------------------------------------------------------------------------------------------------------------------------------------------------------------------------------------------+------------------------------------------------------------------------------------------------------------------------------------------------------------------------------------------------------------------------------------------------------------------------------------------------------------------------------------------------------------------------------------------------------------------------------------------------------------------------------------------+\n",
      "only showing top 5 rows\n",
      "\n"
     ]
    }
   ],
   "source": [
    "df_valid_idf.show(5, truncate=False)"
   ]
  },
  {
   "cell_type": "markdown",
   "metadata": {},
   "source": [
    "We can also use a dimensionality reducer (For example \"TruncatedSVD\", commonly used after TF-IDF) and apply it to this matrix to help machine learning models and reduce the \"curse of high dimensionality\"."
   ]
  },
  {
   "cell_type": "markdown",
   "metadata": {},
   "source": [
    "## 5.0. Machine Learning Models"
   ]
  },
  {
   "cell_type": "markdown",
   "metadata": {},
   "source": [
    "Now i will try to fit a machine learning model to receive a document vector and produce a proba or classification for score label."
   ]
  },
  {
   "cell_type": "markdown",
   "metadata": {},
   "source": [
    "### 5.1. Random Forest Classifier"
   ]
  },
  {
   "cell_type": "code",
   "execution_count": 36,
   "metadata": {},
   "outputs": [],
   "source": [
    "client = mlflow.MlflowClient()\n",
    "\n",
    "mlruns_path = \"file:///home/grc/arep/sentiment_analysis/mlruns\"\n",
    "\n",
    "mlflow.set_tracking_uri(mlruns_path)\n",
    "\n",
    "experiment_name = \"grc-pyspark-sentiment-analisys\"\n",
    "\n",
    "try:\n",
    "    experiment_id = mlflow.get_experiment_by_name(name=experiment_name).experiment_id\n",
    "\n",
    "except:\n",
    "    experiment_id = mlflow.create_experiment(name=experiment_name)"
   ]
  },
  {
   "cell_type": "code",
   "execution_count": 38,
   "metadata": {},
   "outputs": [
    {
     "name": "stderr",
     "output_type": "stream",
     "text": [
      "23/09/19 11:48:28 WARN DAGScheduler: Broadcasting large task binary with size 1112.6 KiB\n",
      "/home/grc/arep/sentiment_analysis/lib/python3.10/site-packages/pyspark/sql/context.py:157: FutureWarning: Deprecated in 3.0.0. Use SparkSession.builder.getOrCreate() instead.\n",
      "  warnings.warn(\n",
      "                                                                                \r"
     ]
    },
    {
     "name": "stdout",
     "output_type": "stream",
     "text": [
      "Accuracy: 0.5640\n",
      "W. Recall: 0.5640\n",
      "W. Precision: 0.5656\n",
      "\n",
      "Label: 0, Recall: 0.5367\n",
      "Label: 0, Precision: 0.5367\n",
      "\n",
      "Label: 1, Recall: 0.5637\n",
      "Label: 1, Precision: 0.5637\n",
      "\n",
      "Label: 2, Recall: 0.5964\n",
      "Label: 2, Precision: 0.5964\n",
      "\n"
     ]
    },
    {
     "data": {
      "image/png": "[encoded data removed]",
      "text/plain": [
       "<Figure size 640x480 with 2 Axes>"
      ]
     },
     "metadata": {},
     "output_type": "display_data"
    }
   ],
   "source": [
    "with mlflow.start_run(\n",
    "    experiment_id=experiment_id,\n",
    "    run_name=\"base-pyspark-model\"\n",
    ") as active_run:\n",
    "    \n",
    "    model_params = dict(\n",
    "        maxDepth=5, \n",
    "        maxBins=32, \n",
    "        numTrees=100,\n",
    "        minInfoGain=0.0, \n",
    "        impurity=\"gini\",\n",
    "        minInstancesPerNode=1,\n",
    "        featureSubsetStrategy=\"auto\"\n",
    "    )\n",
    "\n",
    "    # Model Definition\n",
    "    rfc = RandomForestClassifier(\n",
    "        featuresCol=\"features\",\n",
    "        labelCol=\"score\",\n",
    "        **model_params\n",
    "    )\n",
    "\n",
    "    # Model Training\n",
    "    rfc = rfc.fit(df_train_idf)\n",
    "\n",
    "    # Get Validation Metrics\n",
    "    df_valid_results = rfc.transform(df_valid_idf)\n",
    "    valid_metrics = get_metrics(df_valid_results)\n",
    "\n",
    "    fig = log_mlflow_artifacts(\n",
    "        mlflow=mlflow,\n",
    "        estimator=rfc,\n",
    "        metrics=valid_metrics,\n",
    "        model_params=model_params\n",
    "    )"
   ]
  },
  {
   "cell_type": "markdown",
   "metadata": {},
   "source": [
    "#### 5.1.1. Register Random Forest Model"
   ]
  },
  {
   "cell_type": "code",
   "execution_count": 46,
   "metadata": {},
   "outputs": [
    {
     "name": "stderr",
     "output_type": "stream",
     "text": [
      "Successfully registered model 'grc_ps_reviews_sentiment_analisys'.\n",
      "2023/09/19 12:48:32 INFO mlflow.tracking._model_registry.client: Waiting up to 300 seconds for model version to finish creation. Model name: grc_ps_reviews_sentiment_analisys, version 1\n",
      "Created version '1' of model 'grc_ps_reviews_sentiment_analisys'.\n"
     ]
    }
   ],
   "source": [
    "reg_info = mlflow.register_model(\n",
    "    f\"runs:/{active_run.info.run_id}/rfc_model\",\n",
    "    \"grc_ps_reviews_sentiment_analisys\",\n",
    ");"
   ]
  },
  {
   "cell_type": "code",
   "execution_count": 50,
   "metadata": {},
   "outputs": [],
   "source": [
    "client = mlflow.MlflowClient()\n",
    "\n",
    "client.update_model_version(\n",
    "    name=reg_info.name,\n",
    "    version=reg_info.version,\n",
    "    description=\"This version looks like good, i will moving to staging!\"\n",
    ");"
   ]
  },
  {
   "cell_type": "code",
   "execution_count": 51,
   "metadata": {},
   "outputs": [],
   "source": [
    "client.transition_model_version_stage(\n",
    "    name=reg_info.name,\n",
    "    version=reg_info.version,\n",
    "    stage=\"Staging\",\n",
    "    archive_existing_versions=True\n",
    ");"
   ]
  },
  {
   "cell_type": "markdown",
   "metadata": {},
   "source": [
    "#### 5.1.2. Load Registred Model"
   ]
  },
  {
   "cell_type": "code",
   "execution_count": 69,
   "metadata": {},
   "outputs": [],
   "source": [
    "# Serve \"crate\" or \"pyfunc\" models in a api\n",
    "# mlflow models serve -m \"models:/grc_ps_reviews_sentiment_analisys/1\" -p 5001 -h 127.0.0.1"
   ]
  },
  {
   "cell_type": "code",
   "execution_count": null,
   "metadata": {},
   "outputs": [],
   "source": [
    "estimator = mlflow.spark.load_model(\n",
    "    model_uri=f\"models:/grc_ps_reviews_sentiment_analisys/1\"\n",
    ")"
   ]
  },
  {
   "cell_type": "code",
   "execution_count": 65,
   "metadata": {},
   "outputs": [
    {
     "name": "stdout",
     "output_type": "stream",
     "text": [
      "Accuracy: 0.5640\n",
      "W. Recall: 0.5640\n",
      "W. Precision: 0.5656\n",
      "\n",
      "Label: 0, Recall: 0.5367\n",
      "Label: 0, Precision: 0.5367\n",
      "\n",
      "Label: 1, Recall: 0.5637\n",
      "Label: 1, Precision: 0.5637\n",
      "\n",
      "Label: 2, Recall: 0.5964\n",
      "Label: 2, Precision: 0.5964\n",
      "\n"
     ]
    },
    {
     "data": {
      "text/plain": [
       "<Axes: title={'center': 'Confusion Matrix'}, xlabel='Predicted label', ylabel='True label'>"
      ]
     },
     "execution_count": 65,
     "metadata": {},
     "output_type": "execute_result"
    },
    {
     "data": {
      "image/png": "[encoded data removed]",
      "text/plain": [
       "<Figure size 640x480 with 2 Axes>"
      ]
     },
     "metadata": {},
     "output_type": "display_data"
    }
   ],
   "source": [
    "# Get Validation Metrics\n",
    "df_valid_results = estimator.transform(df_valid_idf)\n",
    "valid_metrics = get_metrics(df_valid_results)\n",
    "\n",
    "plot_ml_metrics(valid_metrics)"
   ]
  },
  {
   "cell_type": "markdown",
   "metadata": {},
   "source": [
    "### 5.2. Cross Validation"
   ]
  },
  {
   "cell_type": "markdown",
   "metadata": {},
   "source": [
    "Is possible to use a CrossValidator of PySpark or make manual K-Fold loops.\n",
    "\n",
    "Steps of Cross Validation:\n",
    "\n",
    "1. Random Sample Dataset into Train and Test;\n",
    "2. Train dataset with Train sample and valid with Test;\n",
    "3. Repeat K times;\n",
    "4. Summarize Metrics;\n",
    "\n",
    "But in multiclass problems, is impossible to random split, because you can imbalance classes, I will need to random split and have same classes proportions."
   ]
  },
  {
   "cell_type": "markdown",
   "metadata": {},
   "source": [
    "#### 5.2.1. Loop K Fold Cross Validation"
   ]
  },
  {
   "cell_type": "code",
   "execution_count": 37,
   "metadata": {},
   "outputs": [],
   "source": [
    "df_train = df_train_idf.select(\n",
    "    pf.col(\"id\"),\n",
    "    pf.col(\"features\"),\n",
    "    pf.col(\"score\").alias(\"label\")\n",
    ")\n",
    "\n",
    "df_valid = df_valid_idf.select(\n",
    "    pf.col(\"id\"),\n",
    "    pf.col(\"features\"),\n",
    "    pf.col(\"score\").alias(\"label\")\n",
    ")\n",
    "\n",
    "# Join Train and Valid Datasets\n",
    "df_cross = df_train.unionAll(df_valid)#.distinct()\n",
    "\n",
    "# 80% for training and 20% for validation/test on k splits\n",
    "validation_fractions = {\n",
    "    0.0: 0.2,\n",
    "    1.0: 0.2,\n",
    "    2.0: 0.2\n",
    "}"
   ]
  },
  {
   "cell_type": "code",
   "execution_count": 38,
   "metadata": {},
   "outputs": [
    {
     "name": "stderr",
     "output_type": "stream",
     "text": [
      "[Stage 283:====================================================>  (20 + 1) / 21]\r"
     ]
    },
    {
     "name": "stdout",
     "output_type": "stream",
     "text": [
      "+-----+---------------+\n",
      "|label|count(features)|\n",
      "+-----+---------------+\n",
      "|    1|           1161|\n",
      "|    0|           1153|\n",
      "|    2|           1200|\n",
      "+-----+---------------+\n",
      "\n"
     ]
    },
    {
     "name": "stderr",
     "output_type": "stream",
     "text": [
      "                                                                                \r"
     ]
    }
   ],
   "source": [
    "# Sample for Valid Dataset\n",
    "df_valid_cross = df_cross.sampleBy(col=\"label\", fractions=validation_fractions)\n",
    "\n",
    "df_valid_cross.groupBy(\"label\").agg(pf.count(pf.col(\"features\"))).show()"
   ]
  },
  {
   "cell_type": "code",
   "execution_count": 53,
   "metadata": {},
   "outputs": [],
   "source": [
    "# Filter for Train Cross Dataset\n",
    "\n",
    "df_train_cross = df_cross.join(\n",
    "    df_valid_cross.select(\n",
    "        pf.col(\"id\"),\n",
    "        pf.col(\"label\").alias(\"t_label\")\n",
    "    ),\n",
    "    on=\"id\",\n",
    "    how=\"left\"\n",
    ")\n",
    "\n",
    "df_train_cross = df_train_cross.filter(pf.col(\"t_label\").isNull())\n",
    "\n",
    "df_train_cross = df_train_cross.select(\n",
    "    pf.col(\"id\"),\n",
    "    pf.col(\"features\"),\n",
    "    pf.col(\"label\")\n",
    ")"
   ]
  },
  {
   "cell_type": "code",
   "execution_count": 72,
   "metadata": {},
   "outputs": [
    {
     "name": "stderr",
     "output_type": "stream",
     "text": [
      "23/09/09 14:31:22 WARN DAGScheduler: Broadcasting large task binary with size 1228.4 KiB\n",
      "[Stage 2563:===================================================>  (20 + 1) / 21]\r"
     ]
    }
   ],
   "source": [
    "rfc = RandomForestClassifier(\n",
    "    featuresCol=\"features\",\n",
    "    labelCol=\"label\",\n",
    "    maxDepth=5, \n",
    "    maxBins=32, \n",
    "    numTrees=100,\n",
    "    minInfoGain=0.0, \n",
    "    impurity=\"gini\",\n",
    "    minInstancesPerNode=1,\n",
    "    featureSubsetStrategy=\"auto\"\n",
    ")\n",
    "\n",
    "rfc = rfc.fit(df_train_cross)\n",
    "\n",
    "df_valid_results = rfc.transform(df_valid_cross)\n",
    "\n",
    "df_valid_results = get_metrics(df_valid_results, \"label\")"
   ]
  },
  {
   "cell_type": "code",
   "execution_count": 78,
   "metadata": {},
   "outputs": [
    {
     "data": {
      "text/plain": [
       "0.5912776069331842"
      ]
     },
     "execution_count": 78,
     "metadata": {},
     "output_type": "execute_result"
    }
   ],
   "source": [
    "# Now i will repeat all process for K Times and Storange the metrics.\n",
    "\n",
    "df_valid_results.weightedRecall"
   ]
  },
  {
   "cell_type": "code",
   "execution_count": 41,
   "metadata": {},
   "outputs": [
    {
     "name": "stdout",
     "output_type": "stream",
     "text": [
      "\n",
      "Training Fold: 1\n",
      "\n"
     ]
    },
    {
     "name": "stderr",
     "output_type": "stream",
     "text": [
      "23/09/27 07:54:18 WARN DAGScheduler: Broadcasting large task binary with size 1220.3 KiB\n",
      "/home/grc/arep/sentiment_analysis/lib/python3.10/site-packages/pyspark/sql/context.py:157: FutureWarning: Deprecated in 3.0.0. Use SparkSession.builder.getOrCreate() instead.\n",
      "  warnings.warn(\n",
      "                                                                                \r"
     ]
    },
    {
     "name": "stdout",
     "output_type": "stream",
     "text": [
      "Accuracy: 0.6139\n",
      "W. Recall: 0.6139\n",
      "W. Precision: 0.6134\n",
      "\n",
      "Label: 0, Recall: 0.6391\n",
      "Label: 0, Precision: 0.6391\n",
      "\n",
      "Label: 1, Recall: 0.5968\n",
      "Label: 1, Precision: 0.5968\n",
      "\n",
      "Label: 2, Recall: 0.6042\n",
      "Label: 2, Precision: 0.6042\n",
      "\n",
      "\n",
      "Training Fold: 2\n",
      "\n"
     ]
    },
    {
     "name": "stderr",
     "output_type": "stream",
     "text": [
      "23/09/27 07:55:19 WARN DAGScheduler: Broadcasting large task binary with size 1204.7 KiB\n",
      "/home/grc/arep/sentiment_analysis/lib/python3.10/site-packages/pyspark/sql/context.py:157: FutureWarning: Deprecated in 3.0.0. Use SparkSession.builder.getOrCreate() instead.\n",
      "  warnings.warn(\n",
      "                                                                                \r"
     ]
    },
    {
     "name": "stdout",
     "output_type": "stream",
     "text": [
      "Accuracy: 0.6222\n",
      "W. Recall: 0.6222\n",
      "W. Precision: 0.6306\n",
      "\n",
      "Label: 0, Recall: 0.5735\n",
      "Label: 0, Precision: 0.5735\n",
      "\n",
      "Label: 1, Recall: 0.6457\n",
      "Label: 1, Precision: 0.6457\n",
      "\n",
      "Label: 2, Recall: 0.6748\n",
      "Label: 2, Precision: 0.6748\n",
      "\n",
      "\n",
      "Training Fold: 3\n",
      "\n"
     ]
    },
    {
     "name": "stderr",
     "output_type": "stream",
     "text": [
      "23/09/27 07:56:14 WARN DAGScheduler: Broadcasting large task binary with size 1209.9 KiB\n",
      "/home/grc/arep/sentiment_analysis/lib/python3.10/site-packages/pyspark/sql/context.py:157: FutureWarning: Deprecated in 3.0.0. Use SparkSession.builder.getOrCreate() instead.\n",
      "  warnings.warn(\n",
      "                                                                                \r"
     ]
    },
    {
     "name": "stdout",
     "output_type": "stream",
     "text": [
      "Accuracy: 0.6143\n",
      "W. Recall: 0.6143\n",
      "W. Precision: 0.6132\n",
      "\n",
      "Label: 0, Recall: 0.5997\n",
      "Label: 0, Precision: 0.5997\n",
      "\n",
      "Label: 1, Recall: 0.6074\n",
      "Label: 1, Precision: 0.6074\n",
      "\n",
      "Label: 2, Recall: 0.6314\n",
      "Label: 2, Precision: 0.6314\n",
      "\n",
      "\n",
      "Training Fold: 4\n",
      "\n"
     ]
    },
    {
     "name": "stderr",
     "output_type": "stream",
     "text": [
      "23/09/27 07:57:09 WARN DAGScheduler: Broadcasting large task binary with size 1207.9 KiB\n",
      "/home/grc/arep/sentiment_analysis/lib/python3.10/site-packages/pyspark/sql/context.py:157: FutureWarning: Deprecated in 3.0.0. Use SparkSession.builder.getOrCreate() instead.\n",
      "  warnings.warn(\n",
      "                                                                                \r"
     ]
    },
    {
     "name": "stdout",
     "output_type": "stream",
     "text": [
      "Accuracy: 0.6061\n",
      "W. Recall: 0.6061\n",
      "W. Precision: 0.6147\n",
      "\n",
      "Label: 0, Recall: 0.6868\n",
      "Label: 0, Precision: 0.6868\n",
      "\n",
      "Label: 1, Recall: 0.5859\n",
      "Label: 1, Precision: 0.5859\n",
      "\n",
      "Label: 2, Recall: 0.5729\n",
      "Label: 2, Precision: 0.5729\n",
      "\n",
      "\n",
      "Training Fold: 5\n",
      "\n"
     ]
    },
    {
     "name": "stderr",
     "output_type": "stream",
     "text": [
      "23/09/27 07:58:03 WARN DAGScheduler: Broadcasting large task binary with size 1208.3 KiB\n",
      "/home/grc/arep/sentiment_analysis/lib/python3.10/site-packages/pyspark/sql/context.py:157: FutureWarning: Deprecated in 3.0.0. Use SparkSession.builder.getOrCreate() instead.\n",
      "  warnings.warn(\n",
      "                                                                                \r"
     ]
    },
    {
     "name": "stdout",
     "output_type": "stream",
     "text": [
      "Accuracy: 0.6275\n",
      "W. Recall: 0.6275\n",
      "W. Precision: 0.6326\n",
      "\n",
      "Label: 0, Recall: 0.5852\n",
      "Label: 0, Precision: 0.5852\n",
      "\n",
      "Label: 1, Recall: 0.6261\n",
      "Label: 1, Precision: 0.6261\n",
      "\n",
      "Label: 2, Recall: 0.6852\n",
      "Label: 2, Precision: 0.6852\n",
      "\n"
     ]
    },
    {
     "data": {
      "image/png": "[encoded data removed]",
      "text/plain": [
       "<Figure size 640x480 with 2 Axes>"
      ]
     },
     "metadata": {},
     "output_type": "display_data"
    },
    {
     "data": {
      "image/png": "[encoded data removed]",
      "text/plain": [
       "<Figure size 640x480 with 2 Axes>"
      ]
     },
     "metadata": {},
     "output_type": "display_data"
    },
    {
     "data": {
      "image/png": "[encoded data removed]",
      "text/plain": [
       "<Figure size 640x480 with 2 Axes>"
      ]
     },
     "metadata": {},
     "output_type": "display_data"
    },
    {
     "data": {
      "image/png": "[encoded data removed]",
      "text/plain": [
       "<Figure size 640x480 with 2 Axes>"
      ]
     },
     "metadata": {},
     "output_type": "display_data"
    },
    {
     "data": {
      "image/png": "[encoded data removed]",
      "text/plain": [
       "<Figure size 640x480 with 2 Axes>"
      ]
     },
     "metadata": {},
     "output_type": "display_data"
    }
   ],
   "source": [
    "with mlflow.start_run(\n",
    "    experiment_id=experiment_id,\n",
    "    run_name=\"base-pyspark-model-kfold\"\n",
    ") as active_run:\n",
    "    \n",
    "    r = simple_cross_validation_k_times(\n",
    "        k=5,\n",
    "        mlflow=mlflow,\n",
    "        df_cross=df_cross,\n",
    "        experiment_id=experiment_id,\n",
    "        run_name=\"base-pyspark-model-k\",\n",
    "        validation_fractions=validation_fractions\n",
    "    )"
   ]
  },
  {
   "cell_type": "code",
   "execution_count": 42,
   "metadata": {},
   "outputs": [
    {
     "data": {
      "text/html": [
       "<div>\n",
       "<style scoped>\n",
       "    .dataframe tbody tr th:only-of-type {\n",
       "        vertical-align: middle;\n",
       "    }\n",
       "\n",
       "    .dataframe tbody tr th {\n",
       "        vertical-align: top;\n",
       "    }\n",
       "\n",
       "    .dataframe thead th {\n",
       "        text-align: right;\n",
       "    }\n",
       "</style>\n",
       "<table border=\"1\" class=\"dataframe\">\n",
       "  <thead>\n",
       "    <tr style=\"text-align: right;\">\n",
       "      <th></th>\n",
       "      <th>fold</th>\n",
       "      <th>accuracy</th>\n",
       "      <th>recall</th>\n",
       "      <th>precision</th>\n",
       "    </tr>\n",
       "  </thead>\n",
       "  <tbody>\n",
       "    <tr>\n",
       "      <th>0</th>\n",
       "      <td>1</td>\n",
       "      <td>0.613946</td>\n",
       "      <td>0.613946</td>\n",
       "      <td>0.613396</td>\n",
       "    </tr>\n",
       "    <tr>\n",
       "      <th>1</th>\n",
       "      <td>2</td>\n",
       "      <td>0.622204</td>\n",
       "      <td>0.622204</td>\n",
       "      <td>0.630608</td>\n",
       "    </tr>\n",
       "    <tr>\n",
       "      <th>2</th>\n",
       "      <td>3</td>\n",
       "      <td>0.614278</td>\n",
       "      <td>0.614278</td>\n",
       "      <td>0.613168</td>\n",
       "    </tr>\n",
       "    <tr>\n",
       "      <th>3</th>\n",
       "      <td>4</td>\n",
       "      <td>0.606094</td>\n",
       "      <td>0.606094</td>\n",
       "      <td>0.614740</td>\n",
       "    </tr>\n",
       "    <tr>\n",
       "      <th>4</th>\n",
       "      <td>5</td>\n",
       "      <td>0.627515</td>\n",
       "      <td>0.627515</td>\n",
       "      <td>0.632574</td>\n",
       "    </tr>\n",
       "  </tbody>\n",
       "</table>\n",
       "</div>"
      ],
      "text/plain": [
       "   fold  accuracy    recall  precision\n",
       "0     1  0.613946  0.613946   0.613396\n",
       "1     2  0.622204  0.622204   0.630608\n",
       "2     3  0.614278  0.614278   0.613168\n",
       "3     4  0.606094  0.606094   0.614740\n",
       "4     5  0.627515  0.627515   0.632574"
      ]
     },
     "execution_count": 42,
     "metadata": {},
     "output_type": "execute_result"
    }
   ],
   "source": [
    "r"
   ]
  },
  {
   "cell_type": "code",
   "execution_count": 43,
   "metadata": {},
   "outputs": [
    {
     "data": {
      "text/html": [
       "<div>\n",
       "<style scoped>\n",
       "    .dataframe tbody tr th:only-of-type {\n",
       "        vertical-align: middle;\n",
       "    }\n",
       "\n",
       "    .dataframe tbody tr th {\n",
       "        vertical-align: top;\n",
       "    }\n",
       "\n",
       "    .dataframe thead th {\n",
       "        text-align: right;\n",
       "    }\n",
       "</style>\n",
       "<table border=\"1\" class=\"dataframe\">\n",
       "  <thead>\n",
       "    <tr style=\"text-align: right;\">\n",
       "      <th></th>\n",
       "      <th>count</th>\n",
       "      <th>mean</th>\n",
       "      <th>std</th>\n",
       "      <th>min</th>\n",
       "      <th>25%</th>\n",
       "      <th>50%</th>\n",
       "      <th>75%</th>\n",
       "      <th>max</th>\n",
       "    </tr>\n",
       "  </thead>\n",
       "  <tbody>\n",
       "    <tr>\n",
       "      <th>fold</th>\n",
       "      <td>5.0</td>\n",
       "      <td>3.000000</td>\n",
       "      <td>1.581139</td>\n",
       "      <td>1.000000</td>\n",
       "      <td>2.000000</td>\n",
       "      <td>3.000000</td>\n",
       "      <td>4.000000</td>\n",
       "      <td>5.000000</td>\n",
       "    </tr>\n",
       "    <tr>\n",
       "      <th>accuracy</th>\n",
       "      <td>5.0</td>\n",
       "      <td>0.616807</td>\n",
       "      <td>0.008264</td>\n",
       "      <td>0.606094</td>\n",
       "      <td>0.613946</td>\n",
       "      <td>0.614278</td>\n",
       "      <td>0.622204</td>\n",
       "      <td>0.627515</td>\n",
       "    </tr>\n",
       "    <tr>\n",
       "      <th>recall</th>\n",
       "      <td>5.0</td>\n",
       "      <td>0.616807</td>\n",
       "      <td>0.008264</td>\n",
       "      <td>0.606094</td>\n",
       "      <td>0.613946</td>\n",
       "      <td>0.614278</td>\n",
       "      <td>0.622204</td>\n",
       "      <td>0.627515</td>\n",
       "    </tr>\n",
       "    <tr>\n",
       "      <th>precision</th>\n",
       "      <td>5.0</td>\n",
       "      <td>0.620897</td>\n",
       "      <td>0.009805</td>\n",
       "      <td>0.613168</td>\n",
       "      <td>0.613396</td>\n",
       "      <td>0.614740</td>\n",
       "      <td>0.630608</td>\n",
       "      <td>0.632574</td>\n",
       "    </tr>\n",
       "  </tbody>\n",
       "</table>\n",
       "</div>"
      ],
      "text/plain": [
       "           count      mean       std       min       25%       50%       75%   \n",
       "fold         5.0  3.000000  1.581139  1.000000  2.000000  3.000000  4.000000  \\\n",
       "accuracy     5.0  0.616807  0.008264  0.606094  0.613946  0.614278  0.622204   \n",
       "recall       5.0  0.616807  0.008264  0.606094  0.613946  0.614278  0.622204   \n",
       "precision    5.0  0.620897  0.009805  0.613168  0.613396  0.614740  0.630608   \n",
       "\n",
       "                max  \n",
       "fold       5.000000  \n",
       "accuracy   0.627515  \n",
       "recall     0.627515  \n",
       "precision  0.632574  "
      ]
     },
     "execution_count": 43,
     "metadata": {},
     "output_type": "execute_result"
    }
   ],
   "source": [
    "r.describe().T"
   ]
  },
  {
   "cell_type": "markdown",
   "metadata": {},
   "source": [
    "#### 5.2.2. PySpark Cross Validation"
   ]
  },
  {
   "cell_type": "markdown",
   "metadata": {},
   "source": [
    "For PySpark CrossVal class, its require a ParamGrid."
   ]
  },
  {
   "cell_type": "code",
   "execution_count": 47,
   "metadata": {},
   "outputs": [],
   "source": [
    "# Base Estimator to fit, same previous estimator\n",
    "\n",
    "rfc = RandomForestClassifier(\n",
    "    featuresCol=\"features\",\n",
    "    labelCol=\"label\",\n",
    "    maxDepth=5,\n",
    "    maxBins=32, \n",
    "    numTrees=100,\n",
    "    minInfoGain=0.0, \n",
    "    impurity=\"gini\",\n",
    "    minInstancesPerNode=1,\n",
    "    featureSubsetStrategy=\"auto\"\n",
    ")"
   ]
  },
  {
   "cell_type": "code",
   "execution_count": 41,
   "metadata": {},
   "outputs": [],
   "source": [
    "# Setup ParamGridBuilder Object\n",
    "# Only with one param, because its not tuning step, my interest is only in cross validation\n",
    "\n",
    "param_grid = ParamGridBuilder() \\\n",
    "             .addGrid(rfc.maxDepth, [5]) \\\n",
    "             .build()"
   ]
  },
  {
   "cell_type": "code",
   "execution_count": 42,
   "metadata": {},
   "outputs": [],
   "source": [
    "# Define Evaluator Object\n",
    "\n",
    "evaluator = MulticlassClassificationEvaluator()"
   ]
  },
  {
   "cell_type": "code",
   "execution_count": null,
   "metadata": {},
   "outputs": [],
   "source": [
    "# This fit took ~3 Minute in my pc\n",
    "\n",
    "cv = CrossValidator(\n",
    "    numFolds=5,\n",
    "    estimator=rfc,\n",
    "    evaluator=evaluator,\n",
    "    parallelism=5,\n",
    "    estimatorParamMaps=param_grid\n",
    ")\n",
    "\n",
    "cv = cv.fit(df_train)"
   ]
  },
  {
   "cell_type": "code",
   "execution_count": 65,
   "metadata": {},
   "outputs": [
    {
     "data": {
      "text/plain": [
       "RandomForestClassificationModel: uid=RandomForestClassifier_161df6867a38, numTrees=100, numClasses=3, numFeatures=5000"
      ]
     },
     "execution_count": 65,
     "metadata": {},
     "output_type": "execute_result"
    }
   ],
   "source": [
    "cv.bestModel"
   ]
  },
  {
   "cell_type": "code",
   "execution_count": 54,
   "metadata": {},
   "outputs": [
    {
     "name": "stdout",
     "output_type": "stream",
     "text": [
      "estimator: estimator to be cross-validated (current: RandomForestClassifier_161df6867a38)\n",
      "estimatorParamMaps: estimator param maps (current: [{Param(parent='RandomForestClassifier_9ab7825beddf', name='maxDepth', doc='Maximum depth of the tree. (>= 0) E.g., depth 0 means 1 leaf node; depth 1 means 1 internal node + 2 leaf nodes. Must be in range [0, 30].'): 5}])\n",
      "evaluator: evaluator used to select hyper-parameters that maximize the validator metric (current: MulticlassClassificationEvaluator_a37a332b0b0f)\n",
      "foldCol: Param for the column name of user specified fold number. Once this is specified, :py:class:`CrossValidator` won't do random k-fold split. Note that this column should be integer type with range [0, numFolds) and Spark will throw exception on out-of-range fold numbers. (default: )\n",
      "numFolds: number of folds for cross validation (default: 3, current: 5)\n",
      "seed: random seed. (default: -8652328927185950209)\n"
     ]
    }
   ],
   "source": [
    "print(cv.explainParams())\n",
    "\n",
    "df_valid_results = cv.transform(df_valid)\n",
    "\n",
    "df_valid_results = get_metrics(df_valid_results, \"label\")"
   ]
  },
  {
   "cell_type": "code",
   "execution_count": 66,
   "metadata": {},
   "outputs": [
    {
     "name": "stdout",
     "output_type": "stream",
     "text": [
      "Accuracy: 0.5557\n",
      "W. Recall: 0.5557\n",
      "W. Precision: 0.5531\n",
      "\n",
      "Label: 0, Recall: 0.5703\n",
      "Label: 0, Precision: 0.5703\n",
      "\n",
      "Label: 1, Recall: 0.5290\n",
      "Label: 1, Precision: 0.5290\n",
      "\n",
      "Label: 2, Recall: 0.5601\n",
      "Label: 2, Precision: 0.5601\n",
      "\n"
     ]
    },
    {
     "data": {
      "image/png": "[encoded data removed]",
      "text/plain": [
       "<Figure size 640x480 with 2 Axes>"
      ]
     },
     "metadata": {},
     "output_type": "display_data"
    }
   ],
   "source": [
    "plot_ml_metrics(df_valid_results);"
   ]
  },
  {
   "cell_type": "markdown",
   "metadata": {},
   "source": [
    "## 6.0. Model Tuning"
   ]
  },
  {
   "cell_type": "markdown",
   "metadata": {},
   "source": [
    "Now its time to Fine tuning!\n",
    "\n",
    "You can use Spark Ml CrossVal for tuning or use hyperopt."
   ]
  },
  {
   "cell_type": "markdown",
   "metadata": {},
   "source": [
    "### 6.1. Hyperopt"
   ]
  },
  {
   "cell_type": "code",
   "execution_count": 40,
   "metadata": {},
   "outputs": [
    {
     "name": "stderr",
     "output_type": "stream",
     "text": [
      "                                                                                \r"
     ]
    },
    {
     "name": "stdout",
     "output_type": "stream",
     "text": [
      "+-----+--------------------+-----+\n",
      "|   id|            features|label|\n",
      "+-----+--------------------+-----+\n",
      "|46850|(5000,[114,524,89...|    1|\n",
      "|50788|(5000,[133,153,20...|    1|\n",
      "|51173|(5000,[524,843,95...|    1|\n",
      "| 7129|(5000,[21,133,447...|    1|\n",
      "| 8147|(5000,[133,415,16...|    1|\n",
      "+-----+--------------------+-----+\n",
      "only showing top 5 rows\n",
      "\n"
     ]
    },
    {
     "name": "stderr",
     "output_type": "stream",
     "text": [
      "                                                                                \r"
     ]
    },
    {
     "name": "stdout",
     "output_type": "stream",
     "text": [
      "+---+--------------------+-----+\n",
      "| id|            features|label|\n",
      "+---+--------------------+-----+\n",
      "|  4|(5000,[533,631,73...|    1|\n",
      "| 17|(5000,[433,855,90...|    1|\n",
      "| 46|(5000,[80,524,664...|    1|\n",
      "| 48|(5000,[288,354,90...|    1|\n",
      "| 50|(5000,[80,264,569...|    1|\n",
      "+---+--------------------+-----+\n",
      "only showing top 5 rows\n",
      "\n"
     ]
    }
   ],
   "source": [
    "# I ill use prevous df_train of cross validation for tuning with Hyperopt.\n",
    "\n",
    "df_train.show(5)\n",
    "\n",
    "df_valid.show(5)"
   ]
  },
  {
   "cell_type": "code",
   "execution_count": 41,
   "metadata": {},
   "outputs": [],
   "source": [
    "client = mlflow.MlflowClient()\n",
    "\n",
    "mlruns_path = \"file:///home/grc/arep/sentiment_analysis/mlruns\"\n",
    "\n",
    "mlflow.set_tracking_uri(mlruns_path)\n",
    "\n",
    "experiment_name = \"grc-pyspark-sentiment-analisys\"\n",
    "\n",
    "try:\n",
    "    experiment_id = mlflow.get_experiment_by_name(name=experiment_name).experiment_id\n",
    "\n",
    "except:\n",
    "    experiment_id = mlflow.create_experiment(name=experiment_name)"
   ]
  },
  {
   "cell_type": "code",
   "execution_count": 42,
   "metadata": {},
   "outputs": [],
   "source": [
    "def objective(\n",
    "    params,\n",
    "    experiment_id: str = experiment_id,\n",
    "    metric: str = \"accuracy\",\n",
    "    df_train: DataFrame = df_train, # Default params for training\n",
    "    df_valid: DataFrame = df_valid  # Default params for validation\n",
    "):\n",
    "    \"\"\"\n",
    "    Objective function to minimize with hyperopt.\n",
    "    \n",
    "    Inputs:\n",
    "        - params: Hyperopt requested argument.\n",
    "        - metric: Metric name for optimize.\n",
    "        - df_train: DataFrame for training.\n",
    "        - df_valid: DataFrame for validation (metric). \n",
    "\n",
    "    returns:\n",
    "        - dict with score and status\n",
    "    \n",
    "    \"\"\"\n",
    "\n",
    "    print(params)\n",
    "\n",
    "    with mlflow.start_run(\n",
    "        nested=True,\n",
    "        experiment_id=experiment_id\n",
    "    ):\n",
    "\n",
    "        model = RandomForestClassifier(**params)\n",
    "\n",
    "        model = model.fit(df_train)\n",
    "\n",
    "        df_valid_results = model.transform(df_valid)\n",
    "        \n",
    "        valid_metrics = get_metrics(df_valid_results, \"label\")\n",
    "\n",
    "        log_mlflow_artifacts(\n",
    "            mlflow=mlflow,\n",
    "            verbose=False,\n",
    "            estimator=model,\n",
    "            model_params=params,\n",
    "            metrics=valid_metrics,\n",
    "        )\n",
    "\n",
    "    # Wen you use fmin, expects a loss function to \"minimize\", instead whe use (-1 * accuracy).\n",
    "    # With this, with \"lower selected metric (accuracy) is better\" (because is negative)\n",
    "\n",
    "    if metric == \"accuracy\":\n",
    "        score = -1 * valid_metrics.accuracy\n",
    "\n",
    "    else:\n",
    "        score = -1 * valid_metrics.weightedPrecision\n",
    "\n",
    "    return {\"loss\": score, \"status\": STATUS_OK}"
   ]
  },
  {
   "cell_type": "code",
   "execution_count": null,
   "metadata": {},
   "outputs": [],
   "source": [
    "# List of hyperparams for search\n",
    "\n",
    "search_space = {\n",
    "    \"maxDepth\": hp.quniform(\"maxDepth\", 4, 20, 1), \n",
    "    \"maxBins\": hp.quniform(\"maxBins\", 20, 100, 5), \n",
    "    \"numTrees\": hp.quniform(\"numTrees\", 20, 300, 5),\n",
    "    \"impurity\": hp.choice(\"impurity\", [\"gini\", \"entropy\"]),\n",
    "    \"minInstancesPerNode\": hp.quniform(\"minInstancesPerNode\", 1, 5, 1)\n",
    "}\n",
    "\n",
    "# Spark Trials\n",
    "#trials = SparkTrials(parallelism=5)\n",
    "\n",
    "# Hyperopt Trials\n",
    "trials = Trials()\n",
    "\n",
    "with mlflow.start_run(\n",
    "    experiment_id=experiment_id,\n",
    "    run_name=\"base-pyspark-model-tuning\"\n",
    ") as active_run:\n",
    "\n",
    "    best = fmin(\n",
    "        fn=objective,       # Function to minimize\n",
    "        algo=tpe.suggest,   # \"Given previous trials and the domain, suggest the best expected hp point according to the TPE-EI algo\"\n",
    "        space=search_space, # Search params\n",
    "        max_evals=50,       # Times of search\n",
    "        trials=trials\n",
    "    )"
   ]
  },
  {
   "cell_type": "code",
   "execution_count": 45,
   "metadata": {},
   "outputs": [],
   "source": [
    "# Best params for 50 fits\n",
    "best = {'impurity': 'gini', 'maxBins': 65.0, 'maxDepth': 13.0, 'minInstancesPerNode': 3.0, 'numTrees': 50.0}"
   ]
  },
  {
   "cell_type": "code",
   "execution_count": null,
   "metadata": {},
   "outputs": [],
   "source": [
    "rfc = RandomForestClassifier(\n",
    "    featuresCol=\"features\",\n",
    "    labelCol=\"score\",\n",
    "    **best\n",
    ")\n",
    "\n",
    "rfc = rfc.fit(df_train_idf)\n",
    "\n",
    "# Get Predictions\n",
    "df_valid_results = rfc.transform(df_valid_idf)\n",
    "\n",
    "# I have created a function too for get metrics for validation dataset\n",
    "valid_metrics = get_metrics(df_valid_results)"
   ]
  },
  {
   "cell_type": "code",
   "execution_count": 54,
   "metadata": {},
   "outputs": [
    {
     "name": "stderr",
     "output_type": "stream",
     "text": [
      "23/09/27 08:40:01 WARN DAGScheduler: Broadcasting large task binary with size 1231.4 KiB\n"
     ]
    },
    {
     "name": "stdout",
     "output_type": "stream",
     "text": [
      "Accuracy: 0.5703\n",
      "W. Recall: 0.5703\n",
      "W. Precision: 0.5701\n",
      "\n",
      "Label: 0, Recall: 0.5557\n",
      "Label: 0, Precision: 0.5557\n",
      "\n",
      "Label: 1, Recall: 0.5684\n",
      "Label: 1, Precision: 0.5684\n",
      "\n",
      "Label: 2, Recall: 0.5862\n",
      "Label: 2, Precision: 0.5862\n",
      "\n"
     ]
    },
    {
     "data": {
      "image/png": "[encoded data removed]",
      "text/plain": [
       "<Figure size 640x480 with 2 Axes>"
      ]
     },
     "metadata": {},
     "output_type": "display_data"
    }
   ],
   "source": [
    "plot_ml_metrics(valid_metrics);"
   ]
  },
  {
   "cell_type": "code",
   "execution_count": 58,
   "metadata": {},
   "outputs": [
    {
     "name": "stdout",
     "output_type": "stream",
     "text": [
      "\n",
      "Training Fold: 1\n",
      "\n"
     ]
    },
    {
     "name": "stderr",
     "output_type": "stream",
     "text": [
      "23/09/27 08:43:07 WARN DAGScheduler: Broadcasting large task binary with size 1208.9 KiB\n",
      "/home/grc/arep/sentiment_analysis/lib/python3.10/site-packages/pyspark/sql/context.py:157: FutureWarning: Deprecated in 3.0.0. Use SparkSession.builder.getOrCreate() instead.\n",
      "  warnings.warn(\n",
      "                                                                                \r"
     ]
    },
    {
     "name": "stdout",
     "output_type": "stream",
     "text": [
      "\n",
      "Training Fold: 2\n",
      "\n"
     ]
    },
    {
     "name": "stderr",
     "output_type": "stream",
     "text": [
      "23/09/27 08:43:56 WARN DAGScheduler: Broadcasting large task binary with size 1214.9 KiB\n",
      "/home/grc/arep/sentiment_analysis/lib/python3.10/site-packages/pyspark/sql/context.py:157: FutureWarning: Deprecated in 3.0.0. Use SparkSession.builder.getOrCreate() instead.\n",
      "  warnings.warn(\n",
      "                                                                                \r"
     ]
    },
    {
     "name": "stdout",
     "output_type": "stream",
     "text": [
      "\n",
      "Training Fold: 3\n",
      "\n"
     ]
    },
    {
     "name": "stderr",
     "output_type": "stream",
     "text": [
      "23/09/27 08:44:43 WARN DAGScheduler: Broadcasting large task binary with size 1207.4 KiB\n",
      "/home/grc/arep/sentiment_analysis/lib/python3.10/site-packages/pyspark/sql/context.py:157: FutureWarning: Deprecated in 3.0.0. Use SparkSession.builder.getOrCreate() instead.\n",
      "  warnings.warn(\n",
      "                                                                                \r"
     ]
    },
    {
     "name": "stdout",
     "output_type": "stream",
     "text": [
      "\n",
      "Training Fold: 4\n",
      "\n"
     ]
    },
    {
     "name": "stderr",
     "output_type": "stream",
     "text": [
      "23/09/27 08:45:30 WARN DAGScheduler: Broadcasting large task binary with size 1208.8 KiB\n",
      "/home/grc/arep/sentiment_analysis/lib/python3.10/site-packages/pyspark/sql/context.py:157: FutureWarning: Deprecated in 3.0.0. Use SparkSession.builder.getOrCreate() instead.\n",
      "  warnings.warn(\n",
      "                                                                                \r"
     ]
    },
    {
     "name": "stdout",
     "output_type": "stream",
     "text": [
      "\n",
      "Training Fold: 5\n",
      "\n"
     ]
    },
    {
     "name": "stderr",
     "output_type": "stream",
     "text": [
      "23/09/27 08:46:16 WARN DAGScheduler: Broadcasting large task binary with size 1208.5 KiB\n",
      "/home/grc/arep/sentiment_analysis/lib/python3.10/site-packages/pyspark/sql/context.py:157: FutureWarning: Deprecated in 3.0.0. Use SparkSession.builder.getOrCreate() instead.\n",
      "  warnings.warn(\n",
      "                                                                                \r"
     ]
    },
    {
     "data": {
      "image/png": "[encoded data removed]",
      "text/plain": [
       "<Figure size 640x480 with 2 Axes>"
      ]
     },
     "metadata": {},
     "output_type": "display_data"
    },
    {
     "data": {
      "image/png": "[encoded data removed]",
      "text/plain": [
       "<Figure size 640x480 with 2 Axes>"
      ]
     },
     "metadata": {},
     "output_type": "display_data"
    },
    {
     "data": {
      "image/png": "[encoded data removed]",
      "text/plain": [
       "<Figure size 640x480 with 2 Axes>"
      ]
     },
     "metadata": {},
     "output_type": "display_data"
    },
    {
     "data": {
      "image/png": "[encoded data removed]",
      "text/plain": [
       "<Figure size 640x480 with 2 Axes>"
      ]
     },
     "metadata": {},
     "output_type": "display_data"
    },
    {
     "data": {
      "image/png": "[encoded data removed]",
      "text/plain": [
       "<Figure size 640x480 with 2 Axes>"
      ]
     },
     "metadata": {},
     "output_type": "display_data"
    }
   ],
   "source": [
    "with mlflow.start_run(\n",
    "    experiment_id=experiment_id,\n",
    "    run_name=\"tun-pyspark-model-kfold\"\n",
    ") as active_run:\n",
    "    \n",
    "    r = simple_cross_validation_k_times(\n",
    "        k=5,\n",
    "        mlflow=mlflow,\n",
    "        df_cross=df_cross,\n",
    "        experiment_id=experiment_id,\n",
    "        run_name=\"tun-pyspark-model-k\",\n",
    "        validation_fractions=validation_fractions,\n",
    "        verbose=False\n",
    "    )"
   ]
  },
  {
   "cell_type": "code",
   "execution_count": 59,
   "metadata": {},
   "outputs": [
    {
     "data": {
      "text/html": [
       "<div>\n",
       "<style scoped>\n",
       "    .dataframe tbody tr th:only-of-type {\n",
       "        vertical-align: middle;\n",
       "    }\n",
       "\n",
       "    .dataframe tbody tr th {\n",
       "        vertical-align: top;\n",
       "    }\n",
       "\n",
       "    .dataframe thead th {\n",
       "        text-align: right;\n",
       "    }\n",
       "</style>\n",
       "<table border=\"1\" class=\"dataframe\">\n",
       "  <thead>\n",
       "    <tr style=\"text-align: right;\">\n",
       "      <th></th>\n",
       "      <th>fold</th>\n",
       "      <th>accuracy</th>\n",
       "      <th>recall</th>\n",
       "      <th>precision</th>\n",
       "    </tr>\n",
       "  </thead>\n",
       "  <tbody>\n",
       "    <tr>\n",
       "      <th>0</th>\n",
       "      <td>1</td>\n",
       "      <td>0.616101</td>\n",
       "      <td>0.616101</td>\n",
       "      <td>0.624208</td>\n",
       "    </tr>\n",
       "    <tr>\n",
       "      <th>1</th>\n",
       "      <td>2</td>\n",
       "      <td>0.607909</td>\n",
       "      <td>0.607909</td>\n",
       "      <td>0.608412</td>\n",
       "    </tr>\n",
       "    <tr>\n",
       "      <th>2</th>\n",
       "      <td>3</td>\n",
       "      <td>0.621974</td>\n",
       "      <td>0.621974</td>\n",
       "      <td>0.621171</td>\n",
       "    </tr>\n",
       "    <tr>\n",
       "      <th>3</th>\n",
       "      <td>4</td>\n",
       "      <td>0.597966</td>\n",
       "      <td>0.597966</td>\n",
       "      <td>0.608379</td>\n",
       "    </tr>\n",
       "    <tr>\n",
       "      <th>4</th>\n",
       "      <td>5</td>\n",
       "      <td>0.596095</td>\n",
       "      <td>0.596095</td>\n",
       "      <td>0.601828</td>\n",
       "    </tr>\n",
       "  </tbody>\n",
       "</table>\n",
       "</div>"
      ],
      "text/plain": [
       "   fold  accuracy    recall  precision\n",
       "0     1  0.616101  0.616101   0.624208\n",
       "1     2  0.607909  0.607909   0.608412\n",
       "2     3  0.621974  0.621974   0.621171\n",
       "3     4  0.597966  0.597966   0.608379\n",
       "4     5  0.596095  0.596095   0.601828"
      ]
     },
     "execution_count": 59,
     "metadata": {},
     "output_type": "execute_result"
    }
   ],
   "source": [
    "r"
   ]
  },
  {
   "cell_type": "code",
   "execution_count": 60,
   "metadata": {},
   "outputs": [
    {
     "data": {
      "text/html": [
       "<div>\n",
       "<style scoped>\n",
       "    .dataframe tbody tr th:only-of-type {\n",
       "        vertical-align: middle;\n",
       "    }\n",
       "\n",
       "    .dataframe tbody tr th {\n",
       "        vertical-align: top;\n",
       "    }\n",
       "\n",
       "    .dataframe thead th {\n",
       "        text-align: right;\n",
       "    }\n",
       "</style>\n",
       "<table border=\"1\" class=\"dataframe\">\n",
       "  <thead>\n",
       "    <tr style=\"text-align: right;\">\n",
       "      <th></th>\n",
       "      <th>count</th>\n",
       "      <th>mean</th>\n",
       "      <th>std</th>\n",
       "      <th>min</th>\n",
       "      <th>25%</th>\n",
       "      <th>50%</th>\n",
       "      <th>75%</th>\n",
       "      <th>max</th>\n",
       "    </tr>\n",
       "  </thead>\n",
       "  <tbody>\n",
       "    <tr>\n",
       "      <th>fold</th>\n",
       "      <td>5.0</td>\n",
       "      <td>3.000000</td>\n",
       "      <td>1.581139</td>\n",
       "      <td>1.000000</td>\n",
       "      <td>2.000000</td>\n",
       "      <td>3.000000</td>\n",
       "      <td>4.000000</td>\n",
       "      <td>5.000000</td>\n",
       "    </tr>\n",
       "    <tr>\n",
       "      <th>accuracy</th>\n",
       "      <td>5.0</td>\n",
       "      <td>0.608009</td>\n",
       "      <td>0.011217</td>\n",
       "      <td>0.596095</td>\n",
       "      <td>0.597966</td>\n",
       "      <td>0.607909</td>\n",
       "      <td>0.616101</td>\n",
       "      <td>0.621974</td>\n",
       "    </tr>\n",
       "    <tr>\n",
       "      <th>recall</th>\n",
       "      <td>5.0</td>\n",
       "      <td>0.608009</td>\n",
       "      <td>0.011217</td>\n",
       "      <td>0.596095</td>\n",
       "      <td>0.597966</td>\n",
       "      <td>0.607909</td>\n",
       "      <td>0.616101</td>\n",
       "      <td>0.621974</td>\n",
       "    </tr>\n",
       "    <tr>\n",
       "      <th>precision</th>\n",
       "      <td>5.0</td>\n",
       "      <td>0.612800</td>\n",
       "      <td>0.009479</td>\n",
       "      <td>0.601828</td>\n",
       "      <td>0.608379</td>\n",
       "      <td>0.608412</td>\n",
       "      <td>0.621171</td>\n",
       "      <td>0.624208</td>\n",
       "    </tr>\n",
       "  </tbody>\n",
       "</table>\n",
       "</div>"
      ],
      "text/plain": [
       "           count      mean       std       min       25%       50%       75%   \n",
       "fold         5.0  3.000000  1.581139  1.000000  2.000000  3.000000  4.000000  \\\n",
       "accuracy     5.0  0.608009  0.011217  0.596095  0.597966  0.607909  0.616101   \n",
       "recall       5.0  0.608009  0.011217  0.596095  0.597966  0.607909  0.616101   \n",
       "precision    5.0  0.612800  0.009479  0.601828  0.608379  0.608412  0.621171   \n",
       "\n",
       "                max  \n",
       "fold       5.000000  \n",
       "accuracy   0.621974  \n",
       "recall     0.621974  \n",
       "precision  0.624208  "
      ]
     },
     "execution_count": 60,
     "metadata": {},
     "output_type": "execute_result"
    }
   ],
   "source": [
    "r.describe().T"
   ]
  },
  {
   "cell_type": "markdown",
   "metadata": {},
   "source": [
    "### 6.2. Fit Last Estimator"
   ]
  },
  {
   "cell_type": "markdown",
   "metadata": {},
   "source": [
    "Now, is time to fit estimator and classify on Test Dataset."
   ]
  },
  {
   "cell_type": "code",
   "execution_count": 61,
   "metadata": {},
   "outputs": [],
   "source": [
    "# Production new texts for classify\n",
    "\n",
    "df_test = df_test_idf.select(\n",
    "    pf.col(\"id\"),\n",
    "    pf.col(\"features\"),\n",
    "    pf.col(\"score\").alias(\"label\")\n",
    ")"
   ]
  },
  {
   "cell_type": "code",
   "execution_count": null,
   "metadata": {},
   "outputs": [],
   "source": [
    "with mlflow.start_run(\n",
    "    experiment_id=experiment_id,\n",
    "    run_name=\"tun-pyspark-model-last\"\n",
    ") as active_run:\n",
    "    \n",
    "    estimator = RandomForestClassifier(\n",
    "        featuresCol=\"features\",\n",
    "        labelCol=\"label\",\n",
    "        **best\n",
    "    )\n",
    "\n",
    "    # Fit last estimator\n",
    "    estimator = estimator.fit(df_cross)\n",
    "\n",
    "    # Get performance\n",
    "    test_results = estimator.transform(df_test)\n",
    "\n",
    "    # Get Metrics on Test dataset\n",
    "    test_results = get_metrics(test_results, \"label\")\n",
    "\n",
    "    log_mlflow_artifacts(\n",
    "        mlflow=mlflow,\n",
    "        model_params=best,\n",
    "        estimator=estimator,\n",
    "        metrics=test_results,\n",
    "        verbose=True\n",
    "    )"
   ]
  },
  {
   "cell_type": "code",
   "execution_count": 63,
   "metadata": {},
   "outputs": [
    {
     "name": "stdout",
     "output_type": "stream",
     "text": [
      "Accuracy: 0.5913\n",
      "W. Recall: 0.5913\n",
      "W. Precision: 0.5870\n",
      "\n",
      "Label: 0, Recall: 0.5949\n",
      "Label: 0, Precision: 0.5949\n",
      "\n",
      "Label: 1, Recall: 0.5544\n",
      "Label: 1, Precision: 0.5544\n",
      "\n",
      "Label: 2, Recall: 0.6117\n",
      "Label: 2, Precision: 0.6117\n",
      "\n"
     ]
    },
    {
     "data": {
      "image/png": "[encoded data removed]",
      "text/plain": [
       "<Figure size 640x480 with 2 Axes>"
      ]
     },
     "metadata": {},
     "output_type": "display_data"
    }
   ],
   "source": [
    "plot_ml_metrics(test_results);"
   ]
  },
  {
   "cell_type": "code",
   "execution_count": 77,
   "metadata": {},
   "outputs": [],
   "source": [
    "# Time to save the model\n",
    "estimator.write().save(\"../src/estimator/random_forest.spark\")"
   ]
  },
  {
   "cell_type": "markdown",
   "metadata": {},
   "source": [
    "## 7.0. PySpark Pipeline"
   ]
  },
  {
   "cell_type": "markdown",
   "metadata": {},
   "source": [
    "To make the deployment script more simplified, I will use a Pyspark feature called Pipeline, it serves as a list of transformations that will then be applied until classification, for example, cleans, preparations, transformations and classification."
   ]
  },
  {
   "cell_type": "markdown",
   "metadata": {},
   "source": [
    "![Alt text](image-2.png)"
   ]
  },
  {
   "cell_type": "code",
   "execution_count": 64,
   "metadata": {},
   "outputs": [
    {
     "name": "stdout",
     "output_type": "stream",
     "text": [
      "+---+----------+--------------+--------------------+--------------------+----------------------+-----+----------+--------------------+--------------------+\n",
      "| Id| ProductId|        UserId|         ProfileName|HelpfulnessNumerator|HelpfulnessDenominator|Score|      Time|             Summary|                Text|\n",
      "+---+----------+--------------+--------------------+--------------------+----------------------+-----+----------+--------------------+--------------------+\n",
      "| 72|B001GVISJC|A3BDOAPSF96WGQ|               2tall|                   1|                     1|    5|1289260800|Bigger then other...|Grape gummy bears...|\n",
      "|103|B004K2IHUO| AVCA516CFZ9HF|           S. Fowler|                   0|                     0|    4|1335139200|               TART!|The crust on thes...|\n",
      "|134|B003OB0IB8| AOTEC8KEH8JGN|       Seth S Moyers|                   0|                     0|    5|1334880000|Great value and c...|Got these on sale...|\n",
      "|139|B002SRYRE8|A1FJJQA34W0F4K|\"Gettin Real \"\"ge...|                   0|                     0|    5|1329177600|    Simply the BEST!|I keep trying oth...|\n",
      "|161|B000ITVLE2| ADL44P8Z4A3M5|\"A. Goldsmith \"\"M...|                   2|                     2|    5|1323043200|              tasty!|these are the bes...|\n",
      "+---+----------+--------------+--------------------+--------------------+----------------------+-----+----------+--------------------+--------------------+\n",
      "only showing top 5 rows\n",
      "\n"
     ]
    },
    {
     "data": {
      "text/plain": [
       "28247"
      ]
     },
     "execution_count": 64,
     "metadata": {},
     "output_type": "execute_result"
    }
   ],
   "source": [
    "# The first step is read some samples data for raw file\n",
    "\n",
    "artifacts_path = \"../src/features\"\n",
    "estimator_path = \"../src/estimator\"\n",
    "base_path = \"/home/grc/arep/sentiment_analysis/data/archive/\"\n",
    "\n",
    "df_raw = spark.read.format(\"csv\") \\\n",
    "              .option(\"header\", \"true\") \\\n",
    "              .option(\"inferSchema\", \"true\") \\\n",
    "              .option(\"delimiter\", \",\") \\\n",
    "              .load(base_path + \"Reviews.csv\")\n",
    "\n",
    "\n",
    "# Just a random sample for speed computations\n",
    "# Maybe i can take train / valid data here with this proportions\n",
    "# But this is just for simulate and make Pipeline\n",
    "\n",
    "df_raw = df_raw.sample(0.05)\n",
    "\n",
    "# The RAW (Production) New Data!\n",
    "\n",
    "df_raw.show(5)\n",
    "\n",
    "df_raw.count()"
   ]
  },
  {
   "cell_type": "markdown",
   "metadata": {},
   "source": [
    "### 7.1. Manual Simulation of Production Pipeline"
   ]
  },
  {
   "cell_type": "code",
   "execution_count": 121,
   "metadata": {},
   "outputs": [],
   "source": [
    "# Load Artifacts\n",
    "\n",
    "idf = IDFModel.load(artifacts_path + \"/idf.spark/\")\n",
    "hashing = HashingTF.load(artifacts_path + \"/hashing.spark/\")\n",
    "tokenizer = Tokenizer.load(artifacts_path + \"/tokenizer.spark\")\n",
    "stopwords = StopWordsRemover.load(artifacts_path + \"/stopwords.spark\")\n",
    "\n",
    "estimator = RandomForestClassificationModel.load(estimator_path + \"/random_forest.spark\")"
   ]
  },
  {
   "cell_type": "code",
   "execution_count": 185,
   "metadata": {},
   "outputs": [],
   "source": [
    "# Data Cleaning\n",
    "\n",
    "# First is clean Noise data and create labels\n",
    "df1 = noise_removal(df_raw)\n",
    "\n",
    "# Second if the text preprocessing\n",
    "df2 = preprocessing_text_data(\n",
    "    dataframe=df1,\n",
    "    text_col=\"text\"\n",
    ")"
   ]
  },
  {
   "cell_type": "code",
   "execution_count": 186,
   "metadata": {},
   "outputs": [],
   "source": [
    "# Apply Transformations\n",
    "\n",
    "df2 = tokenizer.transform(df2)\n",
    "\n",
    "df2 = stopwords.transform(df2)\n",
    "\n",
    "df2 = hashing.transform(df2)\n",
    "\n",
    "df2 = idf.transform(df2)"
   ]
  },
  {
   "cell_type": "code",
   "execution_count": 188,
   "metadata": {},
   "outputs": [],
   "source": [
    "# Get Prediction and Probas\n",
    "\n",
    "df3 = estimator.transform(df2)\n",
    "\n",
    "df3 = df3.select(\n",
    "    pf.col(\"id\").alias(\"Id\"), # For Join\n",
    "    pf.col(\"label\"),\n",
    "    pf.col(\"probability\"),\n",
    "    pf.col(\"prediction\")\n",
    ")"
   ]
  },
  {
   "cell_type": "code",
   "execution_count": 177,
   "metadata": {},
   "outputs": [
    {
     "name": "stderr",
     "output_type": "stream",
     "text": [
      "23/09/10 17:22:50 WARN DAGScheduler: Broadcasting large task binary with size 2.5 MiB\n",
      "23/09/10 17:22:51 WARN DAGScheduler: Broadcasting large task binary with size 2.4 MiB\n",
      "                                                                                \r"
     ]
    },
    {
     "name": "stdout",
     "output_type": "stream",
     "text": [
      "+----------+-----+\n",
      "|prediction|    c|\n",
      "+----------+-----+\n",
      "|       1.0| 5785|\n",
      "|       0.0| 6665|\n",
      "|       2.0|15789|\n",
      "+----------+-----+\n",
      "\n",
      "+-----+-----+\n",
      "|label|    c|\n",
      "+-----+-----+\n",
      "|    0| 2556|\n",
      "|    1| 3552|\n",
      "|    2|22131|\n",
      "+-----+-----+\n",
      "\n"
     ]
    },
    {
     "name": "stderr",
     "output_type": "stream",
     "text": [
      "/home/grc/arep/sentiment_analysis/lib/python3.10/site-packages/pyspark/sql/context.py:157: FutureWarning: Deprecated in 3.0.0. Use SparkSession.builder.getOrCreate() instead.\n",
      "  warnings.warn(\n",
      "23/09/10 17:22:52 WARN DAGScheduler: Broadcasting large task binary with size 2.5 MiB\n",
      "23/09/10 17:22:53 WARN DAGScheduler: Broadcasting large task binary with size 2.5 MiB\n",
      "                                                                                \r"
     ]
    },
    {
     "name": "stdout",
     "output_type": "stream",
     "text": [
      "Accuracy: 0.6384\n",
      "W. Recall: 0.6384\n",
      "W. Precision: 0.7845\n",
      "\n",
      "Label: 0, Recall: 0.2744\n",
      "Label: 0, Precision: 0.2744\n",
      "\n",
      "Label: 1, Recall: 0.2755\n",
      "Label: 1, Precision: 0.2755\n",
      "\n",
      "Label: 2, Recall: 0.9251\n",
      "Label: 2, Precision: 0.9251\n",
      "\n"
     ]
    },
    {
     "data": {
      "image/png": "[encoded data removed]",
      "text/plain": [
       "<Figure size 640x480 with 2 Axes>"
      ]
     },
     "metadata": {},
     "output_type": "display_data"
    }
   ],
   "source": [
    "# This is the performance of estimator in production :(\n",
    "\n",
    "df3.groupBy(\"prediction\").agg(pf.count(\"Id\").alias(\"c\")).orderBy(\"c\").show()\n",
    "df2.groupBy(\"label\").agg(pf.count(\"id\").alias(\"c\")).orderBy(\"c\").show()\n",
    "\n",
    "m = get_metrics(df3, y_col=\"label\")\n",
    "\n",
    "plot_ml_metrics(m);"
   ]
  },
  {
   "cell_type": "code",
   "execution_count": 173,
   "metadata": {},
   "outputs": [
    {
     "name": "stderr",
     "output_type": "stream",
     "text": [
      "23/09/10 17:19:14 WARN DAGScheduler: Broadcasting large task binary with size 2.5 MiB\n",
      "[Stage 6073:>                                                     (0 + 12) / 12]\r"
     ]
    },
    {
     "name": "stdout",
     "output_type": "stream",
     "text": [
      "+---+----------+--------------+---------------------------------+--------------------+----------------------+----------+------------------+---------------------------------------------------------------------------------------------------------------------------------------------------+----------+------------------------------------------------------------+---------------+\n",
      "|Id |ProductId |UserId        |ProfileName                      |HelpfulnessNumerator|HelpfulnessDenominator|Time      |Summary           |Text                                                                                                                                               |ModelScore|ModelProbaScore                                             |ModelPrediction|\n",
      "+---+----------+--------------+---------------------------------+--------------------+----------------------+----------+------------------+---------------------------------------------------------------------------------------------------------------------------------------------------+----------+------------------------------------------------------------+---------------+\n",
      "|5  |B006K2ZZ7K|A1UQRSCLF8GW1T|\"Michael D. Bigham \"\"M. Wassir\"\"\"|0                   |0                     |1350777600|Great taffy       |Great taffy at a great price.  There was a wide assortment of yummy taffy.  Delivery was very quick.  If your a taffy lover, this is a deal.       |2         |[0.3060598473968852,0.3012678613466339,0.3926722912564809]  |2.0            |\n",
      "|14 |B001GVISJM|A18ECVX2RJ7HUE|\"willie \"\"roadie\"\"\"              |2                   |2                     |1288915200|fresh and greasy! |good flavor! these came securely packed... they were fresh and delicious! i love these Twizzlers!                                                  |2         |[0.28770178627755416,0.2998567362686457,0.41244147745380005]|2.0            |\n",
      "|23 |B001GVISJM|ARYVQL4N737A1 |Charles Brown                    |0                   |0                     |1304899200|Delicious product!|I can remember buying this candy as a kid and the quality hasn't dropped in all these years. Still a superb product you won't be disappointed with.|2         |[0.38135997712257697,0.3282280048655986,0.2904120180118244] |0.0            |\n",
      "+---+----------+--------------+---------------------------------+--------------------+----------------------+----------+------------------+---------------------------------------------------------------------------------------------------------------------------------------------------+----------+------------------------------------------------------------+---------------+\n",
      "only showing top 3 rows\n",
      "\n"
     ]
    },
    {
     "name": "stderr",
     "output_type": "stream",
     "text": [
      "                                                                                \r"
     ]
    }
   ],
   "source": [
    "# Join Raw data with Model Predictions\n",
    "df_raw_with_probas = df_raw.join(\n",
    "    df3,\n",
    "    on=\"Id\",\n",
    "    how=\"inner\"\n",
    ")\n",
    "\n",
    "# This is the last Dataframe with \"fresh / new\" reviews and their respectives scores\n",
    "\n",
    "df_raw_with_probas.select(\n",
    "    pf.col(\"Id\"),\n",
    "    pf.col(\"ProductId\"),\n",
    "    pf.col(\"UserId\"),\n",
    "    pf.col(\"ProfileName\"),\n",
    "    pf.col(\"HelpfulnessNumerator\"),\n",
    "    pf.col(\"HelpfulnessDenominator\"),\n",
    "    # pf.col(\"Score\"), # Simulation New Reviews\n",
    "    pf.col(\"Time\"),\n",
    "    pf.col(\"Summary\"),\n",
    "    pf.col(\"Text\"),\n",
    "    pf.col(\"label\").alias(\"ModelScore\"),\n",
    "    pf.col(\"probability\").alias(\"ModelProbaScore\"),\n",
    "    pf.col(\"prediction\").alias(\"ModelPrediction\") # Max Proba is Score Label\n",
    ").show(\n",
    "    3,\n",
    "    truncate=False\n",
    ")"
   ]
  },
  {
   "cell_type": "markdown",
   "metadata": {},
   "source": [
    "### 7.2. PySpark Pipeline Overview"
   ]
  },
  {
   "cell_type": "code",
   "execution_count": 193,
   "metadata": {},
   "outputs": [],
   "source": [
    "# Lets start fixing two functions\n",
    "# This two functions is created by me, i will need to transform this functions to be hable to input inside Pipeline \n",
    "\n",
    "# First is clean Noise data and create labels\n",
    "df1 = noise_removal(df_raw)\n",
    "\n",
    "# Second if the text preprocessing\n",
    "df2 = preprocessing_text_data(\n",
    "    dataframe=df1,\n",
    "    text_col=\"text\"\n",
    ")"
   ]
  },
  {
   "cell_type": "markdown",
   "metadata": {},
   "source": [
    "The basic idea is to create a list of tasks that will be transformed by the pipeline, and finally, initialize this pipeline with the transform method.\n",
    "\n",
    "As shown in the image, there are some steps that can be included in the pipeline.\n",
    "\n",
    "[] -> tokenizer -> stopwords -> hashing -> idf -> estimator\n",
    "\n",
    "But, I have a problem, i need to clean and preprocess data in start of the pipeline, but I cannot use base functions in spark Pipeline class, i need to transform this functions in a \"Class of Transformer\" to input in spark Pipeline. "
   ]
  },
  {
   "cell_type": "code",
   "execution_count": null,
   "metadata": {},
   "outputs": [],
   "source": [
    "# Steps List\n",
    "stages = [tokenizer, stopwords, hashing, idf, estimator]\n",
    "\n",
    "# Definition of Pipeline\n",
    "pipeline = Pipeline(\n",
    "    stages=stages\n",
    ")\n",
    "\n",
    "# Fit the pipeline\n",
    "pipeline = pipeline.fit(df2)\n",
    "\n",
    "# Transform the pipeline\n",
    "df3 = pipeline.transform(df2)"
   ]
  },
  {
   "cell_type": "markdown",
   "metadata": {},
   "source": [
    "Now I need to transform simple python functions to a pyspark transformer class.\n",
    "\n",
    "To do that, I only need the Transformer base class on my new transformer class, In short, \"Transformer\" it is a Python ABC with another extra class (\"Param\") with some methods already created to help us! "
   ]
  },
  {
   "cell_type": "code",
   "execution_count": 36,
   "metadata": {},
   "outputs": [
    {
     "name": "stdout",
     "output_type": "stream",
     "text": [
      "Hello WORLD!\n"
     ]
    }
   ],
   "source": [
    "from pyspark.ml import Transformer\n",
    "\n",
    "# The Basic Class example\n",
    "\n",
    "class BasicExample(Transformer):\n",
    "\n",
    "    # Python Init Class\n",
    "    # The \"UserInputParam\" is just a user param like \"inputCol\"\n",
    "\n",
    "    def __init__(self, UserInputParam: str = \"World\"):\n",
    "        self.UserInputParam = UserInputParam\n",
    "\n",
    "    # Transform method from Transformer class\n",
    "    # Its required a DataFrame object called \"dataset\" in input of transform\n",
    "\n",
    "    def _transform(self, dataset: DataFrame):\n",
    "        print(f\"Hello {self.UserInputParam}!\")\n",
    "        \n",
    "\n",
    "# Instanciate the class\n",
    "example = BasicExample(UserInputParam=\"WORLD\")\n",
    "\n",
    "# Call transformer!\n",
    "example.transform(dataset=DataFrame)"
   ]
  },
  {
   "cell_type": "markdown",
   "metadata": {},
   "source": [
    "The basic idea is this *BasicExample*, now let's write for our objective, which is to transform the label column and clean the data."
   ]
  },
  {
   "cell_type": "code",
   "execution_count": 31,
   "metadata": {},
   "outputs": [],
   "source": [
    "class NoiseRemoval(Transformer):\n",
    "    \"\"\"\n",
    "    This class is responsible for filtering wrong Scores\n",
    "    and for create label class associated with the scores.\n",
    "\n",
    "    inputs:\n",
    "        - inputCol: Column that will be transformed.\n",
    "        - outputCol: Output Column name.\n",
    "        - labelCol: Label / Score column to generate Bad, Neutral or Good label.\n",
    "\n",
    "    returns:\n",
    "        - df: Transformed DataFrame. \n",
    "\n",
    "    \"\"\"\n",
    "\n",
    "    def __init__(\n",
    "        self,\n",
    "        inputCol: str = \"Text\",\n",
    "        outputCol: str = \"Text\",\n",
    "        labelCol: str = \"Score\"\n",
    "    ):\n",
    "\n",
    "        self.inputCol = inputCol\n",
    "        self.outputCol = outputCol\n",
    "        self.labelCol = labelCol\n",
    "\n",
    "    # Transform\n",
    "    def _transform(self, dataset: DataFrame) -> DataFrame:\n",
    "        y_col = self.labelCol\n",
    "        \n",
    "        if y_col not in dataset.columns:\n",
    "            raise AnalysisException(f\"'{y_col}' column not exists on DataFrame\")\n",
    "\n",
    "        df = dataset.filter(pf.col(y_col).isin([0, 1, 2, 3, 4, 5]))\n",
    "\n",
    "        # Good, Neutral and Bad\n",
    "        df = df.withColumn(\n",
    "            \"new_score\",\n",
    "            pf.when(pf.col(y_col) == 1, 0)\\\n",
    "            .when((pf.col(y_col) > 1) & (pf.col(y_col) <= 3), 1) \\\n",
    "            .when(pf.col(y_col) > 3, 2)\n",
    "        )\n",
    "\n",
    "        df = df.filter(pf.col(\"new_score\").isin([0, 1, 2]))\n",
    "\n",
    "        df = df.select(\n",
    "            pf.col(\"Id\"),\n",
    "            pf.col(\"new_score\").alias(\"label\"),\n",
    "            pf.col(self.inputCol).alias(self.outputCol)\n",
    "        )\n",
    "\n",
    "        return df"
   ]
  },
  {
   "cell_type": "code",
   "execution_count": 46,
   "metadata": {},
   "outputs": [],
   "source": [
    "noise_removal = NoiseRemoval(\n",
    "    inputCol=\"Text\",\n",
    "    outputCol=\"Text\",\n",
    "    labelCol=\"Score\"\n",
    ")"
   ]
  },
  {
   "cell_type": "code",
   "execution_count": 29,
   "metadata": {},
   "outputs": [
    {
     "name": "stdout",
     "output_type": "stream",
     "text": [
      "+---+-----+--------------------+\n",
      "| Id|label|                Text|\n",
      "+---+-----+--------------------+\n",
      "|  2|    0|\"Product arrived ...|\n",
      "| 32|    2|This offer is a g...|\n",
      "| 57|    2|Deal was awesome!...|\n",
      "|118|    2|In the 1980s I sp...|\n",
      "|123|    2|I have a 4 year o...|\n",
      "+---+-----+--------------------+\n",
      "only showing top 5 rows\n",
      "\n"
     ]
    }
   ],
   "source": [
    "# In a list, i set the Stages of Pipeline\n",
    "stages = [noise_removal]\n",
    "\n",
    "# Instance for pipeline class and definition of which steps will be start in the list of stages\n",
    "pipeline = Pipeline(\n",
    "    stages=stages\n",
    ")\n",
    "\n",
    "# Fit the pipeline function\n",
    "pipeline = pipeline.fit(df_raw)\n",
    "\n",
    "# And transform!\n",
    "df_clean = pipeline.transform(df_raw)\n",
    "\n",
    "# Its Worked!\n",
    "df_clean.show(5)"
   ]
  },
  {
   "cell_type": "markdown",
   "metadata": {},
   "source": [
    "Now let's create the next transformation class which is to clean the data"
   ]
  },
  {
   "cell_type": "code",
   "execution_count": 67,
   "metadata": {},
   "outputs": [],
   "source": [
    "class CleanRawText(Transformer):\n",
    "    \"\"\"\n",
    "    This class is responsible for cleaning text data.\n",
    "\n",
    "    inputs:\n",
    "        - inputCol: Column that will be transformed.\n",
    "        - outputCol: Output Column name.\n",
    "\n",
    "    returns:\n",
    "        - df: Transformed DataFrame. \n",
    "\n",
    "    \"\"\"\n",
    "\n",
    "    def __init__(\n",
    "        self,\n",
    "        textCol: str = \"Text\"\n",
    "    ):\n",
    "\n",
    "        self.textCol = textCol\n",
    "\n",
    "    # Transform!\n",
    "    def _transform(self, dataset: DataFrame) -> DataFrame:\n",
    "        text_col = self.textCol\n",
    "\n",
    "        # Normalization and remove minor wrongs\n",
    "        df = dataset.withColumn(\n",
    "            text_col,\n",
    "            pf.regexp_replace(pf.regexp_replace(pf.regexp_replace(pf.lower(pf.trim(pf.col(text_col))), '\"', \"\"), \"  \", \" \"), \"  \", \" \")\n",
    "        )\n",
    "\n",
    "        # Remove Tags and Especial Chars\n",
    "        df = df.withColumn(\n",
    "            text_col,\n",
    "            pf.regexp_replace(pf.regexp_replace(pf.regexp_replace(pf.regexp_replace(pf.regexp_replace(pf.col(text_col), \"'\", \"\"), \"<br /><br />\", \"\"), \"<br />\", \"\"), \"\\'\", \"'\"), \"<a href=\", \"\")\n",
    "        )\n",
    "\n",
    "        # Fix Wrong writes\n",
    "        df = df.withColumn(\n",
    "            text_col,\n",
    "            pf.regexp_replace(pf.col(text_col), \" u \", \" you \")\n",
    "        )\n",
    "\n",
    "        # Remove Extra Simbols and Site URL'S\n",
    "        df = df.withColumn(\n",
    "            text_col,\n",
    "            pf.regexp_replace(pf.regexp_replace(pf.regexp_replace(pf.col(text_col), \"http\\S+\", \"\"), \"https\\S+\", \"\"), \"  \", \" \")\n",
    "        )\n",
    "\n",
    "        return df"
   ]
  },
  {
   "cell_type": "code",
   "execution_count": 43,
   "metadata": {},
   "outputs": [
    {
     "name": "stdout",
     "output_type": "stream",
     "text": [
      "+---+-----+--------------------------------------------------------------------------------------------------------------------------------------------------------------------------------------------------+\n",
      "|Id |label|Text                                                                                                                                                                                              |\n",
      "+---+-----+--------------------------------------------------------------------------------------------------------------------------------------------------------------------------------------------------+\n",
      "|2  |0    |\"Product arrived labeled as Jumbo Salted Peanuts...the peanuts were actually small sized unsalted. Not sure if this was an error or if the vendor intended to represent the product as \"\"Jumbo\"\".\"|\n",
      "|32 |2    |This offer is a great price and a great taste, thanks Amazon for selling this product.<br /><br />Staral                                                                                          |\n",
      "+---+-----+--------------------------------------------------------------------------------------------------------------------------------------------------------------------------------------------------+\n",
      "only showing top 2 rows\n",
      "\n",
      "+---+-----+--------------------------------------------------------------------------------------------------------------------------------------------------------------------------------------------+\n",
      "|Id |label|Text                                                                                                                                                                                        |\n",
      "+---+-----+--------------------------------------------------------------------------------------------------------------------------------------------------------------------------------------------+\n",
      "|2  |0    |product arrived labeled as jumbo salted peanuts...the peanuts were actually small sized unsalted. not sure if this was an error or if the vendor intended to represent the product as jumbo.|\n",
      "|32 |2    |this offer is a great price and a great taste, thanks amazon for selling this product.staral                                                                                                |\n",
      "+---+-----+--------------------------------------------------------------------------------------------------------------------------------------------------------------------------------------------+\n",
      "only showing top 2 rows\n",
      "\n"
     ]
    }
   ],
   "source": [
    "clean_text = CleanRawText(\n",
    "    inputCol=\"Text\",\n",
    "    textCol=\"Text\"\n",
    ")\n",
    "\n",
    "df_clean_but_two = clean_text.transform(df_clean)\n",
    "\n",
    "df_clean.show(2, truncate=False)\n",
    "\n",
    "df_clean_but_two.show(2, truncate=False)"
   ]
  },
  {
   "cell_type": "markdown",
   "metadata": {},
   "source": [
    "Looks like working, lets try to put all pieces together!"
   ]
  },
  {
   "cell_type": "markdown",
   "metadata": {},
   "source": [
    "### 7.3. PySpark Pipeline"
   ]
  },
  {
   "cell_type": "code",
   "execution_count": null,
   "metadata": {},
   "outputs": [],
   "source": [
    "# Load Artifacts\n",
    "\n",
    "idf = IDFModel.load(artifacts_path + \"/idf.spark/\")\n",
    "hashing = HashingTF.load(artifacts_path + \"/hashing.spark/\")\n",
    "tokenizer = Tokenizer.load(artifacts_path + \"/tokenizer.spark\")\n",
    "stopwords = StopWordsRemover.load(artifacts_path + \"/stopwords.spark\")\n",
    "\n",
    "estimator = RandomForestClassificationModel.load(estimator_path + \"/random_forest.spark\")"
   ]
  },
  {
   "cell_type": "code",
   "execution_count": 69,
   "metadata": {},
   "outputs": [],
   "source": [
    "# Setup Custom Transformers\n",
    "\n",
    "noise_removal = NoiseRemoval(\n",
    "    inputCol=\"Text\",\n",
    "    outputCol=\"text\", # Lowercase \"Text\" for tokenizer, because I previous save with lowercase :P\n",
    "    labelCol=\"Score\"\n",
    ")\n",
    "\n",
    "clean_text = CleanRawText(\n",
    "    textCol=\"text\"\n",
    ")"
   ]
  },
  {
   "cell_type": "code",
   "execution_count": 74,
   "metadata": {},
   "outputs": [],
   "source": [
    "stages = [\n",
    "    noise_removal,\n",
    "    clean_text,\n",
    "    tokenizer,\n",
    "    stopwords,\n",
    "    hashing,\n",
    "    idf,\n",
    "    estimator\n",
    "]\n",
    "\n",
    "# Definition of Pipeline\n",
    "pipeline = Pipeline(\n",
    "    stages=stages\n",
    ")\n",
    "\n",
    "# Fit the pipeline\n",
    "pipeline = pipeline.fit(df_raw)\n",
    "\n",
    "# Transform the pipeline\n",
    "df = pipeline.transform(df_raw)"
   ]
  },
  {
   "cell_type": "code",
   "execution_count": 75,
   "metadata": {},
   "outputs": [
    {
     "name": "stdout",
     "output_type": "stream",
     "text": [
      "+---+-----+--------------------+--------------------+--------------------+--------------------+--------------------+--------------------+--------------------+----------+\n",
      "| Id|label|                text|              tokens|               words|        raw_features|            features|       rawPrediction|         probability|prediction|\n",
      "+---+-----+--------------------+--------------------+--------------------+--------------------+--------------------+--------------------+--------------------+----------+\n",
      "|  8|    2|this taffy is so ...|[this, taffy, is,...|[taffy, good., so...|(5000,[324,1670,1...|(5000,[324,1670,1...|[33.2148692608466...|[0.33214869260846...|       2.0|\n",
      "| 10|    2|this is a very he...|[this, is, a, ver...|[healthy, dog, fo...|(5000,[32,222,633...|(5000,[32,222,633...|[32.7436624353972...|[0.32743662435397...|       2.0|\n",
      "| 13|    0|my cats have been...|[my, cats, have, ...|[cats, happily, e...|(5000,[150,237,30...|(5000,[150,237,30...|[33.6136180796685...|[0.33613618079668...|       2.0|\n",
      "| 33|    2|mccanns instant o...|[mccanns, instant...|[mccanns, instant...|(5000,[80,133,285...|(5000,[80,133,285...|[26.0619061307387...|[0.26061906130738...|       2.0|\n",
      "| 46|    1|this seems a litt...|[this, seems, a, ...|[seems, little, w...|(5000,[80,524,664...|(5000,[80,524,664...|[28.6272977447731...|[0.28627297744773...|       1.0|\n",
      "+---+-----+--------------------+--------------------+--------------------+--------------------+--------------------+--------------------+--------------------+----------+\n",
      "only showing top 5 rows\n",
      "\n"
     ]
    },
    {
     "name": "stderr",
     "output_type": "stream",
     "text": [
      "23/09/11 08:45:38 WARN DAGScheduler: Broadcasting large task binary with size 2.5 MiB\n"
     ]
    }
   ],
   "source": [
    "# Worked!\n",
    "\n",
    "df.show(5)"
   ]
  },
  {
   "cell_type": "code",
   "execution_count": 82,
   "metadata": {},
   "outputs": [
    {
     "name": "stderr",
     "output_type": "stream",
     "text": [
      "23/09/11 08:49:21 WARN DAGScheduler: Broadcasting large task binary with size 2.5 MiB\n",
      "[Stage 54:>                                                       (0 + 12) / 12]\r"
     ]
    },
    {
     "name": "stdout",
     "output_type": "stream",
     "text": [
      "+---+----------+--------------+------------------+--------------------+----------------------+----------+------------------------------------+---------------------------------------------------------------------------------------------------------------------------------------------------------------------------------------------------------------------------------------------------------------------------------------------------------------------------------------------------------------------------------------------------------------+----------+-------------------------------------------------------------+---------------+\n",
      "|Id |ProductId |UserId        |ProfileName       |HelpfulnessNumerator|HelpfulnessDenominator|Time      |Summary                             |Text                                                                                                                                                                                                                                                                                                                                                                                                           |ModelScore|ModelProbaScore                                              |ModelPrediction|\n",
      "+---+----------+--------------+------------------+--------------------+----------------------+----------+------------------------------------+---------------------------------------------------------------------------------------------------------------------------------------------------------------------------------------------------------------------------------------------------------------------------------------------------------------------------------------------------------------------------------------------------------------+----------+-------------------------------------------------------------+---------------+\n",
      "|8  |B006K2ZZ7K|A3JRGQVEQN31IQ|Pamela G. Williams|0                   |0                     |1336003200|Wonderful, tasty taffy              |This taffy is so good.  It is very soft and chewy.  The flavors are amazing.  I would definitely recommend you buying it.  Very satisfying!!                                                                                                                                                                                                                                                                   |2         |[0.3321486926084665,0.31806024572496844,0.349791061666565]   |2.0            |\n",
      "|10 |B00171APVA|A21BT40VZCCYT4|Carol A. Reed     |0                   |0                     |1351209600|Healthy Dog Food                    |This is a very healthy dog food. Good for their digestion. Also good for small puppies. My dog eats her required amount at every feeding.                                                                                                                                                                                                                                                                      |2         |[0.327436624353972,0.32545805191962285,0.34710532372640523]  |2.0            |\n",
      "|13 |B0009XLVG0|A327PCT23YH90 |LT                |1                   |1                     |1339545600|My Cats Are Not Fans of the New Food|My cats have been happily eating Felidae Platinum for more than two years. I just got a new bag and the shape of the food is different. They tried the new food when I first put it in their bowls and now the bowls sit full and the kitties will not touch the food. I've noticed similar reviews related to formula changes in the past. Unfortunately, I now need to find a new food that my cats will eat.|0         |[0.33613618079668595,0.31499100078632786,0.34887281841698614]|2.0            |\n",
      "+---+----------+--------------+------------------+--------------------+----------------------+----------+------------------------------------+---------------------------------------------------------------------------------------------------------------------------------------------------------------------------------------------------------------------------------------------------------------------------------------------------------------------------------------------------------------------------------------------------------------+----------+-------------------------------------------------------------+---------------+\n",
      "only showing top 3 rows\n",
      "\n"
     ]
    },
    {
     "name": "stderr",
     "output_type": "stream",
     "text": [
      "                                                                                \r"
     ]
    }
   ],
   "source": [
    "# Join Raw data with Model Predictions\n",
    "df_raw_with_probas = df_raw.join(\n",
    "    df.select(\n",
    "        pf.col(\"Id\"),\n",
    "        pf.col(\"label\"),\n",
    "        pf.col(\"probability\"),\n",
    "        pf.col(\"prediction\")\n",
    "    ),\n",
    "    on=\"Id\",\n",
    "    how=\"inner\"\n",
    ")\n",
    "\n",
    "# This is the last Dataframe with \"fresh / new\" reviews and their respectives scores\n",
    "df_raw_with_probas.select(\n",
    "    pf.col(\"Id\"),\n",
    "    pf.col(\"ProductId\"),\n",
    "    pf.col(\"UserId\"),\n",
    "    pf.col(\"ProfileName\"),\n",
    "    pf.col(\"HelpfulnessNumerator\"),\n",
    "    pf.col(\"HelpfulnessDenominator\"),\n",
    "    # pf.col(\"Score\"), # Simulation New Reviews\n",
    "    pf.col(\"Time\"),\n",
    "    pf.col(\"Summary\"),\n",
    "    pf.col(\"Text\"),\n",
    "    pf.col(\"label\").alias(\"ModelScore\"),\n",
    "    pf.col(\"probability\").alias(\"ModelProbaScore\"),\n",
    "    pf.col(\"prediction\").alias(\"ModelPrediction\") # Max Proba is Score Label\n",
    ").show(\n",
    "    3,\n",
    "    truncate=False\n",
    ")"
   ]
  },
  {
   "cell_type": "code",
   "execution_count": 76,
   "metadata": {},
   "outputs": [
    {
     "name": "stderr",
     "output_type": "stream",
     "text": [
      "23/09/11 08:47:07 WARN DAGScheduler: Broadcasting large task binary with size 2.4 MiB\n",
      "                                                                                \r"
     ]
    },
    {
     "name": "stdout",
     "output_type": "stream",
     "text": [
      "+----------+-----+\n",
      "|prediction|    c|\n",
      "+----------+-----+\n",
      "|       1.0| 5863|\n",
      "|       0.0| 6721|\n",
      "|       2.0|15719|\n",
      "+----------+-----+\n",
      "\n",
      "+-----+-----+\n",
      "|label|    c|\n",
      "+-----+-----+\n",
      "|    0| 2658|\n",
      "|    1| 3666|\n",
      "|    2|21979|\n",
      "+-----+-----+\n",
      "\n"
     ]
    },
    {
     "name": "stderr",
     "output_type": "stream",
     "text": [
      "/home/grc/arep/sentiment_analysis/lib/python3.10/site-packages/pyspark/sql/context.py:157: FutureWarning: Deprecated in 3.0.0. Use SparkSession.builder.getOrCreate() instead.\n",
      "  warnings.warn(\n",
      "23/09/11 08:47:08 WARN DAGScheduler: Broadcasting large task binary with size 2.5 MiB\n",
      "23/09/11 08:47:09 WARN DAGScheduler: Broadcasting large task binary with size 2.5 MiB\n",
      "                                                                                \r"
     ]
    },
    {
     "name": "stdout",
     "output_type": "stream",
     "text": [
      "Accuracy: 0.6390\n",
      "W. Recall: 0.6390\n",
      "W. Precision: 0.7820\n",
      "\n",
      "Label: 0, Recall: 0.2817\n",
      "Label: 0, Precision: 0.2817\n",
      "\n",
      "Label: 1, Recall: 0.2777\n",
      "Label: 1, Precision: 0.2777\n",
      "\n",
      "Label: 2, Recall: 0.9266\n",
      "Label: 2, Precision: 0.9266\n",
      "\n"
     ]
    },
    {
     "data": {
      "image/png": "[encoded data removed]",
      "text/plain": [
       "<Figure size 640x480 with 2 Axes>"
      ]
     },
     "metadata": {},
     "output_type": "display_data"
    }
   ],
   "source": [
    "# This is the performance of estimator in production :(\n",
    "df.groupBy(\"prediction\").agg(pf.count(\"Id\").alias(\"c\")).orderBy(\"c\").show()\n",
    "df.groupBy(\"label\").agg(pf.count(\"id\").alias(\"c\")).orderBy(\"c\").show()\n",
    "\n",
    "m = get_metrics(df, y_col=\"label\")\n",
    "\n",
    "plot_ml_metrics(m);"
   ]
  }
 ],
 "metadata": {
  "kernelspec": {
   "display_name": "sentiment_analysis",
   "language": "python",
   "name": "python3"
  },
  "language_info": {
   "codemirror_mode": {
    "name": "ipython",
    "version": 3
   },
   "file_extension": ".py",
   "mimetype": "text/x-python",
   "name": "python",
   "nbconvert_exporter": "python",
   "pygments_lexer": "ipython3",
   "version": "3.10.12"
  },
  "orig_nbformat": 4
 },
 "nbformat": 4,
 "nbformat_minor": 2
}
