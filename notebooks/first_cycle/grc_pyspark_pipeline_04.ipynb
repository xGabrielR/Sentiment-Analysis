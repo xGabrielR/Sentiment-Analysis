{
 "cells": [
  {
   "cell_type": "markdown",
   "metadata": {},
   "source": [
    "# Sentiment Analysis\n",
    "\n",
    "---"
   ]
  },
  {
   "cell_type": "markdown",
   "metadata": {},
   "source": [
    "**Project Steps**\n",
    "\n",
    "![Alt text](image-3.png)\n",
    "\n",
    "The first step is the *Data Cleaning*, in this step I have used spark for cleaning texts with regex and built-in transformations.\n",
    "\n",
    "The second step is the *Tokenization*, is the step of taking the already cleaned text and separating it into tokens, which are a list of words or chunks of separate words.\n",
    "\n",
    "The third step is the *StopWordsRemover*, simple remove stop words (\"a\", \"is\"...) for each token.\n",
    "\n",
    "The fourth step is the *TF-IDF*, this tool computes a term (word) and document \"frequencies\", is a representation of text in numbers for machine learning.\n",
    "\n",
    "The fifth step is the *Classifier*, this step involves training the estimator, performing cross validation techniques on the training and validation data, applying tuning and generating the final model to classify the test data. "
   ]
  },
  {
   "cell_type": "markdown",
   "metadata": {},
   "source": [
    "**Next Steps**\n",
    "\n",
    "There are other next steps that I will take in this project in future, for example:\n",
    "\n",
    "1. Remove special characters in the text in order to have better performance in TF-IDF so that it eventually does not calculate wrong frequencies because of a special symbol.\n",
    "\n",
    "2. Test other text to vec representations such as Word2Vec or another available on spark ml.\n",
    "\n",
    "3. Apply dimensionality reducers such as SVC (sparce) to reduce dimensions (problem of high dimensions) and facilitate estimator learning.\n",
    "\n",
    "4. Test with more training, validation and testing data (I have make a simple top K undersampling).\n",
    "\n",
    "5. Productize the estimator with mlflow or another tool."
   ]
  },
  {
   "cell_type": "markdown",
   "metadata": {},
   "source": [
    "## 0.0. Requirements"
   ]
  },
  {
   "cell_type": "markdown",
   "metadata": {},
   "source": [
    "### 0.1. Imports"
   ]
  },
  {
   "cell_type": "code",
   "execution_count": 2,
   "metadata": {},
   "outputs": [],
   "source": [
    "import mlflow\n",
    "import numpy as np\n",
    "import pandas as pd\n",
    "\n",
    "import seaborn as sns \n",
    "from matplotlib import pyplot as plt\n",
    "\n",
    "from hyperopt import (\n",
    "    hp,\n",
    "    tpe,\n",
    "    fmin,\n",
    "    space_eval,\n",
    "    Trials,\n",
    "    SparkTrials,\n",
    "    STATUS_OK\n",
    ")\n",
    "\n",
    "from pyspark import SparkContext\n",
    "from pyspark.sql import SparkSession\n",
    "\n",
    "from pyspark.sql import functions as pf\n",
    "\n",
    "from pyspark.ml import Transformer\n",
    "from pyspark.sql.types import FloatType\n",
    "from pyspark.sql.dataframe import DataFrame\n",
    "from pyspark.sql.utils import AnalysisException\n",
    "\n",
    "from pyspark.ml import Pipeline\n",
    "\n",
    "from pyspark.ml.feature import VectorAssembler\n",
    "\n",
    "from pyspark.ml.classification import (\n",
    "    RandomForestClassifier,\n",
    "    RandomForestClassificationModel\n",
    ")\n",
    "\n",
    "from pyspark.mllib.evaluation import MulticlassMetrics\n",
    "from pyspark.ml.evaluation import MulticlassClassificationEvaluator\n",
    "\n",
    "from pyspark.ml.tuning import ParamGridBuilder, CrossValidator\n",
    "\n",
    "from sentence_transformers import SentenceTransformer"
   ]
  },
  {
   "cell_type": "markdown",
   "metadata": {},
   "source": [
    "### 0.2. Aux Functions"
   ]
  },
  {
   "cell_type": "code",
   "execution_count": 6,
   "metadata": {},
   "outputs": [
    {
     "name": "stderr",
     "output_type": "stream",
     "text": [
      "23/10/08 15:42:50 WARN Utils: Your hostname, grc resolves to a loopback address: 127.0.1.1; using 192.168.101.4 instead (on interface eno1)\n",
      "23/10/08 15:42:50 WARN Utils: Set SPARK_LOCAL_IP if you need to bind to another address\n",
      "Setting default log level to \"WARN\".\n",
      "To adjust logging level use sc.setLogLevel(newLevel). For SparkR, use setLogLevel(newLevel).\n",
      "23/10/08 15:42:50 WARN NativeCodeLoader: Unable to load native-hadoop library for your platform... using builtin-java classes where applicable\n"
     ]
    },
    {
     "data": {
      "text/html": [
       "\n",
       "        <div>\n",
       "            <p><b>SparkContext</b></p>\n",
       "\n",
       "            <p><a href=\"http://grc.bbrouter:4040\">Spark UI</a></p>\n",
       "\n",
       "            <dl>\n",
       "              <dt>Version</dt>\n",
       "                <dd><code>v3.4.1</code></dd>\n",
       "              <dt>Master</dt>\n",
       "                <dd><code>local[*]</code></dd>\n",
       "              <dt>AppName</dt>\n",
       "                <dd><code>pyspark-shell</code></dd>\n",
       "            </dl>\n",
       "        </div>\n",
       "        "
      ],
      "text/plain": [
       "<SparkContext master=local[*] appName=pyspark-shell>"
      ]
     },
     "execution_count": 6,
     "metadata": {},
     "output_type": "execute_result"
    }
   ],
   "source": [
    "spark = SparkSession.builder \\\n",
    "        .master(\"local[*]\") \\\n",
    "        .config(\"spark.driver.memory\", \"7g\") \\\n",
    "        .config(\"spark.executor.memory\", \"7g\") \\\n",
    "        .getOrCreate()\n",
    "\n",
    "sc = spark.sparkContext\n",
    "\n",
    "sc"
   ]
  },
  {
   "cell_type": "code",
   "execution_count": 42,
   "metadata": {},
   "outputs": [],
   "source": [
    "def split_top_k_dataframe_by_classes(\n",
    "    df_base: DataFrame,\n",
    "    split_size: int = 1_000,\n",
    "    labels: list = [0, 1, 2]\n",
    "):\n",
    "    \"\"\"\n",
    "    Slice Top K rows from givem dataframe for each input labels.\n",
    "    \n",
    "    inputs:\n",
    "        - df_base: Base DataFrame for slice.\n",
    "        - split_size: Top K int values for slice.\n",
    "        - labels: list of label for split into split_size samples.\n",
    "\n",
    "    returns:\n",
    "        - df_base: Base input DataFrame without sliced samples.\n",
    "        - df_sliced: Top K samples of df_base DataFrame. \n",
    "    \"\"\"\n",
    "\n",
    "    df_sliced = spark.createDataFrame(\n",
    "        data=[{\"id\": -1, \"score\": -1, \"text\": \"none\"}]\n",
    "    )\n",
    "\n",
    "    # Make the same subsample of previous step for sample classes\n",
    "    for label in labels:\n",
    "        df_filter_class = df_base.filter(pf.col(\"score\") == label).limit(split_size)\n",
    "\n",
    "        df_filter_class = df_filter_class.select(\n",
    "            pf.col(\"id\"),\n",
    "            pf.col(\"score\"),\n",
    "            pf.col(\"text\")\n",
    "        )\n",
    "\n",
    "        df_sliced = df_sliced.select(\n",
    "            pf.col(\"id\"),\n",
    "            pf.col(\"score\"),\n",
    "            pf.col(\"text\")).unionAll(\n",
    "                df_filter_class.select(\n",
    "                    pf.col(\"id\"),\n",
    "                    pf.col(\"score\"),\n",
    "                    pf.col(\"text\")\n",
    "                )\n",
    "            )\n",
    "\n",
    "    df_sliced = df_sliced.filter(pf.col(\"score\").isin(labels))\n",
    "\n",
    "    df_base = df_base.join(\n",
    "        df_sliced.select(\n",
    "            pf.col(\"id\"),\n",
    "            pf.col(\"score\").alias(\"test_score\")\n",
    "        ), \n",
    "        how=\"left\",\n",
    "        on=\"id\"\n",
    "    )\n",
    "\n",
    "    df_base = df_base.filter(\n",
    "        pf.col(\"test_score\").isNull()\n",
    "        ).select(\n",
    "            pf.col(\"id\"),\n",
    "            pf.col(\"score\"),\n",
    "            pf.col(\"text\")\n",
    "        )\n",
    "    \n",
    "    return df_base, df_sliced\n",
    "\n",
    "\n",
    "\n",
    "def preprocessing_text_data(\n",
    "    dataframe: DataFrame,\n",
    "    text_col: str = \"text\"  \n",
    "):\n",
    "    \"\"\"\n",
    "    Simple preprocessing Texts.\n",
    "    \n",
    "    inputs:\n",
    "        - dataframe: DataFrame for preprocessing.\n",
    "        - text_col: DataFrame column for preprocessing.\n",
    "\n",
    "    returns:\n",
    "        - dataframe: DataFrame text preprocessed.\n",
    "    \n",
    "    \"\"\"\n",
    "\n",
    "    # Normalization and remove minor wrongs\n",
    "    dataframe = dataframe.withColumn(\n",
    "        text_col,\n",
    "        pf.regexp_replace(pf.regexp_replace(pf.regexp_replace(pf.lower(pf.trim(pf.col(text_col))), '\"', \"\"), \"  \", \" \"), \"  \", \" \")\n",
    "    )\n",
    "\n",
    "    # Remove Tags and Especial Chars\n",
    "    dataframe = dataframe.withColumn(\n",
    "        text_col,\n",
    "        pf.regexp_replace(pf.regexp_replace(pf.regexp_replace(pf.regexp_replace(pf.regexp_replace(pf.col(text_col), \"'\", \"\"), \"<br /><br />\", \"\"), \"<br />\", \"\"), \"\\'\", \"'\"), \"<a href=\", \"\")\n",
    "    )\n",
    "\n",
    "    # Fix Wrong writes\n",
    "    dataframe = dataframe.withColumn(\n",
    "        text_col,\n",
    "        pf.regexp_replace(pf.col(text_col), \" u \", \" you \")\n",
    "    )\n",
    "\n",
    "    # Remove Extra Simbols and Site URL'S\n",
    "    dataframe = dataframe.withColumn(\n",
    "        text_col,\n",
    "        pf.regexp_replace(pf.regexp_replace(pf.regexp_replace(pf.col(text_col), \"http\\S+\", \"\"), \"https\\S+\", \"\"), \"  \", \" \")\n",
    "    )\n",
    "\n",
    "    return dataframe\n",
    "\n",
    "def get_metrics(\n",
    "    df_predictions: DataFrame,\n",
    "    y_col: str = \"score\"\n",
    ") -> MulticlassMetrics:\n",
    "    \"\"\"\n",
    "    Get Spark MulticlassMetrics object.\n",
    "    \n",
    "    inputs:\n",
    "        - df_predictions: DataFrame with Y and Yhat.\n",
    "        - y_col: Y col name.\n",
    "\n",
    "    returns:\n",
    "        - df_predictions: Is simple a MulticlassMetrics object.\n",
    "    \n",
    "    \"\"\"\n",
    "\n",
    "    df_predictions = df_predictions.select(\n",
    "        pf.col(\"prediction\").cast(FloatType()).alias(\"prediction\"),\n",
    "        pf.col(y_col).cast(FloatType()).alias(\"label\"),\n",
    "    )\n",
    "\n",
    "    df_predictions = df_predictions.rdd.map(tuple)\n",
    "\n",
    "    df_predictions = MulticlassMetrics(df_predictions)\n",
    "\n",
    "    return df_predictions\n",
    "\n",
    "def plot_ml_metrics(\n",
    "    metrics: MulticlassMetrics,\n",
    "    labels: list = [0, 1, 2]\n",
    "):\n",
    "    \"\"\"\n",
    "    Plot Multiclass Metrics.\n",
    "    \n",
    "    inputs:\n",
    "        - metrics: PySpark MulticlassMetrics object.\n",
    "        - labels: list of all available lables on DataFrame.\n",
    "\n",
    "    returns:\n",
    "        - ax: Matplotlib axis of heatmap.\n",
    "    \n",
    "    \"\"\"\n",
    "\n",
    "    acc = metrics.accuracy\n",
    "    wre = metrics.weightedRecall\n",
    "    wpr = metrics.weightedPrecision\n",
    "    \n",
    "    print(f\"Accuracy: {acc:.4f}\")\n",
    "    print(f\"W. Recall: {wre:.4f}\")\n",
    "    print(f\"W. Precision: {wpr:.4f}\\n\")\n",
    "\n",
    "    for label in set(labels):\n",
    "        print(f\"Label: {label}, Recall: {metrics.precision(label):.4f}\")\n",
    "        print(f\"Label: {label}, Precision: {metrics.precision(label):.4f}\\n\")\n",
    "        \n",
    "    ax = sns.heatmap(metrics.confusionMatrix().toArray(), cmap=\"Blues\", annot=True, fmt=\"g\", linewidths=0.5, linecolor=\"k\")\n",
    "    ax.set_title(\"Confusion Matrix\")\n",
    "    ax.set_ylabel(\"True label\")\n",
    "    ax.set_xlabel(\"Predicted label\");\n",
    "\n",
    "    return ax\n",
    "\n",
    "def simple_cross_validation_k_times(\n",
    "    df_cross: DataFrame,\n",
    "    validation_fractions: dict,\n",
    "    k: int = 5,\n",
    "    params_dict: dict = {}\n",
    ") -> pd.DataFrame:\n",
    "    \n",
    "    k_fold_list = []\n",
    "    recall_list = []\n",
    "    accuracy_list = []\n",
    "    precision_list = []\n",
    "\n",
    "    if not params_dict:\n",
    "        params_dict = dict(\n",
    "            maxDepth=5, \n",
    "            maxBins=32, \n",
    "            numTrees=100,\n",
    "            minInfoGain=0.0, \n",
    "            impurity=\"gini\",\n",
    "            minInstancesPerNode=1,\n",
    "            featureSubsetStrategy=\"auto\"\n",
    "        )\n",
    "    \n",
    "    for i in range(1, k + 1):\n",
    "        print(f\"\\nTraining Fold: {i}\\n\")\n",
    "            \n",
    "        # Sample for Valid Dataset\n",
    "        df_valid_cross = df_cross.sampleBy(col=\"label\", fractions=validation_fractions)\n",
    "\n",
    "        # Filter for Train Cross Dataset\n",
    "        df_train_cross = df_cross.join(\n",
    "            df_valid_cross.select(\n",
    "                pf.col(\"id\"),\n",
    "                pf.col(\"label\").alias(\"t_label\")\n",
    "            ),\n",
    "            on=\"id\",\n",
    "            how=\"left\"\n",
    "        )\n",
    "\n",
    "        df_train_cross = df_train_cross.filter(pf.col(\"t_label\").isNull())\n",
    "\n",
    "        df_train_cross = df_train_cross.select(\n",
    "            pf.col(\"id\"),\n",
    "            pf.col(\"features\"),\n",
    "            pf.col(\"label\")\n",
    "        )\n",
    "\n",
    "        # Random Forest Estimator\n",
    "        rfc = RandomForestClassifier(\n",
    "            featuresCol=\"features\",\n",
    "            labelCol=\"label\",\n",
    "            **params_dict\n",
    "        )\n",
    "\n",
    "        rfc = rfc.fit(df_train_cross)\n",
    "\n",
    "        df_valid_results = rfc.transform(df_valid_cross)\n",
    "\n",
    "        df_valid_results = get_metrics(df_valid_results, \"label\")\n",
    "\n",
    "        k_fold_list.append(i)\n",
    "        recall_list.append(df_valid_results.weightedRecall)\n",
    "        accuracy_list.append(df_valid_results.accuracy)\n",
    "        precision_list.append(df_valid_results.weightedPrecision)\n",
    "        \n",
    "        del rfc # Full Fit again in another K fold\n",
    "\n",
    "    r = pd.DataFrame(\n",
    "        {\"fold\": k_fold_list,\n",
    "         \"accuracy\": accuracy_list,\n",
    "         \"recall\": recall_list,\n",
    "         \"precision\": precision_list},\n",
    "    )\n",
    "    \n",
    "    return r\n",
    "\n",
    "\n",
    "def cross_validation_score(\n",
    "    estimator,\n",
    "    df_cross: DataFrame,\n",
    "    validation_fractions: dict,\n",
    "    metric: str = \"recall\",\n",
    "    k: int = 2\n",
    ") -> pd.DataFrame:\n",
    "    \n",
    "    metric_list = []\n",
    "    \n",
    "    for i in range(1, k + 1):\n",
    "        print(f\"\\nTraining Fold: {i}\\n\")\n",
    "            \n",
    "        # Sample for Valid Dataset\n",
    "        df_valid_cross = df_cross.sampleBy(col=\"label\", fractions=validation_fractions)\n",
    "\n",
    "        # Filter for Train Cross Dataset\n",
    "        df_train_cross = df_cross.join(\n",
    "            df_valid_cross.select(\n",
    "                pf.col(\"id\"),\n",
    "                pf.col(\"label\").alias(\"t_label\")\n",
    "            ),\n",
    "            on=\"id\",\n",
    "            how=\"left\"\n",
    "        )\n",
    "\n",
    "        df_train_cross = df_train_cross.filter(pf.col(\"t_label\").isNull())\n",
    "\n",
    "        df_train_cross = df_train_cross.select(\n",
    "            pf.col(\"id\"),\n",
    "            pf.col(\"features\"),\n",
    "            pf.col(\"label\")\n",
    "        )\n",
    "\n",
    "        model = estimator.fit(df_train_cross)\n",
    "\n",
    "        df_valid_results = model.transform(df_valid_cross)\n",
    "\n",
    "        df_valid_results = get_metrics(df_valid_results, \"label\")\n",
    "\n",
    "        if metric == \"recall\":\n",
    "            metric_list.append(df_valid_results.weightedRecall)\n",
    "\n",
    "        elif metric == \"precision\":\n",
    "            metric_list.append(df_valid_results.weightedPrecision)\n",
    "        \n",
    "        else:\n",
    "            metric_list.append(df_valid_results.accuracy)\n",
    "        \n",
    "        del model # Full Fit again in another K fold\n",
    "\n",
    "    r = np.mean(metric_list)\n",
    "    \n",
    "    return r"
   ]
  },
  {
   "cell_type": "code",
   "execution_count": 43,
   "metadata": {},
   "outputs": [],
   "source": [
    "# Pyspark Pipeline New Functions\n",
    "\n",
    "def noise_removal(\n",
    "    dataframe: DataFrame,\n",
    "    y_col: str = \"Score\"  \n",
    "):\n",
    "    \"\"\"\n",
    "    Simple Noise Removal and Score label creation\n",
    "    \"\"\"\n",
    "    \n",
    "    if y_col not in dataframe.columns:\n",
    "        raise AnalysisException(f\"'{y_col}' column not exists on DataFrame\")\n",
    "\n",
    "    # Get only available stars / scores\n",
    "    df = dataframe.filter(pf.col(y_col).isin([0, 1, 2, 3, 4, 5]))\n",
    "\n",
    "    # Good, Neutral and Bad\n",
    "    df = df.withColumn(\n",
    "        \"new_score\",\n",
    "        pf.when(pf.col(y_col) == 1, 0)\\\n",
    "        .when((pf.col(y_col) > 1) & (pf.col(y_col) <= 3), 1) \\\n",
    "        .when(pf.col(y_col) > 3, 2)\n",
    "    )\n",
    "\n",
    "    df = df.filter(pf.col(\"new_score\").isin([0, 1, 2]))\n",
    "\n",
    "    df = df.select(\n",
    "        pf.col(\"Id\").alias(\"id\"),\n",
    "        pf.col(\"new_score\").alias(\"label\"),\n",
    "        pf.col(\"Text\").alias(\"text\")\n",
    "    )\n",
    "\n",
    "    return df"
   ]
  },
  {
   "cell_type": "code",
   "execution_count": 44,
   "metadata": {},
   "outputs": [],
   "source": [
    "def log_mlflow_artifacts(\n",
    "    mlflow,\n",
    "    estimator,\n",
    "    metrics: MulticlassMetrics,\n",
    "    model_params: dict,\n",
    "    labels: list = [0, 1, 2],\n",
    "    estimator_log_name=\"rfc_model\",\n",
    "    verbose=True\n",
    "):\n",
    "    \"\"\"\n",
    "    Plot Multiclass Metrics.\n",
    "    \n",
    "    inputs:\n",
    "        - metrics: PySpark MulticlassMetrics object.\n",
    "        - labels: list of all available lables on DataFrame.\n",
    "\n",
    "    returns:\n",
    "        - ax: Matplotlib axis of heatmap.\n",
    "    \n",
    "    \"\"\"\n",
    "\n",
    "    acc = metrics.accuracy\n",
    "    wre = metrics.weightedRecall\n",
    "    wpr = metrics.weightedPrecision\n",
    "    \n",
    "    if verbose:\n",
    "        print(f\"Accuracy: {acc:.4f}\")\n",
    "        print(f\"W. Recall: {wre:.4f}\")\n",
    "        print(f\"W. Precision: {wpr:.4f}\\n\")\n",
    "\n",
    "        for label in set(labels):\n",
    "            print(f\"Label: {label}, Recall: {metrics.precision(label):.4f}\")\n",
    "            print(f\"Label: {label}, Precision: {metrics.precision(label):.4f}\\n\")\n",
    "        \n",
    "    # Mlflow Logs\n",
    "    fig, ax = plt.subplots()\n",
    "    ax = sns.heatmap(metrics.confusionMatrix().toArray(), cmap=\"Blues\", annot=True, fmt=\"g\", linewidths=0.5, linecolor=\"k\", ax=ax)\n",
    "    ax.set_title(\"Confusion Matrix\")\n",
    "    ax.set_ylabel(\"True label\")\n",
    "    ax.set_xlabel(\"Predicted label\")\n",
    "\n",
    "    mlflow.log_figure(fig, \"figs/conf_matrix.png\")\n",
    "\n",
    "    mlflow.log_metric(\"accuracy\", metrics.accuracy)\n",
    "    mlflow.log_metric(\"precision\", metrics.weightedPrecision)\n",
    "    mlflow.log_metric(\"recal\", metrics.weightedPrecision)\n",
    "\n",
    "    mlflow.log_params(model_params)\n",
    "\n",
    "    mlflow.spark.log_model(estimator, estimator_log_name)\n",
    "\n",
    "    if verbose:\n",
    "        return fig\n",
    "    \n",
    "    else:\n",
    "        return None\n",
    "\n",
    "def simple_cross_validation_k_times(\n",
    "    df_cross: DataFrame,\n",
    "    validation_fractions: dict,\n",
    "    experiment_id: str,\n",
    "    k: int = 5,\n",
    "    mlflow = mlflow,\n",
    "    run_name: str = \"base-pyspark-model-k\",\n",
    "    params_dict: dict = {},\n",
    "    verbose=True\n",
    ") -> pd.DataFrame:\n",
    "    \n",
    "    k_fold_list = []\n",
    "    recall_list = []\n",
    "    accuracy_list = []\n",
    "    precision_list = []\n",
    "\n",
    "    if not params_dict:\n",
    "        params_dict = dict(\n",
    "            maxDepth=5, \n",
    "            maxBins=32, \n",
    "            numTrees=100,\n",
    "            minInfoGain=0.0, \n",
    "            impurity=\"gini\",\n",
    "            minInstancesPerNode=1,\n",
    "            featureSubsetStrategy=\"auto\"\n",
    "        )\n",
    "\n",
    "    for i in range(1, k + 1):\n",
    "        print(f\"\\nTraining Fold: {i}\\n\")\n",
    "\n",
    "        with mlflow.start_run(\n",
    "            nested=True,\n",
    "            run_name=f\"{run_name}-{i}\",\n",
    "            experiment_id=experiment_id\n",
    "        ):\n",
    "            \n",
    "            # Sample for Valid Dataset\n",
    "            df_valid_cross = df_cross.sampleBy(col=\"label\", fractions=validation_fractions)\n",
    "\n",
    "            # Filter for Train Cross Dataset\n",
    "            df_train_cross = df_cross.join(\n",
    "                df_valid_cross.select(\n",
    "                    pf.col(\"id\"),\n",
    "                    pf.col(\"label\").alias(\"t_label\")\n",
    "                ),\n",
    "                on=\"id\",\n",
    "                how=\"left\"\n",
    "            )\n",
    "\n",
    "            df_train_cross = df_train_cross.filter(pf.col(\"t_label\").isNull())\n",
    "\n",
    "            df_train_cross = df_train_cross.select(\n",
    "                pf.col(\"id\"),\n",
    "                pf.col(\"features\"),\n",
    "                pf.col(\"label\")\n",
    "            )\n",
    "\n",
    "            # Random Forest Estimator\n",
    "            rfc = RandomForestClassifier(\n",
    "                featuresCol=\"features\",\n",
    "                labelCol=\"label\",\n",
    "                **params_dict\n",
    "            )\n",
    "\n",
    "            rfc = rfc.fit(df_train_cross)\n",
    "            df_valid_results = rfc.transform(df_valid_cross)\n",
    "            df_valid_results = get_metrics(df_valid_results, \"label\")\n",
    "\n",
    "            log_mlflow_artifacts(mlflow, rfc, df_valid_results, params_dict, verbose=verbose)\n",
    "\n",
    "        k_fold_list.append(i)\n",
    "        recall_list.append(df_valid_results.weightedRecall)\n",
    "        accuracy_list.append(df_valid_results.accuracy)\n",
    "        precision_list.append(df_valid_results.weightedPrecision)\n",
    "        \n",
    "        del rfc # Full Fit again in another K fold\n",
    "\n",
    "    r = pd.DataFrame(\n",
    "        {\"fold\": k_fold_list,\n",
    "         \"accuracy\": accuracy_list,\n",
    "         \"recall\": recall_list,\n",
    "         \"precision\": precision_list},\n",
    "    )\n",
    "    \n",
    "    return r"
   ]
  },
  {
   "cell_type": "code",
   "execution_count": 45,
   "metadata": {},
   "outputs": [],
   "source": [
    "def get_text_embeddings(\n",
    "    dataframe: DataFrame,\n",
    "    join_dataframe: DataFrame,\n",
    "    text_col: str = \"text\",\n",
    "    id_column: str = \"id\"\n",
    "):\n",
    "    \n",
    "    model = SentenceTransformer(\n",
    "        \"sentence-transformers/paraphrase-MiniLM-L6-v2\"\n",
    "    )\n",
    "\n",
    "    sentences = dataframe.select(pf.col(text_col)).collect()\n",
    "    sentences = [k[0] for k in sentences]\n",
    "\n",
    "    output = model.encode(\n",
    "        sentences=sentences,\n",
    "        show_progress_bar=True,\n",
    "        normalize_embeddings=True,\n",
    "        convert_to_numpy=True,\n",
    "        output_value=\"sentence_embedding\"\n",
    "    )\n",
    "\n",
    "    # Generate DataFrame pandas with embeddings and id column from dataframe\n",
    "    output = output.astype(np.float64)\n",
    "    df_output = pd.DataFrame(output)\n",
    "    df_output[id_column] = [k[0] for k in dataframe.select(id_column).collect()]\n",
    "\n",
    "    df_embs = spark.createDataFrame(df_output)\n",
    "\n",
    "    vec = VectorAssembler(\n",
    "        inputCols=df_embs.columns[:-1],\n",
    "        outputCol=\"features\"\n",
    "    )\n",
    "\n",
    "    df_embs = vec.transform(df_embs)\n",
    "\n",
    "    df_embs = df_embs.select(id_column, \"features\")\n",
    "\n",
    "    join_e_dataframe = join_dataframe.join(df_embs, on=\"id\", how=\"inner\")\n",
    "\n",
    "    return join_e_dataframe"
   ]
  },
  {
   "cell_type": "markdown",
   "metadata": {},
   "source": [
    "### 0.3. Read Data"
   ]
  },
  {
   "cell_type": "code",
   "execution_count": 7,
   "metadata": {},
   "outputs": [
    {
     "name": "stderr",
     "output_type": "stream",
     "text": [
      "                                                                                \r"
     ]
    }
   ],
   "source": [
    "base_path = \"/home/grc/arep/sentiment_analysis/data/archive/\"\n",
    "\n",
    "df_raw = spark.read.format(\"csv\") \\\n",
    "              .option(\"header\", \"true\") \\\n",
    "              .option(\"inferSchema\", \"true\") \\\n",
    "              .option(\"delimiter\", \",\") \\\n",
    "              .load(base_path + \"Reviews.csv\")\n",
    "\n",
    "df_raw = df_raw.select(\n",
    "    pf.col(\"Text\"),\n",
    "    pf.col(\"Score\"),\n",
    "    pf.col(\"Id\")\n",
    ")"
   ]
  },
  {
   "cell_type": "markdown",
   "metadata": {},
   "source": [
    "## 1.0. Simple Noise Checkout"
   ]
  },
  {
   "cell_type": "code",
   "execution_count": 8,
   "metadata": {},
   "outputs": [
    {
     "name": "stdout",
     "output_type": "stream",
     "text": [
      "+--------------------+--------------+----+\n",
      "|                Text|         Score|  Id|\n",
      "+--------------------+--------------+----+\n",
      "|Love at first bit...|            47| 523|\n",
      "|                   5| and Kitten\"\"\"|3018|\n",
      "|At least it wasn'...|             6|3415|\n",
      "|                   5|        Dad\"\"\"|4105|\n",
      "|America's Favorit...|            17|4408|\n",
      "+--------------------+--------------+----+\n",
      "only showing top 5 rows\n",
      "\n"
     ]
    }
   ],
   "source": [
    "df_raw.filter(~pf.col(\"Score\").isin([0, 1, 2, 3, 4, 5])).show(5)"
   ]
  },
  {
   "cell_type": "code",
   "execution_count": 9,
   "metadata": {},
   "outputs": [],
   "source": [
    "# Get only available stars / scores\n",
    "df_raw = df_raw.filter(pf.col(\"Score\").isin([0, 1, 2, 3, 4, 5]))\n",
    "\n",
    "# Good, Neutral and Bad\n",
    "df_raw = df_raw.withColumn(\n",
    "    \"new_score\",\n",
    "    pf.when(pf.col(\"Score\") == 1, 0)\\\n",
    "      .when((pf.col(\"Score\") > 1) & (pf.col(\"Score\") <= 3), 1) \\\n",
    "      .when(pf.col(\"Score\") > 3, 2)\n",
    ")\n",
    "\n",
    "df_raw = df_raw.filter(pf.col(\"new_score\").isin([0, 1, 2]))"
   ]
  },
  {
   "cell_type": "code",
   "execution_count": 10,
   "metadata": {},
   "outputs": [
    {
     "name": "stderr",
     "output_type": "stream",
     "text": [
      "[Stage 3:>                                                        (0 + 12) / 12]\r"
     ]
    },
    {
     "name": "stdout",
     "output_type": "stream",
     "text": [
      "+---------+------+\n",
      "|new_score| Count|\n",
      "+---------+------+\n",
      "|        1| 72379|\n",
      "|        2|441789|\n",
      "|        0| 52635|\n",
      "+---------+------+\n",
      "\n"
     ]
    },
    {
     "name": "stderr",
     "output_type": "stream",
     "text": [
      "                                                                                \r"
     ]
    }
   ],
   "source": [
    "# Check Class Balance\n",
    "\n",
    "df_raw.groupBy(\"new_score\").agg(\n",
    "    pf.count(\"Text\").alias(\"Count\")\n",
    ").show()"
   ]
  },
  {
   "cell_type": "code",
   "execution_count": 11,
   "metadata": {},
   "outputs": [
    {
     "name": "stdout",
     "output_type": "stream",
     "text": [
      "+--------------------+-----+---+---------+\n",
      "|                Text|Score| Id|new_score|\n",
      "+--------------------+-----+---+---------+\n",
      "|I have bought sev...|    5|  1|        2|\n",
      "|\"Product arrived ...|    1|  2|        0|\n",
      "|\"This is a confec...|    4|  3|        2|\n",
      "|If you are lookin...|    2|  4|        1|\n",
      "|Great taffy at a ...|    5|  5|        2|\n",
      "|I got a wild hair...|    4|  6|        2|\n",
      "+--------------------+-----+---+---------+\n",
      "only showing top 6 rows\n",
      "\n"
     ]
    }
   ],
   "source": [
    "df_raw.show(6)"
   ]
  },
  {
   "cell_type": "markdown",
   "metadata": {},
   "source": [
    "## 2.0. Data Preprocessing"
   ]
  },
  {
   "cell_type": "code",
   "execution_count": 12,
   "metadata": {},
   "outputs": [],
   "source": [
    "df1 = df_raw.select(\n",
    "    pf.col(\"Id\").alias(\"id\"),\n",
    "    pf.col(\"new_score\").alias(\"score\"),\n",
    "    pf.col(\"Text\").alias(\"text\")\n",
    ")"
   ]
  },
  {
   "cell_type": "markdown",
   "metadata": {},
   "source": [
    "### 2.1. Dataset Balance"
   ]
  },
  {
   "cell_type": "markdown",
   "metadata": {},
   "source": [
    "In this **first** step, I will \"sample\" the dataset, i will start balancing the classes with 7_000 rows of each class, in a total of 21000 rows.\n",
    "In this dataset we have a min class size of 52635, I can random select 52635 examples for each class for random undersampling technique, but for now: \"very small dataset\".\n",
    "\n",
    "![Alt text](image.png)\n",
    "\n",
    "After that, is the step of split the dataset into three distincts datasets on start of any data science / m.l study or real project.\n",
    "This datasets is used for fine tuning and test generalization of estimator.\n",
    "\n",
    "1. Training - Training first spark ML estimator, and get scalers representations for future transform others datasets;\n",
    "2. Validation - Valide training performance and tuning process on this dataset;\n",
    "3. Testing - This slice of dataset is used to measure generalization in production;\n",
    "\n",
    "![Alt text](image-1.png)"
   ]
  },
  {
   "cell_type": "code",
   "execution_count": 13,
   "metadata": {},
   "outputs": [
    {
     "data": {
      "text/plain": [
       "[1, 2, 0]"
      ]
     },
     "execution_count": 13,
     "metadata": {},
     "output_type": "execute_result"
    }
   ],
   "source": [
    "# I will just use a sample of 7_000 rows\n",
    "total_samples_of_each_class = 7_000\n",
    "\n",
    "labels = [k[0] for k in df1.select(pf.col(\"score\")).distinct().collect()]\n",
    "\n",
    "labels"
   ]
  },
  {
   "cell_type": "code",
   "execution_count": 14,
   "metadata": {},
   "outputs": [
    {
     "name": "stdout",
     "output_type": "stream",
     "text": [
      "+---+-----+----+\n",
      "| id|score|text|\n",
      "+---+-----+----+\n",
      "| -1|   -1|none|\n",
      "+---+-----+----+\n",
      "\n"
     ]
    }
   ],
   "source": [
    "# Base dataset for balance and union\n",
    "df_samples = spark.createDataFrame(\n",
    "    data=[{\"id\": -1, \"score\": -1, \"text\": \"none\"}]\n",
    ")\n",
    "\n",
    "df_samples.show()"
   ]
  },
  {
   "cell_type": "code",
   "execution_count": 15,
   "metadata": {},
   "outputs": [],
   "source": [
    "# For each class, I will select top 7_000 rows.\n",
    "# You can use random select too, but for reproducibility I will use the top 7000 btw.\n",
    "\n",
    "for label in labels:\n",
    "\n",
    "    # Filter classes\n",
    "    df_filter_class = df1.filter(pf.col(\"score\") == label).limit(total_samples_of_each_class)\n",
    "\n",
    "    df_filter_class = df_filter_class.select(\n",
    "        pf.col(\"id\"),\n",
    "        pf.col(\"score\"),\n",
    "        pf.col(\"text\")\n",
    "    )\n",
    "\n",
    "    # Union on df_samples reference\n",
    "    df_samples = df_samples.select(\n",
    "        pf.col(\"id\"),\n",
    "        pf.col(\"score\"),\n",
    "        pf.col(\"text\")).unionAll(\n",
    "            df_filter_class.select(\n",
    "                pf.col(\"id\"),\n",
    "                pf.col(\"score\"),\n",
    "                pf.col(\"text\")\n",
    "            )\n",
    "        )\n",
    "\n",
    "df_samples = df_samples.filter(pf.col(\"score\").isin(labels))"
   ]
  },
  {
   "cell_type": "code",
   "execution_count": 16,
   "metadata": {},
   "outputs": [
    {
     "name": "stderr",
     "output_type": "stream",
     "text": [
      "                                                                                \r"
     ]
    },
    {
     "name": "stdout",
     "output_type": "stream",
     "text": [
      "+---+-----+--------------------+\n",
      "| id|score|                text|\n",
      "+---+-----+--------------------+\n",
      "|  4|    1|If you are lookin...|\n",
      "| 17|    1|I love eating the...|\n",
      "| 46|    1|This seems a litt...|\n",
      "| 48|    1|The flavors are g...|\n",
      "| 50|    1|This is the same ...|\n",
      "+---+-----+--------------------+\n",
      "only showing top 5 rows\n",
      "\n"
     ]
    }
   ],
   "source": [
    "df_samples.show(5)"
   ]
  },
  {
   "cell_type": "code",
   "execution_count": 17,
   "metadata": {},
   "outputs": [
    {
     "name": "stderr",
     "output_type": "stream",
     "text": [
      "[Stage 30:======================================>                  (8 + 4) / 12]\r"
     ]
    },
    {
     "name": "stdout",
     "output_type": "stream",
     "text": [
      "+-----+-----+\n",
      "|score|count|\n",
      "+-----+-----+\n",
      "|    1| 7000|\n",
      "|    2| 7000|\n",
      "|    0| 7000|\n",
      "+-----+-----+\n",
      "\n"
     ]
    },
    {
     "name": "stderr",
     "output_type": "stream",
     "text": [
      "                                                                                \r"
     ]
    }
   ],
   "source": [
    "df_samples.groupBy(\"score\").agg(pf.count(\"text\").alias(\"count\")).show()"
   ]
  },
  {
   "cell_type": "markdown",
   "metadata": {},
   "source": [
    "### 2.2. Split Into Train and Valid"
   ]
  },
  {
   "cell_type": "code",
   "execution_count": 18,
   "metadata": {},
   "outputs": [],
   "source": [
    "test_valid_total_size = 1_000\n",
    "\n",
    "df_valid = spark.createDataFrame(data=[{\"id\": -1, \"score\": -1, \"text\": \"none\"}])\n",
    "\n",
    "# Make the same subsample of previous step for sample classes\n",
    "for label in labels:\n",
    "    df_filter_class = df_samples.filter(pf.col(\"score\") == label).limit(test_valid_total_size)\n",
    "\n",
    "    df_filter_class = df_filter_class.select(\n",
    "        pf.col(\"id\"),\n",
    "        pf.col(\"score\"),\n",
    "        pf.col(\"text\")\n",
    "    )\n",
    "\n",
    "    df_valid = df_valid.select(\n",
    "        pf.col(\"id\"),\n",
    "        pf.col(\"score\"),\n",
    "        pf.col(\"text\")).unionAll(\n",
    "            df_filter_class.select(\n",
    "                pf.col(\"id\"),\n",
    "                pf.col(\"score\"),\n",
    "                pf.col(\"text\")\n",
    "            )\n",
    "        )\n",
    "\n",
    "df_valid = df_valid.filter(pf.col(\"score\").isin(labels))"
   ]
  },
  {
   "cell_type": "code",
   "execution_count": 19,
   "metadata": {},
   "outputs": [],
   "source": [
    "# Join with all 7_000 samples for split\n",
    "\n",
    "df_train = df_samples.join(\n",
    "    df_valid.select(\n",
    "        pf.col(\"id\"),\n",
    "        pf.col(\"score\").alias(\"test_score\")\n",
    "    ), \n",
    "    how=\"left\",\n",
    "    on=\"id\"\n",
    ")\n",
    "\n",
    "df_train = df_train.filter(\n",
    "    pf.col(\"test_score\").isNull()\n",
    "    ).select(\n",
    "        pf.col(\"id\"),\n",
    "        pf.col(\"score\"),\n",
    "        pf.col(\"text\")\n",
    "    )"
   ]
  },
  {
   "cell_type": "code",
   "execution_count": 20,
   "metadata": {},
   "outputs": [],
   "source": [
    "# In this case i put all previous logic inside a function.\n",
    "\n",
    "df_train, df_test = split_top_k_dataframe_by_classes(\n",
    "    df_base=df_train,\n",
    "    split_size=1_000,\n",
    "    labels=labels\n",
    ")"
   ]
  },
  {
   "cell_type": "code",
   "execution_count": 21,
   "metadata": {},
   "outputs": [
    {
     "name": "stderr",
     "output_type": "stream",
     "text": [
      "                                                                                \r"
     ]
    },
    {
     "name": "stdout",
     "output_type": "stream",
     "text": [
      "+-----+-----+--------------------+\n",
      "|   id|score|                text|\n",
      "+-----+-----+--------------------+\n",
      "|46850|    1|Like others have ...|\n",
      "|50788|    1|\"I just wanted to...|\n",
      "|51173|    1|The white and bro...|\n",
      "| 7129|    1|\"I was looking fo...|\n",
      "| 8147|    1|\"My reason for th...|\n",
      "+-----+-----+--------------------+\n",
      "only showing top 5 rows\n",
      "\n"
     ]
    },
    {
     "name": "stderr",
     "output_type": "stream",
     "text": [
      "                                                                                \r"
     ]
    },
    {
     "name": "stdout",
     "output_type": "stream",
     "text": [
      "+---+-----+--------------------+\n",
      "| id|score|                text|\n",
      "+---+-----+--------------------+\n",
      "|  4|    1|If you are lookin...|\n",
      "| 17|    1|I love eating the...|\n",
      "| 46|    1|This seems a litt...|\n",
      "| 48|    1|The flavors are g...|\n",
      "| 50|    1|This is the same ...|\n",
      "+---+-----+--------------------+\n",
      "only showing top 5 rows\n",
      "\n"
     ]
    },
    {
     "name": "stderr",
     "output_type": "stream",
     "text": [
      "                                                                                \r"
     ]
    },
    {
     "name": "stdout",
     "output_type": "stream",
     "text": [
      "+-----+-----+--------------------+\n",
      "|   id|score|                text|\n",
      "+-----+-----+--------------------+\n",
      "| 8484|    1|I was surprised t...|\n",
      "| 9233|    1|\"First, let me sa...|\n",
      "| 9978|    1|I was surprised b...|\n",
      "|10422|    1|The coffee is ove...|\n",
      "|11276|    1|\"These aren't cle...|\n",
      "+-----+-----+--------------------+\n",
      "only showing top 5 rows\n",
      "\n"
     ]
    }
   ],
   "source": [
    "df_train.show(5)\n",
    "\n",
    "df_valid.show(5)\n",
    "\n",
    "df_test.show(5)"
   ]
  },
  {
   "cell_type": "code",
   "execution_count": 19,
   "metadata": {},
   "outputs": [
    {
     "name": "stderr",
     "output_type": "stream",
     "text": [
      "                                                                                \r"
     ]
    },
    {
     "name": "stdout",
     "output_type": "stream",
     "text": [
      "+-----+-----+\n",
      "|score|count|\n",
      "+-----+-----+\n",
      "|    1| 5000|\n",
      "|    0| 5000|\n",
      "|    2| 5000|\n",
      "+-----+-----+\n",
      "\n"
     ]
    },
    {
     "name": "stderr",
     "output_type": "stream",
     "text": [
      "                                                                                \r"
     ]
    },
    {
     "name": "stdout",
     "output_type": "stream",
     "text": [
      "+-----+-----+\n",
      "|score|count|\n",
      "+-----+-----+\n",
      "|    1| 1000|\n",
      "|    2| 1000|\n",
      "|    0| 1000|\n",
      "+-----+-----+\n",
      "\n"
     ]
    },
    {
     "name": "stderr",
     "output_type": "stream",
     "text": [
      "                                                                                \r"
     ]
    },
    {
     "name": "stdout",
     "output_type": "stream",
     "text": [
      "+-----+-----+\n",
      "|score|count|\n",
      "+-----+-----+\n",
      "|    1| 1000|\n",
      "|    2| 1000|\n",
      "|    0| 1000|\n",
      "+-----+-----+\n",
      "\n"
     ]
    }
   ],
   "source": [
    "df_train.groupBy(\"score\").agg(pf.count(\"text\").alias(\"count\")).show()\n",
    "\n",
    "df_valid.groupBy(\"score\").agg(pf.count(\"text\").alias(\"count\")).show()\n",
    "\n",
    "df_test.groupBy(\"score\").agg(pf.count(\"text\").alias(\"count\")).show()"
   ]
  },
  {
   "cell_type": "code",
   "execution_count": 20,
   "metadata": {},
   "outputs": [
    {
     "name": "stderr",
     "output_type": "stream",
     "text": [
      "                                                                                \r"
     ]
    },
    {
     "name": "stdout",
     "output_type": "stream",
     "text": [
      "+---+-----+----+-----+----+\n",
      "| id|score|text|score|text|\n",
      "+---+-----+----+-----+----+\n",
      "+---+-----+----+-----+----+\n",
      "\n"
     ]
    },
    {
     "name": "stderr",
     "output_type": "stream",
     "text": [
      "                                                                                \r"
     ]
    },
    {
     "name": "stdout",
     "output_type": "stream",
     "text": [
      "+---+-----+----+-----+----+\n",
      "| id|score|text|score|text|\n",
      "+---+-----+----+-----+----+\n",
      "+---+-----+----+-----+----+\n",
      "\n"
     ]
    },
    {
     "name": "stderr",
     "output_type": "stream",
     "text": [
      "                                                                                \r"
     ]
    },
    {
     "name": "stdout",
     "output_type": "stream",
     "text": [
      "+---+-----+----+-----+----+\n",
      "| id|score|text|score|text|\n",
      "+---+-----+----+-----+----+\n",
      "+---+-----+----+-----+----+\n",
      "\n"
     ]
    }
   ],
   "source": [
    "# Not exists same Id on Train, Test and Valid DataFrames.\n",
    "# Assumption: Id is unique.\n",
    "\n",
    "df_train.join(df_test, on=\"id\", how=\"inner\").show()\n",
    "\n",
    "df_train.join(df_valid, on=\"id\", how=\"inner\").show()\n",
    "\n",
    "df_test.join(df_valid, on=\"id\", how=\"inner\").show()"
   ]
  },
  {
   "cell_type": "markdown",
   "metadata": {},
   "source": [
    "### 2.3. Data Cleaning and Tokenization"
   ]
  },
  {
   "cell_type": "code",
   "execution_count": 22,
   "metadata": {},
   "outputs": [],
   "source": [
    "# Normalization and remove minor wrongs\n",
    "\n",
    "df_train = df_train.withColumn(\n",
    "    \"text\",\n",
    "    pf.regexp_replace(pf.regexp_replace(pf.regexp_replace(pf.lower(pf.trim(pf.col(\"text\"))), '\"', \"\"), \"  \", \" \"), \"  \", \" \")\n",
    ")\n",
    "\n",
    "df_valid = df_valid.withColumn(\n",
    "    \"text\",\n",
    "    pf.regexp_replace(pf.regexp_replace(pf.regexp_replace(pf.lower(pf.trim(pf.col(\"text\"))), '\"', \"\"), \"  \", \" \"), \"  \", \" \")\n",
    ")"
   ]
  },
  {
   "cell_type": "code",
   "execution_count": 23,
   "metadata": {},
   "outputs": [],
   "source": [
    "# Remove Tags and Especial Chars\n",
    "\n",
    "df_train = df_train.withColumn(\n",
    "    \"text\",\n",
    "    pf.regexp_replace(pf.regexp_replace(pf.regexp_replace(pf.regexp_replace(pf.regexp_replace(pf.col(\"text\"), \"'\", \"\"), \"<br /><br />\", \"\"), \"<br />\", \"\"), \"\\'\", \"'\"), \"<a href=\", \"\")\n",
    ")\n",
    "\n",
    "df_valid = df_valid.withColumn(\n",
    "    \"text\",\n",
    "    pf.regexp_replace(pf.regexp_replace(pf.regexp_replace(pf.regexp_replace(pf.regexp_replace(pf.col(\"text\"), \"'\", \"\"), \"<br /><br />\", \"\"), \"<br />\", \"\"), \"\\'\", \"'\"), \"<a href=\", \"\")\n",
    ")"
   ]
  },
  {
   "cell_type": "code",
   "execution_count": 24,
   "metadata": {},
   "outputs": [],
   "source": [
    "# Fix Wrong writes\n",
    "\n",
    "df_train = df_train.withColumn(\n",
    "    \"text\",\n",
    "    pf.regexp_replace(pf.col(\"text\"), \" u \", \" you \")\n",
    ")\n",
    "\n",
    "df_valid = df_valid.withColumn(\n",
    "    \"text\",\n",
    "    pf.regexp_replace(pf.col(\"text\"), \" u \", \" you \")\n",
    ")"
   ]
  },
  {
   "cell_type": "code",
   "execution_count": 25,
   "metadata": {},
   "outputs": [],
   "source": [
    "# Remove Extra Simbols and Site URL'S\n",
    "\n",
    "df_train = df_train.withColumn(\n",
    "    \"text\",\n",
    "    pf.regexp_replace(pf.regexp_replace(pf.regexp_replace(pf.col(\"text\"), \"http\\S+\", \"\"), \"https\\S+\", \"\"), \"  \", \" \")\n",
    ")\n",
    "\n",
    "df_valid = df_valid.withColumn(\n",
    "    \"text\",\n",
    "    pf.regexp_replace(pf.regexp_replace(pf.regexp_replace(pf.col(\"text\"), \"http\\S+\", \"\"), \"https\\S+\", \"\"), \"  \", \" \")\n",
    ")"
   ]
  },
  {
   "cell_type": "code",
   "execution_count": 26,
   "metadata": {},
   "outputs": [],
   "source": [
    "# I have created a Function too for preprocessing text data\n",
    "\n",
    "df_test = preprocessing_text_data(\n",
    "    dataframe=df_test,\n",
    "    text_col=\"text\"\n",
    ")"
   ]
  },
  {
   "cell_type": "code",
   "execution_count": 26,
   "metadata": {},
   "outputs": [
    {
     "name": "stderr",
     "output_type": "stream",
     "text": [
      "                                                                                \r"
     ]
    },
    {
     "name": "stdout",
     "output_type": "stream",
     "text": [
      "+-----+-----+--------------------------------------------------------------------------------------------------------------------------------------------------------------------------------------------------------------------------------------------------------------------------------------------------------------------------------------------------------------------------------------------------------------------------------------------------------------------------------------------------------------------------------------------------------------------------------------------------------------------------------------------------------------------------------------------------------------------------------------------------------------------------+\n",
      "|id   |score|text                                                                                                                                                                                                                                                                                                                                                                                                                                                                                                                                                                                                                                                                                                                                                                      |\n",
      "+-----+-----+--------------------------------------------------------------------------------------------------------------------------------------------------------------------------------------------------------------------------------------------------------------------------------------------------------------------------------------------------------------------------------------------------------------------------------------------------------------------------------------------------------------------------------------------------------------------------------------------------------------------------------------------------------------------------------------------------------------------------------------------------------------------------+\n",
      "|46850|1    |like others have said it tastes like yellow powerade with a bit of a twist. very refreshing but i very much prefer the regular version with pulp.                                                                                                                                                                                                                                                                                                                                                                                                                                                                                                                                                                                                                         |\n",
      "|50788|1    |i just wanted to let everyone know about hair oil products bc i use them at times.. while this product does smell, it should not be worn outside, it should only be used as a leave in treatment and as such, should be used at night and shampood out in the morning. never leave it in all day. i have not used this particular product but amla is a kind of a gooseberry and thats the primary ingredient in this (this oil is an ayurvedic product). amla is very beneficial for dandruff and dry scalp so this will help with that. but a great hair oil i use to get my hair to be healthy and grow faster is called vatika and its from the same company(its on amazon). this oil does not smell bc its a coconut oil and it also has a nice fragrance added to it|\n",
      "|51173|1    |the white and brown rice is much better. this rice is nothing like i expected... cannot eat without masking the flavor.                                                                                                                                                                                                                                                                                                                                                                                                                                                                                                                                                                                                                                                   |\n",
      "|7129 |1    |i was looking for a simple and inexpensive way to provide my own supply of home made k-cups. this product is all that it is described to be;fairly easy to use and does not adversely affect the cup of coffee. clearly                                                                                                                                                                                                                                                                                                                                                                                                                                                                                                                                                   |\n",
      "|8147 |1    |my reason for the low rating is that there was no use by date on the bag                                                                                                                                                                                                                                                                                                                                                                                                                                                                                                                                                                                                                                                                                                  |\n",
      "+-----+-----+--------------------------------------------------------------------------------------------------------------------------------------------------------------------------------------------------------------------------------------------------------------------------------------------------------------------------------------------------------------------------------------------------------------------------------------------------------------------------------------------------------------------------------------------------------------------------------------------------------------------------------------------------------------------------------------------------------------------------------------------------------------------------+\n",
      "only showing top 5 rows\n",
      "\n"
     ]
    }
   ],
   "source": [
    "df_train.show(5, truncate=False)"
   ]
  },
  {
   "cell_type": "markdown",
   "metadata": {},
   "source": [
    "## 3.0. LLM Text Encoding"
   ]
  },
  {
   "cell_type": "code",
   "execution_count": 29,
   "metadata": {},
   "outputs": [
    {
     "name": "stderr",
     "output_type": "stream",
     "text": [
      "2023-10-08 14:10:31.952341: I tensorflow/core/platform/cpu_feature_guard.cc:182] This TensorFlow binary is optimized to use available CPU instructions in performance-critical operations.\n",
      "To enable the following instructions: AVX2 FMA, in other operations, rebuild TensorFlow with the appropriate compiler flags.\n",
      "2023-10-08 14:10:36.447477: W tensorflow/compiler/tf2tensorrt/utils/py_utils.cc:38] TF-TRT Warning: Could not find TensorRT\n"
     ]
    }
   ],
   "source": [
    "model = SentenceTransformer(\n",
    "    \"sentence-transformers/paraphrase-MiniLM-L6-v2\"\n",
    ")"
   ]
  },
  {
   "cell_type": "code",
   "execution_count": null,
   "metadata": {},
   "outputs": [],
   "source": [
    "# Store list of sentences in memory, i will reccomend try this doc for large datasets:\n",
    "# Basically i need to use iter() for not store in memory the observations of pyspark dataset\n",
    "# https://huggingface.co/docs/datasets/use_with_spark\n",
    "\n",
    "train_sentences = df_train.select(pf.col(\"text\")).collect()\n",
    "train_sentences = [k[0] for k in train_sentences]"
   ]
  },
  {
   "cell_type": "code",
   "execution_count": 31,
   "metadata": {},
   "outputs": [
    {
     "data": {
      "text/plain": [
       "['like others have said it tastes like yellow powerade with a bit of a twist. very refreshing but i very much prefer the regular version with pulp.',\n",
       " 'i just wanted to let everyone know about hair oil products bc i use them at times.. while this product does smell, it should not be worn outside, it should only be used as a leave in treatment and as such, should be used at night and shampood out in the morning. never leave it in all day. i have not used this particular product but amla is a kind of a gooseberry and thats the primary ingredient in this (this oil is an ayurvedic product). amla is very beneficial for dandruff and dry scalp so this will help with that. but a great hair oil i use to get my hair to be healthy and grow faster is called vatika and its from the same company(its on amazon). this oil does not smell bc its a coconut oil and it also has a nice fragrance added to it',\n",
       " 'the white and brown rice is much better. this rice is nothing like i expected... cannot eat without masking the flavor.']"
      ]
     },
     "execution_count": 31,
     "metadata": {},
     "output_type": "execute_result"
    }
   ],
   "source": [
    "train_sentences[:3]"
   ]
  },
  {
   "cell_type": "code",
   "execution_count": 29,
   "metadata": {},
   "outputs": [
    {
     "name": "stderr",
     "output_type": "stream",
     "text": [
      "Batches: 100%|██████████| 469/469 [00:10<00:00, 44.64it/s] \n"
     ]
    }
   ],
   "source": [
    "output = model.encode(\n",
    "    sentences=train_sentences,\n",
    "    show_progress_bar=True,\n",
    "    normalize_embeddings=True,\n",
    "    convert_to_numpy=True,\n",
    "    output_value=\"sentence_embedding\"\n",
    ")\n",
    "\n",
    "output = output.astype(np.float64)"
   ]
  },
  {
   "cell_type": "code",
   "execution_count": 30,
   "metadata": {},
   "outputs": [
    {
     "name": "stderr",
     "output_type": "stream",
     "text": [
      "                                                                                \r"
     ]
    }
   ],
   "source": [
    "df_output = pd.DataFrame(output)\n",
    "\n",
    "df_output[\"id\"] = [k[0] for k in df_train.select(\"id\").collect()]\n",
    "\n",
    "df_embs_train = spark.createDataFrame(df_output)\n",
    "\n",
    "vec = VectorAssembler(\n",
    "    inputCols=df_embs_train.columns[:-1],\n",
    "    outputCol=\"features\"\n",
    ")\n",
    "\n",
    "df_embs_train = vec.transform(df_embs_train)\n",
    "\n",
    "df_embs_train = df_embs_train.select(\"id\", \"features\")\n",
    "\n",
    "df_e_train = df_train.join(df_embs_train, on=\"id\", how=\"inner\")"
   ]
  },
  {
   "cell_type": "code",
   "execution_count": 27,
   "metadata": {},
   "outputs": [
    {
     "name": "stderr",
     "output_type": "stream",
     "text": [
      "2023-10-08 15:01:34.644291: I tensorflow/core/platform/cpu_feature_guard.cc:182] This TensorFlow binary is optimized to use available CPU instructions in performance-critical operations.\n",
      "To enable the following instructions: AVX2 FMA, in other operations, rebuild TensorFlow with the appropriate compiler flags.\n",
      "2023-10-08 15:01:35.276674: W tensorflow/compiler/tf2tensorrt/utils/py_utils.cc:38] TF-TRT Warning: Could not find TensorRT\n",
      "Batches: 100%|██████████| 469/469 [00:10<00:00, 44.22it/s]                      \n",
      "                                                                                \r"
     ]
    }
   ],
   "source": [
    "df_e_train = get_text_embeddings(df_train, df_train, \"text\", \"id\")"
   ]
  },
  {
   "cell_type": "code",
   "execution_count": 28,
   "metadata": {},
   "outputs": [
    {
     "name": "stderr",
     "output_type": "stream",
     "text": [
      "Batches: 100%|██████████| 94/94 [00:01<00:00, 47.42it/s]                        \n",
      "                                                                                \r"
     ]
    }
   ],
   "source": [
    "df_e_valid = get_text_embeddings(df_valid, df_valid, \"text\", \"id\")"
   ]
  },
  {
   "cell_type": "code",
   "execution_count": 29,
   "metadata": {},
   "outputs": [
    {
     "name": "stderr",
     "output_type": "stream",
     "text": [
      "Batches: 100%|██████████| 94/94 [00:02<00:00, 45.73it/s]                        \n",
      "                                                                                \r"
     ]
    }
   ],
   "source": [
    "df_e_test = get_text_embeddings(df_test, df_test, \"text\", \"id\")"
   ]
  },
  {
   "cell_type": "markdown",
   "metadata": {},
   "source": [
    "## 4.0. Machine Learning Models"
   ]
  },
  {
   "cell_type": "markdown",
   "metadata": {},
   "source": [
    "Now i will try to fit a machine learning model to receive a document vector and produce a proba or classification for score label."
   ]
  },
  {
   "cell_type": "markdown",
   "metadata": {},
   "source": [
    "### 4.1. Random Forest Classifier"
   ]
  },
  {
   "cell_type": "code",
   "execution_count": 35,
   "metadata": {},
   "outputs": [],
   "source": [
    "client = mlflow.MlflowClient()\n",
    "\n",
    "mlruns_path = \"file:///home/grc/arep/sentiment_analysis/mlruns\"\n",
    "\n",
    "mlflow.set_tracking_uri(mlruns_path)\n",
    "\n",
    "experiment_name = \"grc-pyspark-sentiment-analisys\"\n",
    "\n",
    "try:\n",
    "    experiment_id = mlflow.get_experiment_by_name(name=experiment_name).experiment_id\n",
    "\n",
    "except:\n",
    "    experiment_id = mlflow.create_experiment(name=experiment_name)"
   ]
  },
  {
   "cell_type": "code",
   "execution_count": 45,
   "metadata": {},
   "outputs": [
    {
     "name": "stderr",
     "output_type": "stream",
     "text": [
      "23/10/08 13:03:59 WARN TaskSetManager: Stage 367 contains a task of very large size (3469 KiB). The maximum recommended task size is 1000 KiB.\n",
      "23/10/08 13:04:04 WARN TaskSetManager: Stage 426 contains a task of very large size (3469 KiB). The maximum recommended task size is 1000 KiB.\n",
      "23/10/08 13:04:08 WARN TaskSetManager: Stage 495 contains a task of very large size (3469 KiB). The maximum recommended task size is 1000 KiB.\n",
      "23/10/08 13:04:16 WARN DAGScheduler: Broadcasting large task binary with size 1077.1 KiB\n",
      "23/10/08 13:04:19 WARN TaskSetManager: Stage 605 contains a task of very large size (3469 KiB). The maximum recommended task size is 1000 KiB.\n",
      "/home/grc/arep/sentiment_analysis/lib/python3.10/site-packages/pyspark/sql/context.py:157: FutureWarning: Deprecated in 3.0.0. Use SparkSession.builder.getOrCreate() instead.\n",
      "  warnings.warn(\n"
     ]
    },
    {
     "name": "stdout",
     "output_type": "stream",
     "text": [
      "Accuracy: 0.5990\n",
      "W. Recall: 0.5990\n",
      "W. Precision: 0.5945\n",
      "\n",
      "Label: 0, Recall: 0.6039\n",
      "Label: 0, Precision: 0.6039\n",
      "\n",
      "Label: 1, Recall: 0.5719\n",
      "Label: 1, Precision: 0.5719\n",
      "\n",
      "Label: 2, Recall: 0.6077\n",
      "Label: 2, Precision: 0.6077\n",
      "\n"
     ]
    },
    {
     "name": "stderr",
     "output_type": "stream",
     "text": [
      "                                                                                \r"
     ]
    },
    {
     "data": {
      "image/png": "[encoded data removed]",
      "text/plain": [
       "<Figure size 640x480 with 2 Axes>"
      ]
     },
     "metadata": {},
     "output_type": "display_data"
    }
   ],
   "source": [
    "with mlflow.start_run(\n",
    "    experiment_id=experiment_id,\n",
    "    run_name=\"base-embs-pyspark-model\"\n",
    ") as active_run:\n",
    "    \n",
    "    model_params = dict(\n",
    "        maxDepth=5, \n",
    "        maxBins=32, \n",
    "        numTrees=100,\n",
    "        minInfoGain=0.0, \n",
    "        impurity=\"gini\",\n",
    "        minInstancesPerNode=1,\n",
    "        featureSubsetStrategy=\"auto\"\n",
    "    )\n",
    "\n",
    "    # Model Definition\n",
    "    rfc = RandomForestClassifier(\n",
    "        featuresCol=\"features\",\n",
    "        labelCol=\"score\",\n",
    "        **model_params\n",
    "    )\n",
    "\n",
    "    # Model Training\n",
    "    rfc = rfc.fit(df_e_train)\n",
    "\n",
    "    # Get Validation Metrics\n",
    "    df_valid_results = rfc.transform(df_e_valid)\n",
    "    valid_metrics = get_metrics(df_valid_results)\n",
    "\n",
    "    fig = log_mlflow_artifacts(\n",
    "        mlflow=mlflow,\n",
    "        estimator=rfc,\n",
    "        metrics=valid_metrics,\n",
    "        model_params=model_params\n",
    "    )"
   ]
  },
  {
   "cell_type": "markdown",
   "metadata": {},
   "source": [
    "#### 5.1.1. Register Random Forest Model"
   ]
  },
  {
   "cell_type": "code",
   "execution_count": 46,
   "metadata": {},
   "outputs": [
    {
     "name": "stderr",
     "output_type": "stream",
     "text": [
      "Registered model 'grc_ps_reviews_sentiment_analisys' already exists. Creating a new version of this model...\n",
      "2023/10/08 13:05:26 INFO mlflow.tracking._model_registry.client: Waiting up to 300 seconds for model version to finish creation. Model name: grc_ps_reviews_sentiment_analisys, version 2\n",
      "Created version '2' of model 'grc_ps_reviews_sentiment_analisys'.\n"
     ]
    }
   ],
   "source": [
    "reg_info = mlflow.register_model(\n",
    "    f\"runs:/{active_run.info.run_id}/rfc_model\",\n",
    "    \"grc_ps_reviews_sentiment_analisys\",\n",
    ");"
   ]
  },
  {
   "cell_type": "code",
   "execution_count": 47,
   "metadata": {},
   "outputs": [],
   "source": [
    "client = mlflow.MlflowClient()\n",
    "\n",
    "client.update_model_version(\n",
    "    name=reg_info.name,\n",
    "    version=reg_info.version,\n",
    "    description=\"This version looks like good, is new with llm embeddings, i will moving to staging!\"\n",
    ");"
   ]
  },
  {
   "cell_type": "code",
   "execution_count": 48,
   "metadata": {},
   "outputs": [],
   "source": [
    "client.transition_model_version_stage(\n",
    "    name=reg_info.name,\n",
    "    version=reg_info.version,\n",
    "    stage=\"Staging\",\n",
    "    archive_existing_versions=True\n",
    ");"
   ]
  },
  {
   "cell_type": "markdown",
   "metadata": {},
   "source": [
    "#### 5.1.2. Load Registred Model"
   ]
  },
  {
   "cell_type": "code",
   "execution_count": 69,
   "metadata": {},
   "outputs": [],
   "source": [
    "# Serve \"crate\" or \"pyfunc\" models in a api\n",
    "# mlflow models serve -m \"models:/grc_ps_reviews_sentiment_analisys/1\" -p 5001 -h 127.0.0.1"
   ]
  },
  {
   "cell_type": "code",
   "execution_count": 49,
   "metadata": {},
   "outputs": [
    {
     "name": "stderr",
     "output_type": "stream",
     "text": [
      "2023/10/08 13:06:15 INFO mlflow.spark: 'models:/grc_ps_reviews_sentiment_analisys/2' resolved as 'file:///home/grc/arep/sentiment_analysis/mlruns/354547188706375581/2abe7bc43f89460587a153fd663dec53/artifacts/rfc_model'\n",
      "2023/10/08 13:06:15 INFO mlflow.spark: URI 'models:/grc_ps_reviews_sentiment_analisys/2/sparkml' does not point to the current DFS.\n",
      "2023/10/08 13:06:15 INFO mlflow.spark: File 'models:/grc_ps_reviews_sentiment_analisys/2/sparkml' not found on DFS. Will attempt to upload the file.\n",
      "WARNING: An illegal reflective access operation has occurred\n",
      "WARNING: Illegal reflective access by org.apache.spark.util.SizeEstimator$ (file:/home/grc/spark/jars/spark-core_2.12-3.4.1.jar) to field java.math.BigInteger.mag\n",
      "WARNING: Please consider reporting this to the maintainers of org.apache.spark.util.SizeEstimator$\n",
      "WARNING: Use --illegal-access=warn to enable warnings of further illegal reflective access operations\n",
      "WARNING: All illegal access operations will be denied in a future release\n"
     ]
    }
   ],
   "source": [
    "estimator = mlflow.spark.load_model(\n",
    "    model_uri=f\"models:/grc_ps_reviews_sentiment_analisys/2\"\n",
    ")"
   ]
  },
  {
   "cell_type": "code",
   "execution_count": 51,
   "metadata": {},
   "outputs": [
    {
     "name": "stderr",
     "output_type": "stream",
     "text": [
      "/home/grc/arep/sentiment_analysis/lib/python3.10/site-packages/pyspark/sql/context.py:157: FutureWarning: Deprecated in 3.0.0. Use SparkSession.builder.getOrCreate() instead.\n",
      "  warnings.warn(\n"
     ]
    },
    {
     "name": "stdout",
     "output_type": "stream",
     "text": [
      "Accuracy: 0.5990\n",
      "W. Recall: 0.5990\n",
      "W. Precision: 0.5945\n",
      "\n",
      "Label: 0, Recall: 0.6039\n",
      "Label: 0, Precision: 0.6039\n",
      "\n",
      "Label: 1, Recall: 0.5719\n",
      "Label: 1, Precision: 0.5719\n",
      "\n",
      "Label: 2, Recall: 0.6077\n",
      "Label: 2, Precision: 0.6077\n",
      "\n"
     ]
    },
    {
     "data": {
      "text/plain": [
       "<Axes: title={'center': 'Confusion Matrix'}, xlabel='Predicted label', ylabel='True label'>"
      ]
     },
     "execution_count": 51,
     "metadata": {},
     "output_type": "execute_result"
    },
    {
     "data": {
      "image/png": "[encoded data removed]",
      "text/plain": [
       "<Figure size 640x480 with 2 Axes>"
      ]
     },
     "metadata": {},
     "output_type": "display_data"
    }
   ],
   "source": [
    "# Get Validation Metrics\n",
    "df_valid_results = estimator.transform(df_e_valid)\n",
    "valid_metrics = get_metrics(df_valid_results)\n",
    "\n",
    "plot_ml_metrics(valid_metrics)"
   ]
  },
  {
   "cell_type": "markdown",
   "metadata": {},
   "source": [
    "### 4.2. Cross Validation"
   ]
  },
  {
   "cell_type": "markdown",
   "metadata": {},
   "source": [
    "Is possible to use a CrossValidator of PySpark or make manual K-Fold loops.\n",
    "\n",
    "Steps of Cross Validation:\n",
    "\n",
    "1. Random Sample Dataset into Train and Test;\n",
    "2. Train dataset with Train sample and valid with Test;\n",
    "3. Repeat K times;\n",
    "4. Summarize Metrics;\n",
    "\n",
    "But in multiclass problems, is impossible to random split, because you can imbalance classes, I will need to random split and have same classes proportions."
   ]
  },
  {
   "cell_type": "markdown",
   "metadata": {},
   "source": [
    "#### 4.2.1. Loop K Fold Cross Validation"
   ]
  },
  {
   "cell_type": "markdown",
   "metadata": {},
   "source": [
    "##### 4.2.1.1. Save Intermediate Datasets"
   ]
  },
  {
   "cell_type": "code",
   "execution_count": 30,
   "metadata": {},
   "outputs": [],
   "source": [
    "df_train = df_e_train.select(\n",
    "    pf.col(\"id\"),\n",
    "    pf.col(\"features\"),\n",
    "    pf.col(\"score\").alias(\"label\")\n",
    ")\n",
    "\n",
    "df_valid = df_e_valid.select(\n",
    "    pf.col(\"id\"),\n",
    "    pf.col(\"features\"),\n",
    "    pf.col(\"score\").alias(\"label\")\n",
    ")\n",
    "\n",
    "df_test = df_e_test.select(\n",
    "    pf.col(\"id\"),\n",
    "    pf.col(\"features\"),\n",
    "    pf.col(\"score\").alias(\"label\")\n",
    ")\n",
    "\n",
    "# Join Train and Valid Datasets\n",
    "df_cross = df_train.unionAll(df_valid)#.distinct()\n",
    "\n",
    "# 80% for training and 20% for validation/test on k splits\n",
    "validation_fractions = {\n",
    "    0.0: 0.2,\n",
    "    1.0: 0.2,\n",
    "    2.0: 0.2\n",
    "}"
   ]
  },
  {
   "cell_type": "code",
   "execution_count": 35,
   "metadata": {},
   "outputs": [
    {
     "name": "stderr",
     "output_type": "stream",
     "text": [
      "23/10/08 15:05:16 WARN package: Truncated the string representation of a plan since it was too large. This behavior can be adjusted by setting 'spark.sql.debug.maxToStringFields'.\n",
      "                                                                                \r"
     ]
    }
   ],
   "source": [
    "df_test.write.format(\"parquet\").save(\"../data/spark_training/df_test.parquet\")\n",
    "\n",
    "df_valid.write.format(\"parquet\").save(\"../data/spark_training/df_valid.parquet\")\n",
    "\n",
    "df_train.write.format(\"parquet\").save(\"../data/spark_training/df_train.parquet\")\n",
    "\n",
    "df_cross.write.format(\"parquet\").save(\"../data/spark_training/df_cross.parquet\")"
   ]
  },
  {
   "cell_type": "code",
   "execution_count": 38,
   "metadata": {},
   "outputs": [
    {
     "name": "stderr",
     "output_type": "stream",
     "text": [
      "[Stage 283:====================================================>  (20 + 1) / 21]\r"
     ]
    },
    {
     "name": "stdout",
     "output_type": "stream",
     "text": [
      "+-----+---------------+\n",
      "|label|count(features)|\n",
      "+-----+---------------+\n",
      "|    1|           1161|\n",
      "|    0|           1153|\n",
      "|    2|           1200|\n",
      "+-----+---------------+\n",
      "\n"
     ]
    },
    {
     "name": "stderr",
     "output_type": "stream",
     "text": [
      "                                                                                \r"
     ]
    }
   ],
   "source": [
    "# Sample for Valid Dataset\n",
    "df_valid_cross = df_cross.sampleBy(col=\"label\", fractions=validation_fractions)\n",
    "\n",
    "df_valid_cross.groupBy(\"label\").agg(pf.count(pf.col(\"features\"))).show()"
   ]
  },
  {
   "cell_type": "code",
   "execution_count": 53,
   "metadata": {},
   "outputs": [],
   "source": [
    "# Filter for Train Cross Dataset\n",
    "\n",
    "df_train_cross = df_cross.join(\n",
    "    df_valid_cross.select(\n",
    "        pf.col(\"id\"),\n",
    "        pf.col(\"label\").alias(\"t_label\")\n",
    "    ),\n",
    "    on=\"id\",\n",
    "    how=\"left\"\n",
    ")\n",
    "\n",
    "df_train_cross = df_train_cross.filter(pf.col(\"t_label\").isNull())\n",
    "\n",
    "df_train_cross = df_train_cross.select(\n",
    "    pf.col(\"id\"),\n",
    "    pf.col(\"features\"),\n",
    "    pf.col(\"label\")\n",
    ")"
   ]
  },
  {
   "cell_type": "markdown",
   "metadata": {},
   "source": [
    "##### 4.2.1.2. Fit Cross Validation"
   ]
  },
  {
   "cell_type": "code",
   "execution_count": 72,
   "metadata": {},
   "outputs": [
    {
     "name": "stderr",
     "output_type": "stream",
     "text": [
      "23/09/09 14:31:22 WARN DAGScheduler: Broadcasting large task binary with size 1228.4 KiB\n",
      "[Stage 2563:===================================================>  (20 + 1) / 21]\r"
     ]
    }
   ],
   "source": [
    "rfc = RandomForestClassifier(\n",
    "    featuresCol=\"features\",\n",
    "    labelCol=\"label\",\n",
    "    maxDepth=5, \n",
    "    maxBins=32, \n",
    "    numTrees=100,\n",
    "    minInfoGain=0.0, \n",
    "    impurity=\"gini\",\n",
    "    minInstancesPerNode=1,\n",
    "    featureSubsetStrategy=\"auto\"\n",
    ")\n",
    "\n",
    "rfc = rfc.fit(df_train_cross)\n",
    "\n",
    "df_valid_results = rfc.transform(df_valid_cross)\n",
    "\n",
    "df_valid_results = get_metrics(df_valid_results, \"label\")"
   ]
  },
  {
   "cell_type": "code",
   "execution_count": 78,
   "metadata": {},
   "outputs": [
    {
     "data": {
      "text/plain": [
       "0.5912776069331842"
      ]
     },
     "execution_count": 78,
     "metadata": {},
     "output_type": "execute_result"
    }
   ],
   "source": [
    "# Now i will repeat all process for K Times and Storange the metrics.\n",
    "\n",
    "df_valid_results.weightedRecall"
   ]
  },
  {
   "cell_type": "code",
   "execution_count": null,
   "metadata": {},
   "outputs": [],
   "source": [
    "with mlflow.start_run(\n",
    "    experiment_id=experiment_id,\n",
    "    run_name=\"base-pyspark-model-kfold\"\n",
    ") as active_run:\n",
    "    \n",
    "    r = simple_cross_validation_k_times(\n",
    "        k=5,\n",
    "        mlflow=mlflow,\n",
    "        df_cross=df_cross,\n",
    "        experiment_id=experiment_id,\n",
    "        run_name=\"base-embs-pyspark-model-k\",\n",
    "        validation_fractions=validation_fractions\n",
    "    )"
   ]
  },
  {
   "cell_type": "code",
   "execution_count": 54,
   "metadata": {},
   "outputs": [
    {
     "data": {
      "text/html": [
       "<div>\n",
       "<style scoped>\n",
       "    .dataframe tbody tr th:only-of-type {\n",
       "        vertical-align: middle;\n",
       "    }\n",
       "\n",
       "    .dataframe tbody tr th {\n",
       "        vertical-align: top;\n",
       "    }\n",
       "\n",
       "    .dataframe thead th {\n",
       "        text-align: right;\n",
       "    }\n",
       "</style>\n",
       "<table border=\"1\" class=\"dataframe\">\n",
       "  <thead>\n",
       "    <tr style=\"text-align: right;\">\n",
       "      <th></th>\n",
       "      <th>fold</th>\n",
       "      <th>accuracy</th>\n",
       "      <th>recall</th>\n",
       "      <th>precision</th>\n",
       "    </tr>\n",
       "  </thead>\n",
       "  <tbody>\n",
       "    <tr>\n",
       "      <th>0</th>\n",
       "      <td>1</td>\n",
       "      <td>0.625410</td>\n",
       "      <td>0.625410</td>\n",
       "      <td>0.619545</td>\n",
       "    </tr>\n",
       "    <tr>\n",
       "      <th>1</th>\n",
       "      <td>2</td>\n",
       "      <td>0.620127</td>\n",
       "      <td>0.620127</td>\n",
       "      <td>0.625501</td>\n",
       "    </tr>\n",
       "    <tr>\n",
       "      <th>2</th>\n",
       "      <td>3</td>\n",
       "      <td>0.631783</td>\n",
       "      <td>0.631783</td>\n",
       "      <td>0.631449</td>\n",
       "    </tr>\n",
       "    <tr>\n",
       "      <th>3</th>\n",
       "      <td>4</td>\n",
       "      <td>0.633603</td>\n",
       "      <td>0.633603</td>\n",
       "      <td>0.630559</td>\n",
       "    </tr>\n",
       "    <tr>\n",
       "      <th>4</th>\n",
       "      <td>5</td>\n",
       "      <td>0.640833</td>\n",
       "      <td>0.640833</td>\n",
       "      <td>0.638040</td>\n",
       "    </tr>\n",
       "  </tbody>\n",
       "</table>\n",
       "</div>"
      ],
      "text/plain": [
       "   fold  accuracy    recall  precision\n",
       "0     1  0.625410  0.625410   0.619545\n",
       "1     2  0.620127  0.620127   0.625501\n",
       "2     3  0.631783  0.631783   0.631449\n",
       "3     4  0.633603  0.633603   0.630559\n",
       "4     5  0.640833  0.640833   0.638040"
      ]
     },
     "execution_count": 54,
     "metadata": {},
     "output_type": "execute_result"
    }
   ],
   "source": [
    "r"
   ]
  },
  {
   "cell_type": "code",
   "execution_count": 55,
   "metadata": {},
   "outputs": [
    {
     "data": {
      "text/html": [
       "<div>\n",
       "<style scoped>\n",
       "    .dataframe tbody tr th:only-of-type {\n",
       "        vertical-align: middle;\n",
       "    }\n",
       "\n",
       "    .dataframe tbody tr th {\n",
       "        vertical-align: top;\n",
       "    }\n",
       "\n",
       "    .dataframe thead th {\n",
       "        text-align: right;\n",
       "    }\n",
       "</style>\n",
       "<table border=\"1\" class=\"dataframe\">\n",
       "  <thead>\n",
       "    <tr style=\"text-align: right;\">\n",
       "      <th></th>\n",
       "      <th>count</th>\n",
       "      <th>mean</th>\n",
       "      <th>std</th>\n",
       "      <th>min</th>\n",
       "      <th>25%</th>\n",
       "      <th>50%</th>\n",
       "      <th>75%</th>\n",
       "      <th>max</th>\n",
       "    </tr>\n",
       "  </thead>\n",
       "  <tbody>\n",
       "    <tr>\n",
       "      <th>fold</th>\n",
       "      <td>5.0</td>\n",
       "      <td>3.000000</td>\n",
       "      <td>1.581139</td>\n",
       "      <td>1.000000</td>\n",
       "      <td>2.000000</td>\n",
       "      <td>3.000000</td>\n",
       "      <td>4.000000</td>\n",
       "      <td>5.000000</td>\n",
       "    </tr>\n",
       "    <tr>\n",
       "      <th>accuracy</th>\n",
       "      <td>5.0</td>\n",
       "      <td>0.630351</td>\n",
       "      <td>0.007929</td>\n",
       "      <td>0.620127</td>\n",
       "      <td>0.625410</td>\n",
       "      <td>0.631783</td>\n",
       "      <td>0.633603</td>\n",
       "      <td>0.640833</td>\n",
       "    </tr>\n",
       "    <tr>\n",
       "      <th>recall</th>\n",
       "      <td>5.0</td>\n",
       "      <td>0.630351</td>\n",
       "      <td>0.007929</td>\n",
       "      <td>0.620127</td>\n",
       "      <td>0.625410</td>\n",
       "      <td>0.631783</td>\n",
       "      <td>0.633603</td>\n",
       "      <td>0.640833</td>\n",
       "    </tr>\n",
       "    <tr>\n",
       "      <th>precision</th>\n",
       "      <td>5.0</td>\n",
       "      <td>0.629019</td>\n",
       "      <td>0.006924</td>\n",
       "      <td>0.619545</td>\n",
       "      <td>0.625501</td>\n",
       "      <td>0.630559</td>\n",
       "      <td>0.631449</td>\n",
       "      <td>0.638040</td>\n",
       "    </tr>\n",
       "  </tbody>\n",
       "</table>\n",
       "</div>"
      ],
      "text/plain": [
       "           count      mean       std       min       25%       50%       75%   \n",
       "fold         5.0  3.000000  1.581139  1.000000  2.000000  3.000000  4.000000  \\\n",
       "accuracy     5.0  0.630351  0.007929  0.620127  0.625410  0.631783  0.633603   \n",
       "recall       5.0  0.630351  0.007929  0.620127  0.625410  0.631783  0.633603   \n",
       "precision    5.0  0.629019  0.006924  0.619545  0.625501  0.630559  0.631449   \n",
       "\n",
       "                max  \n",
       "fold       5.000000  \n",
       "accuracy   0.640833  \n",
       "recall     0.640833  \n",
       "precision  0.638040  "
      ]
     },
     "execution_count": 55,
     "metadata": {},
     "output_type": "execute_result"
    }
   ],
   "source": [
    "r.describe().T"
   ]
  },
  {
   "cell_type": "markdown",
   "metadata": {},
   "source": [
    "#### 4.2.2. PySpark Cross Validation"
   ]
  },
  {
   "cell_type": "markdown",
   "metadata": {},
   "source": [
    "For PySpark CrossVal class, its require a ParamGrid."
   ]
  },
  {
   "cell_type": "code",
   "execution_count": 56,
   "metadata": {},
   "outputs": [],
   "source": [
    "# Base Estimator to fit, same previous estimator\n",
    "\n",
    "rfc = RandomForestClassifier(\n",
    "    featuresCol=\"features\",\n",
    "    labelCol=\"label\",\n",
    "    maxDepth=5,\n",
    "    maxBins=32, \n",
    "    numTrees=100,\n",
    "    minInfoGain=0.0, \n",
    "    impurity=\"gini\",\n",
    "    minInstancesPerNode=1,\n",
    "    featureSubsetStrategy=\"auto\"\n",
    ")"
   ]
  },
  {
   "cell_type": "code",
   "execution_count": 57,
   "metadata": {},
   "outputs": [],
   "source": [
    "# Setup ParamGridBuilder Object\n",
    "# Only with one param, because its not tuning step, my interest is only in cross validation\n",
    "\n",
    "param_grid = ParamGridBuilder() \\\n",
    "             .addGrid(rfc.maxDepth, [5]) \\\n",
    "             .build()"
   ]
  },
  {
   "cell_type": "code",
   "execution_count": 58,
   "metadata": {},
   "outputs": [],
   "source": [
    "# Define Evaluator Object\n",
    "\n",
    "evaluator = MulticlassClassificationEvaluator()"
   ]
  },
  {
   "cell_type": "code",
   "execution_count": 59,
   "metadata": {},
   "outputs": [
    {
     "name": "stderr",
     "output_type": "stream",
     "text": [
      "23/10/08 13:20:45 WARN DAGScheduler: Broadcasting large task binary with size 1037.0 KiB\n",
      "23/10/08 13:20:51 WARN TaskSetManager: Stage 4190 contains a task of very large size (3469 KiB). The maximum recommended task size is 1000 KiB.\n",
      "23/10/08 13:20:57 WARN TaskSetManager: Stage 4207 contains a task of very large size (3469 KiB). The maximum recommended task size is 1000 KiB.\n",
      "23/10/08 13:21:13 WARN DAGScheduler: Broadcasting large task binary with size 1039.5 KiB\n",
      "23/10/08 13:21:19 WARN TaskSetManager: Stage 4436 contains a task of very large size (3469 KiB). The maximum recommended task size is 1000 KiB.\n",
      "23/10/08 13:21:25 WARN TaskSetManager: Stage 4453 contains a task of very large size (3469 KiB). The maximum recommended task size is 1000 KiB.\n",
      "23/10/08 13:21:40 WARN DAGScheduler: Broadcasting large task binary with size 1039.9 KiB\n",
      "23/10/08 13:21:47 WARN TaskSetManager: Stage 4682 contains a task of very large size (3469 KiB). The maximum recommended task size is 1000 KiB.\n",
      "23/10/08 13:21:52 WARN TaskSetManager: Stage 4689 contains a task of very large size (3469 KiB). The maximum recommended task size is 1000 KiB.\n",
      "23/10/08 13:21:56 WARN TaskSetManager: Stage 4745 contains a task of very large size (3469 KiB). The maximum recommended task size is 1000 KiB.\n",
      "23/10/08 13:21:59 WARN TaskSetManager: Stage 4814 contains a task of very large size (3469 KiB). The maximum recommended task size is 1000 KiB.\n",
      "23/10/08 13:22:05 WARN DAGScheduler: Broadcasting large task binary with size 1077.2 KiB\n",
      "23/10/08 13:22:08 WARN TaskSetManager: Stage 4924 contains a task of very large size (3469 KiB). The maximum recommended task size is 1000 KiB.\n",
      "                                                                                \r"
     ]
    }
   ],
   "source": [
    "# This fit took ~3 Minute in my pc\n",
    "\n",
    "cv = CrossValidator(\n",
    "    numFolds=5,\n",
    "    estimator=rfc,\n",
    "    evaluator=evaluator,\n",
    "    parallelism=5,\n",
    "    estimatorParamMaps=param_grid\n",
    ")\n",
    "\n",
    "cv = cv.fit(df_train)"
   ]
  },
  {
   "cell_type": "code",
   "execution_count": 60,
   "metadata": {},
   "outputs": [
    {
     "data": {
      "text/plain": [
       "RandomForestClassificationModel: uid=RandomForestClassifier_ce3ba2d36609, numTrees=100, numClasses=3, numFeatures=384"
      ]
     },
     "execution_count": 60,
     "metadata": {},
     "output_type": "execute_result"
    }
   ],
   "source": [
    "cv.bestModel"
   ]
  },
  {
   "cell_type": "code",
   "execution_count": 61,
   "metadata": {},
   "outputs": [
    {
     "name": "stdout",
     "output_type": "stream",
     "text": [
      "estimator: estimator to be cross-validated (current: RandomForestClassifier_ce3ba2d36609)\n",
      "estimatorParamMaps: estimator param maps (current: [{Param(parent='RandomForestClassifier_ce3ba2d36609', name='maxDepth', doc='Maximum depth of the tree. (>= 0) E.g., depth 0 means 1 leaf node; depth 1 means 1 internal node + 2 leaf nodes. Must be in range [0, 30].'): 5}])\n",
      "evaluator: evaluator used to select hyper-parameters that maximize the validator metric (current: MulticlassClassificationEvaluator_902d9eb2954e)\n",
      "foldCol: Param for the column name of user specified fold number. Once this is specified, :py:class:`CrossValidator` won't do random k-fold split. Note that this column should be integer type with range [0, numFolds) and Spark will throw exception on out-of-range fold numbers. (default: )\n",
      "numFolds: number of folds for cross validation (default: 3, current: 5)\n",
      "seed: random seed. (default: 3703655275453771686)\n"
     ]
    },
    {
     "name": "stderr",
     "output_type": "stream",
     "text": [
      "/home/grc/arep/sentiment_analysis/lib/python3.10/site-packages/pyspark/sql/context.py:157: FutureWarning: Deprecated in 3.0.0. Use SparkSession.builder.getOrCreate() instead.\n",
      "  warnings.warn(\n"
     ]
    }
   ],
   "source": [
    "print(cv.explainParams())\n",
    "\n",
    "df_valid_results = cv.transform(df_valid)\n",
    "\n",
    "df_valid_results = get_metrics(df_valid_results, \"label\")"
   ]
  },
  {
   "cell_type": "code",
   "execution_count": 62,
   "metadata": {},
   "outputs": [
    {
     "name": "stdout",
     "output_type": "stream",
     "text": [
      "Accuracy: 0.5990\n",
      "W. Recall: 0.5990\n",
      "W. Precision: 0.5945\n",
      "\n",
      "Label: 0, Recall: 0.6039\n",
      "Label: 0, Precision: 0.6039\n",
      "\n",
      "Label: 1, Recall: 0.5719\n",
      "Label: 1, Precision: 0.5719\n",
      "\n",
      "Label: 2, Recall: 0.6077\n",
      "Label: 2, Precision: 0.6077\n",
      "\n"
     ]
    },
    {
     "data": {
      "image/png": "[encoded data removed]",
      "text/plain": [
       "<Figure size 640x480 with 2 Axes>"
      ]
     },
     "metadata": {},
     "output_type": "display_data"
    }
   ],
   "source": [
    "plot_ml_metrics(df_valid_results);"
   ]
  },
  {
   "cell_type": "markdown",
   "metadata": {},
   "source": [
    "## 5.0. Model Tuning"
   ]
  },
  {
   "cell_type": "markdown",
   "metadata": {},
   "source": [
    "Now its time to Fine tuning!\n",
    "\n",
    "You can use Spark Ml CrossVal for tuning or use hyperopt."
   ]
  },
  {
   "cell_type": "code",
   "execution_count": 7,
   "metadata": {},
   "outputs": [],
   "source": [
    "df_test = spark.read.format(\"parquet\").load(\"../data/spark_training/df_test.parquet\")\n",
    "df_valid = spark.read.format(\"parquet\").load(\"../data/spark_training/df_valid.parquet\")\n",
    "df_train = spark.read.format(\"parquet\").load(\"../data/spark_training/df_train.parquet\")\n",
    "df_cross = spark.read.format(\"parquet\").load(\"../data/spark_training/df_cross.parquet\")"
   ]
  },
  {
   "cell_type": "markdown",
   "metadata": {},
   "source": [
    "### 5.1. Hyperopt"
   ]
  },
  {
   "cell_type": "code",
   "execution_count": 8,
   "metadata": {},
   "outputs": [
    {
     "name": "stdout",
     "output_type": "stream",
     "text": [
      "+----+--------------------+-----+\n",
      "|  id|            features|label|\n",
      "+----+--------------------+-----+\n",
      "|1328|[-0.0917381122708...|    2|\n",
      "|1342|[-0.0018576518632...|    2|\n",
      "|1346|[-0.0031925674993...|    2|\n",
      "|1426|[-0.0846686512231...|    2|\n",
      "|1437|[-0.0183230452239...|    2|\n",
      "+----+--------------------+-----+\n",
      "only showing top 5 rows\n",
      "\n",
      "+---+--------------------+-----+\n",
      "| id|            features|label|\n",
      "+---+--------------------+-----+\n",
      "|  1|[-0.0323892682790...|    2|\n",
      "|  3|[-0.0928992703557...|    2|\n",
      "|  5|[-8.1321597099304...|    2|\n",
      "|  6|[-0.0685421526432...|    2|\n",
      "|  7|[-0.0930128917098...|    2|\n",
      "+---+--------------------+-----+\n",
      "only showing top 5 rows\n",
      "\n"
     ]
    }
   ],
   "source": [
    "# I ill use prevous df_train of cross validation for tuning with Hyperopt.\n",
    "\n",
    "df_train.show(5)\n",
    "\n",
    "df_valid.show(5)"
   ]
  },
  {
   "cell_type": "code",
   "execution_count": 10,
   "metadata": {},
   "outputs": [],
   "source": [
    "client = mlflow.MlflowClient()\n",
    "\n",
    "mlruns_path = \"file:///home/grc/arep/sentiment_analysis/mlruns\"\n",
    "\n",
    "mlflow.set_tracking_uri(mlruns_path)\n",
    "\n",
    "experiment_name = \"grc-pyspark-sentiment-analisys\"\n",
    "\n",
    "try:\n",
    "    experiment_id = mlflow.get_experiment_by_name(name=experiment_name).experiment_id\n",
    "\n",
    "except:\n",
    "    experiment_id = mlflow.create_experiment(name=experiment_name)"
   ]
  },
  {
   "cell_type": "code",
   "execution_count": 66,
   "metadata": {},
   "outputs": [],
   "source": [
    "def objective(\n",
    "    params,\n",
    "    experiment_id: str = experiment_id,\n",
    "    metric: str = \"accuracy\",\n",
    "    df_train: DataFrame = df_train, # Default params for training\n",
    "    df_valid: DataFrame = df_valid  # Default params for validation\n",
    "):\n",
    "    \"\"\"\n",
    "    Objective function to minimize with hyperopt.\n",
    "    \n",
    "    Inputs:\n",
    "        - params: Hyperopt requested argument.\n",
    "        - metric: Metric name for optimize.\n",
    "        - df_train: DataFrame for training.\n",
    "        - df_valid: DataFrame for validation (metric). \n",
    "\n",
    "    returns:\n",
    "        - dict with score and status\n",
    "    \n",
    "    \"\"\"\n",
    "\n",
    "    print(params)\n",
    "\n",
    "    with mlflow.start_run(\n",
    "        nested=True,\n",
    "        experiment_id=experiment_id\n",
    "    ):\n",
    "\n",
    "        model = RandomForestClassifier(**params)\n",
    "\n",
    "        model = model.fit(df_train)\n",
    "\n",
    "        df_valid_results = model.transform(df_valid)\n",
    "        \n",
    "        valid_metrics = get_metrics(df_valid_results, \"label\")\n",
    "\n",
    "        log_mlflow_artifacts(\n",
    "            mlflow=mlflow,\n",
    "            verbose=False,\n",
    "            estimator=model,\n",
    "            model_params=params,\n",
    "            metrics=valid_metrics,\n",
    "        )\n",
    "\n",
    "    # Wen you use fmin, expects a loss function to \"minimize\", instead whe use (-1 * accuracy).\n",
    "    # With this, with \"lower selected metric (accuracy) is better\" (because is negative)\n",
    "\n",
    "    if metric == \"accuracy\":\n",
    "        score = -1 * valid_metrics.accuracy\n",
    "\n",
    "    else:\n",
    "        score = -1 * valid_metrics.weightedPrecision\n",
    "\n",
    "    return {\"loss\": score, \"status\": STATUS_OK}"
   ]
  },
  {
   "cell_type": "code",
   "execution_count": null,
   "metadata": {},
   "outputs": [],
   "source": [
    "# List of hyperparams for search\n",
    "\n",
    "search_space = {\n",
    "    \"maxDepth\": hp.quniform(\"maxDepth\", 4, 20, 1), \n",
    "    \"maxBins\": hp.quniform(\"maxBins\", 20, 100, 5), \n",
    "    \"numTrees\": hp.quniform(\"numTrees\", 20, 300, 5),\n",
    "    \"impurity\": hp.choice(\"impurity\", [\"gini\", \"entropy\"]),\n",
    "    \"minInstancesPerNode\": hp.quniform(\"minInstancesPerNode\", 1, 5, 1)\n",
    "}\n",
    "\n",
    "# Spark Trials\n",
    "#trials = SparkTrials(parallelism=5)\n",
    "\n",
    "# Hyperopt Trials\n",
    "trials = Trials()\n",
    "\n",
    "with mlflow.start_run(\n",
    "    experiment_id=experiment_id,\n",
    "    run_name=\"base-pyspark-model-tuning\"\n",
    ") as active_run:\n",
    "\n",
    "    best = fmin(\n",
    "        fn=objective,       # Function to minimize\n",
    "        algo=tpe.suggest,   # \"Given previous trials and the domain, suggest the best expected hp point according to the TPE-EI algo\"\n",
    "        space=search_space, # Search params\n",
    "        max_evals=50,       # Times of search\n",
    "        trials=trials\n",
    "    )"
   ]
  },
  {
   "cell_type": "code",
   "execution_count": 11,
   "metadata": {},
   "outputs": [],
   "source": [
    "# Best\n",
    "best = {'impurity': 'gini', 'maxBins': 40.0, 'maxDepth': 10.0, 'minInstancesPerNode': 2.0, 'numTrees': 100.0}"
   ]
  },
  {
   "cell_type": "code",
   "execution_count": null,
   "metadata": {},
   "outputs": [],
   "source": [
    "rfc = RandomForestClassifier(\n",
    "    featuresCol=\"features\",\n",
    "    labelCol=\"score\",\n",
    "    **best\n",
    ")\n",
    "\n",
    "rfc = rfc.fit(df_e_train)\n",
    "\n",
    "# Save estimator\n",
    "rfc.write().save(\"../src/estimator/random_forest_embs.spark\")"
   ]
  },
  {
   "cell_type": "code",
   "execution_count": null,
   "metadata": {},
   "outputs": [],
   "source": [
    "# Load Estimator\n",
    "rfc = RandomForestClassificationModel.load(\"../src/estimator/random_forest_embs.spark\")\n",
    "\n",
    "# Get Predictions\n",
    "df_valid_results = rfc.transform(df_e_valid)\n",
    "\n",
    "# I have created a function too for get metrics for validation dataset\n",
    "valid_metrics = get_metrics(df_valid_results)"
   ]
  },
  {
   "cell_type": "code",
   "execution_count": 28,
   "metadata": {},
   "outputs": [
    {
     "name": "stderr",
     "output_type": "stream",
     "text": [
      "23/10/08 14:58:34 WARN DAGScheduler: Broadcasting large task binary with size 9.3 MiB\n",
      "                                                                                \r"
     ]
    },
    {
     "name": "stdout",
     "output_type": "stream",
     "text": [
      "Accuracy: 0.6203\n",
      "W. Recall: 0.6203\n",
      "W. Precision: 0.6135\n",
      "\n",
      "Label: 0, Recall: 0.6401\n",
      "Label: 0, Precision: 0.6401\n",
      "\n",
      "Label: 1, Recall: 0.5537\n",
      "Label: 1, Precision: 0.5537\n",
      "\n",
      "Label: 2, Recall: 0.6467\n",
      "Label: 2, Precision: 0.6467\n",
      "\n"
     ]
    },
    {
     "data": {
      "image/png": "[encoded data removed]",
      "text/plain": [
       "<Figure size 640x480 with 2 Axes>"
      ]
     },
     "metadata": {},
     "output_type": "display_data"
    }
   ],
   "source": [
    "plot_ml_metrics(valid_metrics);"
   ]
  },
  {
   "cell_type": "markdown",
   "metadata": {},
   "source": [
    "### 5.2. Fit Last Estimator"
   ]
  },
  {
   "cell_type": "markdown",
   "metadata": {},
   "source": [
    "Now, is time to fit estimator and classify on Test Dataset."
   ]
  },
  {
   "cell_type": "code",
   "execution_count": 12,
   "metadata": {},
   "outputs": [
    {
     "name": "stderr",
     "output_type": "stream",
     "text": [
      "23/10/08 15:12:39 WARN DAGScheduler: Broadcasting large task binary with size 1381.8 KiB\n",
      "23/10/08 15:12:42 WARN DAGScheduler: Broadcasting large task binary with size 2.5 MiB\n",
      "23/10/08 15:12:46 WARN DAGScheduler: Broadcasting large task binary with size 4.7 MiB\n",
      "23/10/08 15:12:49 WARN DAGScheduler: Broadcasting large task binary with size 1104.9 KiB\n",
      "23/10/08 15:12:52 WARN DAGScheduler: Broadcasting large task binary with size 6.1 MiB\n",
      "23/10/08 15:12:56 WARN DAGScheduler: Broadcasting large task binary with size 1325.9 KiB\n",
      "23/10/08 15:13:00 WARN DAGScheduler: Broadcasting large task binary with size 7.1 MiB\n",
      "23/10/08 15:13:04 WARN DAGScheduler: Broadcasting large task binary with size 1325.9 KiB\n",
      "23/10/08 15:13:07 WARN DAGScheduler: Broadcasting large task binary with size 5.7 MiB\n",
      "23/10/08 15:13:11 WARN DAGScheduler: Broadcasting large task binary with size 1129.0 KiB\n",
      "23/10/08 15:13:13 WARN DAGScheduler: Broadcasting large task binary with size 4.2 MiB\n",
      "/home/grc/arep/sentiment_analysis/lib/python3.10/site-packages/pyspark/sql/context.py:157: FutureWarning: Deprecated in 3.0.0. Use SparkSession.builder.getOrCreate() instead.\n",
      "  warnings.warn(\n",
      "23/10/08 15:13:18 WARN DAGScheduler: Broadcasting large task binary with size 10.0 MiB\n",
      "23/10/08 15:13:19 WARN DAGScheduler: Broadcasting large task binary with size 10.0 MiB\n",
      "                                                                                \r"
     ]
    },
    {
     "name": "stdout",
     "output_type": "stream",
     "text": [
      "Accuracy: 0.6587\n",
      "W. Recall: 0.6587\n",
      "W. Precision: 0.6558\n",
      "\n",
      "Label: 0, Recall: 0.6679\n",
      "Label: 0, Precision: 0.6679\n",
      "\n",
      "Label: 1, Recall: 0.5851\n",
      "Label: 1, Precision: 0.5851\n",
      "\n",
      "Label: 2, Recall: 0.7143\n",
      "Label: 2, Precision: 0.7143\n",
      "\n"
     ]
    },
    {
     "name": "stderr",
     "output_type": "stream",
     "text": [
      "2023/10/08 15:13:54 WARNING mlflow.utils.environment: Encountered an unexpected error while inferring pip requirements (model URI: /tmp/tmpmsgm5g29/model, flavor: spark), fall back to return ['pyspark==3.4.1']. Set logging level to DEBUG to see the full traceback.\n"
     ]
    },
    {
     "data": {
      "image/png": "[encoded data removed]",
      "text/plain": [
       "<Figure size 640x480 with 2 Axes>"
      ]
     },
     "metadata": {},
     "output_type": "display_data"
    }
   ],
   "source": [
    "with mlflow.start_run(\n",
    "    experiment_id=experiment_id,\n",
    "    run_name=\"tun-pyspark-model-last\"\n",
    ") as active_run:\n",
    "    \n",
    "    estimator = RandomForestClassifier(\n",
    "        featuresCol=\"features\",\n",
    "        labelCol=\"label\",\n",
    "        **best\n",
    "    )\n",
    "\n",
    "    # Fit last estimator\n",
    "    estimator = estimator.fit(df_cross)\n",
    "\n",
    "    # Get performance\n",
    "    test_results = estimator.transform(df_test)\n",
    "\n",
    "    # Get Metrics on Test dataset\n",
    "    test_results = get_metrics(test_results, \"label\")\n",
    "\n",
    "    log_mlflow_artifacts(\n",
    "        mlflow=mlflow,\n",
    "        model_params=best,\n",
    "        estimator=estimator,\n",
    "        metrics=test_results,\n",
    "        verbose=True\n",
    "    )"
   ]
  },
  {
   "cell_type": "code",
   "execution_count": 14,
   "metadata": {},
   "outputs": [
    {
     "name": "stdout",
     "output_type": "stream",
     "text": [
      "Accuracy: 0.6587\n",
      "W. Recall: 0.6587\n",
      "W. Precision: 0.6558\n",
      "\n",
      "Label: 0, Recall: 0.6679\n",
      "Label: 0, Precision: 0.6679\n",
      "\n",
      "Label: 1, Recall: 0.5851\n",
      "Label: 1, Precision: 0.5851\n",
      "\n",
      "Label: 2, Recall: 0.7143\n",
      "Label: 2, Precision: 0.7143\n",
      "\n"
     ]
    },
    {
     "data": {
      "image/png": "[encoded data removed]",
      "text/plain": [
       "<Figure size 640x480 with 2 Axes>"
      ]
     },
     "metadata": {},
     "output_type": "display_data"
    }
   ],
   "source": [
    "plot_ml_metrics(test_results);"
   ]
  },
  {
   "cell_type": "code",
   "execution_count": 16,
   "metadata": {},
   "outputs": [],
   "source": [
    "# Time to save the model\n",
    "estimator.write().save(\"../src/estimator/random_forest_embs_last.spark\")"
   ]
  },
  {
   "cell_type": "markdown",
   "metadata": {},
   "source": [
    "## 6.0. PySpark Pipeline"
   ]
  },
  {
   "cell_type": "markdown",
   "metadata": {},
   "source": [
    "To make the deployment script more simplified, I will use a Pyspark feature called Pipeline, it serves as a list of transformations that will then be applied until classification, for example, cleans, preparations, transformations and classification."
   ]
  },
  {
   "attachments": {
    "image.png": {
     "image/png": "[encoded data removed]"
    }
   },
   "cell_type": "markdown",
   "metadata": {},
   "source": [
    "![image.png](attachment:image.png)"
   ]
  },
  {
   "cell_type": "code",
   "execution_count": 7,
   "metadata": {},
   "outputs": [
    {
     "name": "stderr",
     "output_type": "stream",
     "text": [
      "                                                                                \r"
     ]
    },
    {
     "name": "stdout",
     "output_type": "stream",
     "text": [
      "+---+----------+--------------+--------------------+--------------------+----------------------+-----+----------+--------------------+--------------------+\n",
      "| Id| ProductId|        UserId|         ProfileName|HelpfulnessNumerator|HelpfulnessDenominator|Score|      Time|             Summary|                Text|\n",
      "+---+----------+--------------+--------------------+--------------------+----------------------+-----+----------+--------------------+--------------------+\n",
      "| 24|B001GVISJM| AJ613OLZZUG7V|              Mare's|                   0|                     0|    5|1304467200|           Twizzlers|I love this candy...|\n",
      "| 27|B001GVISJM|A3RXAU2N8KV45G|              lady21|                   0|                     1|    1|1332633600|     Nasty No flavor|The candy is just...|\n",
      "| 38|B001EO5QW8|A3MGP2E1ZZ6GRB|\"Zardoz \"\"focuspu...|                   1|                     1|    5|1238457600|        it's oatmeal|What else do you ...|\n",
      "| 42|B001EO5QW8|A1WK4ALVZDYPUE|\"Dick Baldwin \"\"c...|                   0|                     0|    5|1302134400|Oatmeal For Oatme...|McCann's makes oa...|\n",
      "| 61|B004N5KULM|A1ZR8O62VSU4OK|\"Lisa J. Szlosek ...|                   2|                     4|    3|1318723200|Better price for ...|Watch your prices...|\n",
      "+---+----------+--------------+--------------------+--------------------+----------------------+-----+----------+--------------------+--------------------+\n",
      "only showing top 5 rows\n",
      "\n"
     ]
    },
    {
     "data": {
      "text/plain": [
       "28794"
      ]
     },
     "execution_count": 7,
     "metadata": {},
     "output_type": "execute_result"
    }
   ],
   "source": [
    "# The first step is read some samples data for raw file\n",
    "\n",
    "artifacts_path = \"../src/features\"\n",
    "estimator_path = \"../src/estimator\"\n",
    "base_path = \"/home/grc/arep/sentiment_analysis/data/archive/\"\n",
    "\n",
    "df_raw = spark.read.format(\"csv\") \\\n",
    "              .option(\"header\", \"true\") \\\n",
    "              .option(\"inferSchema\", \"true\") \\\n",
    "              .option(\"delimiter\", \",\") \\\n",
    "              .load(base_path + \"Reviews.csv\")\n",
    "\n",
    "\n",
    "# Just a random sample for speed computations\n",
    "# Maybe i can take train / valid data here with this proportions\n",
    "# But this is just for simulate and make Pipeline\n",
    "\n",
    "df_raw = df_raw.sample(0.05)\n",
    "\n",
    "# The RAW (Production) New Data!\n",
    "\n",
    "df_raw.show(5)\n",
    "\n",
    "df_raw.count()"
   ]
  },
  {
   "cell_type": "code",
   "execution_count": 12,
   "metadata": {},
   "outputs": [],
   "source": [
    "class NoiseRemoval(Transformer):\n",
    "    \"\"\"\n",
    "    This class is responsible for filtering wrong Scores\n",
    "    and for create label class associated with the scores.\n",
    "\n",
    "    inputs:\n",
    "        - inputCol: Column that will be transformed.\n",
    "        - outputCol: Output Column name.\n",
    "        - labelCol: Label / Score column to generate Bad, Neutral or Good label.\n",
    "\n",
    "    returns:\n",
    "        - df: Transformed DataFrame. \n",
    "\n",
    "    \"\"\"\n",
    "\n",
    "    def __init__(\n",
    "        self,\n",
    "        inputCol: str = \"Text\",\n",
    "        outputCol: str = \"Text\",\n",
    "        labelCol: str = \"Score\"\n",
    "    ):\n",
    "\n",
    "        self.inputCol = inputCol\n",
    "        self.outputCol = outputCol\n",
    "        self.labelCol = labelCol\n",
    "\n",
    "    # Transform\n",
    "    def _transform(self, dataset: DataFrame) -> DataFrame:\n",
    "        y_col = self.labelCol\n",
    "        \n",
    "        if y_col not in dataset.columns:\n",
    "            raise AnalysisException(f\"'{y_col}' column not exists on DataFrame\")\n",
    "\n",
    "        df = dataset.filter(pf.col(y_col).isin([0, 1, 2, 3, 4, 5]))\n",
    "\n",
    "        # Good, Neutral and Bad\n",
    "        df = df.withColumn(\n",
    "            \"new_score\",\n",
    "            pf.when(pf.col(y_col) == 1, 0)\\\n",
    "            .when((pf.col(y_col) > 1) & (pf.col(y_col) <= 3), 1) \\\n",
    "            .when(pf.col(y_col) > 3, 2)\n",
    "        )\n",
    "\n",
    "        df = df.filter(pf.col(\"new_score\").isin([0, 1, 2]))\n",
    "\n",
    "        df = df.select(\n",
    "            pf.col(\"Id\"),\n",
    "            pf.col(\"new_score\").alias(\"label\"),\n",
    "            pf.col(self.inputCol).alias(self.outputCol)\n",
    "        )\n",
    "\n",
    "        return df"
   ]
  },
  {
   "cell_type": "code",
   "execution_count": 13,
   "metadata": {},
   "outputs": [],
   "source": [
    "class CleanRawText(Transformer):\n",
    "    \"\"\"\n",
    "    This class is responsible for cleaning text data.\n",
    "\n",
    "    inputs:\n",
    "        - inputCol: Column that will be transformed.\n",
    "        - outputCol: Output Column name.\n",
    "\n",
    "    returns:\n",
    "        - df: Transformed DataFrame. \n",
    "\n",
    "    \"\"\"\n",
    "\n",
    "    def __init__(\n",
    "        self,\n",
    "        textCol: str = \"Text\"\n",
    "    ):\n",
    "\n",
    "        self.textCol = textCol\n",
    "\n",
    "    # Transform!\n",
    "    def _transform(self, dataset: DataFrame) -> DataFrame:\n",
    "        text_col = self.textCol\n",
    "\n",
    "        # Normalization and remove minor wrongs\n",
    "        df = dataset.withColumn(\n",
    "            text_col,\n",
    "            pf.regexp_replace(pf.regexp_replace(pf.regexp_replace(pf.lower(pf.trim(pf.col(text_col))), '\"', \"\"), \"  \", \" \"), \"  \", \" \")\n",
    "        )\n",
    "\n",
    "        # Remove Tags and Especial Chars\n",
    "        df = df.withColumn(\n",
    "            text_col,\n",
    "            pf.regexp_replace(pf.regexp_replace(pf.regexp_replace(pf.regexp_replace(pf.regexp_replace(pf.col(text_col), \"'\", \"\"), \"<br /><br />\", \"\"), \"<br />\", \"\"), \"\\'\", \"'\"), \"<a href=\", \"\")\n",
    "        )\n",
    "\n",
    "        # Fix Wrong writes\n",
    "        df = df.withColumn(\n",
    "            text_col,\n",
    "            pf.regexp_replace(pf.col(text_col), \" u \", \" you \")\n",
    "        )\n",
    "\n",
    "        # Remove Extra Simbols and Site URL'S\n",
    "        df = df.withColumn(\n",
    "            text_col,\n",
    "            pf.regexp_replace(pf.regexp_replace(pf.regexp_replace(pf.col(text_col), \"http\\S+\", \"\"), \"https\\S+\", \"\"), \"  \", \" \")\n",
    "        )\n",
    "\n",
    "        return df"
   ]
  },
  {
   "cell_type": "code",
   "execution_count": 29,
   "metadata": {},
   "outputs": [],
   "source": [
    "class TextEmbeddings(Transformer):\n",
    "\n",
    "    def __init__(\n",
    "        self,\n",
    "        modelName: str = \"sentence-transformers/paraphrase-MiniLM-L6-v2\",\n",
    "        idCol: str = \"Id\",\n",
    "        textCol: str = \"Text\"\n",
    "    ):\n",
    "        self.idCol = idCol\n",
    "        self.textCol = textCol\n",
    "        self.modelName = modelName\n",
    "\n",
    "    def _transform(self, dataset: DataFrame) -> DataFrame:\n",
    "\n",
    "        model = SentenceTransformer(self.modelName)\n",
    "\n",
    "        sentences = dataset.select(pf.col(self.textCol)).collect()\n",
    "        sentences = [k[0] for k in sentences]\n",
    "\n",
    "        output = model.encode(\n",
    "            sentences=sentences,\n",
    "            show_progress_bar=True,\n",
    "            normalize_embeddings=True,\n",
    "            convert_to_numpy=True,\n",
    "            output_value=\"sentence_embedding\"\n",
    "        )\n",
    "\n",
    "        # Generate DataFrame pandas with embeddings and id column from dataframe\n",
    "        output = output.astype(np.float64)\n",
    "        df_output = pd.DataFrame(output)\n",
    "        df_output[self.idCol] = [k[0] for k in dataset.select(self.idCol).collect()]\n",
    "\n",
    "        df_embs = spark.createDataFrame(df_output)\n",
    "\n",
    "        vec = VectorAssembler(\n",
    "            inputCols=df_embs.columns[:-1],\n",
    "            outputCol=\"features\"\n",
    "        )\n",
    "\n",
    "        df_embs = vec.transform(df_embs)\n",
    "        df_embs = df_embs.select(self.idCol, \"features\")\n",
    "\n",
    "        join_e_dataframe = dataset.join(df_embs, on=\"id\", how=\"inner\")\n",
    "\n",
    "        return join_e_dataframe"
   ]
  },
  {
   "cell_type": "markdown",
   "metadata": {},
   "source": [
    "### 6.1. PySpark Pipeline"
   ]
  },
  {
   "cell_type": "code",
   "execution_count": 37,
   "metadata": {},
   "outputs": [
    {
     "name": "stderr",
     "output_type": "stream",
     "text": [
      "WARNING: An illegal reflective access operation has occurred\n",
      "WARNING: Illegal reflective access by org.apache.spark.util.SizeEstimator$ (file:/home/grc/spark/jars/spark-core_2.12-3.4.1.jar) to field java.math.BigInteger.mag\n",
      "WARNING: Please consider reporting this to the maintainers of org.apache.spark.util.SizeEstimator$\n",
      "WARNING: Use --illegal-access=warn to enable warnings of further illegal reflective access operations\n",
      "WARNING: All illegal access operations will be denied in a future release\n",
      "                                                                                \r"
     ]
    }
   ],
   "source": [
    "# Load Artifacts\n",
    "\n",
    "#model = SentenceTransformer(\"sentence-transformers/paraphrase-MiniLM-L6-v2\")\n",
    "#\n",
    "estimator = RandomForestClassificationModel.load(estimator_path + \"/random_forest_embs_last.spark\")"
   ]
  },
  {
   "cell_type": "code",
   "execution_count": 35,
   "metadata": {},
   "outputs": [],
   "source": [
    "# Setup Custom Transformers\n",
    "\n",
    "noise_removal = NoiseRemoval(\n",
    "    inputCol=\"Text\",\n",
    "    outputCol=\"text\", # Lowercase \"Text\" for tokenizer, because I previous save with lowercase :P\n",
    "    labelCol=\"Score\"\n",
    ")\n",
    "\n",
    "clean_text = CleanRawText(\n",
    "    textCol=\"text\"\n",
    ")\n",
    "\n",
    "text_embeddings = TextEmbeddings(\n",
    "    textCol=\"text\",\n",
    "    idCol=\"Id\"\n",
    ")"
   ]
  },
  {
   "cell_type": "code",
   "execution_count": 38,
   "metadata": {},
   "outputs": [
    {
     "name": "stderr",
     "output_type": "stream",
     "text": [
      "Batches: 100%|██████████| 897/897 [00:18<00:00, 48.79it/s]                      \n"
     ]
    }
   ],
   "source": [
    "stages = [\n",
    "    noise_removal,\n",
    "    clean_text,\n",
    "    text_embeddings,\n",
    "    estimator\n",
    "]\n",
    "\n",
    "# Definition of Pipeline\n",
    "pipeline = Pipeline(\n",
    "    stages=stages\n",
    ")\n",
    "\n",
    "# Fit the pipeline\n",
    "pipeline = pipeline.fit(df_raw)\n",
    "\n",
    "# Transform the pipeline\n",
    "df = pipeline.transform(df_raw)"
   ]
  },
  {
   "cell_type": "code",
   "execution_count": 39,
   "metadata": {},
   "outputs": [
    {
     "name": "stderr",
     "output_type": "stream",
     "text": [
      "23/10/08 16:00:15 WARN DAGScheduler: Broadcasting large task binary with size 10.2 MiB\n",
      "23/10/08 16:00:15 WARN TaskSetManager: Stage 31 contains a task of very large size (6932 KiB). The maximum recommended task size is 1000 KiB.\n"
     ]
    },
    {
     "name": "stdout",
     "output_type": "stream",
     "text": [
      "+---+-----+--------------------+--------------------+--------------------+--------------------+----------+\n",
      "| Id|label|                text|            features|       rawPrediction|         probability|prediction|\n",
      "+---+-----+--------------------+--------------------+--------------------+--------------------+----------+\n",
      "| 24|    2|i love this candy...|[-0.0816627517342...|[17.8953541385854...|[0.17895354138585...|       2.0|\n",
      "| 27|    0|the candy is just...|[-0.0570263229310...|[57.5715925303400...|[0.57571592530340...|       0.0|\n",
      "| 38|    2|what else do you ...|[-0.0298550594598...|[13.7925723691566...|[0.13792572369156...|       2.0|\n",
      "| 42|    2|mccanns makes oat...|[0.01896089315414...|[9.66032788357513...|[0.09660327883575...|       2.0|\n",
      "| 61|    1|watch your prices...|[0.04161662980914...|[35.3682354691900...|[0.35368235469190...|       1.0|\n",
      "+---+-----+--------------------+--------------------+--------------------+--------------------+----------+\n",
      "only showing top 5 rows\n",
      "\n"
     ]
    }
   ],
   "source": [
    "# Worked!\n",
    "\n",
    "df.show(5)"
   ]
  },
  {
   "cell_type": "code",
   "execution_count": 40,
   "metadata": {},
   "outputs": [
    {
     "name": "stderr",
     "output_type": "stream",
     "text": [
      "23/10/08 16:00:31 WARN DAGScheduler: Broadcasting large task binary with size 10.2 MiB\n",
      "23/10/08 16:00:31 WARN TaskSetManager: Stage 34 contains a task of very large size (6932 KiB). The maximum recommended task size is 1000 KiB.\n",
      "[Stage 34:===================================================>    (11 + 1) / 12]\r"
     ]
    },
    {
     "name": "stdout",
     "output_type": "stream",
     "text": [
      "+----+----------+--------------+----------------------------+--------------------+----------------------+----------+----------------------------------------------------+--------------------------------------------------------------------------------------------------------------------------------------------------------------------------------------------------------------------------------------------------------------------------------------------------------------------------------------------------------------------------------------------------------------------+----------+-----------------------------------------------------------+---------------+\n",
      "|Id  |ProductId |UserId        |ProfileName                 |HelpfulnessNumerator|HelpfulnessDenominator|Time      |Summary                                             |Text                                                                                                                                                                                                                                                                                                                                                                                                                |ModelScore|ModelProbaScore                                            |ModelPrediction|\n",
      "+----+----------+--------------+----------------------------+--------------------+----------------------+----------+----------------------------------------------------+--------------------------------------------------------------------------------------------------------------------------------------------------------------------------------------------------------------------------------------------------------------------------------------------------------------------------------------------------------------------------------------------------------------------+----------+-----------------------------------------------------------+---------------+\n",
      "|2866|B000PSFKE8|A1K9X1CN4TJJAC|scopsowl                    |2                   |2                     |1327017600|My pug loves them but I got a different hartz treat.|I got a bag with 25 oinkies, pig skin with sweet potato in the middle.  But my dogs like them despite the wrong item being received.  It's still made by hartz.  The description of this product didn't say anything about sweet potato in the center.  So unless they update the description & package image I got the wrong product.  I'm only happy because my doggies are. :P                                   |2         |[0.35783053152830263,0.3608842147888432,0.2812852536828543]|1.0            |\n",
      "|3918|B00449NWW6|A2EAHX1WQ3NDF6|\"Vicki D. Deacon \"\"BigVic\"\"\"|1                   |2                     |1318032000|Great Food Company                                  |These sausages have become difficult to find locally.  I was hesitant to purchase these online as they are in glass and are very heavy.  But when there is no other option...  So I ordered 3 jars and they arrived quickly and were extremely well packed.  Not everyone has a taste for the sausages so reviewing that is pointless.  But the company is great to do business with (and they do sell other foods).|2         |[0.2847107645000559,0.3682366596854112,0.34705257581453297]|1.0            |\n",
      "|3997|B00110FN28|A3NEAETOSXDBOM|Stephen M. Charme           |0                   |0                     |1299801600|Our favorite grocery store chocolate chip cookie    |This is not a gourmet chocolate chip cookie, but is the best chocolate chip cookie that we have found in the grocery store. It is not too firm or soft, has a good amount of flavorful chocolate chips, and makes for a nice snack or dessert. We have eaten these for years in my house.                                                                                                                           |2         |[0.15762831068935038,0.2744476857443233,0.5679240035663263]|2.0            |\n",
      "+----+----------+--------------+----------------------------+--------------------+----------------------+----------+----------------------------------------------------+--------------------------------------------------------------------------------------------------------------------------------------------------------------------------------------------------------------------------------------------------------------------------------------------------------------------------------------------------------------------------------------------------------------------+----------+-----------------------------------------------------------+---------------+\n",
      "only showing top 3 rows\n",
      "\n"
     ]
    },
    {
     "name": "stderr",
     "output_type": "stream",
     "text": [
      "                                                                                \r"
     ]
    }
   ],
   "source": [
    "# Join Raw data with Model Predictions\n",
    "df_raw_with_probas = df_raw.join(\n",
    "    df.select(\n",
    "        pf.col(\"Id\"),\n",
    "        pf.col(\"label\"),\n",
    "        pf.col(\"probability\"),\n",
    "        pf.col(\"prediction\")\n",
    "    ),\n",
    "    on=\"Id\",\n",
    "    how=\"inner\"\n",
    ")\n",
    "\n",
    "# This is the last Dataframe with \"fresh / new\" reviews and their respectives scores\n",
    "df_raw_with_probas.select(\n",
    "    pf.col(\"Id\"),\n",
    "    pf.col(\"ProductId\"),\n",
    "    pf.col(\"UserId\"),\n",
    "    pf.col(\"ProfileName\"),\n",
    "    pf.col(\"HelpfulnessNumerator\"),\n",
    "    pf.col(\"HelpfulnessDenominator\"),\n",
    "    # pf.col(\"Score\"), # Simulation New Reviews\n",
    "    pf.col(\"Time\"),\n",
    "    pf.col(\"Summary\"),\n",
    "    pf.col(\"Text\"),\n",
    "    pf.col(\"label\").alias(\"ModelScore\"),\n",
    "    pf.col(\"probability\").alias(\"ModelProbaScore\"),\n",
    "    pf.col(\"prediction\").alias(\"ModelPrediction\") # Max Proba is Score Label\n",
    ").show(\n",
    "    3,\n",
    "    truncate=False\n",
    ")"
   ]
  },
  {
   "cell_type": "code",
   "execution_count": 46,
   "metadata": {},
   "outputs": [
    {
     "name": "stderr",
     "output_type": "stream",
     "text": [
      "23/10/08 16:01:20 WARN DAGScheduler: Broadcasting large task binary with size 10.2 MiB\n",
      "23/10/08 16:01:20 WARN TaskSetManager: Stage 48 contains a task of very large size (6932 KiB). The maximum recommended task size is 1000 KiB.\n",
      "23/10/08 16:01:23 WARN DAGScheduler: Broadcasting large task binary with size 10.2 MiB\n",
      "                                                                                \r"
     ]
    },
    {
     "name": "stdout",
     "output_type": "stream",
     "text": [
      "+----------+-----+\n",
      "|prediction|    c|\n",
      "+----------+-----+\n",
      "|       0.0| 5714|\n",
      "|       1.0| 6164|\n",
      "|       2.0|16826|\n",
      "+----------+-----+\n",
      "\n"
     ]
    },
    {
     "name": "stderr",
     "output_type": "stream",
     "text": [
      "23/10/08 16:01:24 WARN TaskSetManager: Stage 52 contains a task of very large size (6932 KiB). The maximum recommended task size is 1000 KiB.\n",
      "                                                                                \r"
     ]
    },
    {
     "name": "stdout",
     "output_type": "stream",
     "text": [
      "+-----+-----+\n",
      "|label|    c|\n",
      "+-----+-----+\n",
      "|    0| 2552|\n",
      "|    1| 3683|\n",
      "|    2|22469|\n",
      "+-----+-----+\n",
      "\n"
     ]
    },
    {
     "name": "stderr",
     "output_type": "stream",
     "text": [
      "/home/grc/arep/sentiment_analysis/lib/python3.10/site-packages/pyspark/sql/context.py:157: FutureWarning: Deprecated in 3.0.0. Use SparkSession.builder.getOrCreate() instead.\n",
      "  warnings.warn(\n",
      "23/10/08 16:01:25 WARN DAGScheduler: Broadcasting large task binary with size 10.2 MiB\n",
      "23/10/08 16:01:25 WARN TaskSetManager: Stage 56 contains a task of very large size (6932 KiB). The maximum recommended task size is 1000 KiB.\n",
      "23/10/08 16:01:26 WARN DAGScheduler: Broadcasting large task binary with size 10.2 MiB\n",
      "23/10/08 16:01:26 WARN TaskSetManager: Stage 57 contains a task of very large size (6932 KiB). The maximum recommended task size is 1000 KiB.\n",
      "                                                                                \r"
     ]
    },
    {
     "name": "stdout",
     "output_type": "stream",
     "text": [
      "Accuracy: 0.6885\n",
      "W. Recall: 0.6885\n",
      "W. Precision: 0.8099\n",
      "\n",
      "Label: 0, Recall: 0.3371\n",
      "Label: 0, Precision: 0.3371\n",
      "\n",
      "Label: 1, Recall: 0.3142\n",
      "Label: 1, Precision: 0.3142\n",
      "\n",
      "Label: 2, Recall: 0.9449\n",
      "Label: 2, Precision: 0.9449\n",
      "\n"
     ]
    },
    {
     "data": {
      "image/png": "[encoded data removed]",
      "text/plain": [
       "<Figure size 640x480 with 2 Axes>"
      ]
     },
     "metadata": {},
     "output_type": "display_data"
    }
   ],
   "source": [
    "# This is the performance of estimator in production :(\n",
    "df.groupBy(\"prediction\").agg(pf.count(\"Id\").alias(\"c\")).orderBy(\"c\").show()\n",
    "df.groupBy(\"label\").agg(pf.count(\"id\").alias(\"c\")).orderBy(\"c\").show()\n",
    "\n",
    "m = get_metrics(df, y_col=\"label\")\n",
    "\n",
    "plot_ml_metrics(m);"
   ]
  }
 ],
 "metadata": {
  "kernelspec": {
   "display_name": "sentiment_analysis",
   "language": "python",
   "name": "python3"
  },
  "language_info": {
   "codemirror_mode": {
    "name": "ipython",
    "version": 3
   },
   "file_extension": ".py",
   "mimetype": "text/x-python",
   "name": "python",
   "nbconvert_exporter": "python",
   "pygments_lexer": "ipython3",
   "version": "3.10.12"
  },
  "orig_nbformat": 4
 },
 "nbformat": 4,
 "nbformat_minor": 2
}
