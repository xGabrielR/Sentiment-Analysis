{
 "cells": [
  {
   "cell_type": "markdown",
   "metadata": {},
   "source": [
    "# Sentiment Analysis\n",
    "\n",
    "---"
   ]
  },
  {
   "cell_type": "markdown",
   "metadata": {},
   "source": [
    "Business Problem: You are working at Foods Inc as a data analyst. The company is a chain of sophisticated restaurants in Brazil and is expanding rapidly, also operating in the Uruguay and Paraguay segments.\n",
    "The company is currently in the process of modernizing technologies and processes, the company's main focus now is to target customers and products, one of the company's biggest updates is the creation of an online application that works like an \"online restaurant\", the customer Create an account on the app and order food, after that the restaurant creates food and sends it to the customer's home.\n",
    "A very simple e-commerce, but for food.\n",
    "By creating an account, customers can order any type of food available from restaurants near their location. After that, the restaurant creates the order and delivery the food to the customer location, the customer can provide post delivery feedback and a star rating.\n",
    "This application has been running for a year and the company has collected some raw data and now its challenge is to provide insights with this data set.\n",
    "One of the main objectives is to create an estimator that works as a validator of sentiment scores.\n",
    "If the score is 5 and the text is \"very bad\", you will need to confirm this score with an estimator.\n",
    "\n",
    "In this small project I aim to train my skills with Spark on multiclass classification problems.\n",
    "\n",
    "The project basically consists of sentiment analysis pipeline using kaggle dataset product reviews on this link: https://www.kaggle.com/datasets/snap/amazon-fine-food-reviews.\n",
    "\n",
    "This dataset consists of reviews of fine foods from amazon. The data span a period of more than 10 years, including all ~500,000 reviews up to October 2012. Reviews include product and user information, ratings, and a plain text review. It also includes reviews from all other Amazon categories.\n",
    "\n",
    "Dataset Overview:\n",
    "\n",
    "- *Id*: Row Number.\n",
    "- *ProductId*: Product that customer buy at a restaurant.\n",
    "- *UserId*: Customer indentification.\n",
    "- *ProfileName*: Customer Profile.\n",
    "- *Time*: Feedback timestamp.\n",
    "- *HelpfulnessNumerator|HelpfulnessDenominator*: Indicators.\n",
    "- *Score*: Sentiment.\n",
    "- *Summary*: A summary of text.\n",
    "- *Text*: Customer feedback."
   ]
  },
  {
   "cell_type": "markdown",
   "metadata": {},
   "source": [
    "## 0.0. Requirements"
   ]
  },
  {
   "cell_type": "markdown",
   "metadata": {},
   "source": [
    "### 0.1. Imports"
   ]
  },
  {
   "cell_type": "code",
   "execution_count": 1,
   "metadata": {},
   "outputs": [
    {
     "name": "stderr",
     "output_type": "stream",
     "text": [
      "/home/grc/arep/sentiment-analysis/lib/python3.10/site-packages/tqdm/auto.py:21: TqdmWarning: IProgress not found. Please update jupyter and ipywidgets. See https://ipywidgets.readthedocs.io/en/stable/user_install.html\n",
      "  from .autonotebook import tqdm as notebook_tqdm\n"
     ]
    }
   ],
   "source": [
    "#import mlflow\n",
    "import numpy as np\n",
    "import pandas as pd\n",
    "\n",
    "import seaborn as sns \n",
    "from matplotlib import pyplot as plt\n",
    "\n",
    "from pyspark import SparkContext\n",
    "from pyspark.sql import SparkSession\n",
    "\n",
    "from pyspark.sql import functions as pf\n",
    "\n",
    "from pyspark.sql.types import FloatType\n",
    "from pyspark.sql.dataframe import DataFrame\n",
    "from pyspark.sql.utils import AnalysisException\n",
    "\n",
    "from pyspark.ml import Pipeline\n",
    "from pyspark.ml import Transformer\n",
    "\n",
    "from pyspark.ml.feature import (\n",
    "    IDF,\n",
    "    IDFModel,\n",
    "    Tokenizer,\n",
    "    HashingTF,\n",
    "    StopWordsRemover,\n",
    "    VectorAssembler\n",
    ")\n",
    "\n",
    "from pyspark.ml.classification import LogisticRegression\n",
    "\n",
    "from pyspark.mllib.evaluation import MulticlassMetrics\n",
    "from pyspark.ml.evaluation import MulticlassClassificationEvaluator\n",
    "\n",
    "from pyspark.ml.tuning import ParamGridBuilder, CrossValidator\n",
    "\n",
    "from sentence_transformers import SentenceTransformer"
   ]
  },
  {
   "cell_type": "markdown",
   "metadata": {},
   "source": [
    "### 0.2. Aux Functions"
   ]
  },
  {
   "cell_type": "code",
   "execution_count": 2,
   "metadata": {},
   "outputs": [
    {
     "name": "stderr",
     "output_type": "stream",
     "text": [
      "24/06/06 22:05:30 WARN Utils: Your hostname, grc resolves to a loopback address: 127.0.1.1; using 192.168.3.7 instead (on interface eno1)\n",
      "24/06/06 22:05:30 WARN Utils: Set SPARK_LOCAL_IP if you need to bind to another address\n",
      "Setting default log level to \"WARN\".\n",
      "To adjust logging level use sc.setLogLevel(newLevel). For SparkR, use setLogLevel(newLevel).\n",
      "24/06/06 22:05:31 WARN NativeCodeLoader: Unable to load native-hadoop library for your platform... using builtin-java classes where applicable\n"
     ]
    },
    {
     "data": {
      "text/html": [
       "\n",
       "        <div>\n",
       "            <p><b>SparkContext</b></p>\n",
       "\n",
       "            <p><a href=\"http://192.168.3.7:4040\">Spark UI</a></p>\n",
       "\n",
       "            <dl>\n",
       "              <dt>Version</dt>\n",
       "                <dd><code>v3.4.1</code></dd>\n",
       "              <dt>Master</dt>\n",
       "                <dd><code>local[*]</code></dd>\n",
       "              <dt>AppName</dt>\n",
       "                <dd><code>pyspark-shell</code></dd>\n",
       "            </dl>\n",
       "        </div>\n",
       "        "
      ],
      "text/plain": [
       "<SparkContext master=local[*] appName=pyspark-shell>"
      ]
     },
     "execution_count": 2,
     "metadata": {},
     "output_type": "execute_result"
    }
   ],
   "source": [
    "spark = SparkSession.builder \\\n",
    "        .master(\"local[*]\") \\\n",
    "        .config(\"spark.driver.memory\", \"10g\") \\\n",
    "        .config(\"spark.executor.memory\", \"10g\") \\\n",
    "        .getOrCreate()\n",
    "\n",
    "sc = spark.sparkContext\n",
    "\n",
    "sc"
   ]
  },
  {
   "cell_type": "code",
   "execution_count": 3,
   "metadata": {},
   "outputs": [],
   "source": [
    "class NoiseLableRemoval(Transformer):\n",
    "    \"\"\"\n",
    "    This class is responsible for filtering wrong Scores\n",
    "    and for create label class associated with the scores.\n",
    "\n",
    "    inputs:\n",
    "        - inputCol: Column that will be transformed.\n",
    "        - outputCol: Output Column name.\n",
    "        - labelCol: Label / Score column to generate Bad, Neutral or Good label.\n",
    "\n",
    "    returns:\n",
    "        - df: Transformed DataFrame. \n",
    "\n",
    "    \"\"\"\n",
    "\n",
    "    def __init__(\n",
    "        self,\n",
    "        inputCol: str = \"Text\",\n",
    "        outputCol: str = \"Text\",\n",
    "        labelCol: str = \"Score\"\n",
    "    ):\n",
    "\n",
    "        self.inputCol = inputCol\n",
    "        self.outputCol = outputCol\n",
    "        self.labelCol = labelCol\n",
    "\n",
    "    # Transform\n",
    "    def _transform(self, dataset: DataFrame) -> DataFrame:\n",
    "        y_col = self.labelCol\n",
    "        \n",
    "        if y_col not in dataset.columns:\n",
    "            raise AnalysisException(f\"'{y_col}' column not exists on DataFrame\")\n",
    "\n",
    "        # check consistent labels\n",
    "        current_labels = [j[0] for j in dataset.select(pf.col(y_col)).distinct().collect()]\n",
    "        current_labels.sort()\n",
    "\n",
    "        if current_labels == [0, 1, 2]:\n",
    "            return dataset\n",
    "\n",
    "        else:\n",
    "            df = dataset.filter(pf.col(y_col).isin([0, 1, 2, 3, 4, 5]))\n",
    "\n",
    "            # Good, Neutral and Bad\n",
    "            df = df.withColumn(\n",
    "                y_col,\n",
    "                pf.when(pf.col(y_col) < 2, 0) \\\n",
    "                .when((pf.col(y_col) >= 2) & (pf.col(y_col) < 4), 1) \\\n",
    "                .when(pf.col(y_col) >= 4, 2)\n",
    "            )\n",
    "\n",
    "            return df\n",
    "    \n",
    "class FilterRowsFeatures(Transformer):\n",
    "    \"\"\"\n",
    "    This class is responsible for filtering rows and columns in dataset.\n",
    "\n",
    "    inputs:\n",
    "        - aggCols: Columns to Agg and Keep.\n",
    "        - keyCol: Column to be unique key.\n",
    "\n",
    "    returns:\n",
    "        - df: Transformed DataFrame. \n",
    "\n",
    "    \"\"\"\n",
    "\n",
    "    def __init__(\n",
    "        self,\n",
    "        aggCols: list,\n",
    "        keyCol: str = \"Id\"\n",
    "    ):\n",
    "        self.aggCols = aggCols\n",
    "        self.keyCol = keyCol\n",
    "\n",
    "    def _transform(self, dataset: DataFrame) -> DataFrame:\n",
    "        df_filter = dataset.groupBy(self.aggCols).agg(pf.max(pf.col(self.keyCol)).alias(self.keyCol))\n",
    "        df_filter = df_filter.select([self.keyCol] + self.aggCols)\n",
    "\n",
    "        return df_filter\n",
    "    \n",
    "    \n",
    "class CleanCorpus(Transformer):\n",
    "    \"\"\"\n",
    "    This class is responsible for cleaning text columns with SQL and Regex in a given dataset.\n",
    "\n",
    "    inputs:\n",
    "        - cleanCols: Columns to be cleaned with SQL and Regex.\n",
    "\n",
    "    returns:\n",
    "        - df: Transformed DataFrame. \n",
    "\n",
    "    \"\"\"\n",
    "\n",
    "    def __init__(\n",
    "        self,\n",
    "        cleanCols: list\n",
    "    ):\n",
    "        self.cleanCols = cleanCols\n",
    "\n",
    "    def _transform(self, dataset: DataFrame) -> DataFrame:\n",
    "        df_clean = dataset\n",
    "\n",
    "        for col in self.cleanCols:\n",
    "            df_clean = df_clean.withColumn(\n",
    "                col,\n",
    "                pf.regexp_replace(pf.regexp_replace(pf.regexp_replace(pf.regexp_replace(pf.regexp_replace(pf.regexp_replace(pf.trim(pf.lower(pf.regexp_replace(pf.col(col), '-', ''))), r'[.,]+', '. '), r'<[^>]+>', \" \"), r'\\(.+?\\)', ''), '\"', ''), r'\\s+', \" \"), \":\", \"\").alias(col)\n",
    "            )\n",
    "\n",
    "        return df_clean\n",
    "    \n",
    "class FeatureEngineering(Transformer):\n",
    "    \"\"\"\n",
    "    This class is responsible for feature engineering in a given dataset.\n",
    "\n",
    "    inputs:\n",
    "        - dummyCol: Do Nothing.\n",
    "\n",
    "    returns:\n",
    "        - df: Transformed DataFrame. \n",
    "\n",
    "    \"\"\"\n",
    "\n",
    "    def __init__(\n",
    "        self,\n",
    "        dummyCol: str = \"dummyCol\"\n",
    "    ):\n",
    "        self.dummyCol = dummyCol\n",
    "\n",
    "    def _transform(self, dataset: DataFrame) -> DataFrame:\n",
    "        df_features = dataset\n",
    "\n",
    "        # Summary + Text feature\n",
    "        df_features = df_features.withColumn(\n",
    "            \"Text\",\n",
    "            pf.regexp_replace(pf.concat_ws(\" \", pf.col(\"Summary\"), pf.col(\"Text\")), r\"\\s+\", \" \")\n",
    "        ).drop(\"Summary\")\n",
    "\n",
    "        return df_features"
   ]
  },
  {
   "cell_type": "code",
   "execution_count": 38,
   "metadata": {},
   "outputs": [],
   "source": [
    "def undersampling_dataframe(\n",
    "    df: DataFrame,\n",
    "    minority_class_sample: int = 33000,\n",
    "    labels: list = [0, 1, 2]\n",
    ") -> DataFrame:\n",
    "    \"\"\"\n",
    "    Slice Top K rows from a PySpark dataframe for each input labels.\n",
    "    \n",
    "    inputs:\n",
    "        - df: Base DataFrame for slice.\n",
    "        - minority_class_sample: Top K int values for slice.\n",
    "        - labels: list of label for split into split_size samples.\n",
    "\n",
    "    returns:\n",
    "        - df_samples: Base input DataFrame with Top K sliced samples.\n",
    "    \"\"\"\n",
    "    df_samples = df.limit(1)\n",
    "\n",
    "    for label in labels:\n",
    "        # Filter classes\n",
    "        df_filter_class = df.filter(pf.col(\"Score\") == label).limit(minority_class_sample)\n",
    "\n",
    "        # Union on df_samples reference\n",
    "        df_samples = df_samples.select(df_filter_class.columns).unionAll(df_filter_class).distinct()\n",
    "\n",
    "    df_samples = df_samples.filter(pf.col(\"Score\").isin(labels))\n",
    "\n",
    "    df_samples.groupBy(\"Score\").count().orderBy(\"count\").show()\n",
    "\n",
    "    return df_samples\n",
    "\n",
    "def build_preprocessing_pipeline():\n",
    "    noise_score_removal = NoiseLableRemoval(\n",
    "        inputCol=\"Text\",\n",
    "        outputCol=\"Text\",\n",
    "        labelCol=\"Score\"\n",
    "    )\n",
    "\n",
    "    filter_rows_features = FilterRowsFeatures(\n",
    "        aggCols=['ProductId', 'UserId', 'Score', 'ProfileName', 'Summary', 'Text'],\n",
    "        keyCol=\"Id\"\n",
    "    )\n",
    "\n",
    "    clean_corpus = CleanCorpus(\n",
    "        cleanCols=['ProfileName', 'Text', 'Summary']\n",
    "    )\n",
    "\n",
    "    feature_engineering = FeatureEngineering()\n",
    "\n",
    "    stages = [\n",
    "        noise_score_removal,\n",
    "        filter_rows_features,\n",
    "        clean_corpus,\n",
    "        feature_engineering\n",
    "    ]\n",
    "\n",
    "    return Pipeline(stages=stages)"
   ]
  },
  {
   "cell_type": "code",
   "execution_count": 5,
   "metadata": {},
   "outputs": [],
   "source": [
    "def get_multiclass_metrics(\n",
    "    df_predictions: DataFrame,\n",
    "    y_col: str = \"Score\"\n",
    ") -> MulticlassMetrics:\n",
    "    \"\"\"\n",
    "    Get Spark MulticlassMetrics object.\n",
    "    \n",
    "    inputs:\n",
    "        - df_predictions: DataFrame with Y and Yhat.\n",
    "        - y_col: Y col name.\n",
    "\n",
    "    returns:\n",
    "        - df_predictions: Is simple a MulticlassMetrics object.\n",
    "    \n",
    "    \"\"\"\n",
    "\n",
    "    m = df_predictions.select(\n",
    "        pf.col(\"prediction\").cast(FloatType()).alias(\"prediction\"),\n",
    "        pf.col(y_col).cast(FloatType()).alias(\"label\"),\n",
    "    )\n",
    "\n",
    "    m = m.rdd.map(tuple)\n",
    "\n",
    "    m = MulticlassMetrics(m)\n",
    "\n",
    "    return m\n",
    "\n",
    "def get_ml_metrics(\n",
    "    df_predictions: DataFrame,\n",
    "    y_col: str = \"Score\",\n",
    "    labels: list = [0, 1, 2],\n",
    "    plot_confusion_matrix: bool = True\n",
    "):\n",
    "    \"\"\"\n",
    "    Gte Pyspark Geral multiclass metrics.\n",
    "    \n",
    "    inputs:\n",
    "        - df_predictions: DataFrame with Y and Yhat.\n",
    "        - y_col: Y col name.\n",
    "\n",
    "    returns:\n",
    "        - metrics dict: Dict with weight metrics.\n",
    "    \n",
    "    \"\"\"\n",
    "    m = get_multiclass_metrics(df_predictions, y_col)\n",
    "\n",
    "    acc = m.accuracy\n",
    "    wre = m.weightedRecall\n",
    "    wpr = m.weightedPrecision\n",
    "    \n",
    "    print(f\"Accuracy: {acc:.4f}\")\n",
    "    print(f\"W. Recall: {wre:.4f}\")\n",
    "    print(f\"W. Precision: {wpr:.4f}\\n\")\n",
    "\n",
    "    recs, precs = [], []\n",
    "    for label in set(labels):\n",
    "        p = m.precision(label)\n",
    "        r = m.recall(label)\n",
    "        recs.append(r)\n",
    "        precs.append(p)\n",
    "\n",
    "        print(f\"Label: {label}, Recall: {p:.4f}\")\n",
    "        print(f\"Label: {label}, Precision: {r:.4f}\\n\")\n",
    "    \n",
    "    srec = sum(recs) / 3\n",
    "    spre = sum(precs) / 3\n",
    "    print(f\"Mean Recalls: {srec:.4f}, Mean Precisions: {spre:.4f}\\n\\n\")\n",
    "\n",
    "    if plot_confusion_matrix:\n",
    "        fig, ax = plt.subplots(figsize=(7, 5))\n",
    "        ax = sns.heatmap(m.confusionMatrix().toArray(), cmap=\"Blues\", annot=True, fmt=\"g\", linewidths=0.5, linecolor=\"k\", ax=ax)\n",
    "        ax.set_title(\"Confusion Matrix\")\n",
    "        ax.set_ylabel(\"True label\")\n",
    "        ax.set_xlabel(\"Predicted label\");\n",
    "\n",
    "    return {\n",
    "        \"accuracy\": acc,\n",
    "        \"wprecision\": wpr,\n",
    "        \"wrecall\": wre,\n",
    "        \"mrec\": srec,\n",
    "        \"mprec\": spre\n",
    "    }"
   ]
  },
  {
   "cell_type": "markdown",
   "metadata": {},
   "source": [
    "## 1.0. Dataset Balance"
   ]
  },
  {
   "cell_type": "markdown",
   "metadata": {},
   "source": [
    "Given the new challenges facing imbalanced learning, extensive efforts and significant progress have been made in the community to tackle this problem.\n",
    "\n",
    "Sampling methods seem to be the dominate type of approach in the community as they tackle imbalanced learning in a straightforward manner. In general, the use of sampling methods in imbalanced learning consists of the modification of an imbalanced dataset by some mechanism in order to provide a balanced distribution. Representative work in this area includes random oversampling, random undersampling, synthetic sampling with data generation, cluster-based sampling methods, and integration of sampling and boosting.\n",
    "\n",
    "The key aspect of sampling methods is the mechanism used to sample the original dataset. Under different assumptions and with different objective considerations, various approaches have been proposed. For instance, the mechanism of random oversampling follows naturally from its description by replicating a randomly selected set of examples from the minority class. On the basis of such simple sampling techniques, many informed sampling methods have been proposed, such as the EasyEnsemble and BalanceCascade algorithms. Synthetic sampling with data generation techniques has also attracted much attention.\n",
    "\n",
    "For example, the synthetic minority oversampling technique (SMOTE) algorithm creates artificial data based on the feature space similarities between existing minority examples. Adaptive sampling methods have also been proposed, such as the borderline-SMOTE and adaptive synthetic (ADASYN) sampling algorithms. Sampling strategies have also been integrated with ensemble learning techniques by the community, such as in SMOTEBoost, RAMOBoost, and DataBoost-IM. Data-cleaning techniques, such as Tomek links, have been effectively applied to remove the overlapping that is introduced from sampling methods for imbalanced learning. Some representative work in this area includes the one-side selection (OSS) methos and the neighborhood cleaning rule (NCL).\n",
    "\n",
    "Another approach is a Cost-sensitive learning methods target the problem of imbalanced learning by using different cost matrices that describe the costs for misclassifying any particular data example. Research in the past indicates that there is a strong connection between cost-sensitive learning and imbalanced learning. In general, there are three categories of approaches to implement cost-sensitive learning for imbalanced data.\n",
    "- The first class of techniques applies misclassification costs to the dataset as a form of dataspace weighting (translation theorem); these techniques are essentially cost-sensitive bootstrap sampling approaches where misclassification costs are used to select the best training distribution.\n",
    "- The second class applies cost-minimizing techniques to the combination schemes of ensemble methods (Metacost framework); this class consists of various meta techniques, such as the AdaC1, AdaC2, and AdaC3 method and AdaCost.\n",
    "- The third class of techniques incorporates costsensitive functions or features directly into classification paradigms to essentially \"fit\" the cost-sensitive framework into these classifiers, such as the cost-sensitive decision trees, cost-sensitive neural networks, cost-sensitive Bayesian classifiers, and cost-sensitive support vector machines (SVMs).\n",
    "\n",
    "Exists other methods and estimators, but this two is the most basic and fundamentals. The first (Sampling methods), most precise Under Sampling is my choise for working with this dataset, because i cannot create random sampling from text wuthout using embeddings or any other type of mechanism for work with this. I selected undersampling because is the most simple, faster and reproductibility method.\n",
    "\n",
    "I will consider two main datasets for testing the performance of both, a balanced dataset and a umbalanced dataset."
   ]
  },
  {
   "cell_type": "code",
   "execution_count": 36,
   "metadata": {},
   "outputs": [
    {
     "name": "stdout",
     "output_type": "stream",
     "text": [
      "+-----+------+\n",
      "|Score| count|\n",
      "+-----+------+\n",
      "|    1| 47297|\n",
      "|    2|292387|\n",
      "|    0| 33423|\n",
      "+-----+------+\n",
      "\n"
     ]
    }
   ],
   "source": [
    "df = spark.read.format(\"parquet\").load(\"../data/train\")\n",
    "\n",
    "df.groupBy(\"Score\").count().show()"
   ]
  },
  {
   "cell_type": "code",
   "execution_count": 46,
   "metadata": {},
   "outputs": [
    {
     "name": "stdout",
     "output_type": "stream",
     "text": [
      "Labels: [1, 2, 0], with 33423 samples.\n"
     ]
    }
   ],
   "source": [
    "labels = [k[0] for k in df.select(pf.col(\"score\")).distinct().collect()]\n",
    "minority_class_sample = df.groupBy(\"Score\").count().orderBy(\"count\").limit(1).select(\"count\").collect()[0][0]\n",
    "\n",
    "print(f\"Labels: {labels}, with {minority_class_sample} samples.\")"
   ]
  },
  {
   "cell_type": "code",
   "execution_count": 39,
   "metadata": {},
   "outputs": [
    {
     "name": "stdout",
     "output_type": "stream",
     "text": [
      "+-----+-----+\n",
      "|Score|count|\n",
      "+-----+-----+\n",
      "|    1|33423|\n",
      "|    2|33423|\n",
      "|    0|33423|\n",
      "+-----+-----+\n",
      "\n"
     ]
    }
   ],
   "source": [
    "df_sample = undersampling_dataframe(df=df, minority_class_sample=minority_class_sample)"
   ]
  },
  {
   "cell_type": "code",
   "execution_count": 140,
   "metadata": {},
   "outputs": [
    {
     "name": "stderr",
     "output_type": "stream",
     "text": [
      "                                                                                \r"
     ]
    }
   ],
   "source": [
    "df_sample.write.format(\"parquet\").mode(\"overwrite\").save(\"../data/train_undersampling\")"
   ]
  },
  {
   "cell_type": "markdown",
   "metadata": {},
   "source": [
    "## 2.0. Spark Pipeline"
   ]
  },
  {
   "cell_type": "markdown",
   "metadata": {},
   "source": [
    "Before dive into Machine Learning, i need to replicate all transformations created in Train dataset into OOT and Test dataset, the steps is:\n",
    "\n",
    "- Filtering Rows and Columns and Noisy (I Will remove duplciated rows from OOT and Test and apply feature selection).\n",
    "- Cleaning Text (Clean text with basic SQL functions).\n",
    "- Feature Engineering (Feature Engineering Step to combine text and summary).\n",
    "\n",
    "To make the deployment script more simplified, I will use a Pyspark feature called Pipeline, it serves as a list of transformations that will then be applied until classification, for example, cleans, preparations, transformations and classification."
   ]
  },
  {
   "cell_type": "code",
   "execution_count": 6,
   "metadata": {},
   "outputs": [],
   "source": [
    "df_test = spark.read.format(\"parquet\").load(\"../data/test\")\n",
    "df_oot = spark.read.format(\"parquet\").load(\"../data/oot\")"
   ]
  },
  {
   "cell_type": "code",
   "execution_count": 7,
   "metadata": {},
   "outputs": [
    {
     "name": "stdout",
     "output_type": "stream",
     "text": [
      "+---+----------+--------------+-----------+--------------------+----------------------+-----+-------------------+--------------+---------------------------------------------------------------------------------------------------------------------------------------------------------------------------------------------------------------------------+\n",
      "|Id |ProductId |UserId        |ProfileName|HelpfulnessNumerator|HelpfulnessDenominator|Score|Time               |Summary       |Text                                                                                                                                                                                                                       |\n",
      "+---+----------+--------------+-----------+--------------------+----------------------+-----+-------------------+--------------+---------------------------------------------------------------------------------------------------------------------------------------------------------------------------------------------------------------------------+\n",
      "|4  |B000UA0QIQ|A395BORC6FGVXV|Karl       |3                   |3                     |1    |2011-06-12 21:00:00|Cough Medicine|If you are looking for the secret ingredient in Robitussin I believe I have found it.  I got this in addition to the Root Beer Extract I ordered (which was good) and made some cherry soda.  The flavor is very medicinal.|\n",
      "+---+----------+--------------+-----------+--------------------+----------------------+-----+-------------------+--------------+---------------------------------------------------------------------------------------------------------------------------------------------------------------------------------------------------------------------------+\n",
      "\n"
     ]
    }
   ],
   "source": [
    "df_test.filter(pf.col(\"Id\") == 4).show(truncate=False)"
   ]
  },
  {
   "cell_type": "code",
   "execution_count": 8,
   "metadata": {},
   "outputs": [
    {
     "name": "stderr",
     "output_type": "stream",
     "text": [
      "                                                                                \r"
     ]
    },
    {
     "name": "stdout",
     "output_type": "stream",
     "text": [
      "+---+----------+--------------+-----+-----------+------------------------------------------------------------------------------------------------------------------------------------------------------------------------------------------------------------------------+\n",
      "|Id |ProductId |UserId        |Score|ProfileName|Text                                                                                                                                                                                                                    |\n",
      "+---+----------+--------------+-----+-----------+------------------------------------------------------------------------------------------------------------------------------------------------------------------------------------------------------------------------+\n",
      "|4  |B000UA0QIQ|A395BORC6FGVXV|1    |karl       |cough medicine if you are looking for the secret ingredient in robitussin i believe i have found it. i got this in addition to the root beer extract i ordered and made some cherry soda. the flavor is very medicinal. |\n",
      "+---+----------+--------------+-----+-----------+------------------------------------------------------------------------------------------------------------------------------------------------------------------------------------------------------------------------+\n",
      "\n"
     ]
    }
   ],
   "source": [
    "pipeline = build_preprocessing_pipeline()\n",
    "\n",
    "pipeline = pipeline.fit(df_test)\n",
    "df_test = pipeline.transform(df_test)\n",
    "df_oot = pipeline.transform(df_oot)\n",
    "\n",
    "df_test.filter(pf.col(\"Id\") == 4).show(truncate=False)"
   ]
  },
  {
   "cell_type": "markdown",
   "metadata": {},
   "source": [
    "## 3.0. Machine Learning for Sentiment Analysis"
   ]
  },
  {
   "cell_type": "code",
   "execution_count": 53,
   "metadata": {},
   "outputs": [],
   "source": [
    "df_train = spark.read.format(\"parquet\").load(\"../data/train_undersampling\")"
   ]
  },
  {
   "cell_type": "markdown",
   "metadata": {},
   "source": [
    "In this step I will create two main solution.\n",
    "\n",
    "A sentiment analysis with traditional machine learning using TF-IDF and a second solution with hugging face transformers embedding, afther feature extraction with TF-IDF and Embeddings I selected a Random Forest estimator to create probability Scores for each class of sentiment."
   ]
  },
  {
   "cell_type": "markdown",
   "metadata": {},
   "source": [
    "### 3.1. Classical Sentiment Analisys"
   ]
  },
  {
   "cell_type": "markdown",
   "metadata": {},
   "source": [
    "#### 3.1.1. Tokenization"
   ]
  },
  {
   "cell_type": "markdown",
   "metadata": {},
   "source": [
    "For classical TF-IDF solution, exists is another stages of processing and cleaning the data.\n",
    "\n",
    "First I separate the strings into \"tokens\" which are nothing more than a vector of words, this vector is used in the next class we will use, which is StopWordsRemover which in short will remove the stopwords.\n",
    "\n",
    "Examples of stopwords is: \"to, it, a\", is considered noisy data in nlp tasks.\n",
    "\n",
    "You can see all example transformations on this dataset on a dataframe.show()."
   ]
  },
  {
   "cell_type": "code",
   "execution_count": 10,
   "metadata": {},
   "outputs": [],
   "source": [
    "tokenizer = Tokenizer(inputCol=\"Text\", outputCol=\"tokens\")\n",
    "stopwords = StopWordsRemover(inputCol=\"tokens\", outputCol=\"words\")\n",
    "\n",
    "# I Will Save this version of tokenizer\n",
    "# When I re-train the model, at this stage I can use a new version of the tokenizer.\n",
    "# But, for now, i will fix this version.\n",
    "#tokenizer.write().save(\"../src/features/tokenizer.spark\")"
   ]
  },
  {
   "cell_type": "code",
   "execution_count": 11,
   "metadata": {},
   "outputs": [],
   "source": [
    "df_train_tokens = stopwords.transform(tokenizer.transform(df_train))\n",
    "df_test_tokens = stopwords.transform(tokenizer.transform(df_test))\n",
    "df_oot_tokens = stopwords.transform(tokenizer.transform(df_oot))"
   ]
  },
  {
   "cell_type": "code",
   "execution_count": 12,
   "metadata": {},
   "outputs": [
    {
     "name": "stdout",
     "output_type": "stream",
     "text": [
      "+----+----------+--------------+-----+---------------------------+----------------------------------------------------------------------------------------------------------------------------------------------------------------------------------------------------------------------------------------------------------------------------------------------------------------------------------------------------------------------------------+------------------------------------------------------------------------------------------------------------------------------------------------------------------------------------------------------------------------------------------------------------------------------------------------------------------------------------------------------------------------------------------------------------------------------------------------------+----------------------------------------------------------------------------------------------------------------------------------------------------------------------------------------------------------------------------------------------------------------------------------------------------+\n",
      "|Id  |ProductId |UserId        |Score|ProfileName                |Text                                                                                                                                                                                                                                                                                                                                                                              |tokens                                                                                                                                                                                                                                                                                                                                                                                                                                                |words                                                                                                                                                                                                                                                                                               |\n",
      "+----+----------+--------------+-----+---------------------------+----------------------------------------------------------------------------------------------------------------------------------------------------------------------------------------------------------------------------------------------------------------------------------------------------------------------------------------------------------------------------------+------------------------------------------------------------------------------------------------------------------------------------------------------------------------------------------------------------------------------------------------------------------------------------------------------------------------------------------------------------------------------------------------------------------------------------------------------+----------------------------------------------------------------------------------------------------------------------------------------------------------------------------------------------------------------------------------------------------------------------------------------------------+\n",
      "|3920|B00449NWW6|AAHESJ9WZ4SF2 |1    |redrider                   |hannah's red hot pickled sausage 1 gallon the product was advertizes as hot sausage;s. the lable on jar say;s [ hot sausage ]. but they not even warm . the sausage;s do have agood flavor but just pickled. we have been serving these type of products at our vfw for year's so i know what i'm talking about.                                                                  |[hannah's, red, hot, pickled, sausage, 1, gallon, the, product, was, advertizes, as, hot, sausage;s., the, lable, on, jar, say;s, [, hot, sausage, ]., but, they, not, even, warm, ., the, sausage;s, do, have, agood, flavor, but, just, pickled., we, have, been, serving, these, type, of, products, at, our, vfw, for, year's, so, i, know, what, i'm, talking, about.]                                                                           |[hannah's, red, hot, pickled, sausage, 1, gallon, product, advertizes, hot, sausage;s., lable, jar, say;s, [, hot, sausage, ]., even, warm, ., sausage;s, agood, flavor, pickled., serving, type, products, vfw, year's, know, talking, about.]                                                     |\n",
      "|4199|B004391DK0|A2ZF94UWLGBLX8|1    |josina m. reaves           |not for pancakes i love pancakes. so giving up gluten was hard for me. i've used bisquick for pancakes for years with great results. alas. the best i got from the glutenfree version was edible. but not enjoyable. it tasted a lot like pillow foam. not in a good way. i will probably keep the mix for breading things. but not for pancakes. i've found much better options. |[not, for, pancakes, i, love, pancakes., so, giving, up, gluten, was, hard, for, me., i've, used, bisquick, for, pancakes, for, years, with, great, results., alas., the, best, i, got, from, the, glutenfree, version, was, edible., but, not, enjoyable., it, tasted, a, lot, like, pillow, foam., not, in, a, good, way., i, will, probably, keep, the, mix, for, breading, things., but, not, for, pancakes., i've, found, much, better, options.]|[pancakes, love, pancakes., giving, gluten, hard, me., used, bisquick, pancakes, years, great, results., alas., best, got, glutenfree, version, edible., enjoyable., tasted, lot, like, pillow, foam., good, way., probably, keep, mix, breading, things., pancakes., found, much, better, options.]|\n",
      "|6185|B000UOFW9K|A1GXDBSMKHB2XV|1    |deanna s. wingart dewingart|awesome taste but. i received my 2 cases of rice works and the chips are awesome tasting and a great price but in every single bag the chips were crunched/smashed into little pieces so i guess i have 24 bags of salad toppers or . but not chips.                                                                                                                              |[awesome, taste, but., i, received, my, 2, cases, of, rice, works, and, the, chips, are, awesome, tasting, and, a, great, price, but, in, every, single, bag, the, chips, were, crunched/smashed, into, little, pieces, so, i, guess, i, have, 24, bags, of, salad, toppers, or, ., but, not, chips.]                                                                                                                                                 |[awesome, taste, but., received, 2, cases, rice, works, chips, awesome, tasting, great, price, every, single, bag, chips, crunched/smashed, little, pieces, guess, 24, bags, salad, toppers, ., chips.]                                                                                             |\n",
      "+----+----------+--------------+-----+---------------------------+----------------------------------------------------------------------------------------------------------------------------------------------------------------------------------------------------------------------------------------------------------------------------------------------------------------------------------------------------------------------------------+------------------------------------------------------------------------------------------------------------------------------------------------------------------------------------------------------------------------------------------------------------------------------------------------------------------------------------------------------------------------------------------------------------------------------------------------------+----------------------------------------------------------------------------------------------------------------------------------------------------------------------------------------------------------------------------------------------------------------------------------------------------+\n",
      "only showing top 3 rows\n",
      "\n"
     ]
    }
   ],
   "source": [
    "# Stopwords tokens removed\n",
    "df_train_tokens.show(3, truncate=False)"
   ]
  },
  {
   "cell_type": "markdown",
   "metadata": {},
   "source": [
    "#### 3.1.2. TF-IDF"
   ]
  },
  {
   "cell_type": "markdown",
   "metadata": {},
   "source": [
    "Now I need to take the text and transform into in a numerical vector.\n",
    "In pyspark exists two tools to do that.\n",
    "\n",
    "1. Word2Vec;\n",
    "2. TF-IDF / HashingTF;\n",
    "\n",
    "First i will try TF-IDF, before is a good test to switch to word2vec.\n",
    "\n",
    "After the previous data cleaning, now is the step of applying some form of numerical representation of the textual data.\n",
    "The most classic and simple is the TF-IDF tool which stands for \"Term Frequency\" and \"Inverse Document Frequency\".\n",
    "\n",
    "IF-IDF is a sequence of steps, lets check:\n",
    "\n",
    "**1. For the given documents**\n",
    "\n",
    "Document 1: \"monkey eats a banana\" - Have \"a\" stopword in this document. \n",
    "Tokens: [monkey, eats, a, banana]\n",
    "\n",
    "Document 2: \"monkey like banana\"\n",
    "Tokens: [monkey, like, banana]\n",
    "\n",
    "**2. Term Frequency (TF)**\n",
    "\n",
    "Calculate the Term Frequency (TF) for each term in each document. The \"TF\" of a term in a document (Vector of tokens) is the number of times the term (t) appears in that document (d) divided by the total number of terms in the document (t / len( d ) ).\n",
    "\n",
    "For Document 1:\n",
    "\n",
    "TF(monkey) = 1/4\n",
    "\n",
    "TF(eats) = 1/4\n",
    "\n",
    "TF(a) = 1/4\n",
    "\n",
    "TF(banana) = 1/4\n",
    "\n",
    "For Document 2:\n",
    "\n",
    "TF(monkey) = 1/3\n",
    "\n",
    "TF(like) = 1/3\n",
    "\n",
    "TF(banana) = 1/3\n",
    "\n",
    "\n",
    "**3. Inverse Document Frequency (IDF)**\n",
    "\n",
    "Calculate the Inverse Document Frequency (IDF) for each \"term\". IDF is next step to represent Term in other documents.\n",
    "Total number of documents: (N) = 2\n",
    "\n",
    "For each term:\n",
    "\n",
    "IDF(monkey) = log(2 / 2 + 1) = log(2/3)\n",
    "\n",
    "IDF(eats) = log(2 / 1 + 1) = log(2)\n",
    "\n",
    "IDF(a) = log(2 / 1 + 1) = log(2)\n",
    "\n",
    "IDF(banana) = log(2 / 2 + 1) = log(2/3)\n",
    "\n",
    "IDF(like) = log(2 / 1 + 1) = log(2)\n",
    "\n",
    "\n",
    "**4. TF-IDF Calculation**\n",
    "\n",
    "Calculate the TF-IDF score for each term in each document by multiplying the TF and IDF values.\n",
    "\n",
    "*For Document 1:*\n",
    "\n",
    "TF-IDF(monkey) = TF(monkey) * IDF(monkey) = (1/4) * log(2/3)\n",
    "\n",
    "TF-IDF(eats) = TF(eats) * IDF(eats) = (1/4) * log(2)\n",
    "\n",
    "TF-IDF(a) = TF(a) * IDF(a) = (1/4) * log(2)\n",
    "\n",
    "TF-IDF(banana) = TF(banana) * IDF(banana) = (1/4) * log(2/3)\n",
    "\n",
    "\n",
    "*For Document 2:*\n",
    "\n",
    "TF-IDF(monkey) = TF(monkey) * IDF(monkey) = (1/3) * log(2/3)\n",
    "\n",
    "TF-IDF(like) = TF(like) * IDF(like) = (1/3) * log(2)\n",
    "\n",
    "TF-IDF(banana) = TF(banana) * IDF(banana) = (1/3) * log(2/3)\n",
    "\n",
    "Now, you have calculated the TF-IDF scores for each term in each document manually. These scores reflect the importance of each term within the respective documents and can be used for various text analysis tasks.\n",
    "In this example we do not have same term multiple times on each document, but simple add more terms to change the formula results.\n",
    "\n",
    "In pyspark exists \"HashingTF\", stands for:\n",
    "\n",
    "https://spark.apache.org/docs/latest/api/python/reference/api/pyspark.ml.feature.HashingTF.html\n",
    "\n",
    "\"Maps a sequence of terms to their term frequencies using the hashing trick. Currently we use Austin Appleby’s MurmurHash 3 algorithm (MurmurHash3_x86_32) to calculate the hash code value for the term object. Since a simple modulo is used to transform the hash function to a column index, it is advisable to use a power of two as the numFeatures parameter; otherwise the features will not be mapped evenly to the columns.\""
   ]
  },
  {
   "cell_type": "markdown",
   "metadata": {},
   "source": [
    "The IDF Spark docs: https://spark.apache.org/docs/latest/api/python/reference/api/pyspark.mllib.feature.IDF.html"
   ]
  },
  {
   "cell_type": "code",
   "execution_count": 54,
   "metadata": {},
   "outputs": [],
   "source": [
    "# NumFeatures is a Hyp. Param, I need to tune numFeatures in future for test model performance and find ideal number of features.\n",
    "# A high number cause memory overflow in a low memory cluster of pyspark.\n",
    "\n",
    "hashing = HashingTF(inputCol=\"words\", outputCol=\"raw_features\") #numFeatures=100_000\n",
    "idf = IDF(inputCol=\"raw_features\", outputCol=\"features\")"
   ]
  },
  {
   "cell_type": "code",
   "execution_count": 14,
   "metadata": {},
   "outputs": [
    {
     "name": "stderr",
     "output_type": "stream",
     "text": [
      "                                                                                \r"
     ]
    }
   ],
   "source": [
    "idf = idf.fit(hashing.transform(df_train_tokens))\n",
    "\n",
    "df_train_idf = idf.transform(hashing.transform(df_train_tokens))\n",
    "df_test_idf = idf.transform(hashing.transform(df_test_tokens))\n",
    "df_oot_idf = idf.transform(hashing.transform(df_oot_tokens))"
   ]
  },
  {
   "cell_type": "code",
   "execution_count": 56,
   "metadata": {},
   "outputs": [
    {
     "name": "stderr",
     "output_type": "stream",
     "text": [
      "24/06/06 22:21:30 WARN TaskSetManager: Stage 462 contains a task of very large size (4187 KiB). The maximum recommended task size is 1000 KiB.\n"
     ]
    }
   ],
   "source": [
    "idf.write().save(\"../src/features/idf.spark\")"
   ]
  },
  {
   "cell_type": "markdown",
   "metadata": {},
   "source": [
    "We can also use a dimensionality reducer (For example \"TruncatedSVD\", commonly used after TF-IDF) and apply it to this matrix to help machine learning models and reduce the \"curse of high dimensionality\".\n",
    "\n",
    "Because exists a total of 262144 features in features column."
   ]
  },
  {
   "cell_type": "code",
   "execution_count": 15,
   "metadata": {},
   "outputs": [
    {
     "name": "stdout",
     "output_type": "stream",
     "text": [
      "+----+----------+--------------+-----+---------------------------+----------------------------------------------------------------------------------------------------------------------------------------------------------------------------------------------------------------------------------------------------------------------------------------------------------------------------------------------------------------------------------+------------------------------------------------------------------------------------------------------------------------------------------------------------------------------------------------------------------------------------------------------------------------------------------------------------------------------------------------------------------------------------------------------------------------------------------------------+----------------------------------------------------------------------------------------------------------------------------------------------------------------------------------------------------------------------------------------------------------------------------------------------------+---------------------------------------------------------------------------------------------------------------------------------------------------------------------------------------------------------------------------------------------------------------------------------------------------------------------------------------------------------------------------------------------+------------------------------------------------------------------------------------------------------------------------------------------------------------------------------------------------------------------------------------------------------------------------------------------------------------------------------------------------------------------------------------------------------------------------------------------------------------------------------------------------------------------------------------------------------------------------------------------------------------------------------------------------------------------------------------------------------------------------------------------------------------------------------------------------------------------------------------------------------------------------------------------------------------------+\n",
      "|Id  |ProductId |UserId        |Score|ProfileName                |Text                                                                                                                                                                                                                                                                                                                                                                              |tokens                                                                                                                                                                                                                                                                                                                                                                                                                                                |words                                                                                                                                                                                                                                                                                               |raw_features                                                                                                                                                                                                                                                                                                                                                                                 |features                                                                                                                                                                                                                                                                                                                                                                                                                                                                                                                                                                                                                                                                                                                                                                                                                                                                                                          |\n",
      "+----+----------+--------------+-----+---------------------------+----------------------------------------------------------------------------------------------------------------------------------------------------------------------------------------------------------------------------------------------------------------------------------------------------------------------------------------------------------------------------------+------------------------------------------------------------------------------------------------------------------------------------------------------------------------------------------------------------------------------------------------------------------------------------------------------------------------------------------------------------------------------------------------------------------------------------------------------+----------------------------------------------------------------------------------------------------------------------------------------------------------------------------------------------------------------------------------------------------------------------------------------------------+---------------------------------------------------------------------------------------------------------------------------------------------------------------------------------------------------------------------------------------------------------------------------------------------------------------------------------------------------------------------------------------------+------------------------------------------------------------------------------------------------------------------------------------------------------------------------------------------------------------------------------------------------------------------------------------------------------------------------------------------------------------------------------------------------------------------------------------------------------------------------------------------------------------------------------------------------------------------------------------------------------------------------------------------------------------------------------------------------------------------------------------------------------------------------------------------------------------------------------------------------------------------------------------------------------------------+\n",
      "|3920|B00449NWW6|AAHESJ9WZ4SF2 |1    |redrider                   |hannah's red hot pickled sausage 1 gallon the product was advertizes as hot sausage;s. the lable on jar say;s [ hot sausage ]. but they not even warm . the sausage;s do have agood flavor but just pickled. we have been serving these type of products at our vfw for year's so i know what i'm talking about.                                                                  |[hannah's, red, hot, pickled, sausage, 1, gallon, the, product, was, advertizes, as, hot, sausage;s., the, lable, on, jar, say;s, [, hot, sausage, ]., but, they, not, even, warm, ., the, sausage;s, do, have, agood, flavor, but, just, pickled., we, have, been, serving, these, type, of, products, at, our, vfw, for, year's, so, i, know, what, i'm, talking, about.]                                                                           |[hannah's, red, hot, pickled, sausage, 1, gallon, product, advertizes, hot, sausage;s., lable, jar, say;s, [, hot, sausage, ]., even, warm, ., sausage;s, agood, flavor, pickled., serving, type, products, vfw, year's, know, talking, about.]                                                     |(262144,[10564,34996,35974,42059,45404,47197,48804,52879,54800,74318,75873,92651,97617,98546,111658,115739,116873,125239,133153,134667,140931,141702,145655,149437,171593,173427,174966,181708,198079,215686],[1.0,1.0,1.0,1.0,1.0,3.0,1.0,1.0,1.0,1.0,1.0,1.0,1.0,1.0,1.0,1.0,2.0,1.0,1.0,1.0,1.0,1.0,1.0,1.0,1.0,1.0,1.0,1.0,1.0,1.0])                                                     |(262144,[10564,34996,35974,42059,45404,47197,48804,52879,54800,74318,75873,92651,97617,98546,111658,115739,116873,125239,133153,134667,140931,141702,145655,149437,171593,173427,174966,181708,198079,215686],[4.3144509432362925,5.120360228402522,10.822474645958026,5.920910446916132,2.1733763836618496,9.88727125381596,10.41700953784986,1.792577595764025,5.637886044738332,3.431367720210653,9.117726553719601,3.611286984432876,10.41700953784986,6.28987515280477,7.73143219259971,8.51988955296398,13.162295786774559,10.822474645958026,4.85889530233958,9.117726553719601,2.726571112996924,2.0172494433257193,10.41700953784986,4.548654687903988,10.822474645958026,7.198133712981661,2.1696148431202547,8.29674600164977,7.310929207127005,4.201734994884509])                                                                                                                                    |\n",
      "|4199|B004391DK0|A2ZF94UWLGBLX8|1    |josina m. reaves           |not for pancakes i love pancakes. so giving up gluten was hard for me. i've used bisquick for pancakes for years with great results. alas. the best i got from the glutenfree version was edible. but not enjoyable. it tasted a lot like pillow foam. not in a good way. i will probably keep the mix for breading things. but not for pancakes. i've found much better options. |[not, for, pancakes, i, love, pancakes., so, giving, up, gluten, was, hard, for, me., i've, used, bisquick, for, pancakes, for, years, with, great, results., alas., the, best, i, got, from, the, glutenfree, version, was, edible., but, not, enjoyable., it, tasted, a, lot, like, pillow, foam., not, in, a, good, way., i, will, probably, keep, the, mix, for, breading, things., but, not, for, pancakes., i've, found, much, better, options.]|[pancakes, love, pancakes., giving, gluten, hard, me., used, bisquick, pancakes, years, great, results., alas., best, got, glutenfree, version, edible., enjoyable., tasted, lot, like, pillow, foam., good, way., probably, keep, mix, breading, things., pancakes., found, much, better, options.]|(262144,[1354,2437,8706,15775,24346,32890,37687,53423,73853,76106,76764,79551,87405,103497,108985,113432,148921,161061,163867,166027,166929,167118,186480,188318,190736,196286,204175,208258,210752,223065,225898,235375,245599,261870,262072],[1.0,1.0,1.0,1.0,1.0,1.0,1.0,1.0,1.0,1.0,1.0,1.0,1.0,1.0,1.0,1.0,1.0,1.0,2.0,1.0,1.0,1.0,1.0,1.0,1.0,1.0,1.0,1.0,2.0,1.0,1.0,1.0,1.0,1.0,1.0])|(262144,[1354,2437,8706,15775,24346,32890,37687,53423,73853,76106,76764,79551,87405,103497,108985,113432,148921,161061,163867,166027,166929,167118,186480,188318,190736,196286,204175,208258,210752,223065,225898,235375,245599,261870,262072],[5.552042482899525,3.1283095559562537,3.098028000324488,4.30406509320417,4.4213869805932156,3.3689127743146523,6.833490599393752,8.625250068621806,5.044822322735369,3.505262237598187,2.120047476300799,4.066123821135122,2.685810077359921,2.9594002481342554,9.117726553719601,1.5272877385717243,3.430751197379781,2.6238351906606563,12.137768909703322,2.510585087727667,3.3305503489856885,5.917199867519597,1.9407077878097005,5.299015725433106,8.01911426505149,4.051111991881443,6.552777196258064,1.1663913193751085,13.05037847947847,7.932102888061861,2.6501690007643486,2.463222642610365,3.1237651264130313,1.7975606457292763,6.703437471145554])|\n",
      "|6185|B000UOFW9K|A1GXDBSMKHB2XV|1    |deanna s. wingart dewingart|awesome taste but. i received my 2 cases of rice works and the chips are awesome tasting and a great price but in every single bag the chips were crunched/smashed into little pieces so i guess i have 24 bags of salad toppers or . but not chips.                                                                                                                              |[awesome, taste, but., i, received, my, 2, cases, of, rice, works, and, the, chips, are, awesome, tasting, and, a, great, price, but, in, every, single, bag, the, chips, were, crunched/smashed, into, little, pieces, so, i, guess, i, have, 24, bags, of, salad, toppers, or, ., but, not, chips.]                                                                                                                                                 |[awesome, taste, but., received, 2, cases, rice, works, chips, awesome, tasting, great, price, every, single, bag, chips, crunched/smashed, little, pieces, guess, 24, bags, salad, toppers, ., chips.]                                                                                             |(262144,[12524,14600,23654,45404,68639,78833,82761,94522,115318,132543,144434,176497,177873,181321,183135,189716,196447,201386,208792,219897,221770,231043,233449,242022,261870],[1.0,1.0,1.0,1.0,1.0,1.0,1.0,1.0,1.0,1.0,1.0,1.0,1.0,1.0,1.0,1.0,1.0,1.0,1.0,2.0,1.0,1.0,2.0,1.0,1.0])                                                                                                      |(262144,[12524,14600,23654,45404,68639,78833,82761,94522,115318,132543,144434,176497,177873,181321,183135,189716,196447,201386,208792,219897,221770,231043,233449,242022,261870],[2.9542203804374134,3.539369882772348,3.495351353698733,2.1733763836618496,4.05225878099795,4.24879447899738,5.431122413442799,4.68259009373177,4.335551952215175,2.9133524627466145,9.90618391408387,3.1031227062163995,3.1515798145959084,4.1924511085745015,10.822474645958026,3.8750180001243364,5.279252236314266,2.637403168425743,4.11256073542788,9.610197434131086,1.5751275483527472,4.081364444384835,7.29167584797565,2.2910827351419756,1.7975606457292763])                                                                                                                                                                                                                                                        |\n",
      "+----+----------+--------------+-----+---------------------------+----------------------------------------------------------------------------------------------------------------------------------------------------------------------------------------------------------------------------------------------------------------------------------------------------------------------------------------------------------------------------------+------------------------------------------------------------------------------------------------------------------------------------------------------------------------------------------------------------------------------------------------------------------------------------------------------------------------------------------------------------------------------------------------------------------------------------------------------+----------------------------------------------------------------------------------------------------------------------------------------------------------------------------------------------------------------------------------------------------------------------------------------------------+---------------------------------------------------------------------------------------------------------------------------------------------------------------------------------------------------------------------------------------------------------------------------------------------------------------------------------------------------------------------------------------------+------------------------------------------------------------------------------------------------------------------------------------------------------------------------------------------------------------------------------------------------------------------------------------------------------------------------------------------------------------------------------------------------------------------------------------------------------------------------------------------------------------------------------------------------------------------------------------------------------------------------------------------------------------------------------------------------------------------------------------------------------------------------------------------------------------------------------------------------------------------------------------------------------------------+\n",
      "only showing top 3 rows\n",
      "\n"
     ]
    },
    {
     "name": "stderr",
     "output_type": "stream",
     "text": [
      "24/06/06 22:06:05 WARN DAGScheduler: Broadcasting large task binary with size 4.1 MiB\n",
      "24/06/06 22:06:05 WARN DAGScheduler: Broadcasting large task binary with size 4.1 MiB\n"
     ]
    }
   ],
   "source": [
    "df_train_idf.show(3, truncate=False)"
   ]
  },
  {
   "cell_type": "markdown",
   "metadata": {},
   "source": [
    "#### 3.1.3. Machine Learning"
   ]
  },
  {
   "cell_type": "markdown",
   "metadata": {},
   "source": [
    "Now i will try to fit a machine learning model to receive a document vector and produce a proba or classification for score label. I will use LogisticRegression for first tests."
   ]
  },
  {
   "cell_type": "markdown",
   "metadata": {},
   "source": [
    "##### 3.1.3.1. Logistic Regression"
   ]
  },
  {
   "cell_type": "code",
   "execution_count": null,
   "metadata": {},
   "outputs": [],
   "source": [
    "lr = LogisticRegression(\n",
    "    featuresCol=\"features\",\n",
    "    labelCol=\"Score\",\n",
    "    maxIter=20,\n",
    "    regParam=0.1\n",
    ")\n",
    "\n",
    "lr = lr.fit(df_train_idf)"
   ]
  },
  {
   "cell_type": "code",
   "execution_count": 23,
   "metadata": {},
   "outputs": [
    {
     "name": "stdout",
     "output_type": "stream",
     "text": [
      "Train\n"
     ]
    },
    {
     "name": "stderr",
     "output_type": "stream",
     "text": [
      "/home/grc/arep/sentiment-analysis/lib/python3.10/site-packages/pyspark/sql/context.py:157: FutureWarning: Deprecated in 3.0.0. Use SparkSession.builder.getOrCreate() instead.\n",
      "  warnings.warn(\n",
      "24/06/06 21:41:49 WARN DAGScheduler: Broadcasting large task binary with size 7.0 MiB\n",
      "24/06/06 21:41:50 WARN DAGScheduler: Broadcasting large task binary with size 7.0 MiB\n",
      "24/06/06 21:41:51 WARN DAGScheduler: Broadcasting large task binary with size 7.0 MiB\n",
      "                                                                                \r"
     ]
    },
    {
     "name": "stdout",
     "output_type": "stream",
     "text": [
      "Accuracy: 0.9535\n",
      "W. Recall: 0.9535\n",
      "W. Precision: 0.9534\n",
      "\n",
      "Label: 0, Recall: 0.9579\n",
      "Label: 0, Precision: 0.9540\n",
      "\n",
      "Label: 1, Recall: 0.9376\n",
      "Label: 1, Precision: 0.9360\n",
      "\n",
      "Label: 2, Recall: 0.9648\n",
      "Label: 2, Precision: 0.9704\n",
      "\n",
      "Mean Recalls: 0.9535, Mean Precisions: 0.9534\n",
      "\n",
      "\n",
      "Test\n"
     ]
    },
    {
     "name": "stderr",
     "output_type": "stream",
     "text": [
      "/home/grc/arep/sentiment-analysis/lib/python3.10/site-packages/pyspark/sql/context.py:157: FutureWarning: Deprecated in 3.0.0. Use SparkSession.builder.getOrCreate() instead.\n",
      "  warnings.warn(\n",
      "24/06/06 21:41:59 WARN DAGScheduler: Broadcasting large task binary with size 7.0 MiB\n",
      "24/06/06 21:41:59 WARN DAGScheduler: Broadcasting large task binary with size 7.0 MiB\n",
      "                                                                                \r"
     ]
    },
    {
     "name": "stdout",
     "output_type": "stream",
     "text": [
      "Accuracy: 0.8154\n",
      "W. Recall: 0.8154\n",
      "W. Precision: 0.8707\n",
      "\n",
      "Label: 0, Recall: 0.5809\n",
      "Label: 0, Precision: 0.7945\n",
      "\n",
      "Label: 1, Recall: 0.4446\n",
      "Label: 1, Precision: 0.7305\n",
      "\n",
      "Label: 2, Recall: 0.9719\n",
      "Label: 2, Precision: 0.8313\n",
      "\n",
      "Mean Recalls: 0.7854, Mean Precisions: 0.6658\n",
      "\n",
      "\n",
      "OOT\n"
     ]
    },
    {
     "name": "stderr",
     "output_type": "stream",
     "text": [
      "/home/grc/arep/sentiment-analysis/lib/python3.10/site-packages/pyspark/sql/context.py:157: FutureWarning: Deprecated in 3.0.0. Use SparkSession.builder.getOrCreate() instead.\n",
      "  warnings.warn(\n",
      "24/06/06 21:42:05 WARN DAGScheduler: Broadcasting large task binary with size 7.0 MiB\n",
      "24/06/06 21:42:06 WARN DAGScheduler: Broadcasting large task binary with size 7.0 MiB\n",
      "                                                                                \r"
     ]
    },
    {
     "name": "stdout",
     "output_type": "stream",
     "text": [
      "Accuracy: 0.7607\n",
      "W. Recall: 0.7607\n",
      "W. Precision: 0.8254\n",
      "\n",
      "Label: 0, Recall: 0.4954\n",
      "Label: 0, Precision: 0.6755\n",
      "\n",
      "Label: 1, Recall: 0.3565\n",
      "Label: 1, Precision: 0.5755\n",
      "\n",
      "Label: 2, Recall: 0.9496\n",
      "Label: 2, Precision: 0.8038\n",
      "\n",
      "Mean Recalls: 0.6849, Mean Precisions: 0.6005\n",
      "\n",
      "\n"
     ]
    },
    {
     "data": {
      "image/png": "[encoded data removed]",
      "text/plain": [
       "<Figure size 700x500 with 2 Axes>"
      ]
     },
     "metadata": {},
     "output_type": "display_data"
    },
    {
     "data": {
      "image/png": "[encoded data removed]",
      "text/plain": [
       "<Figure size 700x500 with 2 Axes>"
      ]
     },
     "metadata": {},
     "output_type": "display_data"
    },
    {
     "data": {
      "image/png": "[encoded data removed]",
      "text/plain": [
       "<Figure size 700x500 with 2 Axes>"
      ]
     },
     "metadata": {},
     "output_type": "display_data"
    }
   ],
   "source": [
    "# Get Validation Metrics\n",
    "print(\"Train\")\n",
    "train_metrics = get_ml_metrics(lr.transform(df_train_idf))\n",
    "print(\"Test\")\n",
    "test_metrics = get_ml_metrics(lr.transform(df_test_idf))\n",
    "print(\"OOT\")\n",
    "oot_metrics = get_ml_metrics(lr.transform(df_oot_idf))"
   ]
  },
  {
   "cell_type": "markdown",
   "metadata": {},
   "source": [
    "##### 3.1.3.2. Logistic Regression CV"
   ]
  },
  {
   "cell_type": "markdown",
   "metadata": {},
   "source": [
    "K-fold cross validation performs model selection by splitting the dataset into a set of non-overlapping randomly partitioned folds which are used as separate training and test datasets e.g., with k=3 folds, K-fold cross validation will generate 3 (training, test) dataset pairs, each of which uses 2/3 of the data for training and 1/3 for testing. Each fold is used as the test set exactly once. (https://spark.apache.org/docs/latest/api/python/reference/api/pyspark.ml.tuning.CrossValidator.html)\n",
    "\n",
    "With a balanced dataset (df_train_idf) I can random sample because i have same class sizes."
   ]
  },
  {
   "cell_type": "code",
   "execution_count": null,
   "metadata": {},
   "outputs": [],
   "source": [
    "lr = LogisticRegression(\n",
    "    featuresCol=\"features\",\n",
    "    labelCol=\"Score\",\n",
    "    maxIter=20,\n",
    "    regParam=0.1\n",
    ")\n",
    "\n",
    "grid = ParamGridBuilder().addGrid(lr.maxIter, [20]).build()\n",
    "\n",
    "cv = CrossValidator(\n",
    "    estimator=lr,\n",
    "    estimatorParamMaps=grid,\n",
    "    evaluator=MulticlassClassificationEvaluator(labelCol=\"Score\", metricName=\"f1\"),\n",
    "    parallelism=2,\n",
    "    numFolds=3\n",
    ")\n",
    "\n",
    "cv = cv.fit(df_train_idf)"
   ]
  },
  {
   "cell_type": "code",
   "execution_count": 35,
   "metadata": {},
   "outputs": [
    {
     "name": "stdout",
     "output_type": "stream",
     "text": [
      "Avg F1: 0.7668 in 3 times CV on a Train Dataset\n"
     ]
    }
   ],
   "source": [
    "print(f\"Avg F1: {cv.avgMetrics[0]:.4f} in 3 times CV on a Train Dataset\")"
   ]
  },
  {
   "cell_type": "markdown",
   "metadata": {},
   "source": [
    "##### 3.1.3.3. Fit Last Estimator"
   ]
  },
  {
   "cell_type": "markdown",
   "metadata": {},
   "source": [
    "For the last estimator, I will combine train and test dataset and fit a logistic regression to score OOT.\n",
    "\n",
    "But i need to undersampling this new dataset again."
   ]
  },
  {
   "cell_type": "code",
   "execution_count": null,
   "metadata": {},
   "outputs": [],
   "source": [
    "df_full = df_train_idf.unionAll(df_test_idf)\n",
    "minority_class_sample = df_full.groupBy(\"Score\").count().orderBy(\"count\").limit(1).select(\"count\").collect()[0][0]"
   ]
  },
  {
   "cell_type": "code",
   "execution_count": null,
   "metadata": {},
   "outputs": [],
   "source": [
    "df_sample = undersampling_dataframe(df=df_full, minority_class_sample=minority_class_sample)"
   ]
  },
  {
   "cell_type": "code",
   "execution_count": null,
   "metadata": {},
   "outputs": [],
   "source": [
    "lr = LogisticRegression(\n",
    "    featuresCol=\"features\",\n",
    "    labelCol=\"Score\",\n",
    "    maxIter=20,\n",
    "    regParam=0.1\n",
    ")\n",
    "\n",
    "lr = lr.fit(df_sample)"
   ]
  },
  {
   "cell_type": "code",
   "execution_count": 43,
   "metadata": {},
   "outputs": [
    {
     "name": "stderr",
     "output_type": "stream",
     "text": [
      "24/06/06 22:15:48 WARN TaskSetManager: Stage 450 contains a task of very large size (3334 KiB). The maximum recommended task size is 1000 KiB.\n"
     ]
    }
   ],
   "source": [
    "lr.write().save(\"../src/features/logistic_regression.spark\")"
   ]
  },
  {
   "cell_type": "markdown",
   "metadata": {},
   "source": [
    "## 4.0. Final Estimator Pipeline"
   ]
  },
  {
   "cell_type": "code",
   "execution_count": 44,
   "metadata": {},
   "outputs": [],
   "source": [
    "from pyspark.ml.classification import LogisticRegressionModel"
   ]
  },
  {
   "cell_type": "code",
   "execution_count": null,
   "metadata": {},
   "outputs": [],
   "source": [
    "artifacts_path = \"../src/features\"\n",
    "\n",
    "df_raw = spark.read.format(\"csv\") \\\n",
    "              .option(\"header\", \"true\") \\\n",
    "              .option(\"inferSchema\", \"true\") \\\n",
    "              .option(\"delimiter\", \",\") \\\n",
    "              .load(\"../data/Reviews.csv\")\n",
    "\n",
    "df_raw = df_raw.withColumn(\n",
    "    \"Time\",\n",
    "    pf.to_timestamp(pf.from_unixtime(\"Time\"))\n",
    ")\n",
    "\n",
    "df_oot = df_raw.filter(\n",
    "    (pf.year(\"Time\") == 2012) &\n",
    "    (pf.month(\"Time\") >= 6)\n",
    ")"
   ]
  },
  {
   "cell_type": "code",
   "execution_count": 52,
   "metadata": {},
   "outputs": [
    {
     "name": "stdout",
     "output_type": "stream",
     "text": [
      "+---+----------+--------------+--------------------+--------------------+----------------------+-----+-------------------+--------------------+--------------------+\n",
      "| Id| ProductId|        UserId|         ProfileName|HelpfulnessNumerator|HelpfulnessDenominator|Score|               Time|             Summary|                Text|\n",
      "+---+----------+--------------+--------------------+--------------------+----------------------+-----+-------------------+--------------------+--------------------+\n",
      "|  2|B00813GRG4|A1D87F6ZCVE5NK|              dll pa|                   0|                     0|    1|2012-09-06 21:00:00|   Not as Advertised|\"Product arrived ...|\n",
      "|  5|B006K2ZZ7K|A1UQRSCLF8GW1T|\"Michael D. Bigha...|                   0|                     0|    5|2012-10-20 21:00:00|         Great taffy|Great taffy at a ...|\n",
      "|  6|B006K2ZZ7K| ADT0SRK1MGOEU|      Twoapennything|                   0|                     0|    4|2012-07-11 21:00:00|          Nice Taffy|I got a wild hair...|\n",
      "|  7|B006K2ZZ7K|A1SP2KVKFXXRU1|   David C. Sullivan|                   0|                     0|    5|2012-06-19 21:00:00|Great!  Just as g...|This saltwater ta...|\n",
      "| 10|B00171APVA|A21BT40VZCCYT4|       Carol A. Reed|                   0|                     0|    5|2012-10-25 22:00:00|    Healthy Dog Food|This is a very he...|\n",
      "+---+----------+--------------+--------------------+--------------------+----------------------+-----+-------------------+--------------------+--------------------+\n",
      "only showing top 5 rows\n",
      "\n"
     ]
    }
   ],
   "source": [
    "df_oot.show(5)"
   ]
  },
  {
   "cell_type": "markdown",
   "metadata": {},
   "source": [
    "### 4.1. Pyspark Pipeline"
   ]
  },
  {
   "cell_type": "code",
   "execution_count": 58,
   "metadata": {},
   "outputs": [],
   "source": [
    "# Load Stages\n",
    "tokenizer = Tokenizer(inputCol=\"Text\", outputCol=\"tokens\")\n",
    "stopwords = StopWordsRemover(inputCol=\"tokens\", outputCol=\"words\")\n",
    "\n",
    "idf = IDFModel.load(artifacts_path + \"/idf.spark\")\n",
    "hashing = HashingTF(inputCol=\"words\", outputCol=\"raw_features\")\n",
    "\n",
    "estimator = LogisticRegressionModel.load(artifacts_path + \"/logistic_regression.spark\")"
   ]
  },
  {
   "cell_type": "code",
   "execution_count": 60,
   "metadata": {},
   "outputs": [],
   "source": [
    "# Custom Stages\n",
    "noise_score_removal = NoiseLableRemoval(\n",
    "    inputCol=\"Text\",\n",
    "    outputCol=\"Text\",\n",
    "    labelCol=\"Score\"\n",
    ")\n",
    "\n",
    "filter_rows_features = FilterRowsFeatures(\n",
    "    aggCols=['ProductId', 'UserId', 'Score', 'ProfileName', 'Summary', 'Text'],\n",
    "    keyCol=\"Id\"\n",
    ")\n",
    "\n",
    "clean_corpus = CleanCorpus(\n",
    "    cleanCols=['ProfileName', 'Text', 'Summary']\n",
    ")\n",
    "\n",
    "feature_engineering = FeatureEngineering()"
   ]
  },
  {
   "cell_type": "code",
   "execution_count": 61,
   "metadata": {},
   "outputs": [
    {
     "name": "stderr",
     "output_type": "stream",
     "text": [
      "                                                                                \r"
     ]
    }
   ],
   "source": [
    "# Pipeline Fit & Transform\n",
    "stages = [\n",
    "    noise_score_removal,\n",
    "    filter_rows_features,\n",
    "    clean_corpus,\n",
    "    feature_engineering,\n",
    "    tokenizer,\n",
    "    stopwords,\n",
    "    hashing,\n",
    "    idf,\n",
    "    estimator\n",
    "]\n",
    "\n",
    "pipeline = Pipeline(stages=stages)\n",
    "\n",
    "pipeline = pipeline.fit(df_oot)\n",
    "\n",
    "df = pipeline.transform(df_oot)"
   ]
  },
  {
   "cell_type": "code",
   "execution_count": 69,
   "metadata": {},
   "outputs": [],
   "source": [
    "df_oot_with_probas = df_oot.join(\n",
    "    df.select(\n",
    "        pf.col(\"Id\"),\n",
    "        pf.col(\"probability\"),\n",
    "        pf.col(\"prediction\")\n",
    "    ),\n",
    "    on=\"Id\",\n",
    "    how=\"inner\"\n",
    ")"
   ]
  },
  {
   "cell_type": "code",
   "execution_count": 73,
   "metadata": {},
   "outputs": [
    {
     "name": "stderr",
     "output_type": "stream",
     "text": [
      "24/06/06 22:32:19 WARN DAGScheduler: Broadcasting large task binary with size 7.3 MiB\n",
      "[Stage 502:==================================================>    (12 + 1) / 13]\r"
     ]
    },
    {
     "name": "stdout",
     "output_type": "stream",
     "text": [
      "+----+----------+--------------+---------------------------------+-------------------+---------------------------------------------+--------------------------------------------------------------+----------+-----+\n",
      "|Id  |ProductId |UserId        |ProfileName                      |Time               |Summary                                      |probability                                                   |prediction|Score|\n",
      "+----+----------+--------------+---------------------------------+-------------------+---------------------------------------------+--------------------------------------------------------------+----------+-----+\n",
      "|53  |B000G6RPMY|A9L6L5H9BPEBO |Edwin C. Pauzer                  |2012-09-28 21:00:00|You'll go nuts over Ass-Kickin' Peanuts.     |[0.10884271600634335,0.017599813397937494,0.8735574705957192] |2.0       |4    |\n",
      "|78  |B004X2KR36|A26M5O53PHZTKN|\"Debs \"\"peanut\"\"\"                |2012-09-20 21:00:00|Taste great                                  |[0.1057766307936534,0.14467895550569526,0.7495444137006513]   |2.0       |5    |\n",
      "|126 |B003SE19UK|A1QAJ948PN36II|Winter Green                     |2012-07-10 21:00:00|Wonderful food - perfect for allergic kitties|[0.019892218661319273,0.024640806725383307,0.9554669746132974]|2.0       |5    |\n",
      "|133 |B003OB0IB8|A56HS2VNURVJ0 |\"J. Espinoza \"\"jchav1980\"\"\"      |2012-07-29 21:00:00|Great spicy flavor                           |[0.20620015588913673,0.4383402494336413,0.355459594677222]    |1.0       |5    |\n",
      "|137 |B002SRYRE8|A198FU6P1BVUNZ|Sarah                            |2012-10-08 21:00:00|Tastes awesome & looks beautiful             |[0.0665657628532364,0.04325623320084658,0.890178003945917]    |2.0       |5    |\n",
      "|148 |B0017I8UME|ATBE88PKKQTRA |Matthew R Lehmkuhler             |2012-08-07 21:00:00|Love the salsa!!                             |[0.27015576832227,0.25913684122626884,0.4707073904514613]     |2.0       |5    |\n",
      "|255 |B0048IC328|A1W867A8DSHFHC|no name                          |2012-06-15 21:00:00|Don't Waste Your Money                       |[0.584753751527759,0.2983941921933523,0.11685205627888867]    |0.0       |1    |\n",
      "|362 |B0041QJSJS|A20B2BU1ZPY9AW|Mr Coffee                        |2012-08-20 21:00:00|Bitter                                       |[0.32825609739064393,0.31972059806011716,0.3520233045492389]  |2.0       |1    |\n",
      "|375 |B0057FTBYO|A5IWYNX8RHRKL |\"J. D. Laughead \"\"jdlaughead\"\"\"  |2012-09-16 21:00:00|Fantastic Chicken Noodle soup                |[0.011133957121756006,0.01529766483678011,0.9735683780414639] |2.0       |5    |\n",
      "|580 |B000G6RYNE|A20K6K9TZGX7RQ|Yoli                             |2012-10-02 21:00:00|Yoli                                         |[0.16881484939645314,0.19001300482949962,0.6411721457740472]  |2.0       |5    |\n",
      "|633 |B000G6RYNE|A2OL5WLCNZVD9K|nonpareil                        |2012-09-11 21:00:00|Things you need to know                      |[0.12238939653772733,0.14346307995457427,0.7341475235076983]  |2.0       |3    |\n",
      "|756 |B0035YE9CS|A3GK03NK0A7GHQ|\"J. Lyman \"\"amazon addict\"\"\"     |2012-09-26 21:00:00|Better than anything in the supermarket!     |[0.05639387045713764,0.3198917070779203,0.623714422464942]    |2.0       |5    |\n",
      "|762 |B006JWQFC0|A1WWAQFIYLCL0Y|\"Richard L. Costello \"\"rbjrev\"\"\" |2012-10-14 21:00:00|IT'S A LAXATIVE                              |[0.47158831685675595,0.3536083234956314,0.17480335964761276]  |0.0       |1    |\n",
      "|772 |B000NF69ZM|A2MSYPB6Z5RWK0|amanda                           |2012-06-21 21:00:00|Dad really liked these.                      |[0.26891933085473274,0.44873339475721064,0.2823472743880567]  |1.0       |5    |\n",
      "|918 |B000ER6YO0|AYAU6OMJ81Q7Z |Happinesslikeabutterfly          |2012-09-18 21:00:00|Great stuff                                  |[0.18746205845999894,0.2465213738018506,0.5660165677381505]   |2.0       |5    |\n",
      "|1084|B006WVH7NE|A2EJ75UB35C0UL|grandma                          |2012-06-22 21:00:00|Gold Plated Cereal                           |[0.6973352125022598,0.2927766124751851,0.00988817502255496]   |0.0       |1    |\n",
      "|1139|B002OHOC6A|A39XPX6K05FLLW|\"Linda M. Johnson \"\"LinnyLouWo\"\"\"|2012-10-14 21:00:00|Low quality ingredients, but...              |[0.03895980407615215,0.26420304072047135,0.6968371552033764]  |2.0       |3    |\n",
      "|1143|B002OHOC6A|A11N6Y2ELG1JJN|Natalie.143                      |2012-10-15 21:00:00|My cat hates it..                            |[0.697661746316631,0.25857354423422074,0.04376470944914815]   |0.0       |1    |\n",
      "|1160|B007NWPB70|A3QDGKE0NAS0WO|sunclov                          |2012-09-08 21:00:00|Best Iced tea                                |[0.028852841424797184,0.056932872822579236,0.9142142857526235]|2.0       |4    |\n",
      "|1165|B004IF3TAQ|A1E079MVIIMWOK|Mommyohs                         |2012-08-19 21:00:00|Not nearly as good as Bissinger's French Long|[0.13990251956924535,0.3450841015595939,0.5150133788711608]   |2.0       |3    |\n",
      "+----+----------+--------------+---------------------------------+-------------------+---------------------------------------------+--------------------------------------------------------------+----------+-----+\n",
      "only showing top 20 rows\n",
      "\n"
     ]
    },
    {
     "name": "stderr",
     "output_type": "stream",
     "text": [
      "24/06/06 22:32:28 WARN DAGScheduler: Broadcasting large task binary with size 7.3 MiB\n",
      "                                                                                \r"
     ]
    }
   ],
   "source": [
    "df_oot_with_probas.select(\n",
    "    pf.col('Id'),\n",
    "    pf.col('ProductId'),\n",
    "    pf.col('UserId'),\n",
    "    pf.col('ProfileName'),\n",
    "    pf.col('Time'),\n",
    "    pf.col('Summary'),\n",
    "    pf.col('probability'),\n",
    "    pf.col('prediction'),\n",
    "    pf.col('Score')\n",
    ").show(truncate=False)"
   ]
  }
 ],
 "metadata": {
  "kernelspec": {
   "display_name": "sentiment_analysis",
   "language": "python",
   "name": "python3"
  },
  "language_info": {
   "codemirror_mode": {
    "name": "ipython",
    "version": 3
   },
   "file_extension": ".py",
   "mimetype": "text/x-python",
   "name": "python",
   "nbconvert_exporter": "python",
   "pygments_lexer": "ipython3",
   "version": "3.10.12"
  },
  "orig_nbformat": 4
 },
 "nbformat": 4,
 "nbformat_minor": 2
}
