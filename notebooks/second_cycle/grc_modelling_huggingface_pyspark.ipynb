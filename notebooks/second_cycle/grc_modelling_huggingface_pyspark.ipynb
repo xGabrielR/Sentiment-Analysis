{
 "cells": [
  {
   "cell_type": "markdown",
   "metadata": {},
   "source": [
    "# Sentiment Analysis\n",
    "\n",
    "---"
   ]
  },
  {
   "cell_type": "markdown",
   "metadata": {},
   "source": [
    "Business Problem: You are working at Foods Inc as a data analyst. The company is a chain of sophisticated restaurants in Brazil and is expanding rapidly, also operating in the Uruguay and Paraguay segments.\n",
    "The company is currently in the process of modernizing technologies and processes, the company's main focus now is to target customers and products, one of the company's biggest updates is the creation of an online application that works like an \"online restaurant\", the customer Create an account on the app and order food, after that the restaurant creates food and sends it to the customer's home.\n",
    "A very simple e-commerce, but for food.\n",
    "By creating an account, customers can order any type of food available from restaurants near their location. After that, the restaurant creates the order and delivery the food to the customer location, the customer can provide post delivery feedback and a star rating.\n",
    "This application has been running for a year and the company has collected some raw data and now its challenge is to provide insights with this data set.\n",
    "One of the main objectives is to create an estimator that works as a validator of sentiment scores.\n",
    "If the score is 5 and the text is \"very bad\", you will need to confirm this score with an estimator.\n",
    "\n",
    "In this small project I aim to train my skills with Spark on multiclass classification problems.\n",
    "\n",
    "The project basically consists of sentiment analysis pipeline using kaggle dataset product reviews on this link: https://www.kaggle.com/datasets/snap/amazon-fine-food-reviews.\n",
    "\n",
    "This dataset consists of reviews of fine foods from amazon. The data span a period of more than 10 years, including all ~500,000 reviews up to October 2012. Reviews include product and user information, ratings, and a plain text review. It also includes reviews from all other Amazon categories.\n",
    "\n",
    "Dataset Overview:\n",
    "\n",
    "- *Id*: Row Number.\n",
    "- *ProductId*: Product that customer buy at a restaurant.\n",
    "- *UserId*: Customer indentification.\n",
    "- *ProfileName*: Customer Profile.\n",
    "- *Time*: Feedback timestamp.\n",
    "- *HelpfulnessNumerator|HelpfulnessDenominator*: Indicators.\n",
    "- *Score*: Sentiment.\n",
    "- *Summary*: A summary of text.\n",
    "- *Text*: Customer feedback."
   ]
  },
  {
   "cell_type": "markdown",
   "metadata": {},
   "source": [
    "## 0.0. Requirements"
   ]
  },
  {
   "cell_type": "markdown",
   "metadata": {},
   "source": [
    "### 0.1. Imports"
   ]
  },
  {
   "cell_type": "code",
   "execution_count": 18,
   "metadata": {},
   "outputs": [],
   "source": [
    "#import mlflow\n",
    "import numpy as np\n",
    "import pandas as pd\n",
    "from time import time\n",
    "\n",
    "import torch\n",
    "import torch.nn.functional as F\n",
    "\n",
    "import seaborn as sns \n",
    "from matplotlib import pyplot as plt\n",
    "\n",
    "from pyspark import SparkContext\n",
    "from pyspark.sql import SparkSession\n",
    "\n",
    "from pyspark.sql.types import (\n",
    "    FloatType,\n",
    "    ArrayType,\n",
    "    DoubleType,\n",
    "    IntegerType,\n",
    "    StructField,\n",
    "    StructType\n",
    ")\n",
    "\n",
    "from pyspark.sql import functions as pf\n",
    "from pyspark.sql.dataframe import DataFrame\n",
    "from pyspark.sql.utils import AnalysisException\n",
    "\n",
    "from pyspark.ml import Pipeline\n",
    "from pyspark.ml import Transformer\n",
    "from pyspark.ml.tuning import ParamGridBuilder, CrossValidator\n",
    "\n",
    "from pyspark.ml.classification import LogisticRegression, LogisticRegressionModel\n",
    "\n",
    "from pyspark.mllib.evaluation import MulticlassMetrics\n",
    "from pyspark.ml.evaluation import MulticlassClassificationEvaluator\n",
    "\n",
    "from pyspark.ml.functions import array_to_vector, predict_batch_udf\n",
    "\n",
    "from transformers import AutoTokenizer, AutoModel"
   ]
  },
  {
   "cell_type": "markdown",
   "metadata": {},
   "source": [
    "### 0.2. Aux Functions"
   ]
  },
  {
   "cell_type": "code",
   "execution_count": 2,
   "metadata": {},
   "outputs": [
    {
     "name": "stderr",
     "output_type": "stream",
     "text": [
      "24/06/07 12:01:32 WARN Utils: Your hostname, grc resolves to a loopback address: 127.0.1.1; using 192.168.3.7 instead (on interface eno1)\n",
      "24/06/07 12:01:32 WARN Utils: Set SPARK_LOCAL_IP if you need to bind to another address\n",
      "Setting default log level to \"WARN\".\n",
      "To adjust logging level use sc.setLogLevel(newLevel). For SparkR, use setLogLevel(newLevel).\n",
      "24/06/07 12:01:32 WARN NativeCodeLoader: Unable to load native-hadoop library for your platform... using builtin-java classes where applicable\n"
     ]
    },
    {
     "data": {
      "text/html": [
       "\n",
       "        <div>\n",
       "            <p><b>SparkContext</b></p>\n",
       "\n",
       "            <p><a href=\"http://192.168.3.7:4040\">Spark UI</a></p>\n",
       "\n",
       "            <dl>\n",
       "              <dt>Version</dt>\n",
       "                <dd><code>v3.4.1</code></dd>\n",
       "              <dt>Master</dt>\n",
       "                <dd><code>local[*]</code></dd>\n",
       "              <dt>AppName</dt>\n",
       "                <dd><code>pyspark-shell</code></dd>\n",
       "            </dl>\n",
       "        </div>\n",
       "        "
      ],
      "text/plain": [
       "<SparkContext master=local[*] appName=pyspark-shell>"
      ]
     },
     "execution_count": 2,
     "metadata": {},
     "output_type": "execute_result"
    }
   ],
   "source": [
    "spark = SparkSession.builder \\\n",
    "        .master(\"local[*]\") \\\n",
    "        .config(\"spark.driver.memory\", \"10g\") \\\n",
    "        .config(\"spark.executor.memory\", \"10g\") \\\n",
    "        .getOrCreate()\n",
    "\n",
    "sc = spark.sparkContext\n",
    "\n",
    "sc"
   ]
  },
  {
   "cell_type": "code",
   "execution_count": 3,
   "metadata": {},
   "outputs": [],
   "source": [
    "class NoiseLableRemoval(Transformer):\n",
    "    \"\"\"\n",
    "    This class is responsible for filtering wrong Scores\n",
    "    and for create label class associated with the scores.\n",
    "\n",
    "    inputs:\n",
    "        - inputCol: Column that will be transformed.\n",
    "        - outputCol: Output Column name.\n",
    "        - labelCol: Label / Score column to generate Bad, Neutral or Good label.\n",
    "\n",
    "    returns:\n",
    "        - df: Transformed DataFrame. \n",
    "\n",
    "    \"\"\"\n",
    "\n",
    "    def __init__(\n",
    "        self,\n",
    "        inputCol: str = \"Text\",\n",
    "        outputCol: str = \"Text\",\n",
    "        labelCol: str = \"Score\"\n",
    "    ):\n",
    "\n",
    "        self.inputCol = inputCol\n",
    "        self.outputCol = outputCol\n",
    "        self.labelCol = labelCol\n",
    "\n",
    "    # Transform\n",
    "    def _transform(self, dataset: DataFrame) -> DataFrame:\n",
    "        y_col = self.labelCol\n",
    "        \n",
    "        if y_col not in dataset.columns:\n",
    "            raise AnalysisException(f\"'{y_col}' column not exists on DataFrame\")\n",
    "\n",
    "        # check consistent labels\n",
    "        current_labels = [j[0] for j in dataset.select(pf.col(y_col)).distinct().collect()]\n",
    "        current_labels.sort()\n",
    "\n",
    "        if current_labels == [0, 1, 2]:\n",
    "            return dataset\n",
    "\n",
    "        else:\n",
    "            df = dataset.filter(pf.col(y_col).isin([0, 1, 2, 3, 4, 5]))\n",
    "\n",
    "            # Good, Neutral and Bad\n",
    "            df = df.withColumn(\n",
    "                y_col,\n",
    "                pf.when(pf.col(y_col) < 2, 0) \\\n",
    "                .when((pf.col(y_col) >= 2) & (pf.col(y_col) < 4), 1) \\\n",
    "                .when(pf.col(y_col) >= 4, 2)\n",
    "            )\n",
    "\n",
    "            return df\n",
    "    \n",
    "class FilterRowsFeatures(Transformer):\n",
    "    \"\"\"\n",
    "    This class is responsible for filtering rows and columns in dataset.\n",
    "\n",
    "    inputs:\n",
    "        - aggCols: Columns to Agg and Keep.\n",
    "        - keyCol: Column to be unique key.\n",
    "\n",
    "    returns:\n",
    "        - df: Transformed DataFrame. \n",
    "\n",
    "    \"\"\"\n",
    "\n",
    "    def __init__(\n",
    "        self,\n",
    "        aggCols: list,\n",
    "        keyCol: str = \"Id\"\n",
    "    ):\n",
    "        self.aggCols = aggCols\n",
    "        self.keyCol = keyCol\n",
    "\n",
    "    def _transform(self, dataset: DataFrame) -> DataFrame:\n",
    "        df_filter = dataset.groupBy(self.aggCols).agg(pf.max(pf.col(self.keyCol)).alias(self.keyCol))\n",
    "        df_filter = df_filter.select([self.keyCol] + self.aggCols)\n",
    "\n",
    "        return df_filter\n",
    "    \n",
    "    \n",
    "class CleanCorpus(Transformer):\n",
    "    \"\"\"\n",
    "    This class is responsible for cleaning text columns with SQL and Regex in a given dataset.\n",
    "\n",
    "    inputs:\n",
    "        - cleanCols: Columns to be cleaned with SQL and Regex.\n",
    "\n",
    "    returns:\n",
    "        - df: Transformed DataFrame. \n",
    "\n",
    "    \"\"\"\n",
    "\n",
    "    def __init__(\n",
    "        self,\n",
    "        cleanCols: list\n",
    "    ):\n",
    "        self.cleanCols = cleanCols\n",
    "\n",
    "    def _transform(self, dataset: DataFrame) -> DataFrame:\n",
    "        df_clean = dataset\n",
    "\n",
    "        for col in self.cleanCols:\n",
    "            df_clean = df_clean.withColumn(\n",
    "                col,\n",
    "                pf.regexp_replace(pf.regexp_replace(pf.regexp_replace(pf.regexp_replace(pf.regexp_replace(pf.regexp_replace(pf.trim(pf.lower(pf.regexp_replace(pf.col(col), '-', ''))), r'[.,]+', '. '), r'<[^>]+>', \" \"), r'\\(.+?\\)', ''), '\"', ''), r'\\s+', \" \"), \":\", \"\").alias(col)\n",
    "            )\n",
    "\n",
    "        return df_clean\n",
    "    \n",
    "class FeatureEngineering(Transformer):\n",
    "    \"\"\"\n",
    "    This class is responsible for feature engineering in a given dataset.\n",
    "\n",
    "    inputs:\n",
    "        - dummyCol: Do Nothing.\n",
    "\n",
    "    returns:\n",
    "        - df: Transformed DataFrame. \n",
    "\n",
    "    \"\"\"\n",
    "\n",
    "    def __init__(\n",
    "        self,\n",
    "        dummyCol: str = \"dummyCol\"\n",
    "    ):\n",
    "        self.dummyCol = dummyCol\n",
    "\n",
    "    def _transform(self, dataset: DataFrame) -> DataFrame:\n",
    "        df_features = dataset\n",
    "\n",
    "        # Summary + Text feature\n",
    "        df_features = df_features.withColumn(\n",
    "            \"Text\",\n",
    "            pf.regexp_replace(pf.concat_ws(\" \", pf.col(\"Summary\"), pf.col(\"Text\")), r\"\\s+\", \" \")\n",
    "        ).drop(\"Summary\")\n",
    "\n",
    "        return df_features\n",
    "    \n",
    "class TextEmbeddings(Transformer):\n",
    "    def __init__(\n",
    "        self,\n",
    "        idCol: str = \"Id\",\n",
    "        textCol: str = \"Text\",\n",
    "        outputCol: str = \"features\"\n",
    "    ):\n",
    "        self.idCol = idCol\n",
    "        self.textCol = textCol\n",
    "        self.outputCol = outputCol\n",
    "        self.tokenizer = AutoTokenizer.from_pretrained('sentence-transformers/all-MiniLM-L6-v2')\n",
    "        self.model = AutoModel.from_pretrained('sentence-transformers/all-MiniLM-L6-v2')\n",
    "\n",
    "    @staticmethod\n",
    "    def mean_pooling(model_output, attention_mask):\n",
    "        token_embeddings = model_output[0]\n",
    "        input_mask_expanded = attention_mask.unsqueeze(-1).expand(token_embeddings.size()).float()\n",
    "        return torch.sum(token_embeddings * input_mask_expanded, 1) / torch.clamp(input_mask_expanded.sum(1), min=1e-9)\n",
    "    \n",
    "    def get_embeddings_from_batch(\n",
    "        self,\n",
    "        input_text: str\n",
    "    ) -> np.ndarray:\n",
    "        encoded_input = self.tokenizer(input_text, padding=True, truncation=True, return_tensors=\"pt\")\n",
    "\n",
    "        # Compute token embeddings\n",
    "        with torch.no_grad():\n",
    "            model_output = self.model(**encoded_input)\n",
    "\n",
    "        # Perform pooling\n",
    "        sentence_embeddings = self.mean_pooling(model_output, encoded_input['attention_mask'])\n",
    "\n",
    "        # Normalize embeddings\n",
    "        sentence_embeddings = F.normalize(sentence_embeddings, p=2, dim=1)\n",
    "        \n",
    "        return sentence_embeddings.numpy()\n",
    "\n",
    "    def _transform(self, dataset: DataFrame) -> DataFrame:\n",
    "        # Pyspark EMbeddings dataframe schema\n",
    "        schema = StructType([\n",
    "            StructField(\"Id\", IntegerType(), True),\n",
    "            StructField(self.outputCol, ArrayType(FloatType()), True)]\n",
    "        )\n",
    "        \n",
    "        # Collect Ids and Sentences to Driver\n",
    "        sentences = dataset.select(pf.col(self.idCol), pf.col(self.textCol)).collect()\n",
    "        ids = [sentence[0] for sentence in sentences]\n",
    "        sentences = [sentence[-1] for sentence in sentences]\n",
    "\n",
    "        # Calculate Embeddings\n",
    "        embeddings = [self.get_embeddings_from_batch(sentence) for sentence in sentences]\n",
    "        embeddings = [k.tolist() for k in embeddings]\n",
    "        embeddings = [j[0] for j in embeddings]\n",
    "\n",
    "        # Create Dataframe and Join to original\n",
    "        df_embeddings = spark.createDataFrame(\n",
    "            [{\"Id\": _id, self.outputCol: sentence} for _id, sentence in zip(ids, embeddings)],\n",
    "            schema=schema\n",
    "        )\n",
    "\n",
    "        df_embeddings = df_embeddings.withColumn(self.outputCol, array_to_vector(self.outputCol))\n",
    "        df_embeddings = dataset.join(df_embeddings, on=\"Id\", how=\"inner\")\n",
    "\n",
    "        return df_embeddings"
   ]
  },
  {
   "cell_type": "code",
   "execution_count": 4,
   "metadata": {},
   "outputs": [],
   "source": [
    "def undersampling_dataframe(\n",
    "    df: DataFrame,\n",
    "    minority_class_sample: int = 33000,\n",
    "    labels: list = [0, 1, 2]\n",
    ") -> DataFrame:\n",
    "    \"\"\"\n",
    "    Slice Top K rows from a PySpark dataframe for each input labels.\n",
    "    \n",
    "    inputs:\n",
    "        - df: Base DataFrame for slice.\n",
    "        - minority_class_sample: Top K int values for slice.\n",
    "        - labels: list of label for split into split_size samples.\n",
    "\n",
    "    returns:\n",
    "        - df_samples: Base input DataFrame with Top K sliced samples.\n",
    "    \"\"\"\n",
    "    df_samples = df.limit(1)\n",
    "\n",
    "    for label in labels:\n",
    "        # Filter classes\n",
    "        df_filter_class = df.filter(pf.col(\"Score\") == label).limit(minority_class_sample)\n",
    "\n",
    "        # Union on df_samples reference\n",
    "        df_samples = df_samples.select(df_filter_class.columns).unionAll(df_filter_class).distinct()\n",
    "\n",
    "    df_samples = df_samples.filter(pf.col(\"Score\").isin(labels))\n",
    "\n",
    "    df_samples.groupBy(\"Score\").count().orderBy(\"count\").show()\n",
    "\n",
    "    return df_samples\n",
    "\n",
    "def build_preprocessing_pipeline():\n",
    "    noise_score_removal = NoiseLableRemoval(\n",
    "        inputCol=\"Text\",\n",
    "        outputCol=\"Text\",\n",
    "        labelCol=\"Score\"\n",
    "    )\n",
    "\n",
    "    filter_rows_features = FilterRowsFeatures(\n",
    "        aggCols=['ProductId', 'UserId', 'Score', 'ProfileName', 'Summary', 'Text'],\n",
    "        keyCol=\"Id\"\n",
    "    )\n",
    "\n",
    "    clean_corpus = CleanCorpus(\n",
    "        cleanCols=['ProfileName', 'Text', 'Summary']\n",
    "    )\n",
    "\n",
    "    feature_engineering = FeatureEngineering()\n",
    "\n",
    "    stages = [\n",
    "        noise_score_removal,\n",
    "        filter_rows_features,\n",
    "        clean_corpus,\n",
    "        feature_engineering\n",
    "    ]\n",
    "\n",
    "    return Pipeline(stages=stages)"
   ]
  },
  {
   "cell_type": "code",
   "execution_count": 5,
   "metadata": {},
   "outputs": [],
   "source": [
    "def get_multiclass_metrics(\n",
    "    df_predictions: DataFrame,\n",
    "    y_col: str = \"Score\"\n",
    ") -> MulticlassMetrics:\n",
    "    \"\"\"\n",
    "    Get Spark MulticlassMetrics object.\n",
    "    \n",
    "    inputs:\n",
    "        - df_predictions: DataFrame with Y and Yhat.\n",
    "        - y_col: Y col name.\n",
    "\n",
    "    returns:\n",
    "        - df_predictions: Is simple a MulticlassMetrics object.\n",
    "    \n",
    "    \"\"\"\n",
    "\n",
    "    m = df_predictions.select(\n",
    "        pf.col(\"prediction\").cast(FloatType()).alias(\"prediction\"),\n",
    "        pf.col(y_col).cast(FloatType()).alias(\"label\"),\n",
    "    )\n",
    "\n",
    "    m = m.rdd.map(tuple)\n",
    "\n",
    "    m = MulticlassMetrics(m)\n",
    "\n",
    "    return m\n",
    "\n",
    "def get_ml_metrics(\n",
    "    df_predictions: DataFrame,\n",
    "    y_col: str = \"Score\",\n",
    "    labels: list = [0, 1, 2],\n",
    "    plot_confusion_matrix: bool = True\n",
    "):\n",
    "    \"\"\"\n",
    "    Gte Pyspark Geral multiclass metrics.\n",
    "    \n",
    "    inputs:\n",
    "        - df_predictions: DataFrame with Y and Yhat.\n",
    "        - y_col: Y col name.\n",
    "\n",
    "    returns:\n",
    "        - metrics dict: Dict with weight metrics.\n",
    "    \n",
    "    \"\"\"\n",
    "    m = get_multiclass_metrics(df_predictions, y_col)\n",
    "\n",
    "    acc = m.accuracy\n",
    "    wre = m.weightedRecall\n",
    "    wpr = m.weightedPrecision\n",
    "    \n",
    "    print(f\"Accuracy: {acc:.4f}\")\n",
    "    print(f\"W. Recall: {wre:.4f}\")\n",
    "    print(f\"W. Precision: {wpr:.4f}\\n\")\n",
    "\n",
    "    recs, precs = [], []\n",
    "    for label in set(labels):\n",
    "        p = m.precision(label)\n",
    "        r = m.recall(label)\n",
    "        recs.append(r)\n",
    "        precs.append(p)\n",
    "\n",
    "        print(f\"Label: {label}, Recall: {p:.4f}\")\n",
    "        print(f\"Label: {label}, Precision: {r:.4f}\\n\")\n",
    "    \n",
    "    srec = sum(recs) / 3\n",
    "    spre = sum(precs) / 3\n",
    "    print(f\"Mean Recalls: {srec:.4f}, Mean Precisions: {spre:.4f}\\n\\n\")\n",
    "\n",
    "    if plot_confusion_matrix:\n",
    "        fig, ax = plt.subplots(figsize=(7, 5))\n",
    "        ax = sns.heatmap(m.confusionMatrix().toArray(), cmap=\"Blues\", annot=True, fmt=\"g\", linewidths=0.5, linecolor=\"k\", ax=ax)\n",
    "        ax.set_title(\"Confusion Matrix\")\n",
    "        ax.set_ylabel(\"True label\")\n",
    "        ax.set_xlabel(\"Predicted label\");\n",
    "\n",
    "    return {\n",
    "        \"accuracy\": acc,\n",
    "        \"wprecision\": wpr,\n",
    "        \"wrecall\": wre,\n",
    "        \"mrec\": srec,\n",
    "        \"mprec\": spre\n",
    "    }"
   ]
  },
  {
   "cell_type": "markdown",
   "metadata": {},
   "source": [
    "## 1.0. Dataset Balance"
   ]
  },
  {
   "cell_type": "markdown",
   "metadata": {},
   "source": [
    "Given the new challenges facing imbalanced learning, extensive efforts and significant progress have been made in the community to tackle this problem.\n",
    "\n",
    "Sampling methods seem to be the dominate type of approach in the community as they tackle imbalanced learning in a straightforward manner. In general, the use of sampling methods in imbalanced learning consists of the modification of an imbalanced dataset by some mechanism in order to provide a balanced distribution. Representative work in this area includes random oversampling, random undersampling, synthetic sampling with data generation, cluster-based sampling methods, and integration of sampling and boosting.\n",
    "\n",
    "The key aspect of sampling methods is the mechanism used to sample the original dataset. Under different assumptions and with different objective considerations, various approaches have been proposed. For instance, the mechanism of random oversampling follows naturally from its description by replicating a randomly selected set of examples from the minority class. On the basis of such simple sampling techniques, many informed sampling methods have been proposed, such as the EasyEnsemble and BalanceCascade algorithms. Synthetic sampling with data generation techniques has also attracted much attention.\n",
    "\n",
    "For example, the synthetic minority oversampling technique (SMOTE) algorithm creates artificial data based on the feature space similarities between existing minority examples. Adaptive sampling methods have also been proposed, such as the borderline-SMOTE and adaptive synthetic (ADASYN) sampling algorithms. Sampling strategies have also been integrated with ensemble learning techniques by the community, such as in SMOTEBoost, RAMOBoost, and DataBoost-IM. Data-cleaning techniques, such as Tomek links, have been effectively applied to remove the overlapping that is introduced from sampling methods for imbalanced learning. Some representative work in this area includes the one-side selection (OSS) methos and the neighborhood cleaning rule (NCL).\n",
    "\n",
    "Another approach is a Cost-sensitive learning methods target the problem of imbalanced learning by using different cost matrices that describe the costs for misclassifying any particular data example. Research in the past indicates that there is a strong connection between cost-sensitive learning and imbalanced learning. In general, there are three categories of approaches to implement cost-sensitive learning for imbalanced data.\n",
    "- The first class of techniques applies misclassification costs to the dataset as a form of dataspace weighting (translation theorem); these techniques are essentially cost-sensitive bootstrap sampling approaches where misclassification costs are used to select the best training distribution.\n",
    "- The second class applies cost-minimizing techniques to the combination schemes of ensemble methods (Metacost framework); this class consists of various meta techniques, such as the AdaC1, AdaC2, and AdaC3 method and AdaCost.\n",
    "- The third class of techniques incorporates costsensitive functions or features directly into classification paradigms to essentially \"fit\" the cost-sensitive framework into these classifiers, such as the cost-sensitive decision trees, cost-sensitive neural networks, cost-sensitive Bayesian classifiers, and cost-sensitive support vector machines (SVMs).\n",
    "\n",
    "Exists other methods and estimators, but this two is the most basic and fundamentals. The first (Sampling methods), most precise Under Sampling is my choise for working with this dataset, because i cannot create random sampling from text wuthout using embeddings or any other type of mechanism for work with this. I selected undersampling because is the most simple, faster and reproductibility method.\n",
    "\n",
    "I will consider two main datasets for testing the performance of both, a balanced dataset and a umbalanced dataset."
   ]
  },
  {
   "cell_type": "code",
   "execution_count": 36,
   "metadata": {},
   "outputs": [
    {
     "name": "stdout",
     "output_type": "stream",
     "text": [
      "+-----+------+\n",
      "|Score| count|\n",
      "+-----+------+\n",
      "|    1| 47297|\n",
      "|    2|292387|\n",
      "|    0| 33423|\n",
      "+-----+------+\n",
      "\n"
     ]
    }
   ],
   "source": [
    "df = spark.read.format(\"parquet\").load(\"../data/train\")\n",
    "\n",
    "df.groupBy(\"Score\").count().show()"
   ]
  },
  {
   "cell_type": "code",
   "execution_count": 46,
   "metadata": {},
   "outputs": [
    {
     "name": "stdout",
     "output_type": "stream",
     "text": [
      "Labels: [1, 2, 0], with 33423 samples.\n"
     ]
    }
   ],
   "source": [
    "labels = [k[0] for k in df.select(pf.col(\"score\")).distinct().collect()]\n",
    "minority_class_sample = df.groupBy(\"Score\").count().orderBy(\"count\").limit(1).select(\"count\").collect()[0][0]\n",
    "\n",
    "print(f\"Labels: {labels}, with {minority_class_sample} samples.\")"
   ]
  },
  {
   "cell_type": "code",
   "execution_count": 39,
   "metadata": {},
   "outputs": [
    {
     "name": "stdout",
     "output_type": "stream",
     "text": [
      "+-----+-----+\n",
      "|Score|count|\n",
      "+-----+-----+\n",
      "|    1|33423|\n",
      "|    2|33423|\n",
      "|    0|33423|\n",
      "+-----+-----+\n",
      "\n"
     ]
    }
   ],
   "source": [
    "df_sample = undersampling_dataframe(df=df, minority_class_sample=minority_class_sample)"
   ]
  },
  {
   "cell_type": "code",
   "execution_count": 140,
   "metadata": {},
   "outputs": [
    {
     "name": "stderr",
     "output_type": "stream",
     "text": [
      "                                                                                \r"
     ]
    }
   ],
   "source": [
    "df_sample.write.format(\"parquet\").mode(\"overwrite\").save(\"../data/train_undersampling\")"
   ]
  },
  {
   "cell_type": "markdown",
   "metadata": {},
   "source": [
    "## 2.0. Spark Pipeline"
   ]
  },
  {
   "cell_type": "markdown",
   "metadata": {},
   "source": [
    "Before dive into Machine Learning, i need to replicate all transformations created in Train dataset into OOT and Test dataset, the steps is:\n",
    "\n",
    "- Filtering Rows and Columns and Noisy (I Will remove duplciated rows from OOT and Test and apply feature selection).\n",
    "- Cleaning Text (Clean text with basic SQL functions).\n",
    "- Feature Engineering (Feature Engineering Step to combine text and summary).\n",
    "\n",
    "To make the deployment script more simplified, I will use a Pyspark feature called Pipeline, it serves as a list of transformations that will then be applied until classification, for example, cleans, preparations, transformations and classification."
   ]
  },
  {
   "cell_type": "code",
   "execution_count": 6,
   "metadata": {},
   "outputs": [],
   "source": [
    "df_test = spark.read.format(\"parquet\").load(\"../data/test\")\n",
    "df_oot = spark.read.format(\"parquet\").load(\"../data/oot\")"
   ]
  },
  {
   "cell_type": "code",
   "execution_count": 7,
   "metadata": {},
   "outputs": [
    {
     "name": "stdout",
     "output_type": "stream",
     "text": [
      "+---+----------+--------------+-----------+--------------------+----------------------+-----+-------------------+--------------+---------------------------------------------------------------------------------------------------------------------------------------------------------------------------------------------------------------------------+\n",
      "|Id |ProductId |UserId        |ProfileName|HelpfulnessNumerator|HelpfulnessDenominator|Score|Time               |Summary       |Text                                                                                                                                                                                                                       |\n",
      "+---+----------+--------------+-----------+--------------------+----------------------+-----+-------------------+--------------+---------------------------------------------------------------------------------------------------------------------------------------------------------------------------------------------------------------------------+\n",
      "|4  |B000UA0QIQ|A395BORC6FGVXV|Karl       |3                   |3                     |1    |2011-06-12 21:00:00|Cough Medicine|If you are looking for the secret ingredient in Robitussin I believe I have found it.  I got this in addition to the Root Beer Extract I ordered (which was good) and made some cherry soda.  The flavor is very medicinal.|\n",
      "+---+----------+--------------+-----------+--------------------+----------------------+-----+-------------------+--------------+---------------------------------------------------------------------------------------------------------------------------------------------------------------------------------------------------------------------------+\n",
      "\n"
     ]
    }
   ],
   "source": [
    "df_test.filter(pf.col(\"Id\") == 4).show(truncate=False)"
   ]
  },
  {
   "cell_type": "code",
   "execution_count": 8,
   "metadata": {},
   "outputs": [
    {
     "name": "stderr",
     "output_type": "stream",
     "text": [
      "[Stage 11:=================================================>        (6 + 1) / 7]\r"
     ]
    },
    {
     "name": "stdout",
     "output_type": "stream",
     "text": [
      "+---+----------+--------------+-----+-----------+------------------------------------------------------------------------------------------------------------------------------------------------------------------------------------------------------------------------+\n",
      "|Id |ProductId |UserId        |Score|ProfileName|Text                                                                                                                                                                                                                    |\n",
      "+---+----------+--------------+-----+-----------+------------------------------------------------------------------------------------------------------------------------------------------------------------------------------------------------------------------------+\n",
      "|4  |B000UA0QIQ|A395BORC6FGVXV|1    |karl       |cough medicine if you are looking for the secret ingredient in robitussin i believe i have found it. i got this in addition to the root beer extract i ordered and made some cherry soda. the flavor is very medicinal. |\n",
      "+---+----------+--------------+-----+-----------+------------------------------------------------------------------------------------------------------------------------------------------------------------------------------------------------------------------------+\n",
      "\n"
     ]
    },
    {
     "name": "stderr",
     "output_type": "stream",
     "text": [
      "                                                                                \r"
     ]
    }
   ],
   "source": [
    "pipeline = build_preprocessing_pipeline()\n",
    "\n",
    "pipeline = pipeline.fit(df_test)\n",
    "df_test = pipeline.transform(df_test)\n",
    "df_oot = pipeline.transform(df_oot)\n",
    "\n",
    "df_test.filter(pf.col(\"Id\") == 4).show(truncate=False)"
   ]
  },
  {
   "cell_type": "markdown",
   "metadata": {},
   "source": [
    "## 3.0. Machine Learning for Sentiment Analysis"
   ]
  },
  {
   "cell_type": "markdown",
   "metadata": {},
   "source": [
    "In this step I will create two main solution.\n",
    "\n",
    "The second solution is using pyspark and huggingface embeddings instead of traditional tfidf.\n",
    "\n",
    "I will undersampling the train dataframe because huggingface embeddings is very computational extensive and i do not have extra memory to do this work."
   ]
  },
  {
   "cell_type": "code",
   "execution_count": 65,
   "metadata": {},
   "outputs": [],
   "source": [
    "df_train = spark.read.format(\"parquet\").load(\"../data/train_undersampling\")"
   ]
  },
  {
   "cell_type": "code",
   "execution_count": 21,
   "metadata": {},
   "outputs": [
    {
     "name": "stdout",
     "output_type": "stream",
     "text": [
      "+-----+-----+\n",
      "|Score|count|\n",
      "+-----+-----+\n",
      "|    0| 1000|\n",
      "|    1| 1000|\n",
      "|    2| 1000|\n",
      "+-----+-----+\n",
      "\n"
     ]
    }
   ],
   "source": [
    "df_train_sample = undersampling_dataframe(df_train, minority_class_sample=1_000)"
   ]
  },
  {
   "cell_type": "markdown",
   "metadata": {},
   "source": [
    "### 3.1. Transformer Sentiment Analisys"
   ]
  },
  {
   "cell_type": "markdown",
   "metadata": {},
   "source": [
    "#### 3.1.1. Estimator UDF"
   ]
  },
  {
   "cell_type": "markdown",
   "metadata": {},
   "source": [
    "##### 3.1.1.1. Pyspark Batch UDF"
   ]
  },
  {
   "cell_type": "markdown",
   "metadata": {},
   "source": [
    "Using a batch UDF is very complex and computational expensive."
   ]
  },
  {
   "cell_type": "code",
   "execution_count": 9,
   "metadata": {},
   "outputs": [],
   "source": [
    "def make_huggingface_fn():\n",
    "    # Mean Pooling - Take attention mask into account for correct averaging\n",
    "    def mean_pooling(model_output, attention_mask):\n",
    "        token_embeddings = model_output[0] # First element of model_output contains all token embeddings\n",
    "        input_mask_expanded = attention_mask.unsqueeze(-1).expand(token_embeddings.size()).float()\n",
    "        return torch.sum(token_embeddings * input_mask_expanded, 1) / torch.clamp(input_mask_expanded.sum(1), min=1e-9)\n",
    "\n",
    "    # Load model from HuggingFace Hub\n",
    "    tokenizer = AutoTokenizer.from_pretrained('sentence-transformers/all-MiniLM-L6-v2')\n",
    "    model = AutoModel.from_pretrained('sentence-transformers/all-MiniLM-L6-v2')\n",
    "\n",
    "    def predict(inputs: np.ndarray) -> np.ndarray:\n",
    "        encoded_input = tokenizer(inputs.tolist(), padding=True, truncation=True, return_tensors=\"pt\")\n",
    "\n",
    "        # Compute token embeddings\n",
    "        with torch.no_grad():\n",
    "            model_output = model(**encoded_input)\n",
    "\n",
    "        # Perform pooling\n",
    "        sentence_embeddings = mean_pooling(model_output, encoded_input['attention_mask'])\n",
    "\n",
    "        # Normalize embeddings\n",
    "        sentence_embeddings = F.normalize(sentence_embeddings, p=2, dim=1)\n",
    "        \n",
    "        return sentence_embeddings.numpy()\n",
    "\n",
    "    return predict"
   ]
  },
  {
   "cell_type": "code",
   "execution_count": 10,
   "metadata": {},
   "outputs": [],
   "source": [
    "batch_udf = predict_batch_udf(\n",
    "    make_huggingface_fn,\n",
    "    return_type=ArrayType(DoubleType()),\n",
    "    batch_size=50\n",
    ")"
   ]
  },
  {
   "cell_type": "code",
   "execution_count": 11,
   "metadata": {},
   "outputs": [
    {
     "name": "stderr",
     "output_type": "stream",
     "text": [
      "[Stage 28:=====================================================>(198 + 2) / 200]\r"
     ]
    },
    {
     "name": "stdout",
     "output_type": "stream",
     "text": [
      "3000\n"
     ]
    },
    {
     "name": "stderr",
     "output_type": "stream",
     "text": [
      "                                                                                \r"
     ]
    }
   ],
   "source": [
    "start = time()\n",
    "\n",
    "# Pyspark is lazy, this operation is not executed util a action\n",
    "df_train_sample = df_train_sample.withColumn(\"features\", batch_udf(\"Text\"))\n",
    "\n",
    "# Convert array double to Vector for Machine Learning\n",
    "df_train_sample = df_train_sample.withColumn(\"features\", array_to_vector(\"features\"))\n",
    "\n",
    "# I Will chache the dataframe for not calculate embeddings again\n",
    "df_train_sample.cache()\n",
    "\n",
    "# Action for execute pipeline\n",
    "print(df_train_sample.count())\n",
    "\n",
    "end = time()"
   ]
  },
  {
   "cell_type": "code",
   "execution_count": 16,
   "metadata": {},
   "outputs": [
    {
     "name": "stdout",
     "output_type": "stream",
     "text": [
      "Processing time: 259.3888s\n"
     ]
    }
   ],
   "source": [
    "print(f\"Processing time: {end - start:.4f}s\")"
   ]
  },
  {
   "cell_type": "code",
   "execution_count": 18,
   "metadata": {},
   "outputs": [
    {
     "name": "stdout",
     "output_type": "stream",
     "text": [
      "+------+----------+--------------+-----+-------------+----------------------------------------------------------------------------------------------------------------------------------------------------------------------------------------------------------------------------------------------------------------------------------------------------------------------------------------------------------------------------------------------------------------------------------------------------------------------------------------------------------------------------------------------------------------------------------------------------------------------------------------------------------------------------------------------------------------------------------------------------------------------------------------------------------------------+------------------------------------------------------------------------------------------------------------------------------------------------------------------------------------------------------------------------------------------------------------------------------------------------------------------------------------------------------------------------------------------------------------------------------------------------------------------------------------------------------------------------------------------------------------------------------------------------------------------------------------------------------------------------------------------------------------------------------------------------------------------------------------------------------------------------------------------------------------------------------------------------------------------------------------------------------------------------------------------------------------------------------------------------------------------------------------------------------------------------------------------------------------------------------------------------------------------------------------------------------------------------------------------------------------------------------------------------------------------------------------------------------------------------------------------------------------------------------------------------------------------------------------------------------------------------------------------------------------------------------------------------------------------------------------------------------------------------------------------------------------------------------------------------------------------------------------------------------------------------------------------------------------------------------------------------------------------------------------------------------------------------------------------------------------------------------------------------------------------------------------------------------------------------------------------------------------------------------------------------------------------------------------------------------------------------------------------------------------------------------------------------------------------------------------------------------------------------------------------------------------------------------------------------------------------------------------------------------------------------------------------------------------------------------------------------------------------------------------------------------------------------------------------------------------------------------------------------------------------------------------------------------------------------------------------------------------------------------------------------------------------------------------------------------------------------------------------------------------------------------------------------------------------------------------------------------------------------------------------------------------------------------------------------------------------------------------------------------------------------------------------------------------------------------------------------------------------------------------------------------------------------------------------------------------------------------------------------------------------------------------------------------------------------------------------------------------------------------------------------------------------------------------------------------------------------------------------------------------------------------------------------------------------------------------------------------------------------------------------------------------------------------------------------------------------------------------------------------------------------------------------------------------------------------------------------------------------------------------------------------------------------------------------------------------------------------------------------------------------------------------------------------------------------------------------------------------------------------------------------------------------------------------------------------------------------------------------------------------------------------------------------------------------------------------------------------------------------------------------------------------------------------------------------------------------------------------------------------------------------------------------------------------------------------------------------------------------------------------------------------------------------------------------------------------------------------------------------------------------------------------------------------------------------------------------------------------------------------------------------------------------------------------------------------------------------------------------------------------------------------------------------------------------------------------------------------------------------------------------------------------------------------------------------------------------------------------------------------------------------------------------------------------------------------------------------------------------------------------------------------------------------------------------------------------------------------------------------------------------------------------------------------------------------------------------------------------------------------------------------------------------------------------------------------------------------------------------------------------------------------------------------------------------------------------------------------------------------------------------------------------------------------------------------------------------------------------------------------------------------------------------------------------------------------------------------------------------------------------------------------------------------------------------------------------------------------------------------------------------------------------------------------------------------------------------------------------------------------------------------------------------------------------------------------------------------------------------------------------------------------------------------------------------------------------------------------------------------------------------------------------------------------------------------------------------------------------------------------------------------------------------------------------------------------------------------------------------------------------------------------------------------------------------------------------------------------------------------------------------------------------------------------------------------------------------------------------------------------------------------------------------------------------------------------------------------------------------------------------------------------------------------------------------------------------------------------------------------------------------------------------------------------------------------------------------------------------------------------------------------------------------------------------------------------------------------------------------------------------------------------------------------------------------------------------------------------------------------------------------------------------------------------------------------------------------------------------------------------------------------------------------------------------------------------------------------------------------------------------------------------------------------+\n",
      "|Id    |ProductId |UserId        |Score|ProfileName  |Text                                                                                                                                                                                                                                                                                                                                                                                                                                                                                                                                                                                                                                                                                                                                                                                                                  |features                                                                                                                                                                                                                                                                                                                                                                                                                                                                                                                                                                                                                                                                                                                                                                                                                                                                                                                                                                                                                                                                                                                                                                                                                                                                                                                                                                                                                                                                                                                                                                                                                                                                                                                                                                                                                                                                                                                                                                                                                                                                                                                                                                                                                                                                                                                                                                                                                                                                                                                                                                                                                                                                                                                                                                                                                                                                                                                                                                                                                                                                                                                                                                                                                                                                                                                                                                                                                                                                                                                                                                                                                                                                                                                                                                                                                                                                                                                                                                                                                                                                                                                                                                                                                                                                                                                                                                                                                                                                                                                                                                                                                                                                                                                                                                                                                                                                                                                                                                                                                                                                                                                                                                                                                                                                                                                                                                                                                                                                                                                                                                                                                                                                                                                                                                                                                                                                                                                                                                                                                                                                                                                                                                                                                                                                                                                                                                                                                                                                                                                                                                                                                                                                                                                                                                                                                                                                                                                                                                                                                                                                                                                                                                                                                                                                                                                                                                                                                                                                                                                                                                                                                                                                                                                                                                                                                                                                                                                                                                                                                                                                                                                                                                                                                                                                                                                                                                                        |\n",
      "+------+----------+--------------+-----+-------------+----------------------------------------------------------------------------------------------------------------------------------------------------------------------------------------------------------------------------------------------------------------------------------------------------------------------------------------------------------------------------------------------------------------------------------------------------------------------------------------------------------------------------------------------------------------------------------------------------------------------------------------------------------------------------------------------------------------------------------------------------------------------------------------------------------------------+------------------------------------------------------------------------------------------------------------------------------------------------------------------------------------------------------------------------------------------------------------------------------------------------------------------------------------------------------------------------------------------------------------------------------------------------------------------------------------------------------------------------------------------------------------------------------------------------------------------------------------------------------------------------------------------------------------------------------------------------------------------------------------------------------------------------------------------------------------------------------------------------------------------------------------------------------------------------------------------------------------------------------------------------------------------------------------------------------------------------------------------------------------------------------------------------------------------------------------------------------------------------------------------------------------------------------------------------------------------------------------------------------------------------------------------------------------------------------------------------------------------------------------------------------------------------------------------------------------------------------------------------------------------------------------------------------------------------------------------------------------------------------------------------------------------------------------------------------------------------------------------------------------------------------------------------------------------------------------------------------------------------------------------------------------------------------------------------------------------------------------------------------------------------------------------------------------------------------------------------------------------------------------------------------------------------------------------------------------------------------------------------------------------------------------------------------------------------------------------------------------------------------------------------------------------------------------------------------------------------------------------------------------------------------------------------------------------------------------------------------------------------------------------------------------------------------------------------------------------------------------------------------------------------------------------------------------------------------------------------------------------------------------------------------------------------------------------------------------------------------------------------------------------------------------------------------------------------------------------------------------------------------------------------------------------------------------------------------------------------------------------------------------------------------------------------------------------------------------------------------------------------------------------------------------------------------------------------------------------------------------------------------------------------------------------------------------------------------------------------------------------------------------------------------------------------------------------------------------------------------------------------------------------------------------------------------------------------------------------------------------------------------------------------------------------------------------------------------------------------------------------------------------------------------------------------------------------------------------------------------------------------------------------------------------------------------------------------------------------------------------------------------------------------------------------------------------------------------------------------------------------------------------------------------------------------------------------------------------------------------------------------------------------------------------------------------------------------------------------------------------------------------------------------------------------------------------------------------------------------------------------------------------------------------------------------------------------------------------------------------------------------------------------------------------------------------------------------------------------------------------------------------------------------------------------------------------------------------------------------------------------------------------------------------------------------------------------------------------------------------------------------------------------------------------------------------------------------------------------------------------------------------------------------------------------------------------------------------------------------------------------------------------------------------------------------------------------------------------------------------------------------------------------------------------------------------------------------------------------------------------------------------------------------------------------------------------------------------------------------------------------------------------------------------------------------------------------------------------------------------------------------------------------------------------------------------------------------------------------------------------------------------------------------------------------------------------------------------------------------------------------------------------------------------------------------------------------------------------------------------------------------------------------------------------------------------------------------------------------------------------------------------------------------------------------------------------------------------------------------------------------------------------------------------------------------------------------------------------------------------------------------------------------------------------------------------------------------------------------------------------------------------------------------------------------------------------------------------------------------------------------------------------------------------------------------------------------------------------------------------------------------------------------------------------------------------------------------------------------------------------------------------------------------------------------------------------------------------------------------------------------------------------------------------------------------------------------------------------------------------------------------------------------------------------------------------------------------------------------------------------------------------------------------------------------------------------------------------------------------------------------------------------------------------------------------------------------------------------------------------------------------------------------------------------------------------------------------------------------------------------------------------------------------------------------------------------------------------------------------------------------------------------------------------------------------------------------------------------------------------------------------+\n",
      "|560580|B000CQID1K|ARG2SXX77APRQ |0    |scott        |horrible texture!!! i have gotten this flavor of slim jim before from amazon and loved it however this order tasted like salty cardboard! expiration date of march 08 but these must have been stored improperly because they are nasty. i guess with amazon your rolling the dice when you order snacks. sometimes they are good and sometimes they really really bad. good luck to all who are brave enough to gamble their $$$                                                                                                                                                                                                                                                                                                                                                                                     |[-0.09582602977752686,-0.04448651149868965,0.058775659650564194,-0.009202469140291214,-0.041153401136398315,0.01688619703054428,0.06738004088401794,0.05345863848924637,-0.005276806652545929,-0.04342368617653847,0.0464901365339756,-0.00712893670424819,0.040923330932855606,-0.04978613182902336,-0.0057078516110777855,-0.012935444712638855,0.15568646788597107,-0.11899954825639725,0.00922013446688652,0.005965845193713903,0.052245814353227615,-0.01871272549033165,-0.015925150364637375,-0.006728436332195997,0.06061877682805061,0.04869711771607399,0.05886320024728775,-0.03688296675682068,0.017487773671746254,-0.057699985802173615,-0.014308820478618145,0.03003171645104885,0.006193840876221657,-0.040105607360601425,0.03273762762546539,0.022206725552678108,0.03936498239636421,-0.05243324115872383,0.062493015080690384,-0.002771723084151745,0.015053334645926952,0.028721192851662636,0.01664130389690399,0.03153329715132713,-0.023559115827083588,-0.022495634853839874,0.02944841794669628,0.02266102470457554,-0.01161256991326809,0.006076314952224493,-0.089422307908535,-0.1024543046951294,0.007131042890250683,-0.09440773725509644,0.018008405342698097,-0.005813342519104481,-0.0882890522480011,-0.018656274303793907,-0.056079357862472534,0.027224136516451836,-0.008121756836771965,-0.07249250262975693,0.00538908364251256,-0.0027121552266180515,0.029844995588064194,-0.06751401722431183,0.03379935398697853,-0.015281018801033497,0.05570032447576523,-0.0769587978720665,-0.023067498579621315,-0.005076865665614605,0.011347509920597076,0.03315877169370651,-0.04777637496590614,0.004010380245745182,0.05392779782414436,-0.07250580936670303,-0.07018715143203735,-0.001756309880875051,-0.031034156680107117,-0.01528856996446848,0.015150396153330803,-0.03650914877653122,-0.05728279426693916,-0.02714470773935318,-0.0021101755555719137,-0.039942726492881775,-0.005999106913805008,0.03916895017027855,0.09386838972568512,0.04048648104071617,-0.006585411727428436,0.023712551221251488,-0.04196329414844513,0.0344429649412632,0.028039563447237015,-0.06174566224217415,0.036002371460199356,0.07570981979370117,-0.020639512687921524,0.03132770583033562,-0.06127964332699776,-0.06574151664972305,0.04553794488310814,-0.04926135390996933,-0.021563086658716202,0.03328629210591316,0.03643335402011871,0.07985879480838776,-0.03366042301058769,0.014789540320634842,-0.029265008866786957,-0.03616617992520332,-0.13141067326068878,0.028867769986391068,0.041551411151885986,0.03015773929655552,-0.018601588904857635,-0.07298678904771805,-0.07560867071151733,-0.01564594730734825,0.04830532521009445,0.047762591391801834,-0.031161312013864517,-0.006426513660699129,0.024749647825956345,2.7168907056967826E-33,-0.0255732461810112,-0.06358500570058823,-0.007116323336958885,-0.04154577478766441,0.006505531724542379,-0.01739058829843998,0.017170937731862068,-0.032541580498218536,-0.014724964275956154,0.054483912885189056,-0.0813230499625206,-0.03642769902944565,-0.06556834280490875,0.05298721790313721,-0.06539779901504517,-0.031067688018083572,-0.08353327959775925,-0.02019650861620903,0.045881982892751694,0.04363075643777847,-0.054173994809389114,0.006157939787954092,0.03334100544452667,-0.0218640249222517,-0.06052964925765991,-0.007489793933928013,-0.04240177944302559,0.0655774474143982,0.070252425968647,0.031132349744439125,0.014379682019352913,-0.009233905002474785,-0.005499789956957102,-0.08537331968545914,0.02582848072052002,0.019437000155448914,-0.011857007630169392,0.022937435656785965,0.012251365929841995,0.015315072610974312,0.08309152722358704,-0.015321629121899605,0.014482004567980766,0.018765315413475037,-0.057909030467271805,0.02846234291791916,0.10818397253751755,-0.002826974494382739,0.07471272349357605,-0.06880639493465424,-0.007234455086290836,-0.038332466036081314,0.016144931316375732,0.11161880940198898,-0.07876215130090714,0.048155251890420914,0.04930100589990616,-0.05170341581106186,-0.033919669687747955,-0.004181878641247749,0.03913469612598419,0.06891216337680817,0.016700971871614456,-0.06434076279401779,-0.07484724372625351,-0.05959748476743698,-0.09284740686416626,-0.020756704732775688,-0.02181810885667801,0.019394563511013985,0.09992732107639313,0.07478005439043045,0.07142490893602371,-0.1072632372379303,0.06438788026571274,-0.05081212893128395,0.00297818542458117,0.05665522813796997,0.04800470918416977,-0.02956908755004406,0.12437644600868225,0.014514390379190445,0.03007074072957039,3.491849056445062E-4,-0.08959146589040756,0.10009743273258209,-0.03213398531079292,-0.030508924275636673,0.1519477367401123,0.10231450200080872,-0.04195995628833771,-0.05588483437895775,0.06909575313329697,-0.013890198431909084,0.03693047910928726,-4.70141830878854E-33,-0.0659155398607254,0.015839284285902977,-0.009711950086057186,0.1009761244058609,0.014225771650671959,-0.012114478275179863,-0.06078106164932251,0.1439553201198578,-0.007926193065941334,-0.06507685780525208,-0.0370233952999115,0.03573072329163551,0.051094066351652145,-0.003376294393092394,0.010569344274699688,0.11464051157236099,0.045505739748477936,0.0380825474858284,0.03297955542802811,-0.12619861960411072,-0.026248466223478317,-0.0016148900613188744,-0.06902465224266052,0.04131107032299042,-0.011131959035992622,0.07331177592277527,0.09448956698179245,-9.073336841538548E-4,-8.947937749326229E-5,0.006754390429705381,0.07773904502391815,-0.021758127957582474,-0.014368289150297642,-0.07057918608188629,0.0012437636032700539,0.005849385168403387,-0.05998997390270233,-0.028329521417617798,-0.054915864020586014,-0.023380180820822716,-0.07950503379106522,0.03712015599012375,-0.00669565424323082,-0.03605163097381592,0.0224243625998497,-0.006070607807487249,0.02874302677810192,-0.012751956470310688,0.03711656108498573,0.047707948833703995,-0.004601101391017437,-4.7567315050400794E-4,-0.00330565357580781,-0.014831115491688251,-0.0268993116915226,0.004496234934777021,-0.054029736667871475,0.09223924577236176,0.015869464725255966,-0.05077860504388809,-0.07097680121660233,-0.033434391021728516,-0.037475720047950745,-0.06332434713840485,0.04972483962774277,0.03532226383686066,0.006464027334004641,-0.05827682837843895,-0.042193859815597534,0.012351019307971,-0.02028372883796692,-0.09283871203660965,-0.07763330638408661,0.006896799895912409,0.09044177830219269,0.02245057001709938,-0.008452003821730614,-0.008362708613276482,-0.05432107672095299,-0.013860924169421196,-0.01614713855087757,0.021709715947508812,-0.03911271691322327,0.06110261753201485,-0.06827139109373093,0.1164310947060585,-0.027565687894821167,0.0025963771622627974,-0.0417938195168972,0.057035066187381744,0.023022688925266266,-0.07613430917263031,-0.04868611320853233,0.08310860395431519,0.06462228298187256,-4.2823650403533975E-8,0.09003640711307526,-0.055825550109148026,0.025226429104804993,0.07987803965806961,-0.019142940640449524,0.0014301399933174253,-0.04073961824178696,-0.03602375462651253,0.07555633038282394,-0.020800646394491196,-0.07019563764333725,0.06871017813682556,-0.12626788020133972,-0.012267126701772213,-0.018408045172691345,0.02844303846359253,-0.06991475820541382,0.022039808332920074,-0.011718020774424076,0.013029753230512142,-0.07443556934595108,-0.03573349490761757,0.06901363283395767,-0.06589873135089874,0.0019397209398448467,0.01005835272371769,0.04286171868443489,0.10678370296955109,0.014676273800432682,-0.0021240967325866222,0.04654879495501518,0.0662662461400032,-0.016090797260403633,0.0137006351724267,-0.05322666093707085,-0.024922316893935204,-0.04351147636771202,0.007893913425505161,-0.022422557696700096,-0.011554782278835773,-0.05516631528735161,-0.1086442619562149,0.023519564419984818,-0.020117048174142838,-0.09890686720609665,-0.010478166863322258,-0.012930811382830143,0.06945040076971054,0.021825894713401794,0.05344055965542793,-0.07388288527727127,0.04365523159503937,-0.09409021586179733,0.08576618880033493,0.04093960300087929,-0.05744922161102295,-0.008563668467104435,-0.03894643113017082,0.0429387129843235,0.02838066965341568,-0.004615779034793377,-0.006628267001360655,-0.0169858168810606,0.02603721432387829]                        |\n",
      "|30812 |B007M83302|A2SD28L9WSYJ5I|0    |twg twg      |naturally nasty i don't care if they're natural and not fried. the taste is odd and the texture is like packing material.                                                                                                                                                                                                                                                                                                                                                                                                                                                                                                                                                                                                                                                                                             |[0.013909400440752506,-0.09854867309331894,0.003389371559023857,0.025487877428531647,-0.0664692223072052,-0.06998756527900696,-0.007384997792541981,-0.024501638486981392,0.019059712067246437,-0.017521334812045097,0.047217097133398056,-0.026329951360821724,-0.046397097408771515,-0.08318329602479935,-0.05702628940343857,-0.04650973156094551,0.09956954419612885,-0.06178232654929161,0.0011601712321862578,0.03592969849705696,0.0368121936917305,0.039751503616571426,0.049904096871614456,-0.05657515674829483,-0.034624285995960236,0.017530307173728943,0.07636760920286179,0.008155045099556446,0.013904797844588757,-0.043832264840602875,-0.056637268513441086,0.0908314660191536,-0.017830146476626396,-0.06976646929979324,-0.010338777676224709,-0.038607820868492126,-0.008789640851318836,-0.03279701992869377,0.0504465214908123,-0.0448397733271122,0.06358746439218521,-0.008216503076255322,0.09992646425962448,-0.04238928109407425,0.030108924955129623,-0.02495400793850422,-0.03174677863717079,-0.07648752629756927,-0.029165247455239296,0.00923074595630169,0.04686195030808449,-0.018017007037997246,-0.01908448152244091,-0.03992243483662605,0.043748240917921066,5.545988096855581E-4,-0.028339121490716934,-0.03586108237504959,-0.024384234100580215,0.05545160174369812,0.08694987744092941,-0.026474036276340485,-0.0626169890165329,-0.03274962306022644,-0.07505596429109573,-0.0500626303255558,-0.008517555892467499,0.030802864581346512,0.0792163833975792,-0.02840995602309704,-0.025197317823767662,0.0693015307188034,0.030367683619260788,0.04207425191998482,-0.001422785222530365,0.052014656364917755,0.031210878863930702,-0.07559912651777267,-0.07471150159835815,0.008606604300439358,-0.016526836901903152,0.07179539650678635,4.956419579684734E-4,0.01738637685775757,0.037648700177669525,0.010788354091346264,-0.012158812955021858,-0.006827013101428747,-0.005709784105420113,0.11515942215919495,0.06269874423742294,-0.01341965887695551,0.027439691126346588,0.0017306366935372353,-0.03105723112821579,-0.02061246894299984,0.0499081164598465,-0.017964737489819527,0.0048716203309595585,0.002608891809359193,-0.04610082507133484,-0.029025182127952576,-0.06760107725858688,-0.02470260113477707,-0.02525538019835949,0.05866674706339836,-0.0407986044883728,-0.03153352811932564,-0.006557703949511051,0.005100866314023733,-0.039775099605321884,0.017573049291968346,0.008034867234528065,-0.12016914784908295,-0.12462661415338516,-0.028690410777926445,0.05040719360113144,-0.01945163682103157,-0.0030852854251861572,-0.054653000086545944,-0.09076735377311707,-0.05712088569998741,0.028075696900486946,0.02371450513601303,-0.06861570477485657,-0.07799383997917175,0.049435097724199295,-3.0599047327125263E-33,0.005970415193587542,0.06264360249042511,0.022921012714505196,-0.06948322057723999,0.04979996755719185,0.013821374624967575,-0.025487009435892105,0.025726716965436935,0.06235520541667938,0.05488153174519539,0.018664197996258736,-0.0432007722556591,-0.044211890548467636,0.08554448187351227,-0.03728938102722168,-0.022582102566957474,0.018061863258481026,-0.058301642537117004,0.06708040088415146,-0.04569611698389053,-0.019484737887978554,0.0492263101041317,0.021966272965073586,-0.008192082867026329,-0.05502250790596008,-0.0999922901391983,-0.057823214679956436,-0.0156751349568367,0.009004083462059498,0.015484021976590157,0.004351333249360323,-0.042672134935855865,-0.004384883679449558,-0.0659034326672554,-0.01878521405160427,0.1027292013168335,-0.002694220282137394,0.051480282098054886,-0.024805685505270958,0.030167553573846817,0.04617752879858017,-0.013814001344144344,-0.012611720710992813,0.0970521867275238,-0.050572581589221954,0.09050653129816055,-0.01095911581069231,-0.017122454941272736,0.028309129178524017,-0.08110778033733368,-0.02180347591638565,0.040373679250478745,0.08236736804246902,0.05955635756254196,0.006661289371550083,0.04386841133236885,0.046261198818683624,0.02366430126130581,-0.002977325115352869,-0.06460659950971603,-0.018724316731095314,0.09603387117385864,-0.040758661925792694,-0.039994481950998306,-0.11397426575422287,0.00179185438901186,-0.01772613450884819,0.011435035616159439,-0.062449440360069275,-0.07341018319129944,0.044072169810533524,0.006108115892857313,-0.029295310378074646,-0.042751383036375046,-0.06026482954621315,-0.034912776201963425,-0.02158854529261589,0.05010424926877022,0.04427214339375496,0.03571612015366554,0.1157243624329567,-0.004231307189911604,-0.046733058989048004,0.01744091883301735,-0.02782721444964409,0.06907027214765549,-0.05679537355899811,0.003730021882802248,0.1793079376220703,0.09265654534101486,-0.05358713120222092,-0.010540842078626156,0.05414985865354538,0.01613345742225647,-0.04449548199772835,2.3556866382860332E-33,-0.07233230769634247,-0.004321346525102854,-0.05945020541548729,0.137477844953537,0.025060903280973434,-0.08401720225811005,-0.08007878810167313,0.08235126733779907,0.04013945907354355,-0.06868722289800644,0.0028265786822885275,-0.010804016143083572,-0.03031221032142639,-7.528372807428241E-4,0.03870449215173721,0.05459648743271828,-0.08039885759353638,0.1561460644006729,0.03212781623005867,-0.09970040619373322,-0.002833237173035741,0.04587121680378914,-0.053407229483127594,0.026635978370904922,-0.021146247163414955,0.10929349064826965,0.02928101271390915,0.07218760251998901,-0.03888451308012009,0.08108758181333542,0.11161460727453232,-0.02872806414961815,-0.006283011753112078,-0.006708049215376377,0.027421971783041954,0.065855473279953,-0.063029445707798,0.018663525581359863,0.018853629007935524,0.06968023627996445,-0.01733691245317459,0.10459017753601074,0.04486937075853348,0.018091470003128052,0.024999642744660378,-0.012204603292047977,0.02444557100534439,-0.07831812649965286,0.05684642866253853,-0.020047495141625404,0.022137217223644257,0.02412727288901806,-0.033052969723939896,0.017048848792910576,-0.006433445494621992,-0.04035598039627075,0.009597455151379108,0.031978119164705276,0.09806881844997406,-0.03158300742506981,-0.0705045685172081,0.017230313271284103,0.0016675665974617004,-0.041719645261764526,0.024937918409705162,-0.02355431579053402,0.0025191353633999825,-0.06379514932632446,-0.024708369746804237,0.011725411750376225,-0.04130936786532402,0.01442093774676323,-0.053205713629722595,0.005948678590357304,0.06608681380748749,-0.06985382735729218,-0.020867981016635895,0.021113397553563118,-0.026315471157431602,-0.0039059591945260763,-0.004901120904833078,-0.012935645878314972,-0.006223226897418499,0.052356407046318054,-0.008349203504621983,0.08497582376003265,-0.05065099895000458,-0.04352300614118576,-0.0011141434079036117,0.013464655727148056,0.022880779579281807,-0.07316668331623077,-0.03273667022585869,0.031326908618211746,0.05337907001376152,-3.0355078450838846E-8,0.06127617880702019,-0.03797176107764244,-0.015717700123786926,0.12131147086620331,-0.036848802119493484,0.03422367200255394,0.003718978725373745,0.013451354578137398,0.02695109322667122,-0.08456958830356598,-0.06794030964374542,0.07529351115226746,-0.03805040568113327,0.04097224399447441,-0.02331702411174774,0.06431996822357178,-0.01839415542781353,-0.026836317032575607,-0.029672248288989067,0.06668872386217117,0.03245023265480995,0.0687558501958847,0.06782189756631851,0.003072917927056551,-0.0030832355841994286,-0.009416190907359123,0.045336320996284485,-0.0920451432466507,0.043979816138744354,-0.004681939724832773,0.0031668292358517647,0.009873696602880955,-0.005507333669811487,0.07300436496734619,-0.004682790022343397,0.044316425919532776,-0.012561134994029999,-0.05027244612574577,-0.05900643765926361,-0.05237240344285965,-0.08451751619577408,-0.07034603506326675,-0.03016616962850094,0.001922133145853877,-0.12156569957733154,-0.1305476576089859,0.04885930195450783,0.08797135949134827,-0.025723809376358986,0.0807943120598793,0.0018647280521690845,0.06621038913726807,0.027156122028827667,0.06772685796022415,0.04574756696820259,-0.07709323614835739,0.03875605762004852,0.03676554560661316,0.07461100816726685,0.013868636451661587,0.007160559296607971,7.537937490269542E-4,0.03876785188913345,-0.02476486749947071]                 |\n",
      "|405669|B005K4Q4LK|A4YFCEDFLW8B3 |0    |g            |trashed after one sip as the title says. i trashed it after a sip. i made my wife trying that. she had a sip and said yuck. hope this helps you not buying this stuff.                                                                                                                                                                                                                                                                                                                                                                                                                                                                                                                                                                                                                                                |[-0.02364843524992466,-0.04724478721618652,-0.011068839579820633,-0.0030613793060183525,-2.4303601821884513E-4,-0.0866968110203743,0.1254628449678421,-0.0504002720117569,0.1030256450176239,-0.08855931460857391,-0.009985105134546757,-0.019821371883153915,-9.606887469999492E-4,0.08321608603000641,-0.0735287293791771,-0.0704081580042839,-0.055695176124572754,-0.10300581902265549,-0.0024525029584765434,0.008777898736298084,0.11320406198501587,-0.004035227000713348,0.06552770733833313,-3.323945275042206E-4,0.10077492892742157,0.08076857030391693,0.07453775405883789,-0.06029902398586273,0.006152566988021135,-0.1151023879647255,0.043830495327711105,0.10560286790132523,0.029141005128622055,-0.07874822616577148,-0.04423793405294418,0.019235005602240562,0.07283847033977509,0.013711526989936829,0.06281725317239761,-0.004225040320307016,0.040730610489845276,-0.016608184203505516,9.742248221300542E-4,-7.564046536572278E-4,0.002152153756469488,0.04073643684387207,-0.0622614249587059,0.030889209359884262,0.07532503455877304,-0.018727825954556465,0.03096248023211956,-0.0998750776052475,-0.023053230717778206,-2.2228126908885315E-5,0.016371769830584526,-0.030199814587831497,0.0686008408665657,0.04391384869813919,-0.023413242772221565,0.03828877583146095,-0.0616886131465435,-0.0067825098522007465,-0.007715472485870123,0.052385225892066956,0.10707344114780426,-0.04987414926290512,-0.05753463879227638,-0.019228873774409294,0.0817340835928917,0.026997961103916168,-0.025217317044734955,-0.032743073999881744,0.04100947454571724,-0.016596395522356033,-0.044670991599559784,-5.392358871176839E-4,0.13435837626457214,-0.014865616336464882,-0.11195342242717743,0.125192791223526,-0.06425639241933823,0.04515201598405838,0.01157667301595211,0.028018290176987648,-0.06989818811416626,-0.041164956986904144,-0.04180559515953064,-0.0478166863322258,0.022059371694922447,-0.04951993003487587,-0.010873435065150261,0.08014450967311859,0.04950124770402908,0.012295507825911045,-0.01641680859029293,-0.020633038133382797,-0.04115786403417587,-0.04857110604643822,-0.0036019033286720514,0.02208365686237812,-0.08230258524417877,0.12676168978214264,-0.07737425714731216,-0.08037390559911728,0.0177394300699234,-0.03493117541074753,-0.02629518322646618,-0.02894073724746704,0.0028124989476054907,0.029742024838924408,-0.06333857029676437,0.021553711965680122,0.06896263360977173,0.030657732859253883,-0.02167951501905918,0.06508458405733109,0.010849534533917904,0.02681593783199787,-0.036535102874040604,-0.0019590300507843494,-0.12124191224575043,-0.0392322801053524,0.004921580199152231,-0.041846733540296555,-0.08807989954948425,-0.01970367319881916,0.07500451058149338,-3.4689407672841884E-33,-0.03494996577501297,-0.07233791053295135,-0.03628996014595032,0.07406684011220932,0.026404783129692078,-0.0701742097735405,0.04285205155611038,0.022514594718813896,-0.030596379190683365,-0.023484719917178154,0.08571339398622513,-0.07553127408027649,-0.08488527685403824,0.021112194284796715,0.009662065654993057,-0.0537332147359848,-0.07671724259853363,0.07181069254875183,-0.04584256187081337,-0.005573716945946217,-0.0023248721845448017,0.03720639646053314,-0.02260196954011917,0.0018717091297730803,0.01447997149080038,-0.0023709810338914394,-0.04492446780204773,-0.005772994831204414,0.0524432472884655,0.0186106376349926,-0.020503947511315346,0.04531368240714073,-0.036833878606557846,0.04943826422095299,-0.013370594941079617,0.03235932067036629,0.02551272138953209,0.06137547269463539,-0.0440235435962677,-0.010367020033299923,-0.013334720395505428,0.01833687536418438,0.025653626769781113,-0.014159327372908592,-0.11834778636693954,-0.05625801905989647,-0.08527601510286331,0.03261338546872139,0.006194687448441982,-0.01697736233472824,0.014312348328530788,-0.043287087231874466,0.024099137634038925,0.11976353079080582,-0.08762192726135254,-0.0419963113963604,0.06791430711746216,-0.09607312828302383,-0.02120416983962059,-0.05651687830686569,0.09726626425981522,0.00818690750747919,-0.07793430984020233,-0.026846980676054955,-0.011533308774232864,0.005271964240819216,-0.01506413146853447,0.026423288509249687,0.034306298941373825,-0.0520147830247879,8.585808100178838E-4,0.03284534811973572,-0.03135713189840317,-0.03123743087053299,0.007505076006054878,-0.036338403820991516,0.06926605105400085,-0.0062804799526929855,0.07317759841680527,-0.005548136308789253,0.12687882781028748,-0.007609576918184757,0.03838955610990524,0.0064727626740932465,-7.001099875196815E-4,0.024048881605267525,0.011832617223262787,-0.049067173153162,0.07097603380680084,0.06150835007429123,-0.09097397327423096,-0.022122029215097427,0.05345429852604866,-0.05492259934544563,0.006123887374997139,1.3739086136914738E-33,0.02017003297805786,0.017877280712127686,-0.06631539762020111,0.06121388450264931,0.05041397362947464,0.0021221721544861794,-0.016205042600631714,0.1407252699136734,0.001417944673448801,-0.06510424613952637,-0.037334244698286057,-0.016717474907636642,0.05936901643872261,0.033858347684144974,0.020776472985744476,0.03929019719362259,0.08788805454969406,-0.040913209319114685,-0.07071132957935333,0.0012306059943512082,-0.03558570146560669,-0.03765406087040901,0.02208479307591915,-0.01140439324080944,-0.08937207609415054,0.05078162997961044,0.02598411776125431,-0.02381165139377117,-0.0033172692637890577,-0.02924092672765255,0.08609537780284882,0.003126714378595352,-0.037548016756772995,0.03669772297143936,0.049704596400260925,-0.046125225722789764,-0.05012468248605728,-0.004422193393111229,0.007641433738172054,-0.07075684517621994,0.001183365355245769,0.03044106252491474,-0.040156472474336624,0.006100368686020374,0.06243133172392845,-0.07774915546178818,0.020073892548680305,-0.03193114325404167,0.054832782596349716,0.006227162666618824,0.030923236161470413,-0.014876353554427624,0.01584605500102043,0.06502500921487808,-0.03148481249809265,0.04054876044392586,0.08424405008554459,-0.018963489681482315,0.03260156139731407,-0.0616486556828022,-0.04931486397981644,0.06363802403211594,-0.12267769128084183,0.0038900061044842005,0.01252632774412632,-0.05126553401350975,-0.002556630177423358,-0.010643847286701202,0.0477309487760067,-0.038203366100788116,0.04125802218914032,0.012482497841119766,0.019170038402080536,-0.014716687612235546,0.03749613091349602,-0.02221575938165188,-0.1164051964879036,-0.05390697345137596,-0.03625888749957085,-0.023998606950044632,-0.011658423580229282,0.08731149882078171,-0.01726999320089817,0.015008311718702316,0.04098993539810181,-0.03830614313483238,0.04753517732024193,-0.09727942198514938,-0.02341543883085251,0.0166535172611475,0.06044946238398552,-0.06309634447097778,-0.03826649487018585,0.08229347318410873,0.11935824900865555,-3.179531660180146E-8,-0.0034708220046013594,-0.018500301986932755,0.02178940176963806,0.10035086423158646,0.051995649933815,-0.00127812335267663,0.02056181989610195,-0.0034567632246762514,-0.010326954536139965,-0.0649232566356659,-0.014709650538861752,0.03815088048577309,-0.05204439535737038,0.004652855917811394,-0.01742877997457981,-0.08277493715286255,0.014302318915724754,0.03459729626774788,0.014948369935154915,-0.040053561329841614,-0.007316206581890583,-0.014115911908447742,0.005628508049994707,-0.02086641453206539,-0.05128757283091545,0.025924237444996834,0.026250025257468224,0.10752549767494202,0.029197510331869125,-0.055275242775678635,0.07222901284694672,0.07701405882835388,-0.06883005797863007,0.07023800164461136,-0.06189640983939171,-0.014388770796358585,0.024350052699446678,0.017888011410832405,-0.002328640315681696,-0.02351212315261364,-0.006340057589113712,-0.0051469565369188786,-0.028963742777705193,-0.023516666144132614,-0.0672285333275795,-0.013877028599381447,0.007871968671679497,-0.009232544340193272,-0.00917093176394701,0.08099443465471268,0.0013554802862927318,0.06427212804555893,-0.027176542207598686,0.07539083063602448,0.02825307473540306,-0.04525696486234665,-0.011517799459397793,-0.06673628836870193,0.04876052588224411,-0.04135192558169365,0.052536483854055405,-0.013205458410084248,0.025982098653912544,0.022689737379550934]                     |\n",
      "|250270|B004PZNZ1M|A1GCNDSZ4G3GYT|0    |hed          |do not buy!!!!!!!!!!!!!!!!!!!!!!!!! i purchased the waggin' train brand duck jerky and my dog became sick immediately. he was throwing up and also began to lose hair on his ear. luckily i only given about 10 pieces in the week that i purchased the jerky. i immediately stopped giving him the treats since that was the only new item introduced. lucky for me. my dog was able to recover from the issues brought on by the jerky. don't ever buy anything that you can ingest which is made in china. or better yet. just don't buy anything made in china.                                                                                                                                                                                                                                                   |[-0.03080884739756584,-0.0026327474042773247,0.05558235943317413,-0.0047698174603283405,-0.03432227298617363,0.0015065427869558334,0.05254587158560753,0.006322451401501894,-0.02939249947667122,-0.06728268414735794,0.08502720296382904,-0.048657506704330444,0.03537589684128761,0.0042039779946208,-0.07059035450220108,-0.023571165278553963,0.05887261778116226,-0.07200434058904648,-0.029362285509705544,-0.09402582794427872,-0.012078597210347652,-0.052450887858867645,0.09735651314258575,0.022013263776898384,-0.09760034084320068,-0.02030770480632782,-0.012815507128834724,0.031977757811546326,0.027669627219438553,-0.07877302914857864,-0.02279375120997429,0.042276639491319656,-0.04515500366687775,-0.031307853758335114,0.052660513669252396,0.009449883364140987,0.06068357452750206,-0.05689366161823273,0.01460398081690073,0.01656472496688366,0.07570236176252365,0.006332751829177141,0.09490645676851273,-0.043337251991033554,0.005402127746492624,0.019232328981161118,-0.08222445845603943,-0.0020084655843675137,0.052025116980075836,-0.0023623164743185043,-0.0410415381193161,0.03195041045546532,0.017250049859285355,0.004951078444719315,0.019582968205213547,-0.02621704526245594,-0.021579723805189133,0.03709733113646507,-0.059703677892684937,0.01971140317618847,-0.05419148877263069,-0.018544884398579597,0.041230615228414536,-0.03826756775379181,0.004754167515784502,-0.02186158299446106,-0.103636234998703,0.009911569766700268,-0.04343060776591301,0.016290832310914993,-0.016547035425901413,-0.04836306720972061,0.050616305321455,0.05600254237651825,-0.060240309685468674,-0.019135480746626854,0.07959505915641785,-0.051899079233407974,0.05773527920246124,0.014479477889835835,-0.043998345732688904,0.021165311336517334,0.10128699243068695,-0.06605532765388489,0.009602613747119904,-0.0041047739796340466,0.02321256697177887,0.047288719564676285,0.049746546894311905,-0.018247801810503006,0.029333198443055153,-0.038972772657871246,-0.012323129922151566,0.054467424750328064,-0.014768115244805813,0.06539776176214218,-0.023515691980719566,0.008482320234179497,-0.02999289706349373,-0.002895127050578594,0.026762239634990692,-0.03772544860839844,-0.011156152002513409,-0.08567848801612854,0.04153481125831604,-0.08642113953828812,-0.07300145924091339,0.10427308827638626,0.07130862772464752,0.06928348541259766,-0.04256922006607056,0.02117309905588627,0.018640607595443726,-0.04318435490131378,-0.009367389604449272,3.4715523361228406E-4,0.011924607679247856,-0.04780668020248413,-0.03672172874212265,-0.15945303440093994,0.06628867238759995,0.013065275736153126,0.016998348757624626,-0.020617781206965446,-0.046014752238988876,-0.04236739128828049,-0.02816273458302021,-1.3588490616895018E-33,-0.009913337416946888,-0.02977578714489937,0.010493152774870396,-0.05276216194033623,-0.06853825598955154,0.0048937713727355,0.06666918098926544,0.057520363479852676,-0.020515695214271545,-0.0046854871325194836,-0.05480293557047844,-0.027137139812111855,-0.08175152540206909,0.006281859707087278,0.07015177607536316,0.01766492985188961,-0.050396230071783066,-0.0043517351150512695,0.09339237213134766,-0.01752268336713314,-0.018842250108718872,-0.015453332103788853,0.0355033278465271,-0.019634762778878212,-0.023165198042988777,-0.007488481234759092,-0.010872522369027138,-0.036529552191495895,-0.013910753652453423,0.014005601406097412,0.04826948046684265,-0.014341859146952629,-0.01295648142695427,-0.02059999108314514,-0.07632378488779068,0.03466931730508804,-0.046281665563583374,-0.035322632640600204,-0.08011355996131897,0.012057874351739883,0.09571830183267593,0.0028179865330457687,-0.013370450586080551,0.09704160690307617,-0.026428835466504097,0.026171812787652016,0.007942082360386848,0.010473639704287052,0.042410023510456085,-0.02451970800757408,-0.06027573347091675,0.015740176662802696,0.07115893810987473,0.026822466403245926,0.018745029345154762,-0.04351954162120819,0.04206424206495285,-0.03755366429686546,0.051467254757881165,-0.004400439560413361,0.049680959433317184,0.012426700443029404,-0.015129517763853073,0.0027060944121330976,-0.08413071930408478,-0.022069500759243965,-0.02097254991531372,-0.01206048484891653,-0.10982970148324966,-0.006611775141209364,0.049146175384521484,-0.004339090548455715,0.02530711144208908,-0.06566853821277618,0.011643367819488049,-0.03236626833677292,-0.02697397954761982,0.06141456589102745,0.11020538210868835,-0.07996214926242828,0.029770512133836746,0.020851345732808113,-0.024749552831053734,0.06847130507230759,-0.06932201236486435,0.012015118263661861,0.026705943048000336,0.019866958260536194,0.10193771868944168,0.008551625534892082,-0.11712247878313065,-0.030474547296762466,0.02683379501104355,-0.004023513291031122,0.021572301164269447,-1.5801068532150115E-33,-0.018237505108118057,0.01960102654993534,0.0040209125727415085,0.056889913976192474,-0.05173798277974129,-0.02269948646426201,-0.06571006774902344,0.0340094193816185,0.06444141268730164,-0.06654459238052368,-0.03150410205125809,-0.007190776988863945,0.06552184373140335,0.05530424788594246,0.04772888123989105,0.06266652792692184,0.03908634930849075,0.06541061401367188,0.02260659635066986,-0.14731758832931519,-0.029088126495480537,0.026818521320819855,-0.04651720076799393,0.05890946462750435,-0.11430355906486511,0.07906284183263779,0.06424343585968018,-0.09590229392051697,0.009609420783817768,-0.03776199743151665,0.005580545868724585,0.006779724266380072,-0.039168570190668106,0.10692334920167923,-0.08774677664041519,-0.04190642386674881,-0.027553768828511238,-0.05147576704621315,-3.5400918568484485E-4,-0.058140743523836136,0.03177597373723984,0.00923552829772234,-0.05302485078573227,0.04607129096984863,0.01461485680192709,-0.022315431386232376,0.025749946013092995,-0.06714710593223572,0.017319707199931145,0.09491575509309769,-0.008370675146579742,-0.02677907980978489,-0.0032526617869734764,-0.06706983596086502,-0.12819306552410126,0.05665374919772148,0.03426576405763626,-0.018718639388680458,0.008279378525912762,-0.10639694333076477,-0.051440972834825516,0.050149355083703995,-0.026293352246284485,0.06052297726273537,0.024051519110798836,0.04319700598716736,0.10116934776306152,-0.02667367458343506,0.08844208717346191,-0.13796178996562958,0.0339936763048172,0.07330341637134552,-0.020249519497156143,-0.038610827177762985,0.0088210329413414,0.06536898016929626,0.016518432646989822,0.04879293218255043,0.047321248799562454,-0.0322948694229126,0.002616357058286667,-0.02118484489619732,0.07929810136556625,0.03215950354933739,-0.017114661633968353,0.062297433614730835,-0.036030951887369156,0.004333989229053259,0.010376239195466042,0.011709748767316341,-0.06988371908664703,0.031195469200611115,-0.06313452124595642,0.040634796023368835,0.03972197696566582,-4.575809242624018E-8,-0.00738168228417635,-0.025007514283061028,-0.06604267656803131,0.08777440339326859,-0.055506493896245956,-0.03603415563702583,-0.05511504039168358,0.04880588501691818,0.02778615802526474,0.12523101270198822,0.00413961336016655,0.0049871522933244705,-0.09276197850704193,0.05703842267394066,-0.08966552466154099,0.006403238978236914,0.03410380333662033,0.16544930636882782,-0.014324886724352837,0.02798270247876644,-0.07443512976169586,0.046103645116090775,0.09833204746246338,-0.06587769836187363,-0.08993136882781982,-0.014901314862072468,-0.03202991187572479,0.009285344742238522,-0.02463962510228157,0.028972312808036804,-0.01667839102447033,0.04199102893471718,-0.040126074105501175,0.027024544775485992,-0.014390502125024796,-0.06894443929195404,0.019724208861589432,-0.037197694182395935,0.0072296736761927605,0.03985534980893135,-0.05803864821791649,-0.044743672013282776,0.005304457154124975,-0.011354752816259861,-0.001444365712814033,-0.08540802448987961,-0.06262028962373734,-0.031217873096466064,0.041732385754585266,0.10078806430101395,-0.04726481810212135,0.022692713886499405,0.021183526143431664,-0.05771849304437637,0.039515506476163864,0.01391744613647461,9.459748980589211E-4,-0.10242512822151184,0.08234187960624695,0.05402125418186188,-0.01670154370367527,-0.08642230182886124,0.0672069638967514,0.07285720109939575]|\n",
      "|553709|B002XNYIGE|A30ZHSPCQ4U2BM|0    |searcherouter|poison!!!! i bought a bag of these thinking . awesome a lower calorie version of the chips i love . well uneducated little ol me ate 1 serving with lunch the first day . felt a little uncomfortable . ate maybe 2 servings by itself a couple days later and didn't think anything of it . but within an hour or two i began to have the worst stomach cramps and the feeling of indigestion that lasted all night into the next day. i looked up the 'fat' replace and come to find out . it has side effects!!! side effects of abdominal cramps. loose stools. bleeding in stools. etc . i could go on and on about this but simply put look up olestra side effects . oh and to put cherry on top . olestra oils is used in deck stainer and paints . go figure . wont say anymore but please eat with caution!!|[0.014195738360285759,-0.03260757029056549,0.044396258890628815,0.0649135485291481,0.048740096390247345,-0.027640074491500854,-0.01916092447936535,0.07482489198446274,-0.028740838170051575,-0.12397059053182602,-0.045560844242572784,-0.0251445509493351,-0.04790749400854111,-0.0799657478928566,-0.03480532392859459,-0.04744252935051918,0.12078091502189636,-4.968598950654268E-4,0.012964379973709583,0.03364771604537964,0.03427263721823692,-0.06117405742406845,0.010129432193934917,0.03831692039966583,-0.05930039659142494,0.07589443027973175,0.08674634248018265,-0.04583920165896416,-0.07293637841939926,-0.06450863182544708,0.0968463197350502,-0.010156821459531784,0.07620470970869064,-0.041407160460948944,0.05379779636859894,-0.04963383078575134,0.01642550714313984,-0.07430427521467209,-0.052217088639736176,-0.052201397716999054,0.028899459168314934,-0.03569875657558441,-0.03241467475891113,0.021038683131337166,0.026608958840370178,-0.07971187680959702,-0.039317648857831955,0.02573634870350361,-0.03287913650274277,0.0612681582570076,-0.001026964746415615,-0.09251972287893295,0.0158472191542387,-0.06216171011328697,0.06441745907068253,-0.05824654921889305,-0.049521323293447495,-0.028048990294337273,-0.04469488561153412,0.021451933309435844,5.0611481128726155E-5,-0.013458282686769962,0.038218747824430466,0.014668426476418972,-0.02246600016951561,0.06488728523254395,-0.014990641735494137,-0.023165598511695862,0.049266017973423004,0.026715677231550217,-0.055236827582120895,-0.03080713376402855,0.024007216095924377,-0.035283178091049194,0.029210297390818596,0.010568192228674889,0.03077538311481476,-0.04080493003129959,0.0032776121515780687,-0.03621958941221237,-0.03337119147181511,0.03524992614984512,0.007263396866619587,0.04317662864923477,0.05779165029525757,-0.009092903696000576,-0.021948326379060745,0.0635574460029602,0.05864742770791054,-0.00532189104706049,0.12627504765987396,0.03237207606434822,0.053719934076070786,0.03908298537135124,0.007360748015344143,-0.005485154688358307,-0.05643634870648384,-0.06779617816209793,-0.05494643747806549,-0.03038846142590046,-0.011766956187784672,0.08409921824932098,-0.04950465261936188,-0.09152024984359741,-0.00320896552875638,0.034683745354413986,0.03601974621415138,0.025006087496876717,0.02352198027074337,-0.0027464532759040594,0.049542136490345,7.946877158246934E-4,0.042798396199941635,0.0033709509298205376,-0.09779815375804901,-0.052150361239910126,0.06109067425131798,-0.04443492367863655,0.02981196530163288,0.01193157583475113,-0.07914700359106064,-8.752900175750256E-4,0.027762526646256447,0.03980466350913048,0.006953692529350519,-0.027517279610037804,-0.008433246985077858,4.0342977140480446E-33,-0.056810006499290466,0.00736301951110363,-0.013830709271132946,-0.037275414913892746,0.04766249656677246,-0.06636025011539459,0.0038725503254681826,0.009481126442551613,-0.0022809216752648354,0.019781969487667084,0.03169923648238182,-0.05174931511282921,-0.009870920330286026,0.07617244869470596,-0.012298833578824997,0.028113288804888725,-0.02540590614080429,0.012834914028644562,0.09810157120227814,0.016701672226190567,-0.0667717233300209,-0.015373188070952892,-0.016953088343143463,-0.07820667326450348,-0.07173195481300354,0.08976569771766663,-0.1091616079211235,0.05147843062877655,0.04747945815324783,0.007761536631733179,0.024034233763813972,-0.07686693221330643,-1.336525456281379E-4,0.02515515312552452,-0.12405014783143997,0.03923448547720909,-0.010113072581589222,0.026969198137521744,-0.08887740224599838,-0.017566053196787834,0.005502691026777029,0.09837746620178223,0.027832314372062683,0.039178915321826935,-0.013952314853668213,-0.03689947724342346,-0.04399804025888443,0.16227051615715027,0.10124467313289642,0.025943508371710777,-0.07539097964763641,-0.020135169848799706,0.08551079034805298,0.04981287941336632,-0.05568860471248627,0.00873427465558052,-0.023675963282585144,-0.028083276003599167,0.024916479364037514,-0.00971524603664875,0.023113971576094627,0.09489896148443222,-0.04592590034008026,-0.005756676662713289,-0.06704996526241302,-0.021115170791745186,-0.07625318318605423,-0.03473924100399017,-0.0735502615571022,0.061068180948495865,0.010608270764350891,0.03276500850915909,0.10524053871631622,-0.007583728991448879,0.04581774026155472,0.03022562898695469,-0.05242668837308884,0.004654012620449066,-0.06862036138772964,0.014481940306723118,0.02432836778461933,-0.05463645979762077,0.04126022011041641,-0.017276769503951073,-0.10494726151227951,0.10698163509368896,-0.07665664702653885,0.029363209381699562,0.07954028248786926,0.09298401325941086,5.128068150952458E-4,-0.051946088671684265,-0.01872207596898079,0.035266101360321045,-0.07016050815582275,-4.054777764375246E-33,0.0021011452190577984,0.06419217586517334,0.02012277953326702,0.014748494140803814,0.021273862570524216,-0.07036754488945007,-0.025966783985495567,0.022774716839194298,0.06853891164064407,-0.11616169661283493,-0.01754666306078434,0.034482598304748535,-0.013761229813098907,-0.0867697224020958,-0.01597067154943943,0.16235245764255524,0.07482878118753433,0.0028688223101198673,-0.016721047461032867,-0.09865355491638184,-0.0024011698551476,0.0416104719042778,-0.00812261737883091,0.014196984469890594,-0.03766525164246559,0.10041098296642303,0.16059476137161255,-0.029203372076153755,-0.05875486880540848,-0.0023057409562170506,0.0359962023794651,0.015611311420798302,0.07096871733665466,-0.01887185126543045,1.5993771376088262E-4,0.016903001815080643,-0.05355275794863701,-0.037750788033008575,-0.02488112449645996,0.00535817164927721,-0.010029813274741173,0.0325489416718483,-2.916648008977063E-5,-0.03969871997833252,0.02200096659362316,-0.0046950229443609715,-0.004117175936698914,0.019540410488843918,-0.011411618441343307,0.075605109333992,-0.0262362789362669,-0.024926288053393364,-0.04070651903748512,-0.00148701888974756,0.06420094519853592,0.015827365219593048,-0.005507290363311768,-0.07309316843748093,-0.011119429022073746,-0.04709693044424057,-0.021365365013480186,0.04597325623035431,0.041453469544649124,-0.0030738087370991707,0.07871773093938828,-0.012899036519229412,-0.08162475377321243,-0.06590472906827927,0.05877993255853653,0.020612839609384537,-0.02703133597970009,-0.016665929928421974,-0.04798226058483124,0.00481194956228137,0.04216389358043671,-0.0013534873723983765,0.017116568982601166,0.002727224724367261,-0.03973697870969772,-0.016235409304499626,-0.06118416041135788,-0.03436176851391792,0.08395325392484665,-0.02211005799472332,-0.00228824932128191,0.10509266704320908,-0.12769940495491028,0.07518082112073898,-0.005790070630609989,0.03476431593298912,0.017510995268821716,0.0039110551588237286,0.01019342988729477,0.03683588281273842,0.0022809477522969246,-5.2534876004983744E-8,0.04914157837629318,-0.07775542885065079,-0.01755085028707981,0.09013283252716064,-0.0942135900259018,-0.09050191193819046,-0.025330597534775734,6.719777011312544E-4,-0.004379315301775932,-0.017646193504333496,-0.04771203547716141,0.10455688089132309,-0.041289325803518295,0.01644178479909897,-0.0898161232471466,-0.008069983683526516,-0.007338533643633127,0.004205222241580486,-0.04965011402964592,-0.025681443512439728,-0.13114404678344727,0.0029692314565181732,0.03921358287334442,-0.048868630081415176,0.004239278845489025,0.004423948936164379,-0.0028065419755876064,0.050254203379154205,0.031983405351638794,0.04833032563328743,0.006723855622112751,0.029201529920101166,0.01921943575143814,0.07642699033021927,0.06751628965139389,-0.03476826474070549,-0.023122932761907578,0.020818039774894714,-0.024745937436819077,0.1138966903090477,-0.08475431799888611,-0.0894918367266655,-0.015839112922549248,0.026475898921489716,0.010728792287409306,-0.06479252874851227,0.01723063737154007,0.05943264812231064,0.04925239831209183,-0.022875385358929634,0.056244734674692154,0.008583519607782364,-0.044564586132764816,0.007440400309860706,-0.005471663549542427,-0.021113194525241852,0.03476293757557869,0.022038530558347702,0.04842952638864517,-0.01870761811733246,0.07861138880252838,-0.03440377861261368,-0.01661641150712967,0.0020300098694860935]                  |\n",
      "+------+----------+--------------+-----+-------------+----------------------------------------------------------------------------------------------------------------------------------------------------------------------------------------------------------------------------------------------------------------------------------------------------------------------------------------------------------------------------------------------------------------------------------------------------------------------------------------------------------------------------------------------------------------------------------------------------------------------------------------------------------------------------------------------------------------------------------------------------------------------------------------------------------------------+------------------------------------------------------------------------------------------------------------------------------------------------------------------------------------------------------------------------------------------------------------------------------------------------------------------------------------------------------------------------------------------------------------------------------------------------------------------------------------------------------------------------------------------------------------------------------------------------------------------------------------------------------------------------------------------------------------------------------------------------------------------------------------------------------------------------------------------------------------------------------------------------------------------------------------------------------------------------------------------------------------------------------------------------------------------------------------------------------------------------------------------------------------------------------------------------------------------------------------------------------------------------------------------------------------------------------------------------------------------------------------------------------------------------------------------------------------------------------------------------------------------------------------------------------------------------------------------------------------------------------------------------------------------------------------------------------------------------------------------------------------------------------------------------------------------------------------------------------------------------------------------------------------------------------------------------------------------------------------------------------------------------------------------------------------------------------------------------------------------------------------------------------------------------------------------------------------------------------------------------------------------------------------------------------------------------------------------------------------------------------------------------------------------------------------------------------------------------------------------------------------------------------------------------------------------------------------------------------------------------------------------------------------------------------------------------------------------------------------------------------------------------------------------------------------------------------------------------------------------------------------------------------------------------------------------------------------------------------------------------------------------------------------------------------------------------------------------------------------------------------------------------------------------------------------------------------------------------------------------------------------------------------------------------------------------------------------------------------------------------------------------------------------------------------------------------------------------------------------------------------------------------------------------------------------------------------------------------------------------------------------------------------------------------------------------------------------------------------------------------------------------------------------------------------------------------------------------------------------------------------------------------------------------------------------------------------------------------------------------------------------------------------------------------------------------------------------------------------------------------------------------------------------------------------------------------------------------------------------------------------------------------------------------------------------------------------------------------------------------------------------------------------------------------------------------------------------------------------------------------------------------------------------------------------------------------------------------------------------------------------------------------------------------------------------------------------------------------------------------------------------------------------------------------------------------------------------------------------------------------------------------------------------------------------------------------------------------------------------------------------------------------------------------------------------------------------------------------------------------------------------------------------------------------------------------------------------------------------------------------------------------------------------------------------------------------------------------------------------------------------------------------------------------------------------------------------------------------------------------------------------------------------------------------------------------------------------------------------------------------------------------------------------------------------------------------------------------------------------------------------------------------------------------------------------------------------------------------------------------------------------------------------------------------------------------------------------------------------------------------------------------------------------------------------------------------------------------------------------------------------------------------------------------------------------------------------------------------------------------------------------------------------------------------------------------------------------------------------------------------------------------------------------------------------------------------------------------------------------------------------------------------------------------------------------------------------------------------------------------------------------------------------------------------------------------------------------------------------------------------------------------------------------------------------------------------------------------------------------------------------------------------------------------------------------------------------------------------------------------------------------------------------------------------------------------------------------------------------------------------------------------------------------------------------------------------------------------------------------------------------------------------------------------------------------------------------------------------------------------------------------------------------------------------------------------------------------------------------------------------------------------------------------------------------------------------------------------------------------------------------------------------------------------------------------------------------------------------------------------------------------------------------------------------------------------------------------------------------------------------------------------------------------------------------------------------------------------------------------------------------------------------------------------------------------------------------------------------------------------------------------------------------------------------------------------------------------------------------------------------------------------------------------------------------------------------------------------------------------------------------------------------+\n",
      "only showing top 5 rows\n",
      "\n"
     ]
    }
   ],
   "source": [
    "df_train_sample.show(5, truncate=False)"
   ]
  },
  {
   "cell_type": "markdown",
   "metadata": {},
   "source": [
    "##### 3.1.1.2. Other Approach"
   ]
  },
  {
   "cell_type": "markdown",
   "metadata": {},
   "source": [
    "Collecting to driver 3.000 rows using collect and apply sentence embedding for each row"
   ]
  },
  {
   "cell_type": "code",
   "execution_count": 23,
   "metadata": {},
   "outputs": [],
   "source": [
    "# Mean Pooling - Take attention mask into account for correct averaging\n",
    "def mean_pooling(model_output, attention_mask):\n",
    "    token_embeddings = model_output[0] # First element of model_output contains all token embeddings\n",
    "    input_mask_expanded = attention_mask.unsqueeze(-1).expand(token_embeddings.size()).float()\n",
    "    return torch.sum(token_embeddings * input_mask_expanded, 1) / torch.clamp(input_mask_expanded.sum(1), min=1e-9)\n",
    "\n",
    "# Load model from HuggingFace Hub\n",
    "tokenizer = AutoTokenizer.from_pretrained('sentence-transformers/all-MiniLM-L6-v2')\n",
    "model = AutoModel.from_pretrained('sentence-transformers/all-MiniLM-L6-v2')\n",
    "\n",
    "def get_embeddings_from_batch(\n",
    "    input_text: str\n",
    ") -> np.ndarray:\n",
    "    encoded_input = tokenizer(input_text, padding=True, truncation=True, return_tensors=\"pt\")\n",
    "\n",
    "    # Compute token embeddings\n",
    "    with torch.no_grad():\n",
    "        model_output = model(**encoded_input)\n",
    "\n",
    "    # Perform pooling\n",
    "    sentence_embeddings = mean_pooling(model_output, encoded_input['attention_mask'])\n",
    "\n",
    "    # Normalize embeddings\n",
    "    sentence_embeddings = F.normalize(sentence_embeddings, p=2, dim=1)\n",
    "    \n",
    "    return sentence_embeddings.numpy()"
   ]
  },
  {
   "cell_type": "code",
   "execution_count": 78,
   "metadata": {},
   "outputs": [],
   "source": [
    "schema = StructType([\n",
    "   StructField(\"Id\", IntegerType(), True),\n",
    "   StructField(\"features\", ArrayType(FloatType()), True)]\n",
    ")"
   ]
  },
  {
   "cell_type": "code",
   "execution_count": 24,
   "metadata": {},
   "outputs": [],
   "source": [
    "start = time()\n",
    "\n",
    "sentences = df_train_sample.select(pf.col(\"Id\"), pf.col(\"Text\")).collect()\n",
    "ids = [sentence[0] for sentence in sentences]\n",
    "sentences = [sentence[-1] for sentence in sentences]\n",
    "embeddings = [get_embeddings_from_batch(sentence) for sentence in sentences]\n",
    "embeddings = [k.tolist() for k in embeddings]\n",
    "\n",
    "df_train_embeddings = spark.createDataFrame(\n",
    "    [{\"Id\": _id, \"features\": sentence} for _id, sentence in zip(ids, embeddings)],\n",
    "    schema=schema\n",
    ")\n",
    "\n",
    "df_train_embeddings = df_train_embeddings.withColumn(\"features\", array_to_vector(\"features\"))\n",
    "df_train_sample = df_train_sample.join(df_train_embeddings, on=\"Id\", how=\"inner\")\n",
    "\n",
    "end = time()"
   ]
  },
  {
   "cell_type": "code",
   "execution_count": 59,
   "metadata": {},
   "outputs": [
    {
     "name": "stdout",
     "output_type": "stream",
     "text": [
      "Processing time: 66.3132s\n"
     ]
    }
   ],
   "source": [
    "print(f\"Processing time: {end - start:.4f}s\")"
   ]
  },
  {
   "cell_type": "markdown",
   "metadata": {},
   "source": [
    "Using a collect not overflow my computer memory and is more fast than batch udf.\n",
    "\n",
    "Lets test the collect from all train dataset.\n",
    "\n",
    "In huggingface website a trick to use on pyspark dataframe without collect is using yeald generator and a Dataset from huggingface, maybe for a giant dataset is a solution."
   ]
  },
  {
   "cell_type": "code",
   "execution_count": 67,
   "metadata": {},
   "outputs": [
    {
     "data": {
      "text/plain": [
       "100269"
      ]
     },
     "execution_count": 67,
     "metadata": {},
     "output_type": "execute_result"
    }
   ],
   "source": [
    "df_train.count()"
   ]
  },
  {
   "cell_type": "code",
   "execution_count": null,
   "metadata": {},
   "outputs": [],
   "source": [
    "#start = time()\n",
    "\n",
    "sentences = df_train.select(pf.col(\"Id\"), pf.col(\"Text\")).collect()\n",
    "ids = [sentence[0] for sentence in sentences]\n",
    "sentences = [sentence[-1] for sentence in sentences]\n",
    "embeddings = [get_embeddings_from_batch(sentence) for sentence in sentences]\n",
    "embeddings = [k.tolist() for k in embeddings]\n",
    "embeddings = [j[0] for j in embeddings]\n",
    "\n",
    "df_train_embeddings = spark.createDataFrame(\n",
    "    [{\"Id\": _id, \"features\": sentence} for _id, sentence in zip(ids, embeddings)],\n",
    "    schema=schema\n",
    ")\n",
    "\n",
    "df_train_embeddings = df_train_embeddings.withColumn(\"features\", array_to_vector(\"features\"))\n",
    "df_train = df_train.join(df_train_embeddings, on=\"Id\", how=\"inner\")\n",
    "\n",
    "end = time()\n",
    "\n",
    "print(f\"Processing time: {end - start:.4f}s\")"
   ]
  },
  {
   "cell_type": "code",
   "execution_count": 90,
   "metadata": {},
   "outputs": [
    {
     "name": "stderr",
     "output_type": "stream",
     "text": [
      "24/06/07 10:14:56 WARN TaskSetManager: Stage 198 contains a task of very large size (27745 KiB). The maximum recommended task size is 1000 KiB.\n",
      "                                                                                \r"
     ]
    }
   ],
   "source": [
    "df_train.write.format(\"parquet\").save(\"../data/train_embedding\")"
   ]
  },
  {
   "cell_type": "markdown",
   "metadata": {},
   "source": [
    "##### 3.1.1.3. Custom Huggingface Transform"
   ]
  },
  {
   "cell_type": "code",
   "execution_count": 10,
   "metadata": {},
   "outputs": [
    {
     "name": "stderr",
     "output_type": "stream",
     "text": [
      "                                                                                \r"
     ]
    }
   ],
   "source": [
    "pipeline = Pipeline(stages=[TextEmbeddings()])\n",
    "pipeline = pipeline.fit(df_test)\n",
    "\n",
    "df_test_embeddings = pipeline.transform(df_test)\n",
    "df_oot_embeddings = pipeline.transform(df_oot)"
   ]
  },
  {
   "cell_type": "code",
   "execution_count": 11,
   "metadata": {},
   "outputs": [
    {
     "name": "stderr",
     "output_type": "stream",
     "text": [
      "24/06/07 11:49:22 WARN TaskSetManager: Stage 22 contains a task of very large size (27745 KiB). The maximum recommended task size is 1000 KiB.\n",
      "                                                                                \r"
     ]
    }
   ],
   "source": [
    "df_test_embeddings.write.format(\"parquet\").save(\"../data/test_embeddings\")\n",
    "df_oot_embeddings.write.format(\"parquet\").save(\"../data/oot_embeddings\")"
   ]
  },
  {
   "cell_type": "markdown",
   "metadata": {},
   "source": [
    "#### 3.1.2. Machine Learning"
   ]
  },
  {
   "cell_type": "code",
   "execution_count": 7,
   "metadata": {},
   "outputs": [],
   "source": [
    "df_train = spark.read.format(\"parquet\").load(\"../data/train_embeddings\")\n",
    "df_test = spark.read.format(\"parquet\").load(\"../data/test_embeddings\")\n",
    "df_oot = spark.read.format(\"parquet\").load(\"../data/oot_embeddings\")"
   ]
  },
  {
   "cell_type": "code",
   "execution_count": 10,
   "metadata": {},
   "outputs": [
    {
     "name": "stdout",
     "output_type": "stream",
     "text": [
      "+----+----------+--------------+-----+-------------------+--------------------+--------------------+\n",
      "|  Id| ProductId|        UserId|Score|        ProfileName|                Text|            features|\n",
      "+----+----------+--------------+-----+-------------------+--------------------+--------------------+\n",
      "|  13|B0009XLVG0| A327PCT23YH90|    0|                 lt|my cats are not f...|[0.06115188822150...|\n",
      "| 182|B005CJVVJ8|A3F44FUPG97AA9|    2|              monie|marley's mellow m...|[-0.0378227829933...|\n",
      "| 190|B004V6AH34|A3AFVGFX175F9N|    1|gift card recipient|it's ok the coffe...|[-0.0402981564402...|\n",
      "| 218|B0040WAG7Q|A19SDJ2TSSL8HI|    1|           k. mcgee|more hot/spicy th...|[-0.0366521999239...|\n",
      "| 233|B003ZFXJDW|A2HL6876LDPJIM|    2|          flageolet|just give me some...|[-0.0838623568415...|\n",
      "| 259|B00821UN4M|A3MQSTAAJSUGF9|    1|            mommy11|disappointed! thi...|[0.01504178717732...|\n",
      "| 367|B00437JI8Q|A3DKCBKDEO2GS3|    2|          moviegeek|my new granola ba...|[-0.0132246222347...|\n",
      "| 581|B000G6RYNE|A2A8KWCE8RKB9T|    2|       david glazer|good chips i don'...|[-0.0216294284909...|\n",
      "| 660|B002BCD2OG|A2V82V20LFSWD7|    2|                j a|good. but contain...|[-0.0495183207094...|\n",
      "| 748|B000QWXG9O| ANUUF3N6B9NTA|    1|            tabitha|annie's homegrown...|[-0.0438781306147...|\n",
      "| 774|B005YNDIAW| AGE88BOVVQ22J|    2|                 mj|yummy! i eat must...|[-0.0758015662431...|\n",
      "| 777|B001FKQQDO|A2TN9C5E4A0I3F|    1|              jimmy|where are the cra...|[0.02472862787544...|\n",
      "| 827|B003AO5DLO|A3IQFDK2A3APGE|    2|                 sh|happy dog my 7 ye...|[-0.0070108557119...|\n",
      "|1008|B006GK4XVA|A3MDETK0D5UAIN|    1|     xoxo woodfairy|smells like roses...|[-0.0571910887956...|\n",
      "|1047|B000FL08PG| A4ZRAZF766WPQ|    0|                 cw|coffee beans coff...|[-0.0504764914512...|\n",
      "|1137|B002OHOC6A|A374D06F5GMJ2R|    2|            marlene|9 lives daily ess...|[3.30804788973182...|\n",
      "|1391|B00068PCTU| AJXMQ2116MJER|    2|               swan|great taste and g...|[3.38066689437255...|\n",
      "|1477|B0041T6KT6|A13T1PODRCT8G1|    2|        abc shopper|love the soup lov...|[-0.1178360059857...|\n",
      "|1588|B001CWZXIY|A39JF4NO5TYNNI|    2|         winner1322|good dog food i a...|[-0.0323424898087...|\n",
      "|1878|B001RVFDOO|A1ETHL0XTS3DWY|    2|        spicycreole|yum i loved this ...|[-0.1148157119750...|\n",
      "+----+----------+--------------+-----+-------------------+--------------------+--------------------+\n",
      "only showing top 20 rows\n",
      "\n"
     ]
    }
   ],
   "source": [
    "df_oot.show()"
   ]
  },
  {
   "cell_type": "markdown",
   "metadata": {},
   "source": [
    "##### 3.1.2.1. Logistic Regression"
   ]
  },
  {
   "cell_type": "code",
   "execution_count": 13,
   "metadata": {},
   "outputs": [
    {
     "name": "stderr",
     "output_type": "stream",
     "text": [
      "                                                                                \r"
     ]
    }
   ],
   "source": [
    "lr = LogisticRegression(\n",
    "    featuresCol=\"features\",\n",
    "    labelCol=\"Score\",\n",
    "    maxIter=20,\n",
    "    regParam=0.1\n",
    ")\n",
    "\n",
    "lr = lr.fit(df_train)"
   ]
  },
  {
   "cell_type": "code",
   "execution_count": 14,
   "metadata": {},
   "outputs": [
    {
     "name": "stdout",
     "output_type": "stream",
     "text": [
      "Train\n"
     ]
    },
    {
     "name": "stderr",
     "output_type": "stream",
     "text": [
      "/home/grc/arep/sentiment-analysis/lib/python3.10/site-packages/pyspark/sql/context.py:157: FutureWarning: Deprecated in 3.0.0. Use SparkSession.builder.getOrCreate() instead.\n",
      "  warnings.warn(\n",
      "                                                                                \r"
     ]
    },
    {
     "name": "stdout",
     "output_type": "stream",
     "text": [
      "Accuracy: 0.7084\n",
      "W. Recall: 0.7084\n",
      "W. Precision: 0.7059\n",
      "\n",
      "Label: 0, Recall: 0.7024\n",
      "Label: 0, Precision: 0.7323\n",
      "\n",
      "Label: 1, Recall: 0.6263\n",
      "Label: 1, Precision: 0.5835\n",
      "\n",
      "Label: 2, Recall: 0.7890\n",
      "Label: 2, Precision: 0.8094\n",
      "\n",
      "Mean Recalls: 0.7084, Mean Precisions: 0.7059\n",
      "\n",
      "\n",
      "Test\n"
     ]
    },
    {
     "name": "stderr",
     "output_type": "stream",
     "text": [
      "/home/grc/arep/sentiment-analysis/lib/python3.10/site-packages/pyspark/sql/context.py:157: FutureWarning: Deprecated in 3.0.0. Use SparkSession.builder.getOrCreate() instead.\n",
      "  warnings.warn(\n",
      "                                                                                \r"
     ]
    },
    {
     "name": "stdout",
     "output_type": "stream",
     "text": [
      "Accuracy: 0.7692\n",
      "W. Recall: 0.7692\n",
      "W. Precision: 0.8420\n",
      "\n",
      "Label: 0, Recall: 0.4596\n",
      "Label: 0, Precision: 0.7258\n",
      "\n",
      "Label: 1, Recall: 0.3649\n",
      "Label: 1, Precision: 0.5922\n",
      "\n",
      "Label: 2, Recall: 0.9620\n",
      "Label: 2, Precision: 0.8023\n",
      "\n",
      "Mean Recalls: 0.7068, Mean Precisions: 0.5955\n",
      "\n",
      "\n",
      "OOT\n"
     ]
    },
    {
     "name": "stderr",
     "output_type": "stream",
     "text": [
      "/home/grc/arep/sentiment-analysis/lib/python3.10/site-packages/pyspark/sql/context.py:157: FutureWarning: Deprecated in 3.0.0. Use SparkSession.builder.getOrCreate() instead.\n",
      "  warnings.warn(\n",
      "[Stage 155:>                                                      (0 + 12) / 13]\r"
     ]
    },
    {
     "name": "stdout",
     "output_type": "stream",
     "text": [
      "Accuracy: 0.7596\n",
      "W. Recall: 0.7596\n",
      "W. Precision: 0.8286\n",
      "\n",
      "Label: 0, Recall: 0.4777\n",
      "Label: 0, Precision: 0.7348\n",
      "\n",
      "Label: 1, Recall: 0.3583\n",
      "Label: 1, Precision: 0.5539\n",
      "\n",
      "Label: 2, Recall: 0.9558\n",
      "Label: 2, Precision: 0.7982\n",
      "\n",
      "Mean Recalls: 0.6956, Mean Precisions: 0.5973\n",
      "\n",
      "\n"
     ]
    },
    {
     "name": "stderr",
     "output_type": "stream",
     "text": [
      "                                                                                \r"
     ]
    },
    {
     "data": {
      "image/png": "[encoded data removed]",
      "text/plain": [
       "<Figure size 700x500 with 2 Axes>"
      ]
     },
     "metadata": {},
     "output_type": "display_data"
    },
    {
     "data": {
      "image/png": "[encoded data removed]",
      "text/plain": [
       "<Figure size 700x500 with 2 Axes>"
      ]
     },
     "metadata": {},
     "output_type": "display_data"
    },
    {
     "data": {
      "image/png": "[encoded data removed]",
      "text/plain": [
       "<Figure size 700x500 with 2 Axes>"
      ]
     },
     "metadata": {},
     "output_type": "display_data"
    }
   ],
   "source": [
    "# Get Validation Metrics\n",
    "print(\"Train\")\n",
    "train_metrics = get_ml_metrics(lr.transform(df_train))\n",
    "print(\"Test\")\n",
    "test_metrics = get_ml_metrics(lr.transform(df_test))\n",
    "print(\"OOT\")\n",
    "oot_metrics = get_ml_metrics(lr.transform(df_oot))"
   ]
  },
  {
   "cell_type": "markdown",
   "metadata": {},
   "source": [
    "##### 3.1.2.2. Logistic Regression CV"
   ]
  },
  {
   "cell_type": "markdown",
   "metadata": {},
   "source": [
    "K-fold cross validation performs model selection by splitting the dataset into a set of non-overlapping randomly partitioned folds which are used as separate training and test datasets e.g., with k=3 folds, K-fold cross validation will generate 3 (training, test) dataset pairs, each of which uses 2/3 of the data for training and 1/3 for testing. Each fold is used as the test set exactly once. (https://spark.apache.org/docs/latest/api/python/reference/api/pyspark.ml.tuning.CrossValidator.html)\n",
    "\n",
    "With a balanced dataset (df_train_idf) I can random sample because i have same class sizes."
   ]
  },
  {
   "cell_type": "code",
   "execution_count": 15,
   "metadata": {},
   "outputs": [
    {
     "name": "stderr",
     "output_type": "stream",
     "text": [
      "                                                                                \r"
     ]
    }
   ],
   "source": [
    "lr = LogisticRegression(\n",
    "    featuresCol=\"features\",\n",
    "    labelCol=\"Score\",\n",
    "    maxIter=20,\n",
    "    regParam=0.1\n",
    ")\n",
    "\n",
    "grid = ParamGridBuilder().addGrid(lr.maxIter, [20]).build()\n",
    "\n",
    "cv = CrossValidator(\n",
    "    estimator=lr,\n",
    "    estimatorParamMaps=grid,\n",
    "    evaluator=MulticlassClassificationEvaluator(labelCol=\"Score\", metricName=\"f1\"),\n",
    "    parallelism=2,\n",
    "    numFolds=3\n",
    ")\n",
    "\n",
    "cv = cv.fit(df_train)"
   ]
  },
  {
   "cell_type": "code",
   "execution_count": 16,
   "metadata": {},
   "outputs": [
    {
     "name": "stdout",
     "output_type": "stream",
     "text": [
      "Avg F1: 0.7037 in 3 times CV on a Train Dataset\n"
     ]
    }
   ],
   "source": [
    "print(f\"Avg F1: {cv.avgMetrics[0]:.4f} in 3 times CV on a Train Dataset\")"
   ]
  },
  {
   "cell_type": "markdown",
   "metadata": {},
   "source": [
    "##### 3.1.2.3. Fit Last Estimator"
   ]
  },
  {
   "cell_type": "markdown",
   "metadata": {},
   "source": [
    "For the last estimator, I will combine train and test dataset and fit a logistic regression to score OOT.\n",
    "\n",
    "But i need to undersampling this new dataset again."
   ]
  },
  {
   "cell_type": "code",
   "execution_count": 17,
   "metadata": {},
   "outputs": [],
   "source": [
    "df_full = df_train.unionAll(df_test)\n",
    "minority_class_sample = df_full.groupBy(\"Score\").count().orderBy(\"count\").limit(1).select(\"count\").collect()[0][0]"
   ]
  },
  {
   "cell_type": "code",
   "execution_count": 18,
   "metadata": {},
   "outputs": [
    {
     "name": "stderr",
     "output_type": "stream",
     "text": [
      "[Stage 358:==============>                                          (1 + 3) / 4]\r"
     ]
    },
    {
     "name": "stdout",
     "output_type": "stream",
     "text": [
      "+-----+-----+\n",
      "|Score|count|\n",
      "+-----+-----+\n",
      "|    0|41866|\n",
      "|    1|41866|\n",
      "|    2|41866|\n",
      "+-----+-----+\n",
      "\n"
     ]
    },
    {
     "name": "stderr",
     "output_type": "stream",
     "text": [
      "                                                                                \r"
     ]
    }
   ],
   "source": [
    "df_sample = undersampling_dataframe(df=df_full, minority_class_sample=minority_class_sample)"
   ]
  },
  {
   "cell_type": "code",
   "execution_count": 19,
   "metadata": {},
   "outputs": [
    {
     "name": "stderr",
     "output_type": "stream",
     "text": [
      "[Stage 559:==============>                                          (1 + 3) / 4]\r"
     ]
    }
   ],
   "source": [
    "lr = LogisticRegression(\n",
    "    featuresCol=\"features\",\n",
    "    labelCol=\"Score\",\n",
    "    maxIter=20,\n",
    "    regParam=0.1\n",
    ")\n",
    "\n",
    "lr = lr.fit(df_sample)"
   ]
  },
  {
   "cell_type": "code",
   "execution_count": 22,
   "metadata": {},
   "outputs": [
    {
     "name": "stdout",
     "output_type": "stream",
     "text": [
      "Full\n"
     ]
    },
    {
     "name": "stderr",
     "output_type": "stream",
     "text": [
      "/home/grc/arep/sentiment-analysis/lib/python3.10/site-packages/pyspark/sql/context.py:157: FutureWarning: Deprecated in 3.0.0. Use SparkSession.builder.getOrCreate() instead.\n",
      "  warnings.warn(\n",
      "/home/grc/arep/sentiment-analysis/lib/python3.10/site-packages/pyspark/sql/context.py:157: FutureWarning: Deprecated in 3.0.0. Use SparkSession.builder.getOrCreate() instead.\n",
      "  warnings.warn(\n"
     ]
    },
    {
     "name": "stdout",
     "output_type": "stream",
     "text": [
      "Accuracy: 0.7075\n",
      "W. Recall: 0.7075\n",
      "W. Precision: 0.7050\n",
      "\n",
      "Label: 0, Recall: 0.7021\n",
      "Label: 0, Precision: 0.7321\n",
      "\n",
      "Label: 1, Recall: 0.6253\n",
      "Label: 1, Precision: 0.5829\n",
      "\n",
      "Label: 2, Recall: 0.7876\n",
      "Label: 2, Precision: 0.8073\n",
      "\n",
      "Mean Recalls: 0.7075, Mean Precisions: 0.7050\n",
      "\n",
      "\n",
      "OOT\n"
     ]
    },
    {
     "name": "stderr",
     "output_type": "stream",
     "text": [
      "                                                                                \r"
     ]
    },
    {
     "name": "stdout",
     "output_type": "stream",
     "text": [
      "Accuracy: 0.7603\n",
      "W. Recall: 0.7603\n",
      "W. Precision: 0.8288\n",
      "\n",
      "Label: 0, Recall: 0.4763\n",
      "Label: 0, Precision: 0.7379\n",
      "\n",
      "Label: 1, Recall: 0.3601\n",
      "Label: 1, Precision: 0.5522\n",
      "\n",
      "Label: 2, Recall: 0.9559\n",
      "Label: 2, Precision: 0.7990\n",
      "\n",
      "Mean Recalls: 0.6964, Mean Precisions: 0.5975\n",
      "\n",
      "\n"
     ]
    },
    {
     "data": {
      "image/png": "[encoded data removed]",
      "text/plain": [
       "<Figure size 700x500 with 2 Axes>"
      ]
     },
     "metadata": {},
     "output_type": "display_data"
    },
    {
     "data": {
      "image/png": "[encoded data removed]",
      "text/plain": [
       "<Figure size 700x500 with 2 Axes>"
      ]
     },
     "metadata": {},
     "output_type": "display_data"
    }
   ],
   "source": [
    "print(\"Full\")\n",
    "train_metrics = get_ml_metrics(lr.transform(df_sample))\n",
    "print(\"OOT\")\n",
    "oot_metrics = get_ml_metrics(lr.transform(df_oot))"
   ]
  },
  {
   "cell_type": "code",
   "execution_count": 20,
   "metadata": {},
   "outputs": [
    {
     "name": "stderr",
     "output_type": "stream",
     "text": [
      "                                                                                \r"
     ]
    }
   ],
   "source": [
    "lr.write().save(\"../src/features/logistic_regression_hugging.spark\")"
   ]
  },
  {
   "cell_type": "markdown",
   "metadata": {},
   "source": [
    "## 4.0. Final Estimator Pipeline"
   ]
  },
  {
   "cell_type": "code",
   "execution_count": 6,
   "metadata": {},
   "outputs": [
    {
     "name": "stderr",
     "output_type": "stream",
     "text": [
      "                                                                                \r"
     ]
    }
   ],
   "source": [
    "artifacts_path = \"../src/features\"\n",
    "\n",
    "df_raw = spark.read.format(\"csv\") \\\n",
    "              .option(\"header\", \"true\") \\\n",
    "              .option(\"inferSchema\", \"true\") \\\n",
    "              .option(\"delimiter\", \",\") \\\n",
    "              .load(\"../data/Reviews.csv\")\n",
    "\n",
    "df_raw = df_raw.withColumn(\n",
    "    \"Time\",\n",
    "    pf.to_timestamp(pf.from_unixtime(\"Time\"))\n",
    ")\n",
    "\n",
    "df_oot = df_raw.filter(\n",
    "    (pf.year(\"Time\") == 2012) &\n",
    "    (pf.month(\"Time\") >= 10)\n",
    ")"
   ]
  },
  {
   "cell_type": "markdown",
   "metadata": {},
   "source": [
    "### 4.1. Pyspark Pipeline"
   ]
  },
  {
   "cell_type": "code",
   "execution_count": 7,
   "metadata": {},
   "outputs": [],
   "source": [
    "estimator = LogisticRegressionModel.load(artifacts_path + \"/logistic_regression_hugging.spark\")"
   ]
  },
  {
   "cell_type": "code",
   "execution_count": 8,
   "metadata": {},
   "outputs": [],
   "source": [
    "noise_score_removal = NoiseLableRemoval(\n",
    "    inputCol=\"Text\",\n",
    "    outputCol=\"Text\",\n",
    "    labelCol=\"Score\"\n",
    ")\n",
    "\n",
    "filter_rows_features = FilterRowsFeatures(\n",
    "    aggCols=['ProductId', 'UserId', 'Score', 'ProfileName', 'Summary', 'Text'],\n",
    "    keyCol=\"Id\"\n",
    ")\n",
    "\n",
    "clean_corpus = CleanCorpus(\n",
    "    cleanCols=['ProfileName', 'Text', 'Summary']\n",
    ")\n",
    "\n",
    "feature_engineering = FeatureEngineering()\n",
    "\n",
    "text_embedding = TextEmbeddings()"
   ]
  },
  {
   "cell_type": "code",
   "execution_count": 15,
   "metadata": {},
   "outputs": [],
   "source": [
    "# Pipeline Fit & Transform\n",
    "stages = [\n",
    "    noise_score_removal,\n",
    "    filter_rows_features,\n",
    "    clean_corpus,\n",
    "    feature_engineering,\n",
    "    text_embedding,\n",
    "    estimator\n",
    "]\n",
    "\n",
    "pipeline = Pipeline(stages=stages)\n",
    "\n",
    "pipeline = pipeline.fit(df_oot)\n",
    "\n",
    "df = pipeline.transform(df_oot)"
   ]
  },
  {
   "cell_type": "code",
   "execution_count": 16,
   "metadata": {},
   "outputs": [],
   "source": [
    "df_oot_with_probas = df_oot.join(\n",
    "    df.select(\n",
    "        pf.col(\"Id\"),\n",
    "        pf.col(\"probability\"),\n",
    "        pf.col(\"prediction\")\n",
    "    ),\n",
    "    on=\"Id\",\n",
    "    how=\"inner\"\n",
    ")"
   ]
  },
  {
   "cell_type": "code",
   "execution_count": 17,
   "metadata": {},
   "outputs": [
    {
     "name": "stdout",
     "output_type": "stream",
     "text": [
      "+---+----------+--------------+-----------------------------------+-------------------+----------------------------------+--------------------------------------------------------------+----------+-----+\n",
      "|Id |ProductId |UserId        |ProfileName                        |Time               |Summary                           |probability                                                   |prediction|Score|\n",
      "+---+----------+--------------+-----------------------------------+-------------------+----------------------------------+--------------------------------------------------------------+----------+-----+\n",
      "|5  |B006K2ZZ7K|A1UQRSCLF8GW1T|\"Michael D. Bigham \"\"M. Wassir\"\"\"  |2012-10-20 21:00:00|Great taffy                       |[0.017060133070951188,0.10197966604242864,0.8809602008866201] |2.0       |5    |\n",
      "|10 |B00171APVA|A21BT40VZCCYT4|Carol A. Reed                      |2012-10-25 22:00:00|Healthy Dog Food                  |[0.01391492810906535,0.11643467497187467,0.86965039691906]    |2.0       |5    |\n",
      "|39 |B001EO5QW8|A2GHZ2UTV2B0CD|JERRY REITH                        |2012-10-20 21:00:00|GOOD WAY TO START THE DAY....     |[0.014771560467745836,0.13959425109937806,0.8456341884328762] |2.0       |4    |\n",
      "|56 |B002GWHC0G|A2EFAW1P3DRXWO|TJ Fairfax                         |2012-10-04 21:00:00|Our guests love it!               |[0.02323527559621629,0.1452373880523273,0.8315273363514565]   |2.0       |5    |\n",
      "|137|B002SRYRE8|A198FU6P1BVUNZ|Sarah                              |2012-10-08 21:00:00|Tastes awesome & looks beautiful  |[0.023536934876034175,0.0767331027443623,0.8997299623796036]  |2.0       |5    |\n",
      "|149|B0064KU9HO|AJFIH0DZYJF7T |Lisa Barton                        |2012-10-15 21:00:00|Ehhh...                           |[0.17017395748197855,0.3452968153023141,0.4845292272157074]   |2.0       |3    |\n",
      "|158|B0036VM05I|A335SFRERY214N|\"D. Melo \"\"Character Connoisseur\"\"\"|2012-10-05 21:00:00|Great tasting sea salt WITH iodine|[0.016997456827790972,0.10472907528287947,0.8782734678893297] |2.0       |5    |\n",
      "|162|B000ITVLE2|A1K37I9HWF3SAI|James R. Mckinney                  |2012-10-02 21:00:00|Not the greatest tasting..        |[0.07938779248884563,0.4954908770522635,0.42512133045889094]  |1.0       |3    |\n",
      "|169|B0064KO0BU|A34D61RQILOKIJ|TampaBayGal                        |2012-10-12 21:00:00|Not Banana Runts                  |[0.41683149433268146,0.3896604184967214,0.19350808717059717]  |0.0       |1    |\n",
      "|221|B001EO5ZMO|A8D27L5Q5BLRC |K. Kwan                            |2012-10-21 22:00:00|A fragrant tea                    |[0.3472607048708546,0.3469155167609761,0.30582377836816943]   |0.0       |5    |\n",
      "|240|B0093NIWVO|A1JT114SOITFFO|Dan & Eileen                       |2012-10-19 21:00:00|OMG best chocolate jelly belly    |[0.04101750751253833,0.08164597454135951,0.8773365179461022]  |2.0       |5    |\n",
      "|248|B007TFONH0|A10IFYN5U6X20R|onemagoo                           |2012-10-13 21:00:00|Best way to buy kcups             |[0.1704025068570249,0.21909529330443997,0.610502199838535]    |2.0       |5    |\n",
      "|308|B0064KOUNI|A215QEI3FPLVXU|\"Carol L. Chmiel \"\"Carol Chmiel\"\"\" |2012-10-01 21:00:00|VANILLA TOOTSIE ROLLS             |[0.08535214623851127,0.2565531614852081,0.6580946922762806]   |2.0       |5    |\n",
      "|319|B00283TPYE|A1SH7OWQ98P6FI|Colleen Clark                      |2012-10-19 21:00:00|Swiss Chalet                      |[0.1488262538157089,0.19955981502279063,0.6516139311615005]   |2.0       |5    |\n",
      "|332|B007DJ0O9I|A24GM452AKJTT9|AMAZONGURL                         |2012-10-09 21:00:00|AWFUL                             |[0.8776969480525997,0.11631714289703164,0.005985909050368772] |0.0       |1    |\n",
      "|337|B002SRAU80|A156LLD3VZJGC2|D. W. Knowlington                  |2012-10-18 21:00:00|The king of all seasoning salts.  |[0.03063289128541277,0.09915450995907533,0.8702125987555118]  |2.0       |5    |\n",
      "|379|B003YXWAF8|A3OOAICYUJT8EL|Corvette &#34;Terry&#34;           |2012-10-13 21:00:00|Heinz no more!                    |[0.4811289468479326,0.1412460992279983,0.37762495392406914]   |0.0       |5    |\n",
      "|503|B000G6RYNE|A3L4OZ0U0A5UDH|Linda Mullings                     |2012-10-01 21:00:00|Delicious!!                       |[0.001280590718859696,0.007557496715992446,0.9911619125651479]|2.0       |5    |\n",
      "|579|B000G6RYNE|AV51MFS5XJXFP |candy lady                         |2012-10-08 21:00:00|a good buy                        |[0.1543065993439886,0.46897233427176294,0.37672106638424846]  |1.0       |5    |\n",
      "|580|B000G6RYNE|A20K6K9TZGX7RQ|Yoli                               |2012-10-02 21:00:00|Yoli                              |[0.0918380456489414,0.10193904647270678,0.8062229078783518]   |2.0       |5    |\n",
      "+---+----------+--------------+-----------------------------------+-------------------+----------------------------------+--------------------------------------------------------------+----------+-----+\n",
      "only showing top 20 rows\n",
      "\n"
     ]
    }
   ],
   "source": [
    "df_oot_with_probas.select(\n",
    "    pf.col('Id'),\n",
    "    pf.col('ProductId'),\n",
    "    pf.col('UserId'),\n",
    "    pf.col('ProfileName'),\n",
    "    pf.col('Time'),\n",
    "    pf.col('Summary'),\n",
    "    pf.col('probability'),\n",
    "    pf.col('prediction'),\n",
    "    pf.col('Score')\n",
    ").show(truncate=False)"
   ]
  }
 ],
 "metadata": {
  "kernelspec": {
   "display_name": "sentiment_analysis",
   "language": "python",
   "name": "python3"
  },
  "language_info": {
   "codemirror_mode": {
    "name": "ipython",
    "version": 3
   },
   "file_extension": ".py",
   "mimetype": "text/x-python",
   "name": "python",
   "nbconvert_exporter": "python",
   "pygments_lexer": "ipython3",
   "version": "3.10.12"
  },
  "orig_nbformat": 4
 },
 "nbformat": 4,
 "nbformat_minor": 2
}
